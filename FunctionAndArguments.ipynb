{
 "cells": [
  {
   "cell_type": "markdown",
   "metadata": {},
   "source": [
    "# Function"
   ]
  },
  {
   "cell_type": "code",
   "execution_count": 1,
   "metadata": {},
   "outputs": [
    {
     "name": "stdout",
     "output_type": "stream",
     "text": [
      "number 0 is even\n",
      "number 1 is odd\n",
      "number 2 is even\n",
      "number 3 is odd\n",
      "number 4 is even\n",
      "number 5 is odd\n",
      "number 6 is even\n",
      "number 7 is odd\n",
      "number 8 is even\n",
      "number 9 is odd\n"
     ]
    }
   ],
   "source": [
    "# function in python\n",
    "\n",
    "def even_odd(num):\n",
    "    if(num%2==0):\n",
    "        print(\"number {} is even\".format(num))\n",
    "    else:\n",
    "        print(\"number {} is odd\".format(num))\n",
    "        \n",
    "list1 = range(10)\n",
    "\n",
    "for i in list1:\n",
    "    even_odd(i)"
   ]
  },
  {
   "cell_type": "markdown",
   "metadata": {},
   "source": [
    "### Positional and Keyword Arguments\n",
    "-Python functions can contain two types of arguments: positional arguments and keyword arguments.\n",
    "\n",
    "-Positional arguments must be included in the correct order.\n",
    "\n",
    "-Keyword arguments are included with a keyword and equals sign.\n",
    "\n",
    "-Positional Arguments Specified by an Iterable\n",
    "\n",
    "-Keyword Arguments Specified by a Dictionary"
   ]
  },
  {
   "cell_type": "code",
   "execution_count": 1,
   "metadata": {},
   "outputs": [
    {
     "name": "stdout",
     "output_type": "stream",
     "text": [
      "your name is sachin yadav, and age is 20\n",
      "your name is sachin nothing, and age is 30\n"
     ]
    }
   ],
   "source": [
    "# lets see positional arguments, order matter\n",
    "# and keyword arguments order not matter see example below\n",
    "\n",
    "def print_hello(name,lastname=\"nothing\",age=30):\n",
    "    print(\"your name is {} {}, and age is {}\".format(name,lastname,age))\n",
    "    \n",
    "print_hello(\"sachin\",age=20,lastname=\"yadav\")\n",
    "print_hello(\"sachin\")\n"
   ]
  },
  {
   "cell_type": "code",
   "execution_count": 2,
   "metadata": {},
   "outputs": [
    {
     "name": "stdout",
     "output_type": "stream",
     "text": [
      "positional arguments : ('sachin', 'vipin')\n",
      "keyword arguments : {'age': 20, 'dob': 23}\n",
      "positional arguments : ('sachin',)\n",
      "keyword arguments : {'age': 20}\n"
     ]
    }
   ],
   "source": [
    "def print_hello(*args,**kwargs):\n",
    "    print(\"positional arguments :\",args)\n",
    "    print('keyword arguments :',kwargs)\n",
    "    \n",
    "l=['sachin','vipin'] # list iterable\n",
    "d={'age':20,'dob':23} # dictionary\n",
    "print_hello(*l,**d)\n",
    "\n",
    "# another way\n",
    "print_hello('sachin',age=20)"
   ]
  },
  {
   "cell_type": "code",
   "execution_count": 8,
   "metadata": {},
   "outputs": [
    {
     "name": "stdout",
     "output_type": "stream",
     "text": [
      "(4, 3)\n"
     ]
    }
   ],
   "source": [
    "## returning multiple values\n",
    "\n",
    "def odd_even_count():\n",
    "    lst=[1,2,3,4,5,6,10]\n",
    "    even=0\n",
    "    odd=0\n",
    "    for i in lst:\n",
    "        if i%2==0:\n",
    "            even=even+1\n",
    "        else:\n",
    "            odd=odd+1\n",
    "    return even,odd\n",
    "\n",
    "print(odd_even_count())"
   ]
  },
  {
   "cell_type": "markdown",
   "metadata": {},
   "source": [
    "### Lambda function\n",
    "- anonymous function : function with no name"
   ]
  },
  {
   "cell_type": "code",
   "execution_count": 9,
   "metadata": {},
   "outputs": [
    {
     "name": "stdout",
     "output_type": "stream",
     "text": [
      "33\n"
     ]
    }
   ],
   "source": [
    "def addition(a,b):\n",
    "    return a+b\n",
    "print(addition(10,23))"
   ]
  },
  {
   "cell_type": "code",
   "execution_count": 11,
   "metadata": {},
   "outputs": [
    {
     "data": {
      "text/plain": [
       "59"
      ]
     },
     "execution_count": 11,
     "metadata": {},
     "output_type": "execute_result"
    }
   ],
   "source": [
    "# syntax like  lambda arguments : return value\n",
    "addition=lambda a,b: a+b\n",
    "addition(20,39)"
   ]
  },
  {
   "cell_type": "markdown",
   "metadata": {},
   "source": [
    "### Map function"
   ]
  },
  {
   "cell_type": "code",
   "execution_count": 5,
   "metadata": {},
   "outputs": [
    {
     "data": {
      "text/plain": [
       "['1 is odd',\n",
       " '2 is even',\n",
       " '3 is odd',\n",
       " '4 is even',\n",
       " '5 is odd',\n",
       " '12 is even',\n",
       " '34 is even',\n",
       " '56 is even',\n",
       " '84 is even',\n",
       " '93 is odd']"
      ]
     },
     "execution_count": 5,
     "metadata": {},
     "output_type": "execute_result"
    }
   ],
   "source": [
    "def even_or_odd(num):\n",
    "    if(num%2==0):\n",
    "        return '{} is even'.format(num)\n",
    "    else:\n",
    "        return '{} is odd'.format(num)\n",
    "\n",
    "        \n",
    "lst=[1,2,3,4,5,12,34,56,84,93]\n",
    "# map(func,*iterable)\n",
    "l=list(map(even_or_odd,lst))\n",
    "l"
   ]
  },
  {
   "cell_type": "markdown",
   "metadata": {},
   "source": [
    "### Filter function"
   ]
  },
  {
   "cell_type": "code",
   "execution_count": 19,
   "metadata": {},
   "outputs": [
    {
     "name": "stdout",
     "output_type": "stream",
     "text": [
      "[2, 4, 12, 34, 56, 84] [2, 4, 12, 34, 56, 84]\n"
     ]
    }
   ],
   "source": [
    "def even(num):\n",
    "    return num%2==0\n",
    "lst=[1,2,3,4,5,12,34,56,84,93]\n",
    "# filter(func,*iterable)\n",
    "a=list(filter(even,lst))\n",
    "\n",
    "b=list(filter(lambda num : num%2==0, lst))\n",
    "print(a,b)"
   ]
  },
  {
   "cell_type": "markdown",
   "metadata": {},
   "source": [
    "### List Comprehension"
   ]
  },
  {
   "cell_type": "code",
   "execution_count": 21,
   "metadata": {},
   "outputs": [
    {
     "data": {
      "text/plain": [
       "[4, 16, 36, 64, 0]"
      ]
     },
     "execution_count": 21,
     "metadata": {},
     "output_type": "execute_result"
    }
   ],
   "source": [
    "result=[]\n",
    "def function(lst):\n",
    "    for i in lst:\n",
    "        if i%2==0:\n",
    "            result.append(i*i)\n",
    "\n",
    "    return result\n",
    "function([1,2,3,4,5,6,7,8,9,0])"
   ]
  },
  {
   "cell_type": "code",
   "execution_count": 23,
   "metadata": {},
   "outputs": [
    {
     "name": "stdout",
     "output_type": "stream",
     "text": [
      "[4, 16, 36, 64, 0]\n"
     ]
    }
   ],
   "source": [
    "# list comprehension will do in one line of code\n",
    "\n",
    "l=[1,2,3,4,5,6,7,8,9,0]\n",
    "result=[i*i for i in l if i%2==0]  # done in one line\n",
    "print(result)"
   ]
  },
  {
   "cell_type": "markdown",
   "metadata": {},
   "source": [
    "# Generator"
   ]
  },
  {
   "cell_type": "markdown",
   "metadata": {},
   "source": [
    "A Python generator is a function which returns a generator iterator (just an object we can iterate over) by calling yield. yield may be called with a value, in which case that value is treated as the \"generated\" value. The next time next() is called on the generator iterator (i.e. in the next step in a for loop, for example),\n",
    "\n",
    "### Normal Functions vs Generator Functions:\n",
    "\n",
    "Generators in Python are created just like how you create normal functions using the ‘def’ keyword. But, Generator functions make use of the yield keyword instead of return. This is done to notify the interpreter that this is an iterator. Not just this, Generator functions are run when the next() function is called and not by their name as in case of normal functions."
   ]
  },
  {
   "cell_type": "code",
   "execution_count": 6,
   "metadata": {},
   "outputs": [
    {
     "data": {
      "text/plain": [
       "[1, 2, 3]"
      ]
     },
     "execution_count": 6,
     "metadata": {},
     "output_type": "execute_result"
    }
   ],
   "source": [
    "def func(a):\n",
    "\n",
    "    yield a\n",
    "\n",
    "a=[1,2,3]\n",
    "\n",
    "b=func(a)\n",
    "\n",
    "next(b)"
   ]
  },
  {
   "cell_type": "code",
   "execution_count": 9,
   "metadata": {},
   "outputs": [
    {
     "name": "stdout",
     "output_type": "stream",
     "text": [
      "2\n",
      "4\n",
      "6\n",
      "8\n"
     ]
    }
   ],
   "source": [
    "def find_even_number_generator(number_stream):\n",
    "    for n in number_stream:\n",
    "        if n % 2 == 0:\n",
    "            yield n\n",
    "b=find_even_number_generator([1,2,3,4,5,6,7,8,9])\n",
    "for i in b:\n",
    "    print (i)"
   ]
  },
  {
   "cell_type": "code",
   "execution_count": null,
   "metadata": {},
   "outputs": [],
   "source": []
  }
 ],
 "metadata": {
  "kernelspec": {
   "display_name": "Python 3",
   "language": "python",
   "name": "python3"
  },
  "language_info": {
   "codemirror_mode": {
    "name": "ipython",
    "version": 3
   },
   "file_extension": ".py",
   "mimetype": "text/x-python",
   "name": "python",
   "nbconvert_exporter": "python",
   "pygments_lexer": "ipython3",
   "version": "3.6.9"
  }
 },
 "nbformat": 4,
 "nbformat_minor": 4
}
