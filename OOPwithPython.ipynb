{
 "cells": [
  {
   "cell_type": "code",
   "execution_count": 1,
   "metadata": {},
   "outputs": [],
   "source": [
    "# An empty class \n",
    "class Test: \n",
    "    pass"
   ]
  },
  {
   "cell_type": "code",
   "execution_count": 2,
   "metadata": {},
   "outputs": [
    {
     "name": "stdout",
     "output_type": "stream",
     "text": [
      "Noida, UP\n"
     ]
    }
   ],
   "source": [
    "# Python program to show that we can create \n",
    "# instance variables inside methods \n",
    "\n",
    "# Class for Computer Science Student \n",
    "class CSStudent: \n",
    "\t\n",
    "\t# Class Variable \n",
    "\tstream = 'cse'\t\n",
    "\t\n",
    "\t# The init method or constructor \n",
    "\tdef __init__(self, roll): \n",
    "\t\t\n",
    "\t\t# Instance Variable \n",
    "\t\tself.roll = roll\n",
    "\n",
    "\t# Adds an instance variable \n",
    "\tdef setAddress(self, address): \n",
    "\t\tself.address = address \n",
    "\t\n",
    "\t# Retrieves instance variable\t \n",
    "\tdef getAddress(self):\t \n",
    "\t\treturn self.address \n",
    "\n",
    "# Driver Code \n",
    "a = CSStudent(101) \n",
    "a.setAddress(\"Noida, UP\") \n",
    "print(a.getAddress()) \n"
   ]
  },
  {
   "cell_type": "code",
   "execution_count": 3,
   "metadata": {},
   "outputs": [
    {
     "name": "stdout",
     "output_type": "stream",
     "text": [
      "2\n",
      "7\n"
     ]
    },
    {
     "ename": "AttributeError",
     "evalue": "'MyClass' object has no attribute '__hiddenVariable'",
     "output_type": "error",
     "traceback": [
      "\u001b[0;31m---------------------------------------------------------------------------\u001b[0m",
      "\u001b[0;31mAttributeError\u001b[0m                            Traceback (most recent call last)",
      "\u001b[0;32m<ipython-input-3-4eb24fd2eff8>\u001b[0m in \u001b[0;36m<module>\u001b[0;34m\u001b[0m\n\u001b[1;32m     17\u001b[0m \u001b[0;34m\u001b[0m\u001b[0m\n\u001b[1;32m     18\u001b[0m \u001b[0;31m# This line causes error\u001b[0m\u001b[0;34m\u001b[0m\u001b[0;34m\u001b[0m\u001b[0;34m\u001b[0m\u001b[0m\n\u001b[0;32m---> 19\u001b[0;31m \u001b[0mprint\u001b[0m \u001b[0;34m(\u001b[0m\u001b[0mmyObject\u001b[0m\u001b[0;34m.\u001b[0m\u001b[0m__hiddenVariable\u001b[0m\u001b[0;34m)\u001b[0m\u001b[0;34m\u001b[0m\u001b[0;34m\u001b[0m\u001b[0m\n\u001b[0m",
      "\u001b[0;31mAttributeError\u001b[0m: 'MyClass' object has no attribute '__hiddenVariable'"
     ]
    }
   ],
   "source": [
    "### Data Hiding\n",
    "class MyClass: \n",
    "\n",
    "\t# Hidden member of MyClass \n",
    "\t__hiddenVariable = 0\n",
    "\t\n",
    "\t# A member method that changes \n",
    "\t# __hiddenVariable \n",
    "\tdef add(self, increment): \n",
    "\t\tself.__hiddenVariable += increment \n",
    "\t\tprint (self.__hiddenVariable) \n",
    "\n",
    "# Driver code \n",
    "myObject = MyClass()\t \n",
    "myObject.add(2) \n",
    "myObject.add(5) \n",
    "\n",
    "# This line causes error \n",
    "print (myObject.__hiddenVariable) "
   ]
  },
  {
   "cell_type": "code",
   "execution_count": null,
   "metadata": {},
   "outputs": [],
   "source": []
  },
  {
   "cell_type": "code",
   "execution_count": 6,
   "metadata": {},
   "outputs": [
    {
     "name": "stdout",
     "output_type": "stream",
     "text": [
      "dog has four legs\n",
      "this is in the abstrct function\n",
      "this is from child funtion\n"
     ]
    }
   ],
   "source": [
    "from abc import ABC, abstractmethod\n",
    "class Animal(ABC):\n",
    "    @abstractmethod\n",
    "    def fun(self):\n",
    "        print(\"this is in the abstrct function\")\n",
    "    def legs(self):\n",
    "        pass\n",
    "    \n",
    "class Dog(Animal):\n",
    "    def legs(self):\n",
    "        print(\"dog has four legs\")\n",
    "        \n",
    "    def fun(self):\n",
    "        super().fun()\n",
    "        print(\"this is from child funtion\")\n",
    "        \n",
    "        \n",
    "a=Dog()\n",
    "a.legs()\n",
    "a.fun()"
   ]
  },
  {
   "cell_type": "code",
   "execution_count": null,
   "metadata": {},
   "outputs": [],
   "source": []
  },
  {
   "cell_type": "code",
   "execution_count": null,
   "metadata": {},
   "outputs": [],
   "source": []
  },
  {
   "cell_type": "code",
   "execution_count": null,
   "metadata": {},
   "outputs": [],
   "source": []
  }
 ],
 "metadata": {
  "kernelspec": {
   "display_name": "Python 3",
   "language": "python",
   "name": "python3"
  },
  "language_info": {
   "codemirror_mode": {
    "name": "ipython",
    "version": 3
   },
   "file_extension": ".py",
   "mimetype": "text/x-python",
   "name": "python",
   "nbconvert_exporter": "python",
   "pygments_lexer": "ipython3",
   "version": "3.6.9"
  }
 },
 "nbformat": 4,
 "nbformat_minor": 4
}
