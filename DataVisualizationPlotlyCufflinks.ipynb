{
 "cells": [
  {
   "cell_type": "markdown",
   "metadata": {},
   "source": [
    "# Data Visualization with plotly and cufflinks"
   ]
  },
  {
   "cell_type": "code",
   "execution_count": 32,
   "metadata": {},
   "outputs": [],
   "source": [
    "#pip install plotly"
   ]
  },
  {
   "cell_type": "code",
   "execution_count": 33,
   "metadata": {},
   "outputs": [],
   "source": [
    "#pip install cufflinks"
   ]
  },
  {
   "cell_type": "code",
   "execution_count": 34,
   "metadata": {},
   "outputs": [],
   "source": [
    "import numpy as np\n",
    "import pandas as pd"
   ]
  },
  {
   "cell_type": "code",
   "execution_count": 35,
   "metadata": {},
   "outputs": [],
   "source": [
    "import cufflinks as cf"
   ]
  },
  {
   "cell_type": "code",
   "execution_count": 36,
   "metadata": {},
   "outputs": [],
   "source": [
    "from plotly.offline import download_plotlyjs,init_notebook_mode,plot,iplot"
   ]
  },
  {
   "cell_type": "code",
   "execution_count": 37,
   "metadata": {},
   "outputs": [
    {
     "data": {
      "text/html": [
       "        <script type=\"text/javascript\">\n",
       "        window.PlotlyConfig = {MathJaxConfig: 'local'};\n",
       "        if (window.MathJax) {MathJax.Hub.Config({SVG: {font: \"STIX-Web\"}});}\n",
       "        if (typeof require !== 'undefined') {\n",
       "        require.undef(\"plotly\");\n",
       "        requirejs.config({\n",
       "            paths: {\n",
       "                'plotly': ['https://cdn.plot.ly/plotly-latest.min']\n",
       "            }\n",
       "        });\n",
       "        require(['plotly'], function(Plotly) {\n",
       "            window._Plotly = Plotly;\n",
       "        });\n",
       "        }\n",
       "        </script>\n",
       "        "
      ]
     },
     "metadata": {},
     "output_type": "display_data"
    }
   ],
   "source": [
    "init_notebook_mode(connected=True)"
   ]
  },
  {
   "cell_type": "code",
   "execution_count": 38,
   "metadata": {},
   "outputs": [
    {
     "data": {
      "text/html": [
       "        <script type=\"text/javascript\">\n",
       "        window.PlotlyConfig = {MathJaxConfig: 'local'};\n",
       "        if (window.MathJax) {MathJax.Hub.Config({SVG: {font: \"STIX-Web\"}});}\n",
       "        if (typeof require !== 'undefined') {\n",
       "        require.undef(\"plotly\");\n",
       "        requirejs.config({\n",
       "            paths: {\n",
       "                'plotly': ['https://cdn.plot.ly/plotly-latest.min']\n",
       "            }\n",
       "        });\n",
       "        require(['plotly'], function(Plotly) {\n",
       "            window._Plotly = Plotly;\n",
       "        });\n",
       "        }\n",
       "        </script>\n",
       "        "
      ]
     },
     "metadata": {},
     "output_type": "display_data"
    }
   ],
   "source": [
    "cf.go_offline()"
   ]
  },
  {
   "cell_type": "code",
   "execution_count": 39,
   "metadata": {},
   "outputs": [],
   "source": [
    "# DAta \n",
    "df= pd.DataFrame(np.random.randn(100,4),columns=['A','B','C','D'])"
   ]
  },
  {
   "cell_type": "code",
   "execution_count": 40,
   "metadata": {},
   "outputs": [
    {
     "data": {
      "text/html": [
       "<div>\n",
       "<style scoped>\n",
       "    .dataframe tbody tr th:only-of-type {\n",
       "        vertical-align: middle;\n",
       "    }\n",
       "\n",
       "    .dataframe tbody tr th {\n",
       "        vertical-align: top;\n",
       "    }\n",
       "\n",
       "    .dataframe thead th {\n",
       "        text-align: right;\n",
       "    }\n",
       "</style>\n",
       "<table border=\"1\" class=\"dataframe\">\n",
       "  <thead>\n",
       "    <tr style=\"text-align: right;\">\n",
       "      <th></th>\n",
       "      <th>A</th>\n",
       "      <th>B</th>\n",
       "      <th>C</th>\n",
       "      <th>D</th>\n",
       "    </tr>\n",
       "  </thead>\n",
       "  <tbody>\n",
       "    <tr>\n",
       "      <th>0</th>\n",
       "      <td>1.056805</td>\n",
       "      <td>0.481071</td>\n",
       "      <td>-0.048329</td>\n",
       "      <td>-0.287713</td>\n",
       "    </tr>\n",
       "    <tr>\n",
       "      <th>1</th>\n",
       "      <td>-1.349835</td>\n",
       "      <td>-1.679512</td>\n",
       "      <td>-2.055264</td>\n",
       "      <td>-0.415408</td>\n",
       "    </tr>\n",
       "    <tr>\n",
       "      <th>2</th>\n",
       "      <td>-0.016590</td>\n",
       "      <td>-1.407520</td>\n",
       "      <td>1.234018</td>\n",
       "      <td>-0.673152</td>\n",
       "    </tr>\n",
       "    <tr>\n",
       "      <th>3</th>\n",
       "      <td>0.356607</td>\n",
       "      <td>0.695665</td>\n",
       "      <td>1.762205</td>\n",
       "      <td>0.116998</td>\n",
       "    </tr>\n",
       "    <tr>\n",
       "      <th>4</th>\n",
       "      <td>1.019383</td>\n",
       "      <td>-0.824419</td>\n",
       "      <td>0.365585</td>\n",
       "      <td>0.461088</td>\n",
       "    </tr>\n",
       "  </tbody>\n",
       "</table>\n",
       "</div>"
      ],
      "text/plain": [
       "          A         B         C         D\n",
       "0  1.056805  0.481071 -0.048329 -0.287713\n",
       "1 -1.349835 -1.679512 -2.055264 -0.415408\n",
       "2 -0.016590 -1.407520  1.234018 -0.673152\n",
       "3  0.356607  0.695665  1.762205  0.116998\n",
       "4  1.019383 -0.824419  0.365585  0.461088"
      ]
     },
     "execution_count": 40,
     "metadata": {},
     "output_type": "execute_result"
    }
   ],
   "source": [
    "df.head()"
   ]
  },
  {
   "cell_type": "code",
   "execution_count": 41,
   "metadata": {},
   "outputs": [],
   "source": [
    "df2=pd.DataFrame({\"category\":['A','B','C'],'VAlues':[32,43,50]})"
   ]
  },
  {
   "cell_type": "code",
   "execution_count": 42,
   "metadata": {},
   "outputs": [
    {
     "data": {
      "text/html": [
       "<div>\n",
       "<style scoped>\n",
       "    .dataframe tbody tr th:only-of-type {\n",
       "        vertical-align: middle;\n",
       "    }\n",
       "\n",
       "    .dataframe tbody tr th {\n",
       "        vertical-align: top;\n",
       "    }\n",
       "\n",
       "    .dataframe thead th {\n",
       "        text-align: right;\n",
       "    }\n",
       "</style>\n",
       "<table border=\"1\" class=\"dataframe\">\n",
       "  <thead>\n",
       "    <tr style=\"text-align: right;\">\n",
       "      <th></th>\n",
       "      <th>category</th>\n",
       "      <th>VAlues</th>\n",
       "    </tr>\n",
       "  </thead>\n",
       "  <tbody>\n",
       "    <tr>\n",
       "      <th>0</th>\n",
       "      <td>A</td>\n",
       "      <td>32</td>\n",
       "    </tr>\n",
       "    <tr>\n",
       "      <th>1</th>\n",
       "      <td>B</td>\n",
       "      <td>43</td>\n",
       "    </tr>\n",
       "    <tr>\n",
       "      <th>2</th>\n",
       "      <td>C</td>\n",
       "      <td>50</td>\n",
       "    </tr>\n",
       "  </tbody>\n",
       "</table>\n",
       "</div>"
      ],
      "text/plain": [
       "  category  VAlues\n",
       "0        A      32\n",
       "1        B      43\n",
       "2        C      50"
      ]
     },
     "execution_count": 42,
     "metadata": {},
     "output_type": "execute_result"
    }
   ],
   "source": [
    "df2.head()"
   ]
  },
  {
   "cell_type": "code",
   "execution_count": 43,
   "metadata": {},
   "outputs": [
    {
     "data": {
      "text/plain": [
       "<matplotlib.axes._subplots.AxesSubplot at 0x7f7569fccdd8>"
      ]
     },
     "execution_count": 43,
     "metadata": {},
     "output_type": "execute_result"
    },
    {
     "data": {
      "image/png": "[encoded data removed]",
      "text/plain": [
       "<Figure size 432x288 with 1 Axes>"
      ]
     },
     "metadata": {
      "needs_background": "light"
     },
     "output_type": "display_data"
    }
   ],
   "source": [
    "df.plot()"
   ]
  },
  {
   "cell_type": "code",
   "execution_count": 44,
   "metadata": {},
   "outputs": [
    {
     "data": {
      "application/vnd.plotly.v1+json": {
       "config": {
        "linkText": "Export to plot.ly",
        "plotlyServerURL": "https://plot.ly",
        "showLink": true
       },
       "data": [
        {
         "line": {
          "color": "rgba(255, 153, 51, 1.0)",
          "dash": "solid",
          "shape": "linear",
          "width": 1.3
         },
         "mode": "lines",
         "name": "A",
         "text": "",
         "type": "scatter",
         "x": [
          0,
          1,
          2,
          3,
          4,
          5,
          6,
          7,
          8,
          9,
          10,
          11,
          12,
          13,
          14,
          15,
          16,
          17,
          18,
          19,
          20,
          21,
          22,
          23,
          24,
          25,
          26,
          27,
          28,
          29,
          30,
          31,
          32,
          33,
          34,
          35,
          36,
          37,
          38,
          39,
          40,
          41,
          42,
          43,
          44,
          45,
          46,
          47,
          48,
          49,
          50,
          51,
          52,
          53,
          54,
          55,
          56,
          57,
          58,
          59,
          60,
          61,
          62,
          63,
          64,
          65,
          66,
          67,
          68,
          69,
          70,
          71,
          72,
          73,
          74,
          75,
          76,
          77,
          78,
          79,
          80,
          81,
          82,
          83,
          84,
          85,
          86,
          87,
          88,
          89,
          90,
          91,
          92,
          93,
          94,
          95,
          96,
          97,
          98,
          99
         ],
         "y": [
          1.0568048367540321,
          -1.3498353277992474,
          -0.016590310967857964,
          0.35660732790600963,
          1.0193834962395287,
          0.8491903166284471,
          -0.270898010060361,
          -0.392709340199791,
          -2.7680493355073525,
          -0.9598449509727272,
          0.02486210535174598,
          -0.08209894073442042,
          1.3004359980675626,
          -1.58538400423906,
          0.0669781081316911,
          0.640025802146375,
          -0.21302066961046895,
          -1.235796292702241,
          -0.1309253051050104,
          -0.31643267250308843,
          0.03258708757811836,
          -0.3380255243770623,
          -0.22179719829268574,
          -0.46447982740594784,
          -0.7481879251469615,
          -1.8848112593418178,
          1.091188842324186,
          -1.002344407821016,
          0.3490115434488426,
          -1.0674123492812189,
          -0.6698990082688834,
          -0.5799795584411399,
          -0.06921656663627403,
          -1.6351975314526448,
          0.7106115831459313,
          1.194971214763005,
          0.11625479261911345,
          -1.934252919633813,
          0.11913041768822805,
          0.11132345496649837,
          1.389596749030748,
          -1.2171163369994655,
          1.2045581848905342,
          0.5820052642283193,
          -1.708114214802915,
          1.506653156239142,
          -0.9254490674897976,
          1.2409940264229145,
          0.2074483106758396,
          -1.3596588313168947,
          -2.390481486655998,
          -1.4566179541064537,
          -0.1836022258305617,
          -0.21501553404228868,
          -0.29215975665065563,
          1.6432342936542375,
          -0.07861297341559388,
          -2.19928517475691,
          0.7440934149815865,
          -1.184472526598871,
          -1.2162389598474177,
          0.1884059181021502,
          -1.5723531833999829,
          -1.3997371771754998,
          1.1481860646913822,
          -0.9789763321605593,
          -1.9138376620999613,
          -0.6331452017050753,
          0.7740822611022451,
          0.5258410109353289,
          0.819021535691631,
          -1.2739877143475504,
          -0.4999464290112291,
          -0.11030684358193382,
          0.2888305237105291,
          -0.5203727627946619,
          0.05106433226799674,
          -0.5982765768873508,
          0.9655105887234117,
          1.435008557832391,
          0.4183410289076339,
          1.7880526163669672,
          0.3332612477805044,
          -0.46462131549385466,
          -0.7495203318644134,
          0.8658306751167946,
          -0.7008970126949282,
          -1.2842726652184249,
          -0.4759677234328119,
          -1.215534764436904,
          -0.4894621529285363,
          1.2034829395601145,
          -1.8424285969117682,
          -1.0479601268610481,
          1.2913471557834049,
          -0.5675730197363626,
          0.4706223082609923,
          0.8438922504243296,
          0.2755981536419486,
          -0.5314784299117727
         ]
        },
        {
         "line": {
          "color": "rgba(55, 128, 191, 1.0)",
          "dash": "solid",
          "shape": "linear",
          "width": 1.3
         },
         "mode": "lines",
         "name": "B",
         "text": "",
         "type": "scatter",
         "x": [
          0,
          1,
          2,
          3,
          4,
          5,
          6,
          7,
          8,
          9,
          10,
          11,
          12,
          13,
          14,
          15,
          16,
          17,
          18,
          19,
          20,
          21,
          22,
          23,
          24,
          25,
          26,
          27,
          28,
          29,
          30,
          31,
          32,
          33,
          34,
          35,
          36,
          37,
          38,
          39,
          40,
          41,
          42,
          43,
          44,
          45,
          46,
          47,
          48,
          49,
          50,
          51,
          52,
          53,
          54,
          55,
          56,
          57,
          58,
          59,
          60,
          61,
          62,
          63,
          64,
          65,
          66,
          67,
          68,
          69,
          70,
          71,
          72,
          73,
          74,
          75,
          76,
          77,
          78,
          79,
          80,
          81,
          82,
          83,
          84,
          85,
          86,
          87,
          88,
          89,
          90,
          91,
          92,
          93,
          94,
          95,
          96,
          97,
          98,
          99
         ],
         "y": [
          0.48107134908112026,
          -1.6795123804935181,
          -1.407520137520341,
          0.6956647126875344,
          -0.8244186266256153,
          0.4651753314936174,
          1.3326443659961662,
          0.6712892112247183,
          -0.03678809166099367,
          -0.37571841568415526,
          -1.0933104414806638,
          1.0244520712000555,
          -1.6774374423985707,
          0.27825921049731706,
          -0.10656048173528182,
          -0.16266515491632585,
          -1.477859361988607,
          0.5755268284581758,
          -0.9848408514619815,
          1.1337930138402854,
          -2.1093063248932107,
          0.6732453387771199,
          1.0304751255639024,
          1.3442197800221123,
          -1.2994725083624141,
          0.24770923969024355,
          0.38001451435852873,
          0.6510217733836621,
          -1.334809357106278,
          -0.32591102686090045,
          0.33883289533284516,
          -0.6396342151768055,
          0.962462618516548,
          -0.3296481883115337,
          1.0539582266267544,
          -0.48849257687259584,
          -0.32932544514589285,
          -1.4021026631022075,
          0.4399519109122479,
          0.8165453632315621,
          0.17029682658018525,
          -1.539884876142449,
          -0.5290558912633045,
          -0.8862205911488811,
          1.503260759181969,
          1.2904641364329443,
          0.817464070671576,
          0.25455108264994014,
          0.6612696163441858,
          0.6148495307606112,
          -0.2443472940420814,
          -0.1502214269589789,
          0.29709144796356207,
          0.26233398363187316,
          -1.3859941884922815,
          -0.45976975796464326,
          0.17877088761322477,
          -1.7265360004559602,
          -0.2101124096705694,
          -2.1667428687019026,
          0.18014866395562953,
          0.17096478975414062,
          -0.6964272661332754,
          1.3526202915153194,
          0.8585059112481627,
          -0.472753727105893,
          1.5100650061692027,
          0.4439906420214673,
          -1.465584592157141,
          -0.8229300005118391,
          1.5114509544733574,
          0.5364040103244894,
          -0.6760154676033024,
          -0.12257777263745659,
          -0.028732704593448222,
          -1.6222251014678108,
          1.2862804917367132,
          0.15023697198365754,
          1.6432990060257577,
          -0.9471220749054257,
          -0.9861439162556745,
          0.9130666364117548,
          0.1790282336824031,
          1.6077357010516404,
          1.203379636178235,
          -0.8228046441290212,
          -1.8235900825357745,
          -1.0936356335033228,
          -0.2686300201689464,
          0.7704305152906291,
          1.9938798698875142,
          1.3775740544428223,
          -0.3965660112358336,
          -0.3414272326891216,
          -0.1138789943091023,
          -0.21589954976034614,
          0.3075242917985286,
          0.6432017039579504,
          0.08825291761810869,
          1.5816130906771417
         ]
        },
        {
         "line": {
          "color": "rgba(50, 171, 96, 1.0)",
          "dash": "solid",
          "shape": "linear",
          "width": 1.3
         },
         "mode": "lines",
         "name": "C",
         "text": "",
         "type": "scatter",
         "x": [
          0,
          1,
          2,
          3,
          4,
          5,
          6,
          7,
          8,
          9,
          10,
          11,
          12,
          13,
          14,
          15,
          16,
          17,
          18,
          19,
          20,
          21,
          22,
          23,
          24,
          25,
          26,
          27,
          28,
          29,
          30,
          31,
          32,
          33,
          34,
          35,
          36,
          37,
          38,
          39,
          40,
          41,
          42,
          43,
          44,
          45,
          46,
          47,
          48,
          49,
          50,
          51,
          52,
          53,
          54,
          55,
          56,
          57,
          58,
          59,
          60,
          61,
          62,
          63,
          64,
          65,
          66,
          67,
          68,
          69,
          70,
          71,
          72,
          73,
          74,
          75,
          76,
          77,
          78,
          79,
          80,
          81,
          82,
          83,
          84,
          85,
          86,
          87,
          88,
          89,
          90,
          91,
          92,
          93,
          94,
          95,
          96,
          97,
          98,
          99
         ],
         "y": [
          -0.04832900612696817,
          -2.0552643470456307,
          1.23401808345776,
          1.7622048722279813,
          0.36558461414403454,
          1.5271193614857776,
          -0.11698965638849242,
          0.550877172276358,
          -0.18563025943375833,
          1.4046676703240801,
          -0.8923087515065036,
          -0.13497956516275023,
          0.0710977571789828,
          1.0614963310633692,
          0.7192133147377471,
          -0.7730472669486539,
          -0.7735920559571068,
          1.3688275969976738,
          0.9978091168302472,
          -0.14855973087387733,
          1.4389636472969352,
          0.463317487552831,
          0.4057962919525643,
          1.2409096014807675,
          -1.7981095491668768,
          -0.9737923820099355,
          -0.35343715695543854,
          -1.8431487538919407,
          -0.9635654940207634,
          -1.1123087567053498,
          0.2671661522206472,
          1.1624384050292622,
          -0.1671491618727415,
          0.09287564079951659,
          0.7719803507484746,
          0.25083532191382685,
          -1.2609727534308801,
          2.3558529106906345,
          -0.44250445937162747,
          -0.7467504601879799,
          -0.7198816365344325,
          -0.0339315665844702,
          0.5497512879724022,
          -0.3480524571619145,
          1.3768723354357362,
          1.2502034702732656,
          -0.4012274215203553,
          -0.2897737272678843,
          -1.0084326249052749,
          -0.041878491458556794,
          0.44192348379906643,
          -0.7067919348103693,
          -2.0158581243719778,
          1.519170754551979,
          -0.1602334895148967,
          -0.31987479518621237,
          -0.6341683758785682,
          -0.781009411884995,
          -0.2340528015742706,
          1.156470066863848,
          0.46127659902382545,
          0.5105671736507841,
          -2.189845693455042,
          0.4432675837308323,
          -1.1516814536026996,
          1.330748998222132,
          -0.6477011655976501,
          -0.026451195793421024,
          0.7009205597371548,
          -0.31398659371351423,
          -0.027173796204393034,
          0.7491544167403303,
          -1.9744604698376598,
          0.8608338555104487,
          -0.661737329113762,
          -0.5835026639312187,
          0.37539850136357034,
          1.8791397847625453,
          2.6984625358394454,
          0.9477096198568582,
          1.4705140165414279,
          -0.010514932472564067,
          1.276061278128099,
          1.0617667814236433,
          -2.512910427219062,
          1.339337758066956,
          -0.09495253544489847,
          0.11448683196821172,
          -1.230759772499085,
          1.1776767045274097,
          -0.39700160277569996,
          -0.2847822529590679,
          -1.2984210140560033,
          -1.697273398143285,
          -0.03374651544880042,
          -1.347737876485818,
          0.9598283623694468,
          0.27478388842535423,
          0.2146777232449316,
          0.1567832074653066
         ]
        },
        {
         "line": {
          "color": "rgba(128, 0, 128, 1.0)",
          "dash": "solid",
          "shape": "linear",
          "width": 1.3
         },
         "mode": "lines",
         "name": "D",
         "text": "",
         "type": "scatter",
         "x": [
          0,
          1,
          2,
          3,
          4,
          5,
          6,
          7,
          8,
          9,
          10,
          11,
          12,
          13,
          14,
          15,
          16,
          17,
          18,
          19,
          20,
          21,
          22,
          23,
          24,
          25,
          26,
          27,
          28,
          29,
          30,
          31,
          32,
          33,
          34,
          35,
          36,
          37,
          38,
          39,
          40,
          41,
          42,
          43,
          44,
          45,
          46,
          47,
          48,
          49,
          50,
          51,
          52,
          53,
          54,
          55,
          56,
          57,
          58,
          59,
          60,
          61,
          62,
          63,
          64,
          65,
          66,
          67,
          68,
          69,
          70,
          71,
          72,
          73,
          74,
          75,
          76,
          77,
          78,
          79,
          80,
          81,
          82,
          83,
          84,
          85,
          86,
          87,
          88,
          89,
          90,
          91,
          92,
          93,
          94,
          95,
          96,
          97,
          98,
          99
         ],
         "y": [
          -0.2877134611778512,
          -0.415408231157268,
          -0.6731520956489023,
          0.11699835543967516,
          0.46108847414264864,
          -2.075749395948886,
          0.8134228721343691,
          -0.4171307815190678,
          1.0482344785197288,
          -0.5629315106277006,
          1.4045304971214088,
          -1.0036668984369883,
          -0.9863531301805152,
          -0.25807014173809195,
          0.006645526873550916,
          -0.3653241514796089,
          1.4836009543157784,
          1.440594840565873,
          -0.4683992654901319,
          1.0598744136647218,
          0.44542094220103995,
          -1.3036291372168698,
          0.4330958917310685,
          1.098880423945254,
          0.7912876255644647,
          -0.5153633833927447,
          0.34099595343274336,
          0.8289978197175643,
          1.2860921268160947,
          0.3368732252553157,
          -0.7886462598062345,
          -0.20660566142886636,
          -2.0332644633856414,
          -0.45084749186519113,
          1.5395248206983076,
          1.033488658632085,
          0.4770679157842925,
          1.5196634218257068,
          -1.2454550882900453,
          -0.49410816685358944,
          -1.9660433649871147,
          0.2610976675087106,
          -1.3363618123521568,
          -0.8672949069980124,
          -1.358341898024915,
          0.0985918064728073,
          0.10822160952696296,
          -1.7743962812944087,
          -0.34752270013412295,
          -1.4942403930610262,
          1.1235033870989883,
          1.0245166435319117,
          -0.3864490739769507,
          -1.3471165599982078,
          0.3706148647365652,
          -0.5162107363096655,
          0.9760832195066462,
          -0.15633400980662576,
          -0.496568500607371,
          -0.5439552377990234,
          -0.8833587494428198,
          -0.38500838562199147,
          -0.34059551833802226,
          2.555474453517577,
          -0.5489839462842704,
          0.23018097576502303,
          -0.002817578108877567,
          -1.953011296752301,
          -0.6357711373245285,
          -1.1219490175131321,
          0.07138034873712855,
          0.5236003404531173,
          0.932465243848728,
          -1.231077256495407,
          -0.1937006848204315,
          1.4592991862128464,
          1.546286129842861,
          -0.19601189357771362,
          0.5391848728347883,
          -0.1427679427449153,
          0.1805286690674597,
          1.442595958836891,
          -0.9600127241696688,
          -0.4762769319570404,
          0.5771531798071556,
          1.2941334448093476,
          -1.0773538097917301,
          0.47556825223577,
          -0.9752553106665932,
          -1.032965092659648,
          -1.1155748598027806,
          0.25668015767886654,
          -0.8814739191660805,
          -0.22082829609725307,
          -1.3489726852465749,
          -0.5176821631863701,
          0.9882380031744157,
          0.24039272505477224,
          -0.21586922453230434,
          0.2785582142140259
         ]
        }
       ],
       "layout": {
        "legend": {
         "bgcolor": "#F5F6F9",
         "font": {
          "color": "#4D5663"
         }
        },
        "paper_bgcolor": "#F5F6F9",
        "plot_bgcolor": "#F5F6F9",
        "template": {
         "data": {
          "bar": [
           {
            "error_x": {
             "color": "#2a3f5f"
            },
            "error_y": {
             "color": "#2a3f5f"
            },
            "marker": {
             "line": {
              "color": "#E5ECF6",
              "width": 0.5
             }
            },
            "type": "bar"
           }
          ],
          "barpolar": [
           {
            "marker": {
             "line": {
              "color": "#E5ECF6",
              "width": 0.5
             }
            },
            "type": "barpolar"
           }
          ],
          "carpet": [
           {
            "aaxis": {
             "endlinecolor": "#2a3f5f",
             "gridcolor": "white",
             "linecolor": "white",
             "minorgridcolor": "white",
             "startlinecolor": "#2a3f5f"
            },
            "baxis": {
             "endlinecolor": "#2a3f5f",
             "gridcolor": "white",
             "linecolor": "white",
             "minorgridcolor": "white",
             "startlinecolor": "#2a3f5f"
            },
            "type": "carpet"
           }
          ],
          "choropleth": [
           {
            "colorbar": {
             "outlinewidth": 0,
             "ticks": ""
            },
            "type": "choropleth"
           }
          ],
          "contour": [
           {
            "colorbar": {
             "outlinewidth": 0,
             "ticks": ""
            },
            "colorscale": [
             [
              0,
              "#0d0887"
             ],
             [
              0.1111111111111111,
              "#46039f"
             ],
             [
              0.2222222222222222,
              "#7201a8"
             ],
             [
              0.3333333333333333,
              "#9c179e"
             ],
             [
              0.4444444444444444,
              "#bd3786"
             ],
             [
              0.5555555555555556,
              "#d8576b"
             ],
             [
              0.6666666666666666,
              "#ed7953"
             ],
             [
              0.7777777777777778,
              "#fb9f3a"
             ],
             [
              0.8888888888888888,
              "#fdca26"
             ],
             [
              1,
              "#f0f921"
             ]
            ],
            "type": "contour"
           }
          ],
          "contourcarpet": [
           {
            "colorbar": {
             "outlinewidth": 0,
             "ticks": ""
            },
            "type": "contourcarpet"
           }
          ],
          "heatmap": [
           {
            "colorbar": {
             "outlinewidth": 0,
             "ticks": ""
            },
            "colorscale": [
             [
              0,
              "#0d0887"
             ],
             [
              0.1111111111111111,
              "#46039f"
             ],
             [
              0.2222222222222222,
              "#7201a8"
             ],
             [
              0.3333333333333333,
              "#9c179e"
             ],
             [
              0.4444444444444444,
              "#bd3786"
             ],
             [
              0.5555555555555556,
              "#d8576b"
             ],
             [
              0.6666666666666666,
              "#ed7953"
             ],
             [
              0.7777777777777778,
              "#fb9f3a"
             ],
             [
              0.8888888888888888,
              "#fdca26"
             ],
             [
              1,
              "#f0f921"
             ]
            ],
            "type": "heatmap"
           }
          ],
          "heatmapgl": [
           {
            "colorbar": {
             "outlinewidth": 0,
             "ticks": ""
            },
            "colorscale": [
             [
              0,
              "#0d0887"
             ],
             [
              0.1111111111111111,
              "#46039f"
             ],
             [
              0.2222222222222222,
              "#7201a8"
             ],
             [
              0.3333333333333333,
              "#9c179e"
             ],
             [
              0.4444444444444444,
              "#bd3786"
             ],
             [
              0.5555555555555556,
              "#d8576b"
             ],
             [
              0.6666666666666666,
              "#ed7953"
             ],
             [
              0.7777777777777778,
              "#fb9f3a"
             ],
             [
              0.8888888888888888,
              "#fdca26"
             ],
             [
              1,
              "#f0f921"
             ]
            ],
            "type": "heatmapgl"
           }
          ],
          "histogram": [
           {
            "marker": {
             "colorbar": {
              "outlinewidth": 0,
              "ticks": ""
             }
            },
            "type": "histogram"
           }
          ],
          "histogram2d": [
           {
            "colorbar": {
             "outlinewidth": 0,
             "ticks": ""
            },
            "colorscale": [
             [
              0,
              "#0d0887"
             ],
             [
              0.1111111111111111,
              "#46039f"
             ],
             [
              0.2222222222222222,
              "#7201a8"
             ],
             [
              0.3333333333333333,
              "#9c179e"
             ],
             [
              0.4444444444444444,
              "#bd3786"
             ],
             [
              0.5555555555555556,
              "#d8576b"
             ],
             [
              0.6666666666666666,
              "#ed7953"
             ],
             [
              0.7777777777777778,
              "#fb9f3a"
             ],
             [
              0.8888888888888888,
              "#fdca26"
             ],
             [
              1,
              "#f0f921"
             ]
            ],
            "type": "histogram2d"
           }
          ],
          "histogram2dcontour": [
           {
            "colorbar": {
             "outlinewidth": 0,
             "ticks": ""
            },
            "colorscale": [
             [
              0,
              "#0d0887"
             ],
             [
              0.1111111111111111,
              "#46039f"
             ],
             [
              0.2222222222222222,
              "#7201a8"
             ],
             [
              0.3333333333333333,
              "#9c179e"
             ],
             [
              0.4444444444444444,
              "#bd3786"
             ],
             [
              0.5555555555555556,
              "#d8576b"
             ],
             [
              0.6666666666666666,
              "#ed7953"
             ],
             [
              0.7777777777777778,
              "#fb9f3a"
             ],
             [
              0.8888888888888888,
              "#fdca26"
             ],
             [
              1,
              "#f0f921"
             ]
            ],
            "type": "histogram2dcontour"
           }
          ],
          "mesh3d": [
           {
            "colorbar": {
             "outlinewidth": 0,
             "ticks": ""
            },
            "type": "mesh3d"
           }
          ],
          "parcoords": [
           {
            "line": {
             "colorbar": {
              "outlinewidth": 0,
              "ticks": ""
             }
            },
            "type": "parcoords"
           }
          ],
          "pie": [
           {
            "automargin": true,
            "type": "pie"
           }
          ],
          "scatter": [
           {
            "marker": {
             "colorbar": {
              "outlinewidth": 0,
              "ticks": ""
             }
            },
            "type": "scatter"
           }
          ],
          "scatter3d": [
           {
            "line": {
             "colorbar": {
              "outlinewidth": 0,
              "ticks": ""
             }
            },
            "marker": {
             "colorbar": {
              "outlinewidth": 0,
              "ticks": ""
             }
            },
            "type": "scatter3d"
           }
          ],
          "scattercarpet": [
           {
            "marker": {
             "colorbar": {
              "outlinewidth": 0,
              "ticks": ""
             }
            },
            "type": "scattercarpet"
           }
          ],
          "scattergeo": [
           {
            "marker": {
             "colorbar": {
              "outlinewidth": 0,
              "ticks": ""
             }
            },
            "type": "scattergeo"
           }
          ],
          "scattergl": [
           {
            "marker": {
             "colorbar": {
              "outlinewidth": 0,
              "ticks": ""
             }
            },
            "type": "scattergl"
           }
          ],
          "scattermapbox": [
           {
            "marker": {
             "colorbar": {
              "outlinewidth": 0,
              "ticks": ""
             }
            },
            "type": "scattermapbox"
           }
          ],
          "scatterpolar": [
           {
            "marker": {
             "colorbar": {
              "outlinewidth": 0,
              "ticks": ""
             }
            },
            "type": "scatterpolar"
           }
          ],
          "scatterpolargl": [
           {
            "marker": {
             "colorbar": {
              "outlinewidth": 0,
              "ticks": ""
             }
            },
            "type": "scatterpolargl"
           }
          ],
          "scatterternary": [
           {
            "marker": {
             "colorbar": {
              "outlinewidth": 0,
              "ticks": ""
             }
            },
            "type": "scatterternary"
           }
          ],
          "surface": [
           {
            "colorbar": {
             "outlinewidth": 0,
             "ticks": ""
            },
            "colorscale": [
             [
              0,
              "#0d0887"
             ],
             [
              0.1111111111111111,
              "#46039f"
             ],
             [
              0.2222222222222222,
              "#7201a8"
             ],
             [
              0.3333333333333333,
              "#9c179e"
             ],
             [
              0.4444444444444444,
              "#bd3786"
             ],
             [
              0.5555555555555556,
              "#d8576b"
             ],
             [
              0.6666666666666666,
              "#ed7953"
             ],
             [
              0.7777777777777778,
              "#fb9f3a"
             ],
             [
              0.8888888888888888,
              "#fdca26"
             ],
             [
              1,
              "#f0f921"
             ]
            ],
            "type": "surface"
           }
          ],
          "table": [
           {
            "cells": {
             "fill": {
              "color": "#EBF0F8"
             },
             "line": {
              "color": "white"
             }
            },
            "header": {
             "fill": {
              "color": "#C8D4E3"
             },
             "line": {
              "color": "white"
             }
            },
            "type": "table"
           }
          ]
         },
         "layout": {
          "annotationdefaults": {
           "arrowcolor": "#2a3f5f",
           "arrowhead": 0,
           "arrowwidth": 1
          },
          "coloraxis": {
           "colorbar": {
            "outlinewidth": 0,
            "ticks": ""
           }
          },
          "colorscale": {
           "diverging": [
            [
             0,
             "#8e0152"
            ],
            [
             0.1,
             "#c51b7d"
            ],
            [
             0.2,
             "#de77ae"
            ],
            [
             0.3,
             "#f1b6da"
            ],
            [
             0.4,
             "#fde0ef"
            ],
            [
             0.5,
             "#f7f7f7"
            ],
            [
             0.6,
             "#e6f5d0"
            ],
            [
             0.7,
             "#b8e186"
            ],
            [
             0.8,
             "#7fbc41"
            ],
            [
             0.9,
             "#4d9221"
            ],
            [
             1,
             "#276419"
            ]
           ],
           "sequential": [
            [
             0,
             "#0d0887"
            ],
            [
             0.1111111111111111,
             "#46039f"
            ],
            [
             0.2222222222222222,
             "#7201a8"
            ],
            [
             0.3333333333333333,
             "#9c179e"
            ],
            [
             0.4444444444444444,
             "#bd3786"
            ],
            [
             0.5555555555555556,
             "#d8576b"
            ],
            [
             0.6666666666666666,
             "#ed7953"
            ],
            [
             0.7777777777777778,
             "#fb9f3a"
            ],
            [
             0.8888888888888888,
             "#fdca26"
            ],
            [
             1,
             "#f0f921"
            ]
           ],
           "sequentialminus": [
            [
             0,
             "#0d0887"
            ],
            [
             0.1111111111111111,
             "#46039f"
            ],
            [
             0.2222222222222222,
             "#7201a8"
            ],
            [
             0.3333333333333333,
             "#9c179e"
            ],
            [
             0.4444444444444444,
             "#bd3786"
            ],
            [
             0.5555555555555556,
             "#d8576b"
            ],
            [
             0.6666666666666666,
             "#ed7953"
            ],
            [
             0.7777777777777778,
             "#fb9f3a"
            ],
            [
             0.8888888888888888,
             "#fdca26"
            ],
            [
             1,
             "#f0f921"
            ]
           ]
          },
          "colorway": [
           "#636efa",
           "#EF553B",
           "#00cc96",
           "#ab63fa",
           "#FFA15A",
           "#19d3f3",
           "#FF6692",
           "#B6E880",
           "#FF97FF",
           "#FECB52"
          ],
          "font": {
           "color": "#2a3f5f"
          },
          "geo": {
           "bgcolor": "white",
           "lakecolor": "white",
           "landcolor": "#E5ECF6",
           "showlakes": true,
           "showland": true,
           "subunitcolor": "white"
          },
          "hoverlabel": {
           "align": "left"
          },
          "hovermode": "closest",
          "mapbox": {
           "style": "light"
          },
          "paper_bgcolor": "white",
          "plot_bgcolor": "#E5ECF6",
          "polar": {
           "angularaxis": {
            "gridcolor": "white",
            "linecolor": "white",
            "ticks": ""
           },
           "bgcolor": "#E5ECF6",
           "radialaxis": {
            "gridcolor": "white",
            "linecolor": "white",
            "ticks": ""
           }
          },
          "scene": {
           "xaxis": {
            "backgroundcolor": "#E5ECF6",
            "gridcolor": "white",
            "gridwidth": 2,
            "linecolor": "white",
            "showbackground": true,
            "ticks": "",
            "zerolinecolor": "white"
           },
           "yaxis": {
            "backgroundcolor": "#E5ECF6",
            "gridcolor": "white",
            "gridwidth": 2,
            "linecolor": "white",
            "showbackground": true,
            "ticks": "",
            "zerolinecolor": "white"
           },
           "zaxis": {
            "backgroundcolor": "#E5ECF6",
            "gridcolor": "white",
            "gridwidth": 2,
            "linecolor": "white",
            "showbackground": true,
            "ticks": "",
            "zerolinecolor": "white"
           }
          },
          "shapedefaults": {
           "line": {
            "color": "#2a3f5f"
           }
          },
          "ternary": {
           "aaxis": {
            "gridcolor": "white",
            "linecolor": "white",
            "ticks": ""
           },
           "baxis": {
            "gridcolor": "white",
            "linecolor": "white",
            "ticks": ""
           },
           "bgcolor": "#E5ECF6",
           "caxis": {
            "gridcolor": "white",
            "linecolor": "white",
            "ticks": ""
           }
          },
          "title": {
           "x": 0.05
          },
          "xaxis": {
           "automargin": true,
           "gridcolor": "white",
           "linecolor": "white",
           "ticks": "",
           "title": {
            "standoff": 15
           },
           "zerolinecolor": "white",
           "zerolinewidth": 2
          },
          "yaxis": {
           "automargin": true,
           "gridcolor": "white",
           "linecolor": "white",
           "ticks": "",
           "title": {
            "standoff": 15
           },
           "zerolinecolor": "white",
           "zerolinewidth": 2
          }
         }
        },
        "title": {
         "font": {
          "color": "#4D5663"
         }
        },
        "xaxis": {
         "gridcolor": "#E1E5ED",
         "showgrid": true,
         "tickfont": {
          "color": "#4D5663"
         },
         "title": {
          "font": {
           "color": "#4D5663"
          },
          "text": ""
         },
         "zerolinecolor": "#E1E5ED"
        },
        "yaxis": {
         "gridcolor": "#E1E5ED",
         "showgrid": true,
         "tickfont": {
          "color": "#4D5663"
         },
         "title": {
          "font": {
           "color": "#4D5663"
          },
          "text": ""
         },
         "zerolinecolor": "#E1E5ED"
        }
       }
      },
      "text/html": [
       "<div>\n",
       "        \n",
       "        \n",
       "            <div id=\"66e7e9a2-26a7-4635-ac4c-2542d1f96c3d\" class=\"plotly-graph-div\" style=\"height:525px; width:100%;\"></div>\n",
       "            <script type=\"text/javascript\">\n",
       "                require([\"plotly\"], function(Plotly) {\n",
       "                    window.PLOTLYENV=window.PLOTLYENV || {};\n",
       "                    window.PLOTLYENV.BASE_URL='https://plot.ly';\n",
       "                    \n",
       "                if (document.getElementById(\"66e7e9a2-26a7-4635-ac4c-2542d1f96c3d\")) {\n",
       "                    Plotly.newPlot(\n",
       "                        '66e7e9a2-26a7-4635-ac4c-2542d1f96c3d',\n",
       "                        [{\"line\": {\"color\": \"rgba(255, 153, 51, 1.0)\", \"dash\": \"solid\", \"shape\": \"linear\", \"width\": 1.3}, \"mode\": \"lines\", \"name\": \"A\", \"text\": \"\", \"type\": \"scatter\", \"x\": [0, 1, 2, 3, 4, 5, 6, 7, 8, 9, 10, 11, 12, 13, 14, 15, 16, 17, 18, 19, 20, 21, 22, 23, 24, 25, 26, 27, 28, 29, 30, 31, 32, 33, 34, 35, 36, 37, 38, 39, 40, 41, 42, 43, 44, 45, 46, 47, 48, 49, 50, 51, 52, 53, 54, 55, 56, 57, 58, 59, 60, 61, 62, 63, 64, 65, 66, 67, 68, 69, 70, 71, 72, 73, 74, 75, 76, 77, 78, 79, 80, 81, 82, 83, 84, 85, 86, 87, 88, 89, 90, 91, 92, 93, 94, 95, 96, 97, 98, 99], \"y\": [1.0568048367540321, -1.3498353277992474, -0.016590310967857964, 0.35660732790600963, 1.0193834962395287, 0.8491903166284471, -0.270898010060361, -0.392709340199791, -2.7680493355073525, -0.9598449509727272, 0.02486210535174598, -0.08209894073442042, 1.3004359980675626, -1.58538400423906, 0.0669781081316911, 0.640025802146375, -0.21302066961046895, -1.235796292702241, -0.1309253051050104, -0.31643267250308843, 0.03258708757811836, -0.3380255243770623, -0.22179719829268574, -0.46447982740594784, -0.7481879251469615, -1.8848112593418178, 1.091188842324186, -1.002344407821016, 0.3490115434488426, -1.0674123492812189, -0.6698990082688834, -0.5799795584411399, -0.06921656663627403, -1.6351975314526448, 0.7106115831459313, 1.194971214763005, 0.11625479261911345, -1.934252919633813, 0.11913041768822805, 0.11132345496649837, 1.389596749030748, -1.2171163369994655, 1.2045581848905342, 0.5820052642283193, -1.708114214802915, 1.506653156239142, -0.9254490674897976, 1.2409940264229145, 0.2074483106758396, -1.3596588313168947, -2.390481486655998, -1.4566179541064537, -0.1836022258305617, -0.21501553404228868, -0.29215975665065563, 1.6432342936542375, -0.07861297341559388, -2.19928517475691, 0.7440934149815865, -1.184472526598871, -1.2162389598474177, 0.1884059181021502, -1.5723531833999829, -1.3997371771754998, 1.1481860646913822, -0.9789763321605593, -1.9138376620999613, -0.6331452017050753, 0.7740822611022451, 0.5258410109353289, 0.819021535691631, -1.2739877143475504, -0.4999464290112291, -0.11030684358193382, 0.2888305237105291, -0.5203727627946619, 0.05106433226799674, -0.5982765768873508, 0.9655105887234117, 1.435008557832391, 0.4183410289076339, 1.7880526163669672, 0.3332612477805044, -0.46462131549385466, -0.7495203318644134, 0.8658306751167946, -0.7008970126949282, -1.2842726652184249, -0.4759677234328119, -1.215534764436904, -0.4894621529285363, 1.2034829395601145, -1.8424285969117682, -1.0479601268610481, 1.2913471557834049, -0.5675730197363626, 0.4706223082609923, 0.8438922504243296, 0.2755981536419486, -0.5314784299117727]}, {\"line\": {\"color\": \"rgba(55, 128, 191, 1.0)\", \"dash\": \"solid\", \"shape\": \"linear\", \"width\": 1.3}, \"mode\": \"lines\", \"name\": \"B\", \"text\": \"\", \"type\": \"scatter\", \"x\": [0, 1, 2, 3, 4, 5, 6, 7, 8, 9, 10, 11, 12, 13, 14, 15, 16, 17, 18, 19, 20, 21, 22, 23, 24, 25, 26, 27, 28, 29, 30, 31, 32, 33, 34, 35, 36, 37, 38, 39, 40, 41, 42, 43, 44, 45, 46, 47, 48, 49, 50, 51, 52, 53, 54, 55, 56, 57, 58, 59, 60, 61, 62, 63, 64, 65, 66, 67, 68, 69, 70, 71, 72, 73, 74, 75, 76, 77, 78, 79, 80, 81, 82, 83, 84, 85, 86, 87, 88, 89, 90, 91, 92, 93, 94, 95, 96, 97, 98, 99], \"y\": [0.48107134908112026, -1.6795123804935181, -1.407520137520341, 0.6956647126875344, -0.8244186266256153, 0.4651753314936174, 1.3326443659961662, 0.6712892112247183, -0.03678809166099367, -0.37571841568415526, -1.0933104414806638, 1.0244520712000555, -1.6774374423985707, 0.27825921049731706, -0.10656048173528182, -0.16266515491632585, -1.477859361988607, 0.5755268284581758, -0.9848408514619815, 1.1337930138402854, -2.1093063248932107, 0.6732453387771199, 1.0304751255639024, 1.3442197800221123, -1.2994725083624141, 0.24770923969024355, 0.38001451435852873, 0.6510217733836621, -1.334809357106278, -0.32591102686090045, 0.33883289533284516, -0.6396342151768055, 0.962462618516548, -0.3296481883115337, 1.0539582266267544, -0.48849257687259584, -0.32932544514589285, -1.4021026631022075, 0.4399519109122479, 0.8165453632315621, 0.17029682658018525, -1.539884876142449, -0.5290558912633045, -0.8862205911488811, 1.503260759181969, 1.2904641364329443, 0.817464070671576, 0.25455108264994014, 0.6612696163441858, 0.6148495307606112, -0.2443472940420814, -0.1502214269589789, 0.29709144796356207, 0.26233398363187316, -1.3859941884922815, -0.45976975796464326, 0.17877088761322477, -1.7265360004559602, -0.2101124096705694, -2.1667428687019026, 0.18014866395562953, 0.17096478975414062, -0.6964272661332754, 1.3526202915153194, 0.8585059112481627, -0.472753727105893, 1.5100650061692027, 0.4439906420214673, -1.465584592157141, -0.8229300005118391, 1.5114509544733574, 0.5364040103244894, -0.6760154676033024, -0.12257777263745659, -0.028732704593448222, -1.6222251014678108, 1.2862804917367132, 0.15023697198365754, 1.6432990060257577, -0.9471220749054257, -0.9861439162556745, 0.9130666364117548, 0.1790282336824031, 1.6077357010516404, 1.203379636178235, -0.8228046441290212, -1.8235900825357745, -1.0936356335033228, -0.2686300201689464, 0.7704305152906291, 1.9938798698875142, 1.3775740544428223, -0.3965660112358336, -0.3414272326891216, -0.1138789943091023, -0.21589954976034614, 0.3075242917985286, 0.6432017039579504, 0.08825291761810869, 1.5816130906771417]}, {\"line\": {\"color\": \"rgba(50, 171, 96, 1.0)\", \"dash\": \"solid\", \"shape\": \"linear\", \"width\": 1.3}, \"mode\": \"lines\", \"name\": \"C\", \"text\": \"\", \"type\": \"scatter\", \"x\": [0, 1, 2, 3, 4, 5, 6, 7, 8, 9, 10, 11, 12, 13, 14, 15, 16, 17, 18, 19, 20, 21, 22, 23, 24, 25, 26, 27, 28, 29, 30, 31, 32, 33, 34, 35, 36, 37, 38, 39, 40, 41, 42, 43, 44, 45, 46, 47, 48, 49, 50, 51, 52, 53, 54, 55, 56, 57, 58, 59, 60, 61, 62, 63, 64, 65, 66, 67, 68, 69, 70, 71, 72, 73, 74, 75, 76, 77, 78, 79, 80, 81, 82, 83, 84, 85, 86, 87, 88, 89, 90, 91, 92, 93, 94, 95, 96, 97, 98, 99], \"y\": [-0.04832900612696817, -2.0552643470456307, 1.23401808345776, 1.7622048722279813, 0.36558461414403454, 1.5271193614857776, -0.11698965638849242, 0.550877172276358, -0.18563025943375833, 1.4046676703240801, -0.8923087515065036, -0.13497956516275023, 0.0710977571789828, 1.0614963310633692, 0.7192133147377471, -0.7730472669486539, -0.7735920559571068, 1.3688275969976738, 0.9978091168302472, -0.14855973087387733, 1.4389636472969352, 0.463317487552831, 0.4057962919525643, 1.2409096014807675, -1.7981095491668768, -0.9737923820099355, -0.35343715695543854, -1.8431487538919407, -0.9635654940207634, -1.1123087567053498, 0.2671661522206472, 1.1624384050292622, -0.1671491618727415, 0.09287564079951659, 0.7719803507484746, 0.25083532191382685, -1.2609727534308801, 2.3558529106906345, -0.44250445937162747, -0.7467504601879799, -0.7198816365344325, -0.0339315665844702, 0.5497512879724022, -0.3480524571619145, 1.3768723354357362, 1.2502034702732656, -0.4012274215203553, -0.2897737272678843, -1.0084326249052749, -0.041878491458556794, 0.44192348379906643, -0.7067919348103693, -2.0158581243719778, 1.519170754551979, -0.1602334895148967, -0.31987479518621237, -0.6341683758785682, -0.781009411884995, -0.2340528015742706, 1.156470066863848, 0.46127659902382545, 0.5105671736507841, -2.189845693455042, 0.4432675837308323, -1.1516814536026996, 1.330748998222132, -0.6477011655976501, -0.026451195793421024, 0.7009205597371548, -0.31398659371351423, -0.027173796204393034, 0.7491544167403303, -1.9744604698376598, 0.8608338555104487, -0.661737329113762, -0.5835026639312187, 0.37539850136357034, 1.8791397847625453, 2.6984625358394454, 0.9477096198568582, 1.4705140165414279, -0.010514932472564067, 1.276061278128099, 1.0617667814236433, -2.512910427219062, 1.339337758066956, -0.09495253544489847, 0.11448683196821172, -1.230759772499085, 1.1776767045274097, -0.39700160277569996, -0.2847822529590679, -1.2984210140560033, -1.697273398143285, -0.03374651544880042, -1.347737876485818, 0.9598283623694468, 0.27478388842535423, 0.2146777232449316, 0.1567832074653066]}, {\"line\": {\"color\": \"rgba(128, 0, 128, 1.0)\", \"dash\": \"solid\", \"shape\": \"linear\", \"width\": 1.3}, \"mode\": \"lines\", \"name\": \"D\", \"text\": \"\", \"type\": \"scatter\", \"x\": [0, 1, 2, 3, 4, 5, 6, 7, 8, 9, 10, 11, 12, 13, 14, 15, 16, 17, 18, 19, 20, 21, 22, 23, 24, 25, 26, 27, 28, 29, 30, 31, 32, 33, 34, 35, 36, 37, 38, 39, 40, 41, 42, 43, 44, 45, 46, 47, 48, 49, 50, 51, 52, 53, 54, 55, 56, 57, 58, 59, 60, 61, 62, 63, 64, 65, 66, 67, 68, 69, 70, 71, 72, 73, 74, 75, 76, 77, 78, 79, 80, 81, 82, 83, 84, 85, 86, 87, 88, 89, 90, 91, 92, 93, 94, 95, 96, 97, 98, 99], \"y\": [-0.2877134611778512, -0.415408231157268, -0.6731520956489023, 0.11699835543967516, 0.46108847414264864, -2.075749395948886, 0.8134228721343691, -0.4171307815190678, 1.0482344785197288, -0.5629315106277006, 1.4045304971214088, -1.0036668984369883, -0.9863531301805152, -0.25807014173809195, 0.006645526873550916, -0.3653241514796089, 1.4836009543157784, 1.440594840565873, -0.4683992654901319, 1.0598744136647218, 0.44542094220103995, -1.3036291372168698, 0.4330958917310685, 1.098880423945254, 0.7912876255644647, -0.5153633833927447, 0.34099595343274336, 0.8289978197175643, 1.2860921268160947, 0.3368732252553157, -0.7886462598062345, -0.20660566142886636, -2.0332644633856414, -0.45084749186519113, 1.5395248206983076, 1.033488658632085, 0.4770679157842925, 1.5196634218257068, -1.2454550882900453, -0.49410816685358944, -1.9660433649871147, 0.2610976675087106, -1.3363618123521568, -0.8672949069980124, -1.358341898024915, 0.0985918064728073, 0.10822160952696296, -1.7743962812944087, -0.34752270013412295, -1.4942403930610262, 1.1235033870989883, 1.0245166435319117, -0.3864490739769507, -1.3471165599982078, 0.3706148647365652, -0.5162107363096655, 0.9760832195066462, -0.15633400980662576, -0.496568500607371, -0.5439552377990234, -0.8833587494428198, -0.38500838562199147, -0.34059551833802226, 2.555474453517577, -0.5489839462842704, 0.23018097576502303, -0.002817578108877567, -1.953011296752301, -0.6357711373245285, -1.1219490175131321, 0.07138034873712855, 0.5236003404531173, 0.932465243848728, -1.231077256495407, -0.1937006848204315, 1.4592991862128464, 1.546286129842861, -0.19601189357771362, 0.5391848728347883, -0.1427679427449153, 0.1805286690674597, 1.442595958836891, -0.9600127241696688, -0.4762769319570404, 0.5771531798071556, 1.2941334448093476, -1.0773538097917301, 0.47556825223577, -0.9752553106665932, -1.032965092659648, -1.1155748598027806, 0.25668015767886654, -0.8814739191660805, -0.22082829609725307, -1.3489726852465749, -0.5176821631863701, 0.9882380031744157, 0.24039272505477224, -0.21586922453230434, 0.2785582142140259]}],\n",
       "                        {\"legend\": {\"bgcolor\": \"#F5F6F9\", \"font\": {\"color\": \"#4D5663\"}}, \"paper_bgcolor\": \"#F5F6F9\", \"plot_bgcolor\": \"#F5F6F9\", \"template\": {\"data\": {\"bar\": [{\"error_x\": {\"color\": \"#2a3f5f\"}, \"error_y\": {\"color\": \"#2a3f5f\"}, \"marker\": {\"line\": {\"color\": \"#E5ECF6\", \"width\": 0.5}}, \"type\": \"bar\"}], \"barpolar\": [{\"marker\": {\"line\": {\"color\": \"#E5ECF6\", \"width\": 0.5}}, \"type\": \"barpolar\"}], \"carpet\": [{\"aaxis\": {\"endlinecolor\": \"#2a3f5f\", \"gridcolor\": \"white\", \"linecolor\": \"white\", \"minorgridcolor\": \"white\", \"startlinecolor\": \"#2a3f5f\"}, \"baxis\": {\"endlinecolor\": \"#2a3f5f\", \"gridcolor\": \"white\", \"linecolor\": \"white\", \"minorgridcolor\": \"white\", \"startlinecolor\": \"#2a3f5f\"}, \"type\": \"carpet\"}], \"choropleth\": [{\"colorbar\": {\"outlinewidth\": 0, \"ticks\": \"\"}, \"type\": \"choropleth\"}], \"contour\": [{\"colorbar\": {\"outlinewidth\": 0, \"ticks\": \"\"}, \"colorscale\": [[0.0, \"#0d0887\"], [0.1111111111111111, \"#46039f\"], [0.2222222222222222, \"#7201a8\"], [0.3333333333333333, \"#9c179e\"], [0.4444444444444444, \"#bd3786\"], [0.5555555555555556, \"#d8576b\"], [0.6666666666666666, \"#ed7953\"], [0.7777777777777778, \"#fb9f3a\"], [0.8888888888888888, \"#fdca26\"], [1.0, \"#f0f921\"]], \"type\": \"contour\"}], \"contourcarpet\": [{\"colorbar\": {\"outlinewidth\": 0, \"ticks\": \"\"}, \"type\": \"contourcarpet\"}], \"heatmap\": [{\"colorbar\": {\"outlinewidth\": 0, \"ticks\": \"\"}, \"colorscale\": [[0.0, \"#0d0887\"], [0.1111111111111111, \"#46039f\"], [0.2222222222222222, \"#7201a8\"], [0.3333333333333333, \"#9c179e\"], [0.4444444444444444, \"#bd3786\"], [0.5555555555555556, \"#d8576b\"], [0.6666666666666666, \"#ed7953\"], [0.7777777777777778, \"#fb9f3a\"], [0.8888888888888888, \"#fdca26\"], [1.0, \"#f0f921\"]], \"type\": \"heatmap\"}], \"heatmapgl\": [{\"colorbar\": {\"outlinewidth\": 0, \"ticks\": \"\"}, \"colorscale\": [[0.0, \"#0d0887\"], [0.1111111111111111, \"#46039f\"], [0.2222222222222222, \"#7201a8\"], [0.3333333333333333, \"#9c179e\"], [0.4444444444444444, \"#bd3786\"], [0.5555555555555556, \"#d8576b\"], [0.6666666666666666, \"#ed7953\"], [0.7777777777777778, \"#fb9f3a\"], [0.8888888888888888, \"#fdca26\"], [1.0, \"#f0f921\"]], \"type\": \"heatmapgl\"}], \"histogram\": [{\"marker\": {\"colorbar\": {\"outlinewidth\": 0, \"ticks\": \"\"}}, \"type\": \"histogram\"}], \"histogram2d\": [{\"colorbar\": {\"outlinewidth\": 0, \"ticks\": \"\"}, \"colorscale\": [[0.0, \"#0d0887\"], [0.1111111111111111, \"#46039f\"], [0.2222222222222222, \"#7201a8\"], [0.3333333333333333, \"#9c179e\"], [0.4444444444444444, \"#bd3786\"], [0.5555555555555556, \"#d8576b\"], [0.6666666666666666, \"#ed7953\"], [0.7777777777777778, \"#fb9f3a\"], [0.8888888888888888, \"#fdca26\"], [1.0, \"#f0f921\"]], \"type\": \"histogram2d\"}], \"histogram2dcontour\": [{\"colorbar\": {\"outlinewidth\": 0, \"ticks\": \"\"}, \"colorscale\": [[0.0, \"#0d0887\"], [0.1111111111111111, \"#46039f\"], [0.2222222222222222, \"#7201a8\"], [0.3333333333333333, \"#9c179e\"], [0.4444444444444444, \"#bd3786\"], [0.5555555555555556, \"#d8576b\"], [0.6666666666666666, \"#ed7953\"], [0.7777777777777778, \"#fb9f3a\"], [0.8888888888888888, \"#fdca26\"], [1.0, \"#f0f921\"]], \"type\": \"histogram2dcontour\"}], \"mesh3d\": [{\"colorbar\": {\"outlinewidth\": 0, \"ticks\": \"\"}, \"type\": \"mesh3d\"}], \"parcoords\": [{\"line\": {\"colorbar\": {\"outlinewidth\": 0, \"ticks\": \"\"}}, \"type\": \"parcoords\"}], \"pie\": [{\"automargin\": true, \"type\": \"pie\"}], \"scatter\": [{\"marker\": {\"colorbar\": {\"outlinewidth\": 0, \"ticks\": \"\"}}, \"type\": \"scatter\"}], \"scatter3d\": [{\"line\": {\"colorbar\": {\"outlinewidth\": 0, \"ticks\": \"\"}}, \"marker\": {\"colorbar\": {\"outlinewidth\": 0, \"ticks\": \"\"}}, \"type\": \"scatter3d\"}], \"scattercarpet\": [{\"marker\": {\"colorbar\": {\"outlinewidth\": 0, \"ticks\": \"\"}}, \"type\": \"scattercarpet\"}], \"scattergeo\": [{\"marker\": {\"colorbar\": {\"outlinewidth\": 0, \"ticks\": \"\"}}, \"type\": \"scattergeo\"}], \"scattergl\": [{\"marker\": {\"colorbar\": {\"outlinewidth\": 0, \"ticks\": \"\"}}, \"type\": \"scattergl\"}], \"scattermapbox\": [{\"marker\": {\"colorbar\": {\"outlinewidth\": 0, \"ticks\": \"\"}}, \"type\": \"scattermapbox\"}], \"scatterpolar\": [{\"marker\": {\"colorbar\": {\"outlinewidth\": 0, \"ticks\": \"\"}}, \"type\": \"scatterpolar\"}], \"scatterpolargl\": [{\"marker\": {\"colorbar\": {\"outlinewidth\": 0, \"ticks\": \"\"}}, \"type\": \"scatterpolargl\"}], \"scatterternary\": [{\"marker\": {\"colorbar\": {\"outlinewidth\": 0, \"ticks\": \"\"}}, \"type\": \"scatterternary\"}], \"surface\": [{\"colorbar\": {\"outlinewidth\": 0, \"ticks\": \"\"}, \"colorscale\": [[0.0, \"#0d0887\"], [0.1111111111111111, \"#46039f\"], [0.2222222222222222, \"#7201a8\"], [0.3333333333333333, \"#9c179e\"], [0.4444444444444444, \"#bd3786\"], [0.5555555555555556, \"#d8576b\"], [0.6666666666666666, \"#ed7953\"], [0.7777777777777778, \"#fb9f3a\"], [0.8888888888888888, \"#fdca26\"], [1.0, \"#f0f921\"]], \"type\": \"surface\"}], \"table\": [{\"cells\": {\"fill\": {\"color\": \"#EBF0F8\"}, \"line\": {\"color\": \"white\"}}, \"header\": {\"fill\": {\"color\": \"#C8D4E3\"}, \"line\": {\"color\": \"white\"}}, \"type\": \"table\"}]}, \"layout\": {\"annotationdefaults\": {\"arrowcolor\": \"#2a3f5f\", \"arrowhead\": 0, \"arrowwidth\": 1}, \"coloraxis\": {\"colorbar\": {\"outlinewidth\": 0, \"ticks\": \"\"}}, \"colorscale\": {\"diverging\": [[0, \"#8e0152\"], [0.1, \"#c51b7d\"], [0.2, \"#de77ae\"], [0.3, \"#f1b6da\"], [0.4, \"#fde0ef\"], [0.5, \"#f7f7f7\"], [0.6, \"#e6f5d0\"], [0.7, \"#b8e186\"], [0.8, \"#7fbc41\"], [0.9, \"#4d9221\"], [1, \"#276419\"]], \"sequential\": [[0.0, \"#0d0887\"], [0.1111111111111111, \"#46039f\"], [0.2222222222222222, \"#7201a8\"], [0.3333333333333333, \"#9c179e\"], [0.4444444444444444, \"#bd3786\"], [0.5555555555555556, \"#d8576b\"], [0.6666666666666666, \"#ed7953\"], [0.7777777777777778, \"#fb9f3a\"], [0.8888888888888888, \"#fdca26\"], [1.0, \"#f0f921\"]], \"sequentialminus\": [[0.0, \"#0d0887\"], [0.1111111111111111, \"#46039f\"], [0.2222222222222222, \"#7201a8\"], [0.3333333333333333, \"#9c179e\"], [0.4444444444444444, \"#bd3786\"], [0.5555555555555556, \"#d8576b\"], [0.6666666666666666, \"#ed7953\"], [0.7777777777777778, \"#fb9f3a\"], [0.8888888888888888, \"#fdca26\"], [1.0, \"#f0f921\"]]}, \"colorway\": [\"#636efa\", \"#EF553B\", \"#00cc96\", \"#ab63fa\", \"#FFA15A\", \"#19d3f3\", \"#FF6692\", \"#B6E880\", \"#FF97FF\", \"#FECB52\"], \"font\": {\"color\": \"#2a3f5f\"}, \"geo\": {\"bgcolor\": \"white\", \"lakecolor\": \"white\", \"landcolor\": \"#E5ECF6\", \"showlakes\": true, \"showland\": true, \"subunitcolor\": \"white\"}, \"hoverlabel\": {\"align\": \"left\"}, \"hovermode\": \"closest\", \"mapbox\": {\"style\": \"light\"}, \"paper_bgcolor\": \"white\", \"plot_bgcolor\": \"#E5ECF6\", \"polar\": {\"angularaxis\": {\"gridcolor\": \"white\", \"linecolor\": \"white\", \"ticks\": \"\"}, \"bgcolor\": \"#E5ECF6\", \"radialaxis\": {\"gridcolor\": \"white\", \"linecolor\": \"white\", \"ticks\": \"\"}}, \"scene\": {\"xaxis\": {\"backgroundcolor\": \"#E5ECF6\", \"gridcolor\": \"white\", \"gridwidth\": 2, \"linecolor\": \"white\", \"showbackground\": true, \"ticks\": \"\", \"zerolinecolor\": \"white\"}, \"yaxis\": {\"backgroundcolor\": \"#E5ECF6\", \"gridcolor\": \"white\", \"gridwidth\": 2, \"linecolor\": \"white\", \"showbackground\": true, \"ticks\": \"\", \"zerolinecolor\": \"white\"}, \"zaxis\": {\"backgroundcolor\": \"#E5ECF6\", \"gridcolor\": \"white\", \"gridwidth\": 2, \"linecolor\": \"white\", \"showbackground\": true, \"ticks\": \"\", \"zerolinecolor\": \"white\"}}, \"shapedefaults\": {\"line\": {\"color\": \"#2a3f5f\"}}, \"ternary\": {\"aaxis\": {\"gridcolor\": \"white\", \"linecolor\": \"white\", \"ticks\": \"\"}, \"baxis\": {\"gridcolor\": \"white\", \"linecolor\": \"white\", \"ticks\": \"\"}, \"bgcolor\": \"#E5ECF6\", \"caxis\": {\"gridcolor\": \"white\", \"linecolor\": \"white\", \"ticks\": \"\"}}, \"title\": {\"x\": 0.05}, \"xaxis\": {\"automargin\": true, \"gridcolor\": \"white\", \"linecolor\": \"white\", \"ticks\": \"\", \"title\": {\"standoff\": 15}, \"zerolinecolor\": \"white\", \"zerolinewidth\": 2}, \"yaxis\": {\"automargin\": true, \"gridcolor\": \"white\", \"linecolor\": \"white\", \"ticks\": \"\", \"title\": {\"standoff\": 15}, \"zerolinecolor\": \"white\", \"zerolinewidth\": 2}}}, \"title\": {\"font\": {\"color\": \"#4D5663\"}}, \"xaxis\": {\"gridcolor\": \"#E1E5ED\", \"showgrid\": true, \"tickfont\": {\"color\": \"#4D5663\"}, \"title\": {\"font\": {\"color\": \"#4D5663\"}, \"text\": \"\"}, \"zerolinecolor\": \"#E1E5ED\"}, \"yaxis\": {\"gridcolor\": \"#E1E5ED\", \"showgrid\": true, \"tickfont\": {\"color\": \"#4D5663\"}, \"title\": {\"font\": {\"color\": \"#4D5663\"}, \"text\": \"\"}, \"zerolinecolor\": \"#E1E5ED\"}},\n",
       "                        {\"showLink\": true, \"linkText\": \"Export to plot.ly\", \"plotlyServerURL\": \"https://plot.ly\", \"responsive\": true}\n",
       "                    ).then(function(){\n",
       "                            \n",
       "var gd = document.getElementById('66e7e9a2-26a7-4635-ac4c-2542d1f96c3d');\n",
       "var x = new MutationObserver(function (mutations, observer) {{\n",
       "        var display = window.getComputedStyle(gd).display;\n",
       "        if (!display || display === 'none') {{\n",
       "            console.log([gd, 'removed!']);\n",
       "            Plotly.purge(gd);\n",
       "            observer.disconnect();\n",
       "        }}\n",
       "}});\n",
       "\n",
       "// Listen for the removal of the full notebook cells\n",
       "var notebookContainer = gd.closest('#notebook-container');\n",
       "if (notebookContainer) {{\n",
       "    x.observe(notebookContainer, {childList: true});\n",
       "}}\n",
       "\n",
       "// Listen for the clearing of the current output cell\n",
       "var outputEl = gd.closest('.output');\n",
       "if (outputEl) {{\n",
       "    x.observe(outputEl, {childList: true});\n",
       "}}\n",
       "\n",
       "                        })\n",
       "                };\n",
       "                });\n",
       "            </script>\n",
       "        </div>"
      ]
     },
     "metadata": {},
     "output_type": "display_data"
    }
   ],
   "source": [
    "df.iplot()"
   ]
  },
  {
   "cell_type": "code",
   "execution_count": 45,
   "metadata": {},
   "outputs": [
    {
     "data": {
      "application/vnd.plotly.v1+json": {
       "config": {
        "linkText": "Export to plot.ly",
        "plotlyServerURL": "https://plot.ly",
        "showLink": true
       },
       "data": [
        {
         "line": {
          "color": "rgba(255, 153, 51, 1.0)",
          "dash": "solid",
          "shape": "linear",
          "width": 1.3
         },
         "marker": {
          "size": 12,
          "symbol": "circle"
         },
         "mode": "markers",
         "name": "B",
         "text": "",
         "type": "scatter",
         "x": [
          1.0568048367540321,
          -1.3498353277992474,
          -0.016590310967857964,
          0.35660732790600963,
          1.0193834962395287,
          0.8491903166284471,
          -0.270898010060361,
          -0.392709340199791,
          -2.7680493355073525,
          -0.9598449509727272,
          0.02486210535174598,
          -0.08209894073442042,
          1.3004359980675626,
          -1.58538400423906,
          0.0669781081316911,
          0.640025802146375,
          -0.21302066961046895,
          -1.235796292702241,
          -0.1309253051050104,
          -0.31643267250308843,
          0.03258708757811836,
          -0.3380255243770623,
          -0.22179719829268574,
          -0.46447982740594784,
          -0.7481879251469615,
          -1.8848112593418178,
          1.091188842324186,
          -1.002344407821016,
          0.3490115434488426,
          -1.0674123492812189,
          -0.6698990082688834,
          -0.5799795584411399,
          -0.06921656663627403,
          -1.6351975314526448,
          0.7106115831459313,
          1.194971214763005,
          0.11625479261911345,
          -1.934252919633813,
          0.11913041768822805,
          0.11132345496649837,
          1.389596749030748,
          -1.2171163369994655,
          1.2045581848905342,
          0.5820052642283193,
          -1.708114214802915,
          1.506653156239142,
          -0.9254490674897976,
          1.2409940264229145,
          0.2074483106758396,
          -1.3596588313168947,
          -2.390481486655998,
          -1.4566179541064537,
          -0.1836022258305617,
          -0.21501553404228868,
          -0.29215975665065563,
          1.6432342936542375,
          -0.07861297341559388,
          -2.19928517475691,
          0.7440934149815865,
          -1.184472526598871,
          -1.2162389598474177,
          0.1884059181021502,
          -1.5723531833999829,
          -1.3997371771754998,
          1.1481860646913822,
          -0.9789763321605593,
          -1.9138376620999613,
          -0.6331452017050753,
          0.7740822611022451,
          0.5258410109353289,
          0.819021535691631,
          -1.2739877143475504,
          -0.4999464290112291,
          -0.11030684358193382,
          0.2888305237105291,
          -0.5203727627946619,
          0.05106433226799674,
          -0.5982765768873508,
          0.9655105887234117,
          1.435008557832391,
          0.4183410289076339,
          1.7880526163669672,
          0.3332612477805044,
          -0.46462131549385466,
          -0.7495203318644134,
          0.8658306751167946,
          -0.7008970126949282,
          -1.2842726652184249,
          -0.4759677234328119,
          -1.215534764436904,
          -0.4894621529285363,
          1.2034829395601145,
          -1.8424285969117682,
          -1.0479601268610481,
          1.2913471557834049,
          -0.5675730197363626,
          0.4706223082609923,
          0.8438922504243296,
          0.2755981536419486,
          -0.5314784299117727
         ],
         "y": [
          0.48107134908112026,
          -1.6795123804935181,
          -1.407520137520341,
          0.6956647126875344,
          -0.8244186266256153,
          0.4651753314936174,
          1.3326443659961662,
          0.6712892112247183,
          -0.03678809166099367,
          -0.37571841568415526,
          -1.0933104414806638,
          1.0244520712000555,
          -1.6774374423985707,
          0.27825921049731706,
          -0.10656048173528182,
          -0.16266515491632585,
          -1.477859361988607,
          0.5755268284581758,
          -0.9848408514619815,
          1.1337930138402854,
          -2.1093063248932107,
          0.6732453387771199,
          1.0304751255639024,
          1.3442197800221123,
          -1.2994725083624141,
          0.24770923969024355,
          0.38001451435852873,
          0.6510217733836621,
          -1.334809357106278,
          -0.32591102686090045,
          0.33883289533284516,
          -0.6396342151768055,
          0.962462618516548,
          -0.3296481883115337,
          1.0539582266267544,
          -0.48849257687259584,
          -0.32932544514589285,
          -1.4021026631022075,
          0.4399519109122479,
          0.8165453632315621,
          0.17029682658018525,
          -1.539884876142449,
          -0.5290558912633045,
          -0.8862205911488811,
          1.503260759181969,
          1.2904641364329443,
          0.817464070671576,
          0.25455108264994014,
          0.6612696163441858,
          0.6148495307606112,
          -0.2443472940420814,
          -0.1502214269589789,
          0.29709144796356207,
          0.26233398363187316,
          -1.3859941884922815,
          -0.45976975796464326,
          0.17877088761322477,
          -1.7265360004559602,
          -0.2101124096705694,
          -2.1667428687019026,
          0.18014866395562953,
          0.17096478975414062,
          -0.6964272661332754,
          1.3526202915153194,
          0.8585059112481627,
          -0.472753727105893,
          1.5100650061692027,
          0.4439906420214673,
          -1.465584592157141,
          -0.8229300005118391,
          1.5114509544733574,
          0.5364040103244894,
          -0.6760154676033024,
          -0.12257777263745659,
          -0.028732704593448222,
          -1.6222251014678108,
          1.2862804917367132,
          0.15023697198365754,
          1.6432990060257577,
          -0.9471220749054257,
          -0.9861439162556745,
          0.9130666364117548,
          0.1790282336824031,
          1.6077357010516404,
          1.203379636178235,
          -0.8228046441290212,
          -1.8235900825357745,
          -1.0936356335033228,
          -0.2686300201689464,
          0.7704305152906291,
          1.9938798698875142,
          1.3775740544428223,
          -0.3965660112358336,
          -0.3414272326891216,
          -0.1138789943091023,
          -0.21589954976034614,
          0.3075242917985286,
          0.6432017039579504,
          0.08825291761810869,
          1.5816130906771417
         ]
        }
       ],
       "layout": {
        "legend": {
         "bgcolor": "#F5F6F9",
         "font": {
          "color": "#4D5663"
         }
        },
        "paper_bgcolor": "#F5F6F9",
        "plot_bgcolor": "#F5F6F9",
        "template": {
         "data": {
          "bar": [
           {
            "error_x": {
             "color": "#2a3f5f"
            },
            "error_y": {
             "color": "#2a3f5f"
            },
            "marker": {
             "line": {
              "color": "#E5ECF6",
              "width": 0.5
             }
            },
            "type": "bar"
           }
          ],
          "barpolar": [
           {
            "marker": {
             "line": {
              "color": "#E5ECF6",
              "width": 0.5
             }
            },
            "type": "barpolar"
           }
          ],
          "carpet": [
           {
            "aaxis": {
             "endlinecolor": "#2a3f5f",
             "gridcolor": "white",
             "linecolor": "white",
             "minorgridcolor": "white",
             "startlinecolor": "#2a3f5f"
            },
            "baxis": {
             "endlinecolor": "#2a3f5f",
             "gridcolor": "white",
             "linecolor": "white",
             "minorgridcolor": "white",
             "startlinecolor": "#2a3f5f"
            },
            "type": "carpet"
           }
          ],
          "choropleth": [
           {
            "colorbar": {
             "outlinewidth": 0,
             "ticks": ""
            },
            "type": "choropleth"
           }
          ],
          "contour": [
           {
            "colorbar": {
             "outlinewidth": 0,
             "ticks": ""
            },
            "colorscale": [
             [
              0,
              "#0d0887"
             ],
             [
              0.1111111111111111,
              "#46039f"
             ],
             [
              0.2222222222222222,
              "#7201a8"
             ],
             [
              0.3333333333333333,
              "#9c179e"
             ],
             [
              0.4444444444444444,
              "#bd3786"
             ],
             [
              0.5555555555555556,
              "#d8576b"
             ],
             [
              0.6666666666666666,
              "#ed7953"
             ],
             [
              0.7777777777777778,
              "#fb9f3a"
             ],
             [
              0.8888888888888888,
              "#fdca26"
             ],
             [
              1,
              "#f0f921"
             ]
            ],
            "type": "contour"
           }
          ],
          "contourcarpet": [
           {
            "colorbar": {
             "outlinewidth": 0,
             "ticks": ""
            },
            "type": "contourcarpet"
           }
          ],
          "heatmap": [
           {
            "colorbar": {
             "outlinewidth": 0,
             "ticks": ""
            },
            "colorscale": [
             [
              0,
              "#0d0887"
             ],
             [
              0.1111111111111111,
              "#46039f"
             ],
             [
              0.2222222222222222,
              "#7201a8"
             ],
             [
              0.3333333333333333,
              "#9c179e"
             ],
             [
              0.4444444444444444,
              "#bd3786"
             ],
             [
              0.5555555555555556,
              "#d8576b"
             ],
             [
              0.6666666666666666,
              "#ed7953"
             ],
             [
              0.7777777777777778,
              "#fb9f3a"
             ],
             [
              0.8888888888888888,
              "#fdca26"
             ],
             [
              1,
              "#f0f921"
             ]
            ],
            "type": "heatmap"
           }
          ],
          "heatmapgl": [
           {
            "colorbar": {
             "outlinewidth": 0,
             "ticks": ""
            },
            "colorscale": [
             [
              0,
              "#0d0887"
             ],
             [
              0.1111111111111111,
              "#46039f"
             ],
             [
              0.2222222222222222,
              "#7201a8"
             ],
             [
              0.3333333333333333,
              "#9c179e"
             ],
             [
              0.4444444444444444,
              "#bd3786"
             ],
             [
              0.5555555555555556,
              "#d8576b"
             ],
             [
              0.6666666666666666,
              "#ed7953"
             ],
             [
              0.7777777777777778,
              "#fb9f3a"
             ],
             [
              0.8888888888888888,
              "#fdca26"
             ],
             [
              1,
              "#f0f921"
             ]
            ],
            "type": "heatmapgl"
           }
          ],
          "histogram": [
           {
            "marker": {
             "colorbar": {
              "outlinewidth": 0,
              "ticks": ""
             }
            },
            "type": "histogram"
           }
          ],
          "histogram2d": [
           {
            "colorbar": {
             "outlinewidth": 0,
             "ticks": ""
            },
            "colorscale": [
             [
              0,
              "#0d0887"
             ],
             [
              0.1111111111111111,
              "#46039f"
             ],
             [
              0.2222222222222222,
              "#7201a8"
             ],
             [
              0.3333333333333333,
              "#9c179e"
             ],
             [
              0.4444444444444444,
              "#bd3786"
             ],
             [
              0.5555555555555556,
              "#d8576b"
             ],
             [
              0.6666666666666666,
              "#ed7953"
             ],
             [
              0.7777777777777778,
              "#fb9f3a"
             ],
             [
              0.8888888888888888,
              "#fdca26"
             ],
             [
              1,
              "#f0f921"
             ]
            ],
            "type": "histogram2d"
           }
          ],
          "histogram2dcontour": [
           {
            "colorbar": {
             "outlinewidth": 0,
             "ticks": ""
            },
            "colorscale": [
             [
              0,
              "#0d0887"
             ],
             [
              0.1111111111111111,
              "#46039f"
             ],
             [
              0.2222222222222222,
              "#7201a8"
             ],
             [
              0.3333333333333333,
              "#9c179e"
             ],
             [
              0.4444444444444444,
              "#bd3786"
             ],
             [
              0.5555555555555556,
              "#d8576b"
             ],
             [
              0.6666666666666666,
              "#ed7953"
             ],
             [
              0.7777777777777778,
              "#fb9f3a"
             ],
             [
              0.8888888888888888,
              "#fdca26"
             ],
             [
              1,
              "#f0f921"
             ]
            ],
            "type": "histogram2dcontour"
           }
          ],
          "mesh3d": [
           {
            "colorbar": {
             "outlinewidth": 0,
             "ticks": ""
            },
            "type": "mesh3d"
           }
          ],
          "parcoords": [
           {
            "line": {
             "colorbar": {
              "outlinewidth": 0,
              "ticks": ""
             }
            },
            "type": "parcoords"
           }
          ],
          "pie": [
           {
            "automargin": true,
            "type": "pie"
           }
          ],
          "scatter": [
           {
            "marker": {
             "colorbar": {
              "outlinewidth": 0,
              "ticks": ""
             }
            },
            "type": "scatter"
           }
          ],
          "scatter3d": [
           {
            "line": {
             "colorbar": {
              "outlinewidth": 0,
              "ticks": ""
             }
            },
            "marker": {
             "colorbar": {
              "outlinewidth": 0,
              "ticks": ""
             }
            },
            "type": "scatter3d"
           }
          ],
          "scattercarpet": [
           {
            "marker": {
             "colorbar": {
              "outlinewidth": 0,
              "ticks": ""
             }
            },
            "type": "scattercarpet"
           }
          ],
          "scattergeo": [
           {
            "marker": {
             "colorbar": {
              "outlinewidth": 0,
              "ticks": ""
             }
            },
            "type": "scattergeo"
           }
          ],
          "scattergl": [
           {
            "marker": {
             "colorbar": {
              "outlinewidth": 0,
              "ticks": ""
             }
            },
            "type": "scattergl"
           }
          ],
          "scattermapbox": [
           {
            "marker": {
             "colorbar": {
              "outlinewidth": 0,
              "ticks": ""
             }
            },
            "type": "scattermapbox"
           }
          ],
          "scatterpolar": [
           {
            "marker": {
             "colorbar": {
              "outlinewidth": 0,
              "ticks": ""
             }
            },
            "type": "scatterpolar"
           }
          ],
          "scatterpolargl": [
           {
            "marker": {
             "colorbar": {
              "outlinewidth": 0,
              "ticks": ""
             }
            },
            "type": "scatterpolargl"
           }
          ],
          "scatterternary": [
           {
            "marker": {
             "colorbar": {
              "outlinewidth": 0,
              "ticks": ""
             }
            },
            "type": "scatterternary"
           }
          ],
          "surface": [
           {
            "colorbar": {
             "outlinewidth": 0,
             "ticks": ""
            },
            "colorscale": [
             [
              0,
              "#0d0887"
             ],
             [
              0.1111111111111111,
              "#46039f"
             ],
             [
              0.2222222222222222,
              "#7201a8"
             ],
             [
              0.3333333333333333,
              "#9c179e"
             ],
             [
              0.4444444444444444,
              "#bd3786"
             ],
             [
              0.5555555555555556,
              "#d8576b"
             ],
             [
              0.6666666666666666,
              "#ed7953"
             ],
             [
              0.7777777777777778,
              "#fb9f3a"
             ],
             [
              0.8888888888888888,
              "#fdca26"
             ],
             [
              1,
              "#f0f921"
             ]
            ],
            "type": "surface"
           }
          ],
          "table": [
           {
            "cells": {
             "fill": {
              "color": "#EBF0F8"
             },
             "line": {
              "color": "white"
             }
            },
            "header": {
             "fill": {
              "color": "#C8D4E3"
             },
             "line": {
              "color": "white"
             }
            },
            "type": "table"
           }
          ]
         },
         "layout": {
          "annotationdefaults": {
           "arrowcolor": "#2a3f5f",
           "arrowhead": 0,
           "arrowwidth": 1
          },
          "coloraxis": {
           "colorbar": {
            "outlinewidth": 0,
            "ticks": ""
           }
          },
          "colorscale": {
           "diverging": [
            [
             0,
             "#8e0152"
            ],
            [
             0.1,
             "#c51b7d"
            ],
            [
             0.2,
             "#de77ae"
            ],
            [
             0.3,
             "#f1b6da"
            ],
            [
             0.4,
             "#fde0ef"
            ],
            [
             0.5,
             "#f7f7f7"
            ],
            [
             0.6,
             "#e6f5d0"
            ],
            [
             0.7,
             "#b8e186"
            ],
            [
             0.8,
             "#7fbc41"
            ],
            [
             0.9,
             "#4d9221"
            ],
            [
             1,
             "#276419"
            ]
           ],
           "sequential": [
            [
             0,
             "#0d0887"
            ],
            [
             0.1111111111111111,
             "#46039f"
            ],
            [
             0.2222222222222222,
             "#7201a8"
            ],
            [
             0.3333333333333333,
             "#9c179e"
            ],
            [
             0.4444444444444444,
             "#bd3786"
            ],
            [
             0.5555555555555556,
             "#d8576b"
            ],
            [
             0.6666666666666666,
             "#ed7953"
            ],
            [
             0.7777777777777778,
             "#fb9f3a"
            ],
            [
             0.8888888888888888,
             "#fdca26"
            ],
            [
             1,
             "#f0f921"
            ]
           ],
           "sequentialminus": [
            [
             0,
             "#0d0887"
            ],
            [
             0.1111111111111111,
             "#46039f"
            ],
            [
             0.2222222222222222,
             "#7201a8"
            ],
            [
             0.3333333333333333,
             "#9c179e"
            ],
            [
             0.4444444444444444,
             "#bd3786"
            ],
            [
             0.5555555555555556,
             "#d8576b"
            ],
            [
             0.6666666666666666,
             "#ed7953"
            ],
            [
             0.7777777777777778,
             "#fb9f3a"
            ],
            [
             0.8888888888888888,
             "#fdca26"
            ],
            [
             1,
             "#f0f921"
            ]
           ]
          },
          "colorway": [
           "#636efa",
           "#EF553B",
           "#00cc96",
           "#ab63fa",
           "#FFA15A",
           "#19d3f3",
           "#FF6692",
           "#B6E880",
           "#FF97FF",
           "#FECB52"
          ],
          "font": {
           "color": "#2a3f5f"
          },
          "geo": {
           "bgcolor": "white",
           "lakecolor": "white",
           "landcolor": "#E5ECF6",
           "showlakes": true,
           "showland": true,
           "subunitcolor": "white"
          },
          "hoverlabel": {
           "align": "left"
          },
          "hovermode": "closest",
          "mapbox": {
           "style": "light"
          },
          "paper_bgcolor": "white",
          "plot_bgcolor": "#E5ECF6",
          "polar": {
           "angularaxis": {
            "gridcolor": "white",
            "linecolor": "white",
            "ticks": ""
           },
           "bgcolor": "#E5ECF6",
           "radialaxis": {
            "gridcolor": "white",
            "linecolor": "white",
            "ticks": ""
           }
          },
          "scene": {
           "xaxis": {
            "backgroundcolor": "#E5ECF6",
            "gridcolor": "white",
            "gridwidth": 2,
            "linecolor": "white",
            "showbackground": true,
            "ticks": "",
            "zerolinecolor": "white"
           },
           "yaxis": {
            "backgroundcolor": "#E5ECF6",
            "gridcolor": "white",
            "gridwidth": 2,
            "linecolor": "white",
            "showbackground": true,
            "ticks": "",
            "zerolinecolor": "white"
           },
           "zaxis": {
            "backgroundcolor": "#E5ECF6",
            "gridcolor": "white",
            "gridwidth": 2,
            "linecolor": "white",
            "showbackground": true,
            "ticks": "",
            "zerolinecolor": "white"
           }
          },
          "shapedefaults": {
           "line": {
            "color": "#2a3f5f"
           }
          },
          "ternary": {
           "aaxis": {
            "gridcolor": "white",
            "linecolor": "white",
            "ticks": ""
           },
           "baxis": {
            "gridcolor": "white",
            "linecolor": "white",
            "ticks": ""
           },
           "bgcolor": "#E5ECF6",
           "caxis": {
            "gridcolor": "white",
            "linecolor": "white",
            "ticks": ""
           }
          },
          "title": {
           "x": 0.05
          },
          "xaxis": {
           "automargin": true,
           "gridcolor": "white",
           "linecolor": "white",
           "ticks": "",
           "title": {
            "standoff": 15
           },
           "zerolinecolor": "white",
           "zerolinewidth": 2
          },
          "yaxis": {
           "automargin": true,
           "gridcolor": "white",
           "linecolor": "white",
           "ticks": "",
           "title": {
            "standoff": 15
           },
           "zerolinecolor": "white",
           "zerolinewidth": 2
          }
         }
        },
        "title": {
         "font": {
          "color": "#4D5663"
         }
        },
        "xaxis": {
         "gridcolor": "#E1E5ED",
         "showgrid": true,
         "tickfont": {
          "color": "#4D5663"
         },
         "title": {
          "font": {
           "color": "#4D5663"
          },
          "text": ""
         },
         "zerolinecolor": "#E1E5ED"
        },
        "yaxis": {
         "gridcolor": "#E1E5ED",
         "showgrid": true,
         "tickfont": {
          "color": "#4D5663"
         },
         "title": {
          "font": {
           "color": "#4D5663"
          },
          "text": ""
         },
         "zerolinecolor": "#E1E5ED"
        }
       }
      },
      "text/html": [
       "<div>\n",
       "        \n",
       "        \n",
       "            <div id=\"fc334867-063c-438a-9f04-8bd0bcb1302b\" class=\"plotly-graph-div\" style=\"height:525px; width:100%;\"></div>\n",
       "            <script type=\"text/javascript\">\n",
       "                require([\"plotly\"], function(Plotly) {\n",
       "                    window.PLOTLYENV=window.PLOTLYENV || {};\n",
       "                    window.PLOTLYENV.BASE_URL='https://plot.ly';\n",
       "                    \n",
       "                if (document.getElementById(\"fc334867-063c-438a-9f04-8bd0bcb1302b\")) {\n",
       "                    Plotly.newPlot(\n",
       "                        'fc334867-063c-438a-9f04-8bd0bcb1302b',\n",
       "                        [{\"line\": {\"color\": \"rgba(255, 153, 51, 1.0)\", \"dash\": \"solid\", \"shape\": \"linear\", \"width\": 1.3}, \"marker\": {\"size\": 12, \"symbol\": \"circle\"}, \"mode\": \"markers\", \"name\": \"B\", \"text\": \"\", \"type\": \"scatter\", \"x\": [1.0568048367540321, -1.3498353277992474, -0.016590310967857964, 0.35660732790600963, 1.0193834962395287, 0.8491903166284471, -0.270898010060361, -0.392709340199791, -2.7680493355073525, -0.9598449509727272, 0.02486210535174598, -0.08209894073442042, 1.3004359980675626, -1.58538400423906, 0.0669781081316911, 0.640025802146375, -0.21302066961046895, -1.235796292702241, -0.1309253051050104, -0.31643267250308843, 0.03258708757811836, -0.3380255243770623, -0.22179719829268574, -0.46447982740594784, -0.7481879251469615, -1.8848112593418178, 1.091188842324186, -1.002344407821016, 0.3490115434488426, -1.0674123492812189, -0.6698990082688834, -0.5799795584411399, -0.06921656663627403, -1.6351975314526448, 0.7106115831459313, 1.194971214763005, 0.11625479261911345, -1.934252919633813, 0.11913041768822805, 0.11132345496649837, 1.389596749030748, -1.2171163369994655, 1.2045581848905342, 0.5820052642283193, -1.708114214802915, 1.506653156239142, -0.9254490674897976, 1.2409940264229145, 0.2074483106758396, -1.3596588313168947, -2.390481486655998, -1.4566179541064537, -0.1836022258305617, -0.21501553404228868, -0.29215975665065563, 1.6432342936542375, -0.07861297341559388, -2.19928517475691, 0.7440934149815865, -1.184472526598871, -1.2162389598474177, 0.1884059181021502, -1.5723531833999829, -1.3997371771754998, 1.1481860646913822, -0.9789763321605593, -1.9138376620999613, -0.6331452017050753, 0.7740822611022451, 0.5258410109353289, 0.819021535691631, -1.2739877143475504, -0.4999464290112291, -0.11030684358193382, 0.2888305237105291, -0.5203727627946619, 0.05106433226799674, -0.5982765768873508, 0.9655105887234117, 1.435008557832391, 0.4183410289076339, 1.7880526163669672, 0.3332612477805044, -0.46462131549385466, -0.7495203318644134, 0.8658306751167946, -0.7008970126949282, -1.2842726652184249, -0.4759677234328119, -1.215534764436904, -0.4894621529285363, 1.2034829395601145, -1.8424285969117682, -1.0479601268610481, 1.2913471557834049, -0.5675730197363626, 0.4706223082609923, 0.8438922504243296, 0.2755981536419486, -0.5314784299117727], \"y\": [0.48107134908112026, -1.6795123804935181, -1.407520137520341, 0.6956647126875344, -0.8244186266256153, 0.4651753314936174, 1.3326443659961662, 0.6712892112247183, -0.03678809166099367, -0.37571841568415526, -1.0933104414806638, 1.0244520712000555, -1.6774374423985707, 0.27825921049731706, -0.10656048173528182, -0.16266515491632585, -1.477859361988607, 0.5755268284581758, -0.9848408514619815, 1.1337930138402854, -2.1093063248932107, 0.6732453387771199, 1.0304751255639024, 1.3442197800221123, -1.2994725083624141, 0.24770923969024355, 0.38001451435852873, 0.6510217733836621, -1.334809357106278, -0.32591102686090045, 0.33883289533284516, -0.6396342151768055, 0.962462618516548, -0.3296481883115337, 1.0539582266267544, -0.48849257687259584, -0.32932544514589285, -1.4021026631022075, 0.4399519109122479, 0.8165453632315621, 0.17029682658018525, -1.539884876142449, -0.5290558912633045, -0.8862205911488811, 1.503260759181969, 1.2904641364329443, 0.817464070671576, 0.25455108264994014, 0.6612696163441858, 0.6148495307606112, -0.2443472940420814, -0.1502214269589789, 0.29709144796356207, 0.26233398363187316, -1.3859941884922815, -0.45976975796464326, 0.17877088761322477, -1.7265360004559602, -0.2101124096705694, -2.1667428687019026, 0.18014866395562953, 0.17096478975414062, -0.6964272661332754, 1.3526202915153194, 0.8585059112481627, -0.472753727105893, 1.5100650061692027, 0.4439906420214673, -1.465584592157141, -0.8229300005118391, 1.5114509544733574, 0.5364040103244894, -0.6760154676033024, -0.12257777263745659, -0.028732704593448222, -1.6222251014678108, 1.2862804917367132, 0.15023697198365754, 1.6432990060257577, -0.9471220749054257, -0.9861439162556745, 0.9130666364117548, 0.1790282336824031, 1.6077357010516404, 1.203379636178235, -0.8228046441290212, -1.8235900825357745, -1.0936356335033228, -0.2686300201689464, 0.7704305152906291, 1.9938798698875142, 1.3775740544428223, -0.3965660112358336, -0.3414272326891216, -0.1138789943091023, -0.21589954976034614, 0.3075242917985286, 0.6432017039579504, 0.08825291761810869, 1.5816130906771417]}],\n",
       "                        {\"legend\": {\"bgcolor\": \"#F5F6F9\", \"font\": {\"color\": \"#4D5663\"}}, \"paper_bgcolor\": \"#F5F6F9\", \"plot_bgcolor\": \"#F5F6F9\", \"template\": {\"data\": {\"bar\": [{\"error_x\": {\"color\": \"#2a3f5f\"}, \"error_y\": {\"color\": \"#2a3f5f\"}, \"marker\": {\"line\": {\"color\": \"#E5ECF6\", \"width\": 0.5}}, \"type\": \"bar\"}], \"barpolar\": [{\"marker\": {\"line\": {\"color\": \"#E5ECF6\", \"width\": 0.5}}, \"type\": \"barpolar\"}], \"carpet\": [{\"aaxis\": {\"endlinecolor\": \"#2a3f5f\", \"gridcolor\": \"white\", \"linecolor\": \"white\", \"minorgridcolor\": \"white\", \"startlinecolor\": \"#2a3f5f\"}, \"baxis\": {\"endlinecolor\": \"#2a3f5f\", \"gridcolor\": \"white\", \"linecolor\": \"white\", \"minorgridcolor\": \"white\", \"startlinecolor\": \"#2a3f5f\"}, \"type\": \"carpet\"}], \"choropleth\": [{\"colorbar\": {\"outlinewidth\": 0, \"ticks\": \"\"}, \"type\": \"choropleth\"}], \"contour\": [{\"colorbar\": {\"outlinewidth\": 0, \"ticks\": \"\"}, \"colorscale\": [[0.0, \"#0d0887\"], [0.1111111111111111, \"#46039f\"], [0.2222222222222222, \"#7201a8\"], [0.3333333333333333, \"#9c179e\"], [0.4444444444444444, \"#bd3786\"], [0.5555555555555556, \"#d8576b\"], [0.6666666666666666, \"#ed7953\"], [0.7777777777777778, \"#fb9f3a\"], [0.8888888888888888, \"#fdca26\"], [1.0, \"#f0f921\"]], \"type\": \"contour\"}], \"contourcarpet\": [{\"colorbar\": {\"outlinewidth\": 0, \"ticks\": \"\"}, \"type\": \"contourcarpet\"}], \"heatmap\": [{\"colorbar\": {\"outlinewidth\": 0, \"ticks\": \"\"}, \"colorscale\": [[0.0, \"#0d0887\"], [0.1111111111111111, \"#46039f\"], [0.2222222222222222, \"#7201a8\"], [0.3333333333333333, \"#9c179e\"], [0.4444444444444444, \"#bd3786\"], [0.5555555555555556, \"#d8576b\"], [0.6666666666666666, \"#ed7953\"], [0.7777777777777778, \"#fb9f3a\"], [0.8888888888888888, \"#fdca26\"], [1.0, \"#f0f921\"]], \"type\": \"heatmap\"}], \"heatmapgl\": [{\"colorbar\": {\"outlinewidth\": 0, \"ticks\": \"\"}, \"colorscale\": [[0.0, \"#0d0887\"], [0.1111111111111111, \"#46039f\"], [0.2222222222222222, \"#7201a8\"], [0.3333333333333333, \"#9c179e\"], [0.4444444444444444, \"#bd3786\"], [0.5555555555555556, \"#d8576b\"], [0.6666666666666666, \"#ed7953\"], [0.7777777777777778, \"#fb9f3a\"], [0.8888888888888888, \"#fdca26\"], [1.0, \"#f0f921\"]], \"type\": \"heatmapgl\"}], \"histogram\": [{\"marker\": {\"colorbar\": {\"outlinewidth\": 0, \"ticks\": \"\"}}, \"type\": \"histogram\"}], \"histogram2d\": [{\"colorbar\": {\"outlinewidth\": 0, \"ticks\": \"\"}, \"colorscale\": [[0.0, \"#0d0887\"], [0.1111111111111111, \"#46039f\"], [0.2222222222222222, \"#7201a8\"], [0.3333333333333333, \"#9c179e\"], [0.4444444444444444, \"#bd3786\"], [0.5555555555555556, \"#d8576b\"], [0.6666666666666666, \"#ed7953\"], [0.7777777777777778, \"#fb9f3a\"], [0.8888888888888888, \"#fdca26\"], [1.0, \"#f0f921\"]], \"type\": \"histogram2d\"}], \"histogram2dcontour\": [{\"colorbar\": {\"outlinewidth\": 0, \"ticks\": \"\"}, \"colorscale\": [[0.0, \"#0d0887\"], [0.1111111111111111, \"#46039f\"], [0.2222222222222222, \"#7201a8\"], [0.3333333333333333, \"#9c179e\"], [0.4444444444444444, \"#bd3786\"], [0.5555555555555556, \"#d8576b\"], [0.6666666666666666, \"#ed7953\"], [0.7777777777777778, \"#fb9f3a\"], [0.8888888888888888, \"#fdca26\"], [1.0, \"#f0f921\"]], \"type\": \"histogram2dcontour\"}], \"mesh3d\": [{\"colorbar\": {\"outlinewidth\": 0, \"ticks\": \"\"}, \"type\": \"mesh3d\"}], \"parcoords\": [{\"line\": {\"colorbar\": {\"outlinewidth\": 0, \"ticks\": \"\"}}, \"type\": \"parcoords\"}], \"pie\": [{\"automargin\": true, \"type\": \"pie\"}], \"scatter\": [{\"marker\": {\"colorbar\": {\"outlinewidth\": 0, \"ticks\": \"\"}}, \"type\": \"scatter\"}], \"scatter3d\": [{\"line\": {\"colorbar\": {\"outlinewidth\": 0, \"ticks\": \"\"}}, \"marker\": {\"colorbar\": {\"outlinewidth\": 0, \"ticks\": \"\"}}, \"type\": \"scatter3d\"}], \"scattercarpet\": [{\"marker\": {\"colorbar\": {\"outlinewidth\": 0, \"ticks\": \"\"}}, \"type\": \"scattercarpet\"}], \"scattergeo\": [{\"marker\": {\"colorbar\": {\"outlinewidth\": 0, \"ticks\": \"\"}}, \"type\": \"scattergeo\"}], \"scattergl\": [{\"marker\": {\"colorbar\": {\"outlinewidth\": 0, \"ticks\": \"\"}}, \"type\": \"scattergl\"}], \"scattermapbox\": [{\"marker\": {\"colorbar\": {\"outlinewidth\": 0, \"ticks\": \"\"}}, \"type\": \"scattermapbox\"}], \"scatterpolar\": [{\"marker\": {\"colorbar\": {\"outlinewidth\": 0, \"ticks\": \"\"}}, \"type\": \"scatterpolar\"}], \"scatterpolargl\": [{\"marker\": {\"colorbar\": {\"outlinewidth\": 0, \"ticks\": \"\"}}, \"type\": \"scatterpolargl\"}], \"scatterternary\": [{\"marker\": {\"colorbar\": {\"outlinewidth\": 0, \"ticks\": \"\"}}, \"type\": \"scatterternary\"}], \"surface\": [{\"colorbar\": {\"outlinewidth\": 0, \"ticks\": \"\"}, \"colorscale\": [[0.0, \"#0d0887\"], [0.1111111111111111, \"#46039f\"], [0.2222222222222222, \"#7201a8\"], [0.3333333333333333, \"#9c179e\"], [0.4444444444444444, \"#bd3786\"], [0.5555555555555556, \"#d8576b\"], [0.6666666666666666, \"#ed7953\"], [0.7777777777777778, \"#fb9f3a\"], [0.8888888888888888, \"#fdca26\"], [1.0, \"#f0f921\"]], \"type\": \"surface\"}], \"table\": [{\"cells\": {\"fill\": {\"color\": \"#EBF0F8\"}, \"line\": {\"color\": \"white\"}}, \"header\": {\"fill\": {\"color\": \"#C8D4E3\"}, \"line\": {\"color\": \"white\"}}, \"type\": \"table\"}]}, \"layout\": {\"annotationdefaults\": {\"arrowcolor\": \"#2a3f5f\", \"arrowhead\": 0, \"arrowwidth\": 1}, \"coloraxis\": {\"colorbar\": {\"outlinewidth\": 0, \"ticks\": \"\"}}, \"colorscale\": {\"diverging\": [[0, \"#8e0152\"], [0.1, \"#c51b7d\"], [0.2, \"#de77ae\"], [0.3, \"#f1b6da\"], [0.4, \"#fde0ef\"], [0.5, \"#f7f7f7\"], [0.6, \"#e6f5d0\"], [0.7, \"#b8e186\"], [0.8, \"#7fbc41\"], [0.9, \"#4d9221\"], [1, \"#276419\"]], \"sequential\": [[0.0, \"#0d0887\"], [0.1111111111111111, \"#46039f\"], [0.2222222222222222, \"#7201a8\"], [0.3333333333333333, \"#9c179e\"], [0.4444444444444444, \"#bd3786\"], [0.5555555555555556, \"#d8576b\"], [0.6666666666666666, \"#ed7953\"], [0.7777777777777778, \"#fb9f3a\"], [0.8888888888888888, \"#fdca26\"], [1.0, \"#f0f921\"]], \"sequentialminus\": [[0.0, \"#0d0887\"], [0.1111111111111111, \"#46039f\"], [0.2222222222222222, \"#7201a8\"], [0.3333333333333333, \"#9c179e\"], [0.4444444444444444, \"#bd3786\"], [0.5555555555555556, \"#d8576b\"], [0.6666666666666666, \"#ed7953\"], [0.7777777777777778, \"#fb9f3a\"], [0.8888888888888888, \"#fdca26\"], [1.0, \"#f0f921\"]]}, \"colorway\": [\"#636efa\", \"#EF553B\", \"#00cc96\", \"#ab63fa\", \"#FFA15A\", \"#19d3f3\", \"#FF6692\", \"#B6E880\", \"#FF97FF\", \"#FECB52\"], \"font\": {\"color\": \"#2a3f5f\"}, \"geo\": {\"bgcolor\": \"white\", \"lakecolor\": \"white\", \"landcolor\": \"#E5ECF6\", \"showlakes\": true, \"showland\": true, \"subunitcolor\": \"white\"}, \"hoverlabel\": {\"align\": \"left\"}, \"hovermode\": \"closest\", \"mapbox\": {\"style\": \"light\"}, \"paper_bgcolor\": \"white\", \"plot_bgcolor\": \"#E5ECF6\", \"polar\": {\"angularaxis\": {\"gridcolor\": \"white\", \"linecolor\": \"white\", \"ticks\": \"\"}, \"bgcolor\": \"#E5ECF6\", \"radialaxis\": {\"gridcolor\": \"white\", \"linecolor\": \"white\", \"ticks\": \"\"}}, \"scene\": {\"xaxis\": {\"backgroundcolor\": \"#E5ECF6\", \"gridcolor\": \"white\", \"gridwidth\": 2, \"linecolor\": \"white\", \"showbackground\": true, \"ticks\": \"\", \"zerolinecolor\": \"white\"}, \"yaxis\": {\"backgroundcolor\": \"#E5ECF6\", \"gridcolor\": \"white\", \"gridwidth\": 2, \"linecolor\": \"white\", \"showbackground\": true, \"ticks\": \"\", \"zerolinecolor\": \"white\"}, \"zaxis\": {\"backgroundcolor\": \"#E5ECF6\", \"gridcolor\": \"white\", \"gridwidth\": 2, \"linecolor\": \"white\", \"showbackground\": true, \"ticks\": \"\", \"zerolinecolor\": \"white\"}}, \"shapedefaults\": {\"line\": {\"color\": \"#2a3f5f\"}}, \"ternary\": {\"aaxis\": {\"gridcolor\": \"white\", \"linecolor\": \"white\", \"ticks\": \"\"}, \"baxis\": {\"gridcolor\": \"white\", \"linecolor\": \"white\", \"ticks\": \"\"}, \"bgcolor\": \"#E5ECF6\", \"caxis\": {\"gridcolor\": \"white\", \"linecolor\": \"white\", \"ticks\": \"\"}}, \"title\": {\"x\": 0.05}, \"xaxis\": {\"automargin\": true, \"gridcolor\": \"white\", \"linecolor\": \"white\", \"ticks\": \"\", \"title\": {\"standoff\": 15}, \"zerolinecolor\": \"white\", \"zerolinewidth\": 2}, \"yaxis\": {\"automargin\": true, \"gridcolor\": \"white\", \"linecolor\": \"white\", \"ticks\": \"\", \"title\": {\"standoff\": 15}, \"zerolinecolor\": \"white\", \"zerolinewidth\": 2}}}, \"title\": {\"font\": {\"color\": \"#4D5663\"}}, \"xaxis\": {\"gridcolor\": \"#E1E5ED\", \"showgrid\": true, \"tickfont\": {\"color\": \"#4D5663\"}, \"title\": {\"font\": {\"color\": \"#4D5663\"}, \"text\": \"\"}, \"zerolinecolor\": \"#E1E5ED\"}, \"yaxis\": {\"gridcolor\": \"#E1E5ED\", \"showgrid\": true, \"tickfont\": {\"color\": \"#4D5663\"}, \"title\": {\"font\": {\"color\": \"#4D5663\"}, \"text\": \"\"}, \"zerolinecolor\": \"#E1E5ED\"}},\n",
       "                        {\"showLink\": true, \"linkText\": \"Export to plot.ly\", \"plotlyServerURL\": \"https://plot.ly\", \"responsive\": true}\n",
       "                    ).then(function(){\n",
       "                            \n",
       "var gd = document.getElementById('fc334867-063c-438a-9f04-8bd0bcb1302b');\n",
       "var x = new MutationObserver(function (mutations, observer) {{\n",
       "        var display = window.getComputedStyle(gd).display;\n",
       "        if (!display || display === 'none') {{\n",
       "            console.log([gd, 'removed!']);\n",
       "            Plotly.purge(gd);\n",
       "            observer.disconnect();\n",
       "        }}\n",
       "}});\n",
       "\n",
       "// Listen for the removal of the full notebook cells\n",
       "var notebookContainer = gd.closest('#notebook-container');\n",
       "if (notebookContainer) {{\n",
       "    x.observe(notebookContainer, {childList: true});\n",
       "}}\n",
       "\n",
       "// Listen for the clearing of the current output cell\n",
       "var outputEl = gd.closest('.output');\n",
       "if (outputEl) {{\n",
       "    x.observe(outputEl, {childList: true});\n",
       "}}\n",
       "\n",
       "                        })\n",
       "                };\n",
       "                });\n",
       "            </script>\n",
       "        </div>"
      ]
     },
     "metadata": {},
     "output_type": "display_data"
    }
   ],
   "source": [
    "df.iplot(kind='scatter',x='A',y='B',mode='markers')"
   ]
  },
  {
   "cell_type": "code",
   "execution_count": 46,
   "metadata": {},
   "outputs": [
    {
     "data": {
      "application/vnd.plotly.v1+json": {
       "config": {
        "linkText": "Export to plot.ly",
        "plotlyServerURL": "https://plot.ly",
        "showLink": true
       },
       "data": [
        {
         "marker": {
          "color": "rgba(255, 153, 51, 0.6)",
          "line": {
           "color": "rgba(255, 153, 51, 1.0)",
           "width": 1
          }
         },
         "name": "VAlues",
         "orientation": "v",
         "text": "",
         "type": "bar",
         "x": [
          "A",
          "B",
          "C"
         ],
         "y": [
          32,
          43,
          50
         ]
        }
       ],
       "layout": {
        "legend": {
         "bgcolor": "#F5F6F9",
         "font": {
          "color": "#4D5663"
         }
        },
        "paper_bgcolor": "#F5F6F9",
        "plot_bgcolor": "#F5F6F9",
        "template": {
         "data": {
          "bar": [
           {
            "error_x": {
             "color": "#2a3f5f"
            },
            "error_y": {
             "color": "#2a3f5f"
            },
            "marker": {
             "line": {
              "color": "#E5ECF6",
              "width": 0.5
             }
            },
            "type": "bar"
           }
          ],
          "barpolar": [
           {
            "marker": {
             "line": {
              "color": "#E5ECF6",
              "width": 0.5
             }
            },
            "type": "barpolar"
           }
          ],
          "carpet": [
           {
            "aaxis": {
             "endlinecolor": "#2a3f5f",
             "gridcolor": "white",
             "linecolor": "white",
             "minorgridcolor": "white",
             "startlinecolor": "#2a3f5f"
            },
            "baxis": {
             "endlinecolor": "#2a3f5f",
             "gridcolor": "white",
             "linecolor": "white",
             "minorgridcolor": "white",
             "startlinecolor": "#2a3f5f"
            },
            "type": "carpet"
           }
          ],
          "choropleth": [
           {
            "colorbar": {
             "outlinewidth": 0,
             "ticks": ""
            },
            "type": "choropleth"
           }
          ],
          "contour": [
           {
            "colorbar": {
             "outlinewidth": 0,
             "ticks": ""
            },
            "colorscale": [
             [
              0,
              "#0d0887"
             ],
             [
              0.1111111111111111,
              "#46039f"
             ],
             [
              0.2222222222222222,
              "#7201a8"
             ],
             [
              0.3333333333333333,
              "#9c179e"
             ],
             [
              0.4444444444444444,
              "#bd3786"
             ],
             [
              0.5555555555555556,
              "#d8576b"
             ],
             [
              0.6666666666666666,
              "#ed7953"
             ],
             [
              0.7777777777777778,
              "#fb9f3a"
             ],
             [
              0.8888888888888888,
              "#fdca26"
             ],
             [
              1,
              "#f0f921"
             ]
            ],
            "type": "contour"
           }
          ],
          "contourcarpet": [
           {
            "colorbar": {
             "outlinewidth": 0,
             "ticks": ""
            },
            "type": "contourcarpet"
           }
          ],
          "heatmap": [
           {
            "colorbar": {
             "outlinewidth": 0,
             "ticks": ""
            },
            "colorscale": [
             [
              0,
              "#0d0887"
             ],
             [
              0.1111111111111111,
              "#46039f"
             ],
             [
              0.2222222222222222,
              "#7201a8"
             ],
             [
              0.3333333333333333,
              "#9c179e"
             ],
             [
              0.4444444444444444,
              "#bd3786"
             ],
             [
              0.5555555555555556,
              "#d8576b"
             ],
             [
              0.6666666666666666,
              "#ed7953"
             ],
             [
              0.7777777777777778,
              "#fb9f3a"
             ],
             [
              0.8888888888888888,
              "#fdca26"
             ],
             [
              1,
              "#f0f921"
             ]
            ],
            "type": "heatmap"
           }
          ],
          "heatmapgl": [
           {
            "colorbar": {
             "outlinewidth": 0,
             "ticks": ""
            },
            "colorscale": [
             [
              0,
              "#0d0887"
             ],
             [
              0.1111111111111111,
              "#46039f"
             ],
             [
              0.2222222222222222,
              "#7201a8"
             ],
             [
              0.3333333333333333,
              "#9c179e"
             ],
             [
              0.4444444444444444,
              "#bd3786"
             ],
             [
              0.5555555555555556,
              "#d8576b"
             ],
             [
              0.6666666666666666,
              "#ed7953"
             ],
             [
              0.7777777777777778,
              "#fb9f3a"
             ],
             [
              0.8888888888888888,
              "#fdca26"
             ],
             [
              1,
              "#f0f921"
             ]
            ],
            "type": "heatmapgl"
           }
          ],
          "histogram": [
           {
            "marker": {
             "colorbar": {
              "outlinewidth": 0,
              "ticks": ""
             }
            },
            "type": "histogram"
           }
          ],
          "histogram2d": [
           {
            "colorbar": {
             "outlinewidth": 0,
             "ticks": ""
            },
            "colorscale": [
             [
              0,
              "#0d0887"
             ],
             [
              0.1111111111111111,
              "#46039f"
             ],
             [
              0.2222222222222222,
              "#7201a8"
             ],
             [
              0.3333333333333333,
              "#9c179e"
             ],
             [
              0.4444444444444444,
              "#bd3786"
             ],
             [
              0.5555555555555556,
              "#d8576b"
             ],
             [
              0.6666666666666666,
              "#ed7953"
             ],
             [
              0.7777777777777778,
              "#fb9f3a"
             ],
             [
              0.8888888888888888,
              "#fdca26"
             ],
             [
              1,
              "#f0f921"
             ]
            ],
            "type": "histogram2d"
           }
          ],
          "histogram2dcontour": [
           {
            "colorbar": {
             "outlinewidth": 0,
             "ticks": ""
            },
            "colorscale": [
             [
              0,
              "#0d0887"
             ],
             [
              0.1111111111111111,
              "#46039f"
             ],
             [
              0.2222222222222222,
              "#7201a8"
             ],
             [
              0.3333333333333333,
              "#9c179e"
             ],
             [
              0.4444444444444444,
              "#bd3786"
             ],
             [
              0.5555555555555556,
              "#d8576b"
             ],
             [
              0.6666666666666666,
              "#ed7953"
             ],
             [
              0.7777777777777778,
              "#fb9f3a"
             ],
             [
              0.8888888888888888,
              "#fdca26"
             ],
             [
              1,
              "#f0f921"
             ]
            ],
            "type": "histogram2dcontour"
           }
          ],
          "mesh3d": [
           {
            "colorbar": {
             "outlinewidth": 0,
             "ticks": ""
            },
            "type": "mesh3d"
           }
          ],
          "parcoords": [
           {
            "line": {
             "colorbar": {
              "outlinewidth": 0,
              "ticks": ""
             }
            },
            "type": "parcoords"
           }
          ],
          "pie": [
           {
            "automargin": true,
            "type": "pie"
           }
          ],
          "scatter": [
           {
            "marker": {
             "colorbar": {
              "outlinewidth": 0,
              "ticks": ""
             }
            },
            "type": "scatter"
           }
          ],
          "scatter3d": [
           {
            "line": {
             "colorbar": {
              "outlinewidth": 0,
              "ticks": ""
             }
            },
            "marker": {
             "colorbar": {
              "outlinewidth": 0,
              "ticks": ""
             }
            },
            "type": "scatter3d"
           }
          ],
          "scattercarpet": [
           {
            "marker": {
             "colorbar": {
              "outlinewidth": 0,
              "ticks": ""
             }
            },
            "type": "scattercarpet"
           }
          ],
          "scattergeo": [
           {
            "marker": {
             "colorbar": {
              "outlinewidth": 0,
              "ticks": ""
             }
            },
            "type": "scattergeo"
           }
          ],
          "scattergl": [
           {
            "marker": {
             "colorbar": {
              "outlinewidth": 0,
              "ticks": ""
             }
            },
            "type": "scattergl"
           }
          ],
          "scattermapbox": [
           {
            "marker": {
             "colorbar": {
              "outlinewidth": 0,
              "ticks": ""
             }
            },
            "type": "scattermapbox"
           }
          ],
          "scatterpolar": [
           {
            "marker": {
             "colorbar": {
              "outlinewidth": 0,
              "ticks": ""
             }
            },
            "type": "scatterpolar"
           }
          ],
          "scatterpolargl": [
           {
            "marker": {
             "colorbar": {
              "outlinewidth": 0,
              "ticks": ""
             }
            },
            "type": "scatterpolargl"
           }
          ],
          "scatterternary": [
           {
            "marker": {
             "colorbar": {
              "outlinewidth": 0,
              "ticks": ""
             }
            },
            "type": "scatterternary"
           }
          ],
          "surface": [
           {
            "colorbar": {
             "outlinewidth": 0,
             "ticks": ""
            },
            "colorscale": [
             [
              0,
              "#0d0887"
             ],
             [
              0.1111111111111111,
              "#46039f"
             ],
             [
              0.2222222222222222,
              "#7201a8"
             ],
             [
              0.3333333333333333,
              "#9c179e"
             ],
             [
              0.4444444444444444,
              "#bd3786"
             ],
             [
              0.5555555555555556,
              "#d8576b"
             ],
             [
              0.6666666666666666,
              "#ed7953"
             ],
             [
              0.7777777777777778,
              "#fb9f3a"
             ],
             [
              0.8888888888888888,
              "#fdca26"
             ],
             [
              1,
              "#f0f921"
             ]
            ],
            "type": "surface"
           }
          ],
          "table": [
           {
            "cells": {
             "fill": {
              "color": "#EBF0F8"
             },
             "line": {
              "color": "white"
             }
            },
            "header": {
             "fill": {
              "color": "#C8D4E3"
             },
             "line": {
              "color": "white"
             }
            },
            "type": "table"
           }
          ]
         },
         "layout": {
          "annotationdefaults": {
           "arrowcolor": "#2a3f5f",
           "arrowhead": 0,
           "arrowwidth": 1
          },
          "coloraxis": {
           "colorbar": {
            "outlinewidth": 0,
            "ticks": ""
           }
          },
          "colorscale": {
           "diverging": [
            [
             0,
             "#8e0152"
            ],
            [
             0.1,
             "#c51b7d"
            ],
            [
             0.2,
             "#de77ae"
            ],
            [
             0.3,
             "#f1b6da"
            ],
            [
             0.4,
             "#fde0ef"
            ],
            [
             0.5,
             "#f7f7f7"
            ],
            [
             0.6,
             "#e6f5d0"
            ],
            [
             0.7,
             "#b8e186"
            ],
            [
             0.8,
             "#7fbc41"
            ],
            [
             0.9,
             "#4d9221"
            ],
            [
             1,
             "#276419"
            ]
           ],
           "sequential": [
            [
             0,
             "#0d0887"
            ],
            [
             0.1111111111111111,
             "#46039f"
            ],
            [
             0.2222222222222222,
             "#7201a8"
            ],
            [
             0.3333333333333333,
             "#9c179e"
            ],
            [
             0.4444444444444444,
             "#bd3786"
            ],
            [
             0.5555555555555556,
             "#d8576b"
            ],
            [
             0.6666666666666666,
             "#ed7953"
            ],
            [
             0.7777777777777778,
             "#fb9f3a"
            ],
            [
             0.8888888888888888,
             "#fdca26"
            ],
            [
             1,
             "#f0f921"
            ]
           ],
           "sequentialminus": [
            [
             0,
             "#0d0887"
            ],
            [
             0.1111111111111111,
             "#46039f"
            ],
            [
             0.2222222222222222,
             "#7201a8"
            ],
            [
             0.3333333333333333,
             "#9c179e"
            ],
            [
             0.4444444444444444,
             "#bd3786"
            ],
            [
             0.5555555555555556,
             "#d8576b"
            ],
            [
             0.6666666666666666,
             "#ed7953"
            ],
            [
             0.7777777777777778,
             "#fb9f3a"
            ],
            [
             0.8888888888888888,
             "#fdca26"
            ],
            [
             1,
             "#f0f921"
            ]
           ]
          },
          "colorway": [
           "#636efa",
           "#EF553B",
           "#00cc96",
           "#ab63fa",
           "#FFA15A",
           "#19d3f3",
           "#FF6692",
           "#B6E880",
           "#FF97FF",
           "#FECB52"
          ],
          "font": {
           "color": "#2a3f5f"
          },
          "geo": {
           "bgcolor": "white",
           "lakecolor": "white",
           "landcolor": "#E5ECF6",
           "showlakes": true,
           "showland": true,
           "subunitcolor": "white"
          },
          "hoverlabel": {
           "align": "left"
          },
          "hovermode": "closest",
          "mapbox": {
           "style": "light"
          },
          "paper_bgcolor": "white",
          "plot_bgcolor": "#E5ECF6",
          "polar": {
           "angularaxis": {
            "gridcolor": "white",
            "linecolor": "white",
            "ticks": ""
           },
           "bgcolor": "#E5ECF6",
           "radialaxis": {
            "gridcolor": "white",
            "linecolor": "white",
            "ticks": ""
           }
          },
          "scene": {
           "xaxis": {
            "backgroundcolor": "#E5ECF6",
            "gridcolor": "white",
            "gridwidth": 2,
            "linecolor": "white",
            "showbackground": true,
            "ticks": "",
            "zerolinecolor": "white"
           },
           "yaxis": {
            "backgroundcolor": "#E5ECF6",
            "gridcolor": "white",
            "gridwidth": 2,
            "linecolor": "white",
            "showbackground": true,
            "ticks": "",
            "zerolinecolor": "white"
           },
           "zaxis": {
            "backgroundcolor": "#E5ECF6",
            "gridcolor": "white",
            "gridwidth": 2,
            "linecolor": "white",
            "showbackground": true,
            "ticks": "",
            "zerolinecolor": "white"
           }
          },
          "shapedefaults": {
           "line": {
            "color": "#2a3f5f"
           }
          },
          "ternary": {
           "aaxis": {
            "gridcolor": "white",
            "linecolor": "white",
            "ticks": ""
           },
           "baxis": {
            "gridcolor": "white",
            "linecolor": "white",
            "ticks": ""
           },
           "bgcolor": "#E5ECF6",
           "caxis": {
            "gridcolor": "white",
            "linecolor": "white",
            "ticks": ""
           }
          },
          "title": {
           "x": 0.05
          },
          "xaxis": {
           "automargin": true,
           "gridcolor": "white",
           "linecolor": "white",
           "ticks": "",
           "title": {
            "standoff": 15
           },
           "zerolinecolor": "white",
           "zerolinewidth": 2
          },
          "yaxis": {
           "automargin": true,
           "gridcolor": "white",
           "linecolor": "white",
           "ticks": "",
           "title": {
            "standoff": 15
           },
           "zerolinecolor": "white",
           "zerolinewidth": 2
          }
         }
        },
        "title": {
         "font": {
          "color": "#4D5663"
         }
        },
        "xaxis": {
         "gridcolor": "#E1E5ED",
         "showgrid": true,
         "tickfont": {
          "color": "#4D5663"
         },
         "title": {
          "font": {
           "color": "#4D5663"
          },
          "text": ""
         },
         "zerolinecolor": "#E1E5ED"
        },
        "yaxis": {
         "gridcolor": "#E1E5ED",
         "showgrid": true,
         "tickfont": {
          "color": "#4D5663"
         },
         "title": {
          "font": {
           "color": "#4D5663"
          },
          "text": ""
         },
         "zerolinecolor": "#E1E5ED"
        }
       }
      },
      "text/html": [
       "<div>\n",
       "        \n",
       "        \n",
       "            <div id=\"36f467c5-5b97-40d0-855c-41283188052a\" class=\"plotly-graph-div\" style=\"height:525px; width:100%;\"></div>\n",
       "            <script type=\"text/javascript\">\n",
       "                require([\"plotly\"], function(Plotly) {\n",
       "                    window.PLOTLYENV=window.PLOTLYENV || {};\n",
       "                    window.PLOTLYENV.BASE_URL='https://plot.ly';\n",
       "                    \n",
       "                if (document.getElementById(\"36f467c5-5b97-40d0-855c-41283188052a\")) {\n",
       "                    Plotly.newPlot(\n",
       "                        '36f467c5-5b97-40d0-855c-41283188052a',\n",
       "                        [{\"marker\": {\"color\": \"rgba(255, 153, 51, 0.6)\", \"line\": {\"color\": \"rgba(255, 153, 51, 1.0)\", \"width\": 1}}, \"name\": \"VAlues\", \"orientation\": \"v\", \"text\": \"\", \"type\": \"bar\", \"x\": [\"A\", \"B\", \"C\"], \"y\": [32, 43, 50]}],\n",
       "                        {\"legend\": {\"bgcolor\": \"#F5F6F9\", \"font\": {\"color\": \"#4D5663\"}}, \"paper_bgcolor\": \"#F5F6F9\", \"plot_bgcolor\": \"#F5F6F9\", \"template\": {\"data\": {\"bar\": [{\"error_x\": {\"color\": \"#2a3f5f\"}, \"error_y\": {\"color\": \"#2a3f5f\"}, \"marker\": {\"line\": {\"color\": \"#E5ECF6\", \"width\": 0.5}}, \"type\": \"bar\"}], \"barpolar\": [{\"marker\": {\"line\": {\"color\": \"#E5ECF6\", \"width\": 0.5}}, \"type\": \"barpolar\"}], \"carpet\": [{\"aaxis\": {\"endlinecolor\": \"#2a3f5f\", \"gridcolor\": \"white\", \"linecolor\": \"white\", \"minorgridcolor\": \"white\", \"startlinecolor\": \"#2a3f5f\"}, \"baxis\": {\"endlinecolor\": \"#2a3f5f\", \"gridcolor\": \"white\", \"linecolor\": \"white\", \"minorgridcolor\": \"white\", \"startlinecolor\": \"#2a3f5f\"}, \"type\": \"carpet\"}], \"choropleth\": [{\"colorbar\": {\"outlinewidth\": 0, \"ticks\": \"\"}, \"type\": \"choropleth\"}], \"contour\": [{\"colorbar\": {\"outlinewidth\": 0, \"ticks\": \"\"}, \"colorscale\": [[0.0, \"#0d0887\"], [0.1111111111111111, \"#46039f\"], [0.2222222222222222, \"#7201a8\"], [0.3333333333333333, \"#9c179e\"], [0.4444444444444444, \"#bd3786\"], [0.5555555555555556, \"#d8576b\"], [0.6666666666666666, \"#ed7953\"], [0.7777777777777778, \"#fb9f3a\"], [0.8888888888888888, \"#fdca26\"], [1.0, \"#f0f921\"]], \"type\": \"contour\"}], \"contourcarpet\": [{\"colorbar\": {\"outlinewidth\": 0, \"ticks\": \"\"}, \"type\": \"contourcarpet\"}], \"heatmap\": [{\"colorbar\": {\"outlinewidth\": 0, \"ticks\": \"\"}, \"colorscale\": [[0.0, \"#0d0887\"], [0.1111111111111111, \"#46039f\"], [0.2222222222222222, \"#7201a8\"], [0.3333333333333333, \"#9c179e\"], [0.4444444444444444, \"#bd3786\"], [0.5555555555555556, \"#d8576b\"], [0.6666666666666666, \"#ed7953\"], [0.7777777777777778, \"#fb9f3a\"], [0.8888888888888888, \"#fdca26\"], [1.0, \"#f0f921\"]], \"type\": \"heatmap\"}], \"heatmapgl\": [{\"colorbar\": {\"outlinewidth\": 0, \"ticks\": \"\"}, \"colorscale\": [[0.0, \"#0d0887\"], [0.1111111111111111, \"#46039f\"], [0.2222222222222222, \"#7201a8\"], [0.3333333333333333, \"#9c179e\"], [0.4444444444444444, \"#bd3786\"], [0.5555555555555556, \"#d8576b\"], [0.6666666666666666, \"#ed7953\"], [0.7777777777777778, \"#fb9f3a\"], [0.8888888888888888, \"#fdca26\"], [1.0, \"#f0f921\"]], \"type\": \"heatmapgl\"}], \"histogram\": [{\"marker\": {\"colorbar\": {\"outlinewidth\": 0, \"ticks\": \"\"}}, \"type\": \"histogram\"}], \"histogram2d\": [{\"colorbar\": {\"outlinewidth\": 0, \"ticks\": \"\"}, \"colorscale\": [[0.0, \"#0d0887\"], [0.1111111111111111, \"#46039f\"], [0.2222222222222222, \"#7201a8\"], [0.3333333333333333, \"#9c179e\"], [0.4444444444444444, \"#bd3786\"], [0.5555555555555556, \"#d8576b\"], [0.6666666666666666, \"#ed7953\"], [0.7777777777777778, \"#fb9f3a\"], [0.8888888888888888, \"#fdca26\"], [1.0, \"#f0f921\"]], \"type\": \"histogram2d\"}], \"histogram2dcontour\": [{\"colorbar\": {\"outlinewidth\": 0, \"ticks\": \"\"}, \"colorscale\": [[0.0, \"#0d0887\"], [0.1111111111111111, \"#46039f\"], [0.2222222222222222, \"#7201a8\"], [0.3333333333333333, \"#9c179e\"], [0.4444444444444444, \"#bd3786\"], [0.5555555555555556, \"#d8576b\"], [0.6666666666666666, \"#ed7953\"], [0.7777777777777778, \"#fb9f3a\"], [0.8888888888888888, \"#fdca26\"], [1.0, \"#f0f921\"]], \"type\": \"histogram2dcontour\"}], \"mesh3d\": [{\"colorbar\": {\"outlinewidth\": 0, \"ticks\": \"\"}, \"type\": \"mesh3d\"}], \"parcoords\": [{\"line\": {\"colorbar\": {\"outlinewidth\": 0, \"ticks\": \"\"}}, \"type\": \"parcoords\"}], \"pie\": [{\"automargin\": true, \"type\": \"pie\"}], \"scatter\": [{\"marker\": {\"colorbar\": {\"outlinewidth\": 0, \"ticks\": \"\"}}, \"type\": \"scatter\"}], \"scatter3d\": [{\"line\": {\"colorbar\": {\"outlinewidth\": 0, \"ticks\": \"\"}}, \"marker\": {\"colorbar\": {\"outlinewidth\": 0, \"ticks\": \"\"}}, \"type\": \"scatter3d\"}], \"scattercarpet\": [{\"marker\": {\"colorbar\": {\"outlinewidth\": 0, \"ticks\": \"\"}}, \"type\": \"scattercarpet\"}], \"scattergeo\": [{\"marker\": {\"colorbar\": {\"outlinewidth\": 0, \"ticks\": \"\"}}, \"type\": \"scattergeo\"}], \"scattergl\": [{\"marker\": {\"colorbar\": {\"outlinewidth\": 0, \"ticks\": \"\"}}, \"type\": \"scattergl\"}], \"scattermapbox\": [{\"marker\": {\"colorbar\": {\"outlinewidth\": 0, \"ticks\": \"\"}}, \"type\": \"scattermapbox\"}], \"scatterpolar\": [{\"marker\": {\"colorbar\": {\"outlinewidth\": 0, \"ticks\": \"\"}}, \"type\": \"scatterpolar\"}], \"scatterpolargl\": [{\"marker\": {\"colorbar\": {\"outlinewidth\": 0, \"ticks\": \"\"}}, \"type\": \"scatterpolargl\"}], \"scatterternary\": [{\"marker\": {\"colorbar\": {\"outlinewidth\": 0, \"ticks\": \"\"}}, \"type\": \"scatterternary\"}], \"surface\": [{\"colorbar\": {\"outlinewidth\": 0, \"ticks\": \"\"}, \"colorscale\": [[0.0, \"#0d0887\"], [0.1111111111111111, \"#46039f\"], [0.2222222222222222, \"#7201a8\"], [0.3333333333333333, \"#9c179e\"], [0.4444444444444444, \"#bd3786\"], [0.5555555555555556, \"#d8576b\"], [0.6666666666666666, \"#ed7953\"], [0.7777777777777778, \"#fb9f3a\"], [0.8888888888888888, \"#fdca26\"], [1.0, \"#f0f921\"]], \"type\": \"surface\"}], \"table\": [{\"cells\": {\"fill\": {\"color\": \"#EBF0F8\"}, \"line\": {\"color\": \"white\"}}, \"header\": {\"fill\": {\"color\": \"#C8D4E3\"}, \"line\": {\"color\": \"white\"}}, \"type\": \"table\"}]}, \"layout\": {\"annotationdefaults\": {\"arrowcolor\": \"#2a3f5f\", \"arrowhead\": 0, \"arrowwidth\": 1}, \"coloraxis\": {\"colorbar\": {\"outlinewidth\": 0, \"ticks\": \"\"}}, \"colorscale\": {\"diverging\": [[0, \"#8e0152\"], [0.1, \"#c51b7d\"], [0.2, \"#de77ae\"], [0.3, \"#f1b6da\"], [0.4, \"#fde0ef\"], [0.5, \"#f7f7f7\"], [0.6, \"#e6f5d0\"], [0.7, \"#b8e186\"], [0.8, \"#7fbc41\"], [0.9, \"#4d9221\"], [1, \"#276419\"]], \"sequential\": [[0.0, \"#0d0887\"], [0.1111111111111111, \"#46039f\"], [0.2222222222222222, \"#7201a8\"], [0.3333333333333333, \"#9c179e\"], [0.4444444444444444, \"#bd3786\"], [0.5555555555555556, \"#d8576b\"], [0.6666666666666666, \"#ed7953\"], [0.7777777777777778, \"#fb9f3a\"], [0.8888888888888888, \"#fdca26\"], [1.0, \"#f0f921\"]], \"sequentialminus\": [[0.0, \"#0d0887\"], [0.1111111111111111, \"#46039f\"], [0.2222222222222222, \"#7201a8\"], [0.3333333333333333, \"#9c179e\"], [0.4444444444444444, \"#bd3786\"], [0.5555555555555556, \"#d8576b\"], [0.6666666666666666, \"#ed7953\"], [0.7777777777777778, \"#fb9f3a\"], [0.8888888888888888, \"#fdca26\"], [1.0, \"#f0f921\"]]}, \"colorway\": [\"#636efa\", \"#EF553B\", \"#00cc96\", \"#ab63fa\", \"#FFA15A\", \"#19d3f3\", \"#FF6692\", \"#B6E880\", \"#FF97FF\", \"#FECB52\"], \"font\": {\"color\": \"#2a3f5f\"}, \"geo\": {\"bgcolor\": \"white\", \"lakecolor\": \"white\", \"landcolor\": \"#E5ECF6\", \"showlakes\": true, \"showland\": true, \"subunitcolor\": \"white\"}, \"hoverlabel\": {\"align\": \"left\"}, \"hovermode\": \"closest\", \"mapbox\": {\"style\": \"light\"}, \"paper_bgcolor\": \"white\", \"plot_bgcolor\": \"#E5ECF6\", \"polar\": {\"angularaxis\": {\"gridcolor\": \"white\", \"linecolor\": \"white\", \"ticks\": \"\"}, \"bgcolor\": \"#E5ECF6\", \"radialaxis\": {\"gridcolor\": \"white\", \"linecolor\": \"white\", \"ticks\": \"\"}}, \"scene\": {\"xaxis\": {\"backgroundcolor\": \"#E5ECF6\", \"gridcolor\": \"white\", \"gridwidth\": 2, \"linecolor\": \"white\", \"showbackground\": true, \"ticks\": \"\", \"zerolinecolor\": \"white\"}, \"yaxis\": {\"backgroundcolor\": \"#E5ECF6\", \"gridcolor\": \"white\", \"gridwidth\": 2, \"linecolor\": \"white\", \"showbackground\": true, \"ticks\": \"\", \"zerolinecolor\": \"white\"}, \"zaxis\": {\"backgroundcolor\": \"#E5ECF6\", \"gridcolor\": \"white\", \"gridwidth\": 2, \"linecolor\": \"white\", \"showbackground\": true, \"ticks\": \"\", \"zerolinecolor\": \"white\"}}, \"shapedefaults\": {\"line\": {\"color\": \"#2a3f5f\"}}, \"ternary\": {\"aaxis\": {\"gridcolor\": \"white\", \"linecolor\": \"white\", \"ticks\": \"\"}, \"baxis\": {\"gridcolor\": \"white\", \"linecolor\": \"white\", \"ticks\": \"\"}, \"bgcolor\": \"#E5ECF6\", \"caxis\": {\"gridcolor\": \"white\", \"linecolor\": \"white\", \"ticks\": \"\"}}, \"title\": {\"x\": 0.05}, \"xaxis\": {\"automargin\": true, \"gridcolor\": \"white\", \"linecolor\": \"white\", \"ticks\": \"\", \"title\": {\"standoff\": 15}, \"zerolinecolor\": \"white\", \"zerolinewidth\": 2}, \"yaxis\": {\"automargin\": true, \"gridcolor\": \"white\", \"linecolor\": \"white\", \"ticks\": \"\", \"title\": {\"standoff\": 15}, \"zerolinecolor\": \"white\", \"zerolinewidth\": 2}}}, \"title\": {\"font\": {\"color\": \"#4D5663\"}}, \"xaxis\": {\"gridcolor\": \"#E1E5ED\", \"showgrid\": true, \"tickfont\": {\"color\": \"#4D5663\"}, \"title\": {\"font\": {\"color\": \"#4D5663\"}, \"text\": \"\"}, \"zerolinecolor\": \"#E1E5ED\"}, \"yaxis\": {\"gridcolor\": \"#E1E5ED\", \"showgrid\": true, \"tickfont\": {\"color\": \"#4D5663\"}, \"title\": {\"font\": {\"color\": \"#4D5663\"}, \"text\": \"\"}, \"zerolinecolor\": \"#E1E5ED\"}},\n",
       "                        {\"showLink\": true, \"linkText\": \"Export to plot.ly\", \"plotlyServerURL\": \"https://plot.ly\", \"responsive\": true}\n",
       "                    ).then(function(){\n",
       "                            \n",
       "var gd = document.getElementById('36f467c5-5b97-40d0-855c-41283188052a');\n",
       "var x = new MutationObserver(function (mutations, observer) {{\n",
       "        var display = window.getComputedStyle(gd).display;\n",
       "        if (!display || display === 'none') {{\n",
       "            console.log([gd, 'removed!']);\n",
       "            Plotly.purge(gd);\n",
       "            observer.disconnect();\n",
       "        }}\n",
       "}});\n",
       "\n",
       "// Listen for the removal of the full notebook cells\n",
       "var notebookContainer = gd.closest('#notebook-container');\n",
       "if (notebookContainer) {{\n",
       "    x.observe(notebookContainer, {childList: true});\n",
       "}}\n",
       "\n",
       "// Listen for the clearing of the current output cell\n",
       "var outputEl = gd.closest('.output');\n",
       "if (outputEl) {{\n",
       "    x.observe(outputEl, {childList: true});\n",
       "}}\n",
       "\n",
       "                        })\n",
       "                };\n",
       "                });\n",
       "            </script>\n",
       "        </div>"
      ]
     },
     "metadata": {},
     "output_type": "display_data"
    }
   ],
   "source": [
    "df2.iplot(kind='bar',x='category',y='VAlues')"
   ]
  },
  {
   "cell_type": "code",
   "execution_count": 47,
   "metadata": {},
   "outputs": [
    {
     "data": {
      "application/vnd.plotly.v1+json": {
       "config": {
        "linkText": "Export to plot.ly",
        "plotlyServerURL": "https://plot.ly",
        "showLink": true
       },
       "data": [
        {
         "marker": {
          "color": "rgba(255, 153, 51, 0.6)",
          "line": {
           "color": "rgba(255, 153, 51, 1.0)",
           "width": 1
          }
         },
         "name": "None",
         "orientation": "v",
         "text": "",
         "type": "bar",
         "x": [
          "A",
          "B",
          "C",
          "D"
         ],
         "y": [
          -21.99034080488715,
          0.655154824587535,
          5.840592165439384,
          -8.079244022439193
         ]
        }
       ],
       "layout": {
        "legend": {
         "bgcolor": "#F5F6F9",
         "font": {
          "color": "#4D5663"
         }
        },
        "paper_bgcolor": "#F5F6F9",
        "plot_bgcolor": "#F5F6F9",
        "template": {
         "data": {
          "bar": [
           {
            "error_x": {
             "color": "#2a3f5f"
            },
            "error_y": {
             "color": "#2a3f5f"
            },
            "marker": {
             "line": {
              "color": "#E5ECF6",
              "width": 0.5
             }
            },
            "type": "bar"
           }
          ],
          "barpolar": [
           {
            "marker": {
             "line": {
              "color": "#E5ECF6",
              "width": 0.5
             }
            },
            "type": "barpolar"
           }
          ],
          "carpet": [
           {
            "aaxis": {
             "endlinecolor": "#2a3f5f",
             "gridcolor": "white",
             "linecolor": "white",
             "minorgridcolor": "white",
             "startlinecolor": "#2a3f5f"
            },
            "baxis": {
             "endlinecolor": "#2a3f5f",
             "gridcolor": "white",
             "linecolor": "white",
             "minorgridcolor": "white",
             "startlinecolor": "#2a3f5f"
            },
            "type": "carpet"
           }
          ],
          "choropleth": [
           {
            "colorbar": {
             "outlinewidth": 0,
             "ticks": ""
            },
            "type": "choropleth"
           }
          ],
          "contour": [
           {
            "colorbar": {
             "outlinewidth": 0,
             "ticks": ""
            },
            "colorscale": [
             [
              0,
              "#0d0887"
             ],
             [
              0.1111111111111111,
              "#46039f"
             ],
             [
              0.2222222222222222,
              "#7201a8"
             ],
             [
              0.3333333333333333,
              "#9c179e"
             ],
             [
              0.4444444444444444,
              "#bd3786"
             ],
             [
              0.5555555555555556,
              "#d8576b"
             ],
             [
              0.6666666666666666,
              "#ed7953"
             ],
             [
              0.7777777777777778,
              "#fb9f3a"
             ],
             [
              0.8888888888888888,
              "#fdca26"
             ],
             [
              1,
              "#f0f921"
             ]
            ],
            "type": "contour"
           }
          ],
          "contourcarpet": [
           {
            "colorbar": {
             "outlinewidth": 0,
             "ticks": ""
            },
            "type": "contourcarpet"
           }
          ],
          "heatmap": [
           {
            "colorbar": {
             "outlinewidth": 0,
             "ticks": ""
            },
            "colorscale": [
             [
              0,
              "#0d0887"
             ],
             [
              0.1111111111111111,
              "#46039f"
             ],
             [
              0.2222222222222222,
              "#7201a8"
             ],
             [
              0.3333333333333333,
              "#9c179e"
             ],
             [
              0.4444444444444444,
              "#bd3786"
             ],
             [
              0.5555555555555556,
              "#d8576b"
             ],
             [
              0.6666666666666666,
              "#ed7953"
             ],
             [
              0.7777777777777778,
              "#fb9f3a"
             ],
             [
              0.8888888888888888,
              "#fdca26"
             ],
             [
              1,
              "#f0f921"
             ]
            ],
            "type": "heatmap"
           }
          ],
          "heatmapgl": [
           {
            "colorbar": {
             "outlinewidth": 0,
             "ticks": ""
            },
            "colorscale": [
             [
              0,
              "#0d0887"
             ],
             [
              0.1111111111111111,
              "#46039f"
             ],
             [
              0.2222222222222222,
              "#7201a8"
             ],
             [
              0.3333333333333333,
              "#9c179e"
             ],
             [
              0.4444444444444444,
              "#bd3786"
             ],
             [
              0.5555555555555556,
              "#d8576b"
             ],
             [
              0.6666666666666666,
              "#ed7953"
             ],
             [
              0.7777777777777778,
              "#fb9f3a"
             ],
             [
              0.8888888888888888,
              "#fdca26"
             ],
             [
              1,
              "#f0f921"
             ]
            ],
            "type": "heatmapgl"
           }
          ],
          "histogram": [
           {
            "marker": {
             "colorbar": {
              "outlinewidth": 0,
              "ticks": ""
             }
            },
            "type": "histogram"
           }
          ],
          "histogram2d": [
           {
            "colorbar": {
             "outlinewidth": 0,
             "ticks": ""
            },
            "colorscale": [
             [
              0,
              "#0d0887"
             ],
             [
              0.1111111111111111,
              "#46039f"
             ],
             [
              0.2222222222222222,
              "#7201a8"
             ],
             [
              0.3333333333333333,
              "#9c179e"
             ],
             [
              0.4444444444444444,
              "#bd3786"
             ],
             [
              0.5555555555555556,
              "#d8576b"
             ],
             [
              0.6666666666666666,
              "#ed7953"
             ],
             [
              0.7777777777777778,
              "#fb9f3a"
             ],
             [
              0.8888888888888888,
              "#fdca26"
             ],
             [
              1,
              "#f0f921"
             ]
            ],
            "type": "histogram2d"
           }
          ],
          "histogram2dcontour": [
           {
            "colorbar": {
             "outlinewidth": 0,
             "ticks": ""
            },
            "colorscale": [
             [
              0,
              "#0d0887"
             ],
             [
              0.1111111111111111,
              "#46039f"
             ],
             [
              0.2222222222222222,
              "#7201a8"
             ],
             [
              0.3333333333333333,
              "#9c179e"
             ],
             [
              0.4444444444444444,
              "#bd3786"
             ],
             [
              0.5555555555555556,
              "#d8576b"
             ],
             [
              0.6666666666666666,
              "#ed7953"
             ],
             [
              0.7777777777777778,
              "#fb9f3a"
             ],
             [
              0.8888888888888888,
              "#fdca26"
             ],
             [
              1,
              "#f0f921"
             ]
            ],
            "type": "histogram2dcontour"
           }
          ],
          "mesh3d": [
           {
            "colorbar": {
             "outlinewidth": 0,
             "ticks": ""
            },
            "type": "mesh3d"
           }
          ],
          "parcoords": [
           {
            "line": {
             "colorbar": {
              "outlinewidth": 0,
              "ticks": ""
             }
            },
            "type": "parcoords"
           }
          ],
          "pie": [
           {
            "automargin": true,
            "type": "pie"
           }
          ],
          "scatter": [
           {
            "marker": {
             "colorbar": {
              "outlinewidth": 0,
              "ticks": ""
             }
            },
            "type": "scatter"
           }
          ],
          "scatter3d": [
           {
            "line": {
             "colorbar": {
              "outlinewidth": 0,
              "ticks": ""
             }
            },
            "marker": {
             "colorbar": {
              "outlinewidth": 0,
              "ticks": ""
             }
            },
            "type": "scatter3d"
           }
          ],
          "scattercarpet": [
           {
            "marker": {
             "colorbar": {
              "outlinewidth": 0,
              "ticks": ""
             }
            },
            "type": "scattercarpet"
           }
          ],
          "scattergeo": [
           {
            "marker": {
             "colorbar": {
              "outlinewidth": 0,
              "ticks": ""
             }
            },
            "type": "scattergeo"
           }
          ],
          "scattergl": [
           {
            "marker": {
             "colorbar": {
              "outlinewidth": 0,
              "ticks": ""
             }
            },
            "type": "scattergl"
           }
          ],
          "scattermapbox": [
           {
            "marker": {
             "colorbar": {
              "outlinewidth": 0,
              "ticks": ""
             }
            },
            "type": "scattermapbox"
           }
          ],
          "scatterpolar": [
           {
            "marker": {
             "colorbar": {
              "outlinewidth": 0,
              "ticks": ""
             }
            },
            "type": "scatterpolar"
           }
          ],
          "scatterpolargl": [
           {
            "marker": {
             "colorbar": {
              "outlinewidth": 0,
              "ticks": ""
             }
            },
            "type": "scatterpolargl"
           }
          ],
          "scatterternary": [
           {
            "marker": {
             "colorbar": {
              "outlinewidth": 0,
              "ticks": ""
             }
            },
            "type": "scatterternary"
           }
          ],
          "surface": [
           {
            "colorbar": {
             "outlinewidth": 0,
             "ticks": ""
            },
            "colorscale": [
             [
              0,
              "#0d0887"
             ],
             [
              0.1111111111111111,
              "#46039f"
             ],
             [
              0.2222222222222222,
              "#7201a8"
             ],
             [
              0.3333333333333333,
              "#9c179e"
             ],
             [
              0.4444444444444444,
              "#bd3786"
             ],
             [
              0.5555555555555556,
              "#d8576b"
             ],
             [
              0.6666666666666666,
              "#ed7953"
             ],
             [
              0.7777777777777778,
              "#fb9f3a"
             ],
             [
              0.8888888888888888,
              "#fdca26"
             ],
             [
              1,
              "#f0f921"
             ]
            ],
            "type": "surface"
           }
          ],
          "table": [
           {
            "cells": {
             "fill": {
              "color": "#EBF0F8"
             },
             "line": {
              "color": "white"
             }
            },
            "header": {
             "fill": {
              "color": "#C8D4E3"
             },
             "line": {
              "color": "white"
             }
            },
            "type": "table"
           }
          ]
         },
         "layout": {
          "annotationdefaults": {
           "arrowcolor": "#2a3f5f",
           "arrowhead": 0,
           "arrowwidth": 1
          },
          "coloraxis": {
           "colorbar": {
            "outlinewidth": 0,
            "ticks": ""
           }
          },
          "colorscale": {
           "diverging": [
            [
             0,
             "#8e0152"
            ],
            [
             0.1,
             "#c51b7d"
            ],
            [
             0.2,
             "#de77ae"
            ],
            [
             0.3,
             "#f1b6da"
            ],
            [
             0.4,
             "#fde0ef"
            ],
            [
             0.5,
             "#f7f7f7"
            ],
            [
             0.6,
             "#e6f5d0"
            ],
            [
             0.7,
             "#b8e186"
            ],
            [
             0.8,
             "#7fbc41"
            ],
            [
             0.9,
             "#4d9221"
            ],
            [
             1,
             "#276419"
            ]
           ],
           "sequential": [
            [
             0,
             "#0d0887"
            ],
            [
             0.1111111111111111,
             "#46039f"
            ],
            [
             0.2222222222222222,
             "#7201a8"
            ],
            [
             0.3333333333333333,
             "#9c179e"
            ],
            [
             0.4444444444444444,
             "#bd3786"
            ],
            [
             0.5555555555555556,
             "#d8576b"
            ],
            [
             0.6666666666666666,
             "#ed7953"
            ],
            [
             0.7777777777777778,
             "#fb9f3a"
            ],
            [
             0.8888888888888888,
             "#fdca26"
            ],
            [
             1,
             "#f0f921"
            ]
           ],
           "sequentialminus": [
            [
             0,
             "#0d0887"
            ],
            [
             0.1111111111111111,
             "#46039f"
            ],
            [
             0.2222222222222222,
             "#7201a8"
            ],
            [
             0.3333333333333333,
             "#9c179e"
            ],
            [
             0.4444444444444444,
             "#bd3786"
            ],
            [
             0.5555555555555556,
             "#d8576b"
            ],
            [
             0.6666666666666666,
             "#ed7953"
            ],
            [
             0.7777777777777778,
             "#fb9f3a"
            ],
            [
             0.8888888888888888,
             "#fdca26"
            ],
            [
             1,
             "#f0f921"
            ]
           ]
          },
          "colorway": [
           "#636efa",
           "#EF553B",
           "#00cc96",
           "#ab63fa",
           "#FFA15A",
           "#19d3f3",
           "#FF6692",
           "#B6E880",
           "#FF97FF",
           "#FECB52"
          ],
          "font": {
           "color": "#2a3f5f"
          },
          "geo": {
           "bgcolor": "white",
           "lakecolor": "white",
           "landcolor": "#E5ECF6",
           "showlakes": true,
           "showland": true,
           "subunitcolor": "white"
          },
          "hoverlabel": {
           "align": "left"
          },
          "hovermode": "closest",
          "mapbox": {
           "style": "light"
          },
          "paper_bgcolor": "white",
          "plot_bgcolor": "#E5ECF6",
          "polar": {
           "angularaxis": {
            "gridcolor": "white",
            "linecolor": "white",
            "ticks": ""
           },
           "bgcolor": "#E5ECF6",
           "radialaxis": {
            "gridcolor": "white",
            "linecolor": "white",
            "ticks": ""
           }
          },
          "scene": {
           "xaxis": {
            "backgroundcolor": "#E5ECF6",
            "gridcolor": "white",
            "gridwidth": 2,
            "linecolor": "white",
            "showbackground": true,
            "ticks": "",
            "zerolinecolor": "white"
           },
           "yaxis": {
            "backgroundcolor": "#E5ECF6",
            "gridcolor": "white",
            "gridwidth": 2,
            "linecolor": "white",
            "showbackground": true,
            "ticks": "",
            "zerolinecolor": "white"
           },
           "zaxis": {
            "backgroundcolor": "#E5ECF6",
            "gridcolor": "white",
            "gridwidth": 2,
            "linecolor": "white",
            "showbackground": true,
            "ticks": "",
            "zerolinecolor": "white"
           }
          },
          "shapedefaults": {
           "line": {
            "color": "#2a3f5f"
           }
          },
          "ternary": {
           "aaxis": {
            "gridcolor": "white",
            "linecolor": "white",
            "ticks": ""
           },
           "baxis": {
            "gridcolor": "white",
            "linecolor": "white",
            "ticks": ""
           },
           "bgcolor": "#E5ECF6",
           "caxis": {
            "gridcolor": "white",
            "linecolor": "white",
            "ticks": ""
           }
          },
          "title": {
           "x": 0.05
          },
          "xaxis": {
           "automargin": true,
           "gridcolor": "white",
           "linecolor": "white",
           "ticks": "",
           "title": {
            "standoff": 15
           },
           "zerolinecolor": "white",
           "zerolinewidth": 2
          },
          "yaxis": {
           "automargin": true,
           "gridcolor": "white",
           "linecolor": "white",
           "ticks": "",
           "title": {
            "standoff": 15
           },
           "zerolinecolor": "white",
           "zerolinewidth": 2
          }
         }
        },
        "title": {
         "font": {
          "color": "#4D5663"
         }
        },
        "xaxis": {
         "gridcolor": "#E1E5ED",
         "showgrid": true,
         "tickfont": {
          "color": "#4D5663"
         },
         "title": {
          "font": {
           "color": "#4D5663"
          },
          "text": ""
         },
         "zerolinecolor": "#E1E5ED"
        },
        "yaxis": {
         "gridcolor": "#E1E5ED",
         "showgrid": true,
         "tickfont": {
          "color": "#4D5663"
         },
         "title": {
          "font": {
           "color": "#4D5663"
          },
          "text": ""
         },
         "zerolinecolor": "#E1E5ED"
        }
       }
      },
      "text/html": [
       "<div>\n",
       "        \n",
       "        \n",
       "            <div id=\"baaef1f6-2288-47bf-99b5-dc34244abda2\" class=\"plotly-graph-div\" style=\"height:525px; width:100%;\"></div>\n",
       "            <script type=\"text/javascript\">\n",
       "                require([\"plotly\"], function(Plotly) {\n",
       "                    window.PLOTLYENV=window.PLOTLYENV || {};\n",
       "                    window.PLOTLYENV.BASE_URL='https://plot.ly';\n",
       "                    \n",
       "                if (document.getElementById(\"baaef1f6-2288-47bf-99b5-dc34244abda2\")) {\n",
       "                    Plotly.newPlot(\n",
       "                        'baaef1f6-2288-47bf-99b5-dc34244abda2',\n",
       "                        [{\"marker\": {\"color\": \"rgba(255, 153, 51, 0.6)\", \"line\": {\"color\": \"rgba(255, 153, 51, 1.0)\", \"width\": 1}}, \"name\": \"None\", \"orientation\": \"v\", \"text\": \"\", \"type\": \"bar\", \"x\": [\"A\", \"B\", \"C\", \"D\"], \"y\": [-21.99034080488715, 0.655154824587535, 5.840592165439384, -8.079244022439193]}],\n",
       "                        {\"legend\": {\"bgcolor\": \"#F5F6F9\", \"font\": {\"color\": \"#4D5663\"}}, \"paper_bgcolor\": \"#F5F6F9\", \"plot_bgcolor\": \"#F5F6F9\", \"template\": {\"data\": {\"bar\": [{\"error_x\": {\"color\": \"#2a3f5f\"}, \"error_y\": {\"color\": \"#2a3f5f\"}, \"marker\": {\"line\": {\"color\": \"#E5ECF6\", \"width\": 0.5}}, \"type\": \"bar\"}], \"barpolar\": [{\"marker\": {\"line\": {\"color\": \"#E5ECF6\", \"width\": 0.5}}, \"type\": \"barpolar\"}], \"carpet\": [{\"aaxis\": {\"endlinecolor\": \"#2a3f5f\", \"gridcolor\": \"white\", \"linecolor\": \"white\", \"minorgridcolor\": \"white\", \"startlinecolor\": \"#2a3f5f\"}, \"baxis\": {\"endlinecolor\": \"#2a3f5f\", \"gridcolor\": \"white\", \"linecolor\": \"white\", \"minorgridcolor\": \"white\", \"startlinecolor\": \"#2a3f5f\"}, \"type\": \"carpet\"}], \"choropleth\": [{\"colorbar\": {\"outlinewidth\": 0, \"ticks\": \"\"}, \"type\": \"choropleth\"}], \"contour\": [{\"colorbar\": {\"outlinewidth\": 0, \"ticks\": \"\"}, \"colorscale\": [[0.0, \"#0d0887\"], [0.1111111111111111, \"#46039f\"], [0.2222222222222222, \"#7201a8\"], [0.3333333333333333, \"#9c179e\"], [0.4444444444444444, \"#bd3786\"], [0.5555555555555556, \"#d8576b\"], [0.6666666666666666, \"#ed7953\"], [0.7777777777777778, \"#fb9f3a\"], [0.8888888888888888, \"#fdca26\"], [1.0, \"#f0f921\"]], \"type\": \"contour\"}], \"contourcarpet\": [{\"colorbar\": {\"outlinewidth\": 0, \"ticks\": \"\"}, \"type\": \"contourcarpet\"}], \"heatmap\": [{\"colorbar\": {\"outlinewidth\": 0, \"ticks\": \"\"}, \"colorscale\": [[0.0, \"#0d0887\"], [0.1111111111111111, \"#46039f\"], [0.2222222222222222, \"#7201a8\"], [0.3333333333333333, \"#9c179e\"], [0.4444444444444444, \"#bd3786\"], [0.5555555555555556, \"#d8576b\"], [0.6666666666666666, \"#ed7953\"], [0.7777777777777778, \"#fb9f3a\"], [0.8888888888888888, \"#fdca26\"], [1.0, \"#f0f921\"]], \"type\": \"heatmap\"}], \"heatmapgl\": [{\"colorbar\": {\"outlinewidth\": 0, \"ticks\": \"\"}, \"colorscale\": [[0.0, \"#0d0887\"], [0.1111111111111111, \"#46039f\"], [0.2222222222222222, \"#7201a8\"], [0.3333333333333333, \"#9c179e\"], [0.4444444444444444, \"#bd3786\"], [0.5555555555555556, \"#d8576b\"], [0.6666666666666666, \"#ed7953\"], [0.7777777777777778, \"#fb9f3a\"], [0.8888888888888888, \"#fdca26\"], [1.0, \"#f0f921\"]], \"type\": \"heatmapgl\"}], \"histogram\": [{\"marker\": {\"colorbar\": {\"outlinewidth\": 0, \"ticks\": \"\"}}, \"type\": \"histogram\"}], \"histogram2d\": [{\"colorbar\": {\"outlinewidth\": 0, \"ticks\": \"\"}, \"colorscale\": [[0.0, \"#0d0887\"], [0.1111111111111111, \"#46039f\"], [0.2222222222222222, \"#7201a8\"], [0.3333333333333333, \"#9c179e\"], [0.4444444444444444, \"#bd3786\"], [0.5555555555555556, \"#d8576b\"], [0.6666666666666666, \"#ed7953\"], [0.7777777777777778, \"#fb9f3a\"], [0.8888888888888888, \"#fdca26\"], [1.0, \"#f0f921\"]], \"type\": \"histogram2d\"}], \"histogram2dcontour\": [{\"colorbar\": {\"outlinewidth\": 0, \"ticks\": \"\"}, \"colorscale\": [[0.0, \"#0d0887\"], [0.1111111111111111, \"#46039f\"], [0.2222222222222222, \"#7201a8\"], [0.3333333333333333, \"#9c179e\"], [0.4444444444444444, \"#bd3786\"], [0.5555555555555556, \"#d8576b\"], [0.6666666666666666, \"#ed7953\"], [0.7777777777777778, \"#fb9f3a\"], [0.8888888888888888, \"#fdca26\"], [1.0, \"#f0f921\"]], \"type\": \"histogram2dcontour\"}], \"mesh3d\": [{\"colorbar\": {\"outlinewidth\": 0, \"ticks\": \"\"}, \"type\": \"mesh3d\"}], \"parcoords\": [{\"line\": {\"colorbar\": {\"outlinewidth\": 0, \"ticks\": \"\"}}, \"type\": \"parcoords\"}], \"pie\": [{\"automargin\": true, \"type\": \"pie\"}], \"scatter\": [{\"marker\": {\"colorbar\": {\"outlinewidth\": 0, \"ticks\": \"\"}}, \"type\": \"scatter\"}], \"scatter3d\": [{\"line\": {\"colorbar\": {\"outlinewidth\": 0, \"ticks\": \"\"}}, \"marker\": {\"colorbar\": {\"outlinewidth\": 0, \"ticks\": \"\"}}, \"type\": \"scatter3d\"}], \"scattercarpet\": [{\"marker\": {\"colorbar\": {\"outlinewidth\": 0, \"ticks\": \"\"}}, \"type\": \"scattercarpet\"}], \"scattergeo\": [{\"marker\": {\"colorbar\": {\"outlinewidth\": 0, \"ticks\": \"\"}}, \"type\": \"scattergeo\"}], \"scattergl\": [{\"marker\": {\"colorbar\": {\"outlinewidth\": 0, \"ticks\": \"\"}}, \"type\": \"scattergl\"}], \"scattermapbox\": [{\"marker\": {\"colorbar\": {\"outlinewidth\": 0, \"ticks\": \"\"}}, \"type\": \"scattermapbox\"}], \"scatterpolar\": [{\"marker\": {\"colorbar\": {\"outlinewidth\": 0, \"ticks\": \"\"}}, \"type\": \"scatterpolar\"}], \"scatterpolargl\": [{\"marker\": {\"colorbar\": {\"outlinewidth\": 0, \"ticks\": \"\"}}, \"type\": \"scatterpolargl\"}], \"scatterternary\": [{\"marker\": {\"colorbar\": {\"outlinewidth\": 0, \"ticks\": \"\"}}, \"type\": \"scatterternary\"}], \"surface\": [{\"colorbar\": {\"outlinewidth\": 0, \"ticks\": \"\"}, \"colorscale\": [[0.0, \"#0d0887\"], [0.1111111111111111, \"#46039f\"], [0.2222222222222222, \"#7201a8\"], [0.3333333333333333, \"#9c179e\"], [0.4444444444444444, \"#bd3786\"], [0.5555555555555556, \"#d8576b\"], [0.6666666666666666, \"#ed7953\"], [0.7777777777777778, \"#fb9f3a\"], [0.8888888888888888, \"#fdca26\"], [1.0, \"#f0f921\"]], \"type\": \"surface\"}], \"table\": [{\"cells\": {\"fill\": {\"color\": \"#EBF0F8\"}, \"line\": {\"color\": \"white\"}}, \"header\": {\"fill\": {\"color\": \"#C8D4E3\"}, \"line\": {\"color\": \"white\"}}, \"type\": \"table\"}]}, \"layout\": {\"annotationdefaults\": {\"arrowcolor\": \"#2a3f5f\", \"arrowhead\": 0, \"arrowwidth\": 1}, \"coloraxis\": {\"colorbar\": {\"outlinewidth\": 0, \"ticks\": \"\"}}, \"colorscale\": {\"diverging\": [[0, \"#8e0152\"], [0.1, \"#c51b7d\"], [0.2, \"#de77ae\"], [0.3, \"#f1b6da\"], [0.4, \"#fde0ef\"], [0.5, \"#f7f7f7\"], [0.6, \"#e6f5d0\"], [0.7, \"#b8e186\"], [0.8, \"#7fbc41\"], [0.9, \"#4d9221\"], [1, \"#276419\"]], \"sequential\": [[0.0, \"#0d0887\"], [0.1111111111111111, \"#46039f\"], [0.2222222222222222, \"#7201a8\"], [0.3333333333333333, \"#9c179e\"], [0.4444444444444444, \"#bd3786\"], [0.5555555555555556, \"#d8576b\"], [0.6666666666666666, \"#ed7953\"], [0.7777777777777778, \"#fb9f3a\"], [0.8888888888888888, \"#fdca26\"], [1.0, \"#f0f921\"]], \"sequentialminus\": [[0.0, \"#0d0887\"], [0.1111111111111111, \"#46039f\"], [0.2222222222222222, \"#7201a8\"], [0.3333333333333333, \"#9c179e\"], [0.4444444444444444, \"#bd3786\"], [0.5555555555555556, \"#d8576b\"], [0.6666666666666666, \"#ed7953\"], [0.7777777777777778, \"#fb9f3a\"], [0.8888888888888888, \"#fdca26\"], [1.0, \"#f0f921\"]]}, \"colorway\": [\"#636efa\", \"#EF553B\", \"#00cc96\", \"#ab63fa\", \"#FFA15A\", \"#19d3f3\", \"#FF6692\", \"#B6E880\", \"#FF97FF\", \"#FECB52\"], \"font\": {\"color\": \"#2a3f5f\"}, \"geo\": {\"bgcolor\": \"white\", \"lakecolor\": \"white\", \"landcolor\": \"#E5ECF6\", \"showlakes\": true, \"showland\": true, \"subunitcolor\": \"white\"}, \"hoverlabel\": {\"align\": \"left\"}, \"hovermode\": \"closest\", \"mapbox\": {\"style\": \"light\"}, \"paper_bgcolor\": \"white\", \"plot_bgcolor\": \"#E5ECF6\", \"polar\": {\"angularaxis\": {\"gridcolor\": \"white\", \"linecolor\": \"white\", \"ticks\": \"\"}, \"bgcolor\": \"#E5ECF6\", \"radialaxis\": {\"gridcolor\": \"white\", \"linecolor\": \"white\", \"ticks\": \"\"}}, \"scene\": {\"xaxis\": {\"backgroundcolor\": \"#E5ECF6\", \"gridcolor\": \"white\", \"gridwidth\": 2, \"linecolor\": \"white\", \"showbackground\": true, \"ticks\": \"\", \"zerolinecolor\": \"white\"}, \"yaxis\": {\"backgroundcolor\": \"#E5ECF6\", \"gridcolor\": \"white\", \"gridwidth\": 2, \"linecolor\": \"white\", \"showbackground\": true, \"ticks\": \"\", \"zerolinecolor\": \"white\"}, \"zaxis\": {\"backgroundcolor\": \"#E5ECF6\", \"gridcolor\": \"white\", \"gridwidth\": 2, \"linecolor\": \"white\", \"showbackground\": true, \"ticks\": \"\", \"zerolinecolor\": \"white\"}}, \"shapedefaults\": {\"line\": {\"color\": \"#2a3f5f\"}}, \"ternary\": {\"aaxis\": {\"gridcolor\": \"white\", \"linecolor\": \"white\", \"ticks\": \"\"}, \"baxis\": {\"gridcolor\": \"white\", \"linecolor\": \"white\", \"ticks\": \"\"}, \"bgcolor\": \"#E5ECF6\", \"caxis\": {\"gridcolor\": \"white\", \"linecolor\": \"white\", \"ticks\": \"\"}}, \"title\": {\"x\": 0.05}, \"xaxis\": {\"automargin\": true, \"gridcolor\": \"white\", \"linecolor\": \"white\", \"ticks\": \"\", \"title\": {\"standoff\": 15}, \"zerolinecolor\": \"white\", \"zerolinewidth\": 2}, \"yaxis\": {\"automargin\": true, \"gridcolor\": \"white\", \"linecolor\": \"white\", \"ticks\": \"\", \"title\": {\"standoff\": 15}, \"zerolinecolor\": \"white\", \"zerolinewidth\": 2}}}, \"title\": {\"font\": {\"color\": \"#4D5663\"}}, \"xaxis\": {\"gridcolor\": \"#E1E5ED\", \"showgrid\": true, \"tickfont\": {\"color\": \"#4D5663\"}, \"title\": {\"font\": {\"color\": \"#4D5663\"}, \"text\": \"\"}, \"zerolinecolor\": \"#E1E5ED\"}, \"yaxis\": {\"gridcolor\": \"#E1E5ED\", \"showgrid\": true, \"tickfont\": {\"color\": \"#4D5663\"}, \"title\": {\"font\": {\"color\": \"#4D5663\"}, \"text\": \"\"}, \"zerolinecolor\": \"#E1E5ED\"}},\n",
       "                        {\"showLink\": true, \"linkText\": \"Export to plot.ly\", \"plotlyServerURL\": \"https://plot.ly\", \"responsive\": true}\n",
       "                    ).then(function(){\n",
       "                            \n",
       "var gd = document.getElementById('baaef1f6-2288-47bf-99b5-dc34244abda2');\n",
       "var x = new MutationObserver(function (mutations, observer) {{\n",
       "        var display = window.getComputedStyle(gd).display;\n",
       "        if (!display || display === 'none') {{\n",
       "            console.log([gd, 'removed!']);\n",
       "            Plotly.purge(gd);\n",
       "            observer.disconnect();\n",
       "        }}\n",
       "}});\n",
       "\n",
       "// Listen for the removal of the full notebook cells\n",
       "var notebookContainer = gd.closest('#notebook-container');\n",
       "if (notebookContainer) {{\n",
       "    x.observe(notebookContainer, {childList: true});\n",
       "}}\n",
       "\n",
       "// Listen for the clearing of the current output cell\n",
       "var outputEl = gd.closest('.output');\n",
       "if (outputEl) {{\n",
       "    x.observe(outputEl, {childList: true});\n",
       "}}\n",
       "\n",
       "                        })\n",
       "                };\n",
       "                });\n",
       "            </script>\n",
       "        </div>"
      ]
     },
     "metadata": {},
     "output_type": "display_data"
    }
   ],
   "source": [
    "df.sum().iplot(kind='bar')"
   ]
  },
  {
   "cell_type": "code",
   "execution_count": 48,
   "metadata": {},
   "outputs": [
    {
     "data": {
      "application/vnd.plotly.v1+json": {
       "config": {
        "linkText": "Export to plot.ly",
        "plotlyServerURL": "https://plot.ly",
        "showLink": true
       },
       "data": [
        {
         "boxpoints": false,
         "line": {
          "width": 1.3
         },
         "marker": {
          "color": "rgba(255, 153, 51, 1.0)"
         },
         "name": "A",
         "orientation": "v",
         "type": "box",
         "y": [
          1.0568048367540321,
          -1.3498353277992474,
          -0.016590310967857964,
          0.35660732790600963,
          1.0193834962395287,
          0.8491903166284471,
          -0.270898010060361,
          -0.392709340199791,
          -2.7680493355073525,
          -0.9598449509727272,
          0.02486210535174598,
          -0.08209894073442042,
          1.3004359980675626,
          -1.58538400423906,
          0.0669781081316911,
          0.640025802146375,
          -0.21302066961046895,
          -1.235796292702241,
          -0.1309253051050104,
          -0.31643267250308843,
          0.03258708757811836,
          -0.3380255243770623,
          -0.22179719829268574,
          -0.46447982740594784,
          -0.7481879251469615,
          -1.8848112593418178,
          1.091188842324186,
          -1.002344407821016,
          0.3490115434488426,
          -1.0674123492812189,
          -0.6698990082688834,
          -0.5799795584411399,
          -0.06921656663627403,
          -1.6351975314526448,
          0.7106115831459313,
          1.194971214763005,
          0.11625479261911345,
          -1.934252919633813,
          0.11913041768822805,
          0.11132345496649837,
          1.389596749030748,
          -1.2171163369994655,
          1.2045581848905342,
          0.5820052642283193,
          -1.708114214802915,
          1.506653156239142,
          -0.9254490674897976,
          1.2409940264229145,
          0.2074483106758396,
          -1.3596588313168947,
          -2.390481486655998,
          -1.4566179541064537,
          -0.1836022258305617,
          -0.21501553404228868,
          -0.29215975665065563,
          1.6432342936542375,
          -0.07861297341559388,
          -2.19928517475691,
          0.7440934149815865,
          -1.184472526598871,
          -1.2162389598474177,
          0.1884059181021502,
          -1.5723531833999829,
          -1.3997371771754998,
          1.1481860646913822,
          -0.9789763321605593,
          -1.9138376620999613,
          -0.6331452017050753,
          0.7740822611022451,
          0.5258410109353289,
          0.819021535691631,
          -1.2739877143475504,
          -0.4999464290112291,
          -0.11030684358193382,
          0.2888305237105291,
          -0.5203727627946619,
          0.05106433226799674,
          -0.5982765768873508,
          0.9655105887234117,
          1.435008557832391,
          0.4183410289076339,
          1.7880526163669672,
          0.3332612477805044,
          -0.46462131549385466,
          -0.7495203318644134,
          0.8658306751167946,
          -0.7008970126949282,
          -1.2842726652184249,
          -0.4759677234328119,
          -1.215534764436904,
          -0.4894621529285363,
          1.2034829395601145,
          -1.8424285969117682,
          -1.0479601268610481,
          1.2913471557834049,
          -0.5675730197363626,
          0.4706223082609923,
          0.8438922504243296,
          0.2755981536419486,
          -0.5314784299117727
         ]
        },
        {
         "boxpoints": false,
         "line": {
          "width": 1.3
         },
         "marker": {
          "color": "rgba(55, 128, 191, 1.0)"
         },
         "name": "B",
         "orientation": "v",
         "type": "box",
         "y": [
          0.48107134908112026,
          -1.6795123804935181,
          -1.407520137520341,
          0.6956647126875344,
          -0.8244186266256153,
          0.4651753314936174,
          1.3326443659961662,
          0.6712892112247183,
          -0.03678809166099367,
          -0.37571841568415526,
          -1.0933104414806638,
          1.0244520712000555,
          -1.6774374423985707,
          0.27825921049731706,
          -0.10656048173528182,
          -0.16266515491632585,
          -1.477859361988607,
          0.5755268284581758,
          -0.9848408514619815,
          1.1337930138402854,
          -2.1093063248932107,
          0.6732453387771199,
          1.0304751255639024,
          1.3442197800221123,
          -1.2994725083624141,
          0.24770923969024355,
          0.38001451435852873,
          0.6510217733836621,
          -1.334809357106278,
          -0.32591102686090045,
          0.33883289533284516,
          -0.6396342151768055,
          0.962462618516548,
          -0.3296481883115337,
          1.0539582266267544,
          -0.48849257687259584,
          -0.32932544514589285,
          -1.4021026631022075,
          0.4399519109122479,
          0.8165453632315621,
          0.17029682658018525,
          -1.539884876142449,
          -0.5290558912633045,
          -0.8862205911488811,
          1.503260759181969,
          1.2904641364329443,
          0.817464070671576,
          0.25455108264994014,
          0.6612696163441858,
          0.6148495307606112,
          -0.2443472940420814,
          -0.1502214269589789,
          0.29709144796356207,
          0.26233398363187316,
          -1.3859941884922815,
          -0.45976975796464326,
          0.17877088761322477,
          -1.7265360004559602,
          -0.2101124096705694,
          -2.1667428687019026,
          0.18014866395562953,
          0.17096478975414062,
          -0.6964272661332754,
          1.3526202915153194,
          0.8585059112481627,
          -0.472753727105893,
          1.5100650061692027,
          0.4439906420214673,
          -1.465584592157141,
          -0.8229300005118391,
          1.5114509544733574,
          0.5364040103244894,
          -0.6760154676033024,
          -0.12257777263745659,
          -0.028732704593448222,
          -1.6222251014678108,
          1.2862804917367132,
          0.15023697198365754,
          1.6432990060257577,
          -0.9471220749054257,
          -0.9861439162556745,
          0.9130666364117548,
          0.1790282336824031,
          1.6077357010516404,
          1.203379636178235,
          -0.8228046441290212,
          -1.8235900825357745,
          -1.0936356335033228,
          -0.2686300201689464,
          0.7704305152906291,
          1.9938798698875142,
          1.3775740544428223,
          -0.3965660112358336,
          -0.3414272326891216,
          -0.1138789943091023,
          -0.21589954976034614,
          0.3075242917985286,
          0.6432017039579504,
          0.08825291761810869,
          1.5816130906771417
         ]
        },
        {
         "boxpoints": false,
         "line": {
          "width": 1.3
         },
         "marker": {
          "color": "rgba(50, 171, 96, 1.0)"
         },
         "name": "C",
         "orientation": "v",
         "type": "box",
         "y": [
          -0.04832900612696817,
          -2.0552643470456307,
          1.23401808345776,
          1.7622048722279813,
          0.36558461414403454,
          1.5271193614857776,
          -0.11698965638849242,
          0.550877172276358,
          -0.18563025943375833,
          1.4046676703240801,
          -0.8923087515065036,
          -0.13497956516275023,
          0.0710977571789828,
          1.0614963310633692,
          0.7192133147377471,
          -0.7730472669486539,
          -0.7735920559571068,
          1.3688275969976738,
          0.9978091168302472,
          -0.14855973087387733,
          1.4389636472969352,
          0.463317487552831,
          0.4057962919525643,
          1.2409096014807675,
          -1.7981095491668768,
          -0.9737923820099355,
          -0.35343715695543854,
          -1.8431487538919407,
          -0.9635654940207634,
          -1.1123087567053498,
          0.2671661522206472,
          1.1624384050292622,
          -0.1671491618727415,
          0.09287564079951659,
          0.7719803507484746,
          0.25083532191382685,
          -1.2609727534308801,
          2.3558529106906345,
          -0.44250445937162747,
          -0.7467504601879799,
          -0.7198816365344325,
          -0.0339315665844702,
          0.5497512879724022,
          -0.3480524571619145,
          1.3768723354357362,
          1.2502034702732656,
          -0.4012274215203553,
          -0.2897737272678843,
          -1.0084326249052749,
          -0.041878491458556794,
          0.44192348379906643,
          -0.7067919348103693,
          -2.0158581243719778,
          1.519170754551979,
          -0.1602334895148967,
          -0.31987479518621237,
          -0.6341683758785682,
          -0.781009411884995,
          -0.2340528015742706,
          1.156470066863848,
          0.46127659902382545,
          0.5105671736507841,
          -2.189845693455042,
          0.4432675837308323,
          -1.1516814536026996,
          1.330748998222132,
          -0.6477011655976501,
          -0.026451195793421024,
          0.7009205597371548,
          -0.31398659371351423,
          -0.027173796204393034,
          0.7491544167403303,
          -1.9744604698376598,
          0.8608338555104487,
          -0.661737329113762,
          -0.5835026639312187,
          0.37539850136357034,
          1.8791397847625453,
          2.6984625358394454,
          0.9477096198568582,
          1.4705140165414279,
          -0.010514932472564067,
          1.276061278128099,
          1.0617667814236433,
          -2.512910427219062,
          1.339337758066956,
          -0.09495253544489847,
          0.11448683196821172,
          -1.230759772499085,
          1.1776767045274097,
          -0.39700160277569996,
          -0.2847822529590679,
          -1.2984210140560033,
          -1.697273398143285,
          -0.03374651544880042,
          -1.347737876485818,
          0.9598283623694468,
          0.27478388842535423,
          0.2146777232449316,
          0.1567832074653066
         ]
        },
        {
         "boxpoints": false,
         "line": {
          "width": 1.3
         },
         "marker": {
          "color": "rgba(128, 0, 128, 1.0)"
         },
         "name": "D",
         "orientation": "v",
         "type": "box",
         "y": [
          -0.2877134611778512,
          -0.415408231157268,
          -0.6731520956489023,
          0.11699835543967516,
          0.46108847414264864,
          -2.075749395948886,
          0.8134228721343691,
          -0.4171307815190678,
          1.0482344785197288,
          -0.5629315106277006,
          1.4045304971214088,
          -1.0036668984369883,
          -0.9863531301805152,
          -0.25807014173809195,
          0.006645526873550916,
          -0.3653241514796089,
          1.4836009543157784,
          1.440594840565873,
          -0.4683992654901319,
          1.0598744136647218,
          0.44542094220103995,
          -1.3036291372168698,
          0.4330958917310685,
          1.098880423945254,
          0.7912876255644647,
          -0.5153633833927447,
          0.34099595343274336,
          0.8289978197175643,
          1.2860921268160947,
          0.3368732252553157,
          -0.7886462598062345,
          -0.20660566142886636,
          -2.0332644633856414,
          -0.45084749186519113,
          1.5395248206983076,
          1.033488658632085,
          0.4770679157842925,
          1.5196634218257068,
          -1.2454550882900453,
          -0.49410816685358944,
          -1.9660433649871147,
          0.2610976675087106,
          -1.3363618123521568,
          -0.8672949069980124,
          -1.358341898024915,
          0.0985918064728073,
          0.10822160952696296,
          -1.7743962812944087,
          -0.34752270013412295,
          -1.4942403930610262,
          1.1235033870989883,
          1.0245166435319117,
          -0.3864490739769507,
          -1.3471165599982078,
          0.3706148647365652,
          -0.5162107363096655,
          0.9760832195066462,
          -0.15633400980662576,
          -0.496568500607371,
          -0.5439552377990234,
          -0.8833587494428198,
          -0.38500838562199147,
          -0.34059551833802226,
          2.555474453517577,
          -0.5489839462842704,
          0.23018097576502303,
          -0.002817578108877567,
          -1.953011296752301,
          -0.6357711373245285,
          -1.1219490175131321,
          0.07138034873712855,
          0.5236003404531173,
          0.932465243848728,
          -1.231077256495407,
          -0.1937006848204315,
          1.4592991862128464,
          1.546286129842861,
          -0.19601189357771362,
          0.5391848728347883,
          -0.1427679427449153,
          0.1805286690674597,
          1.442595958836891,
          -0.9600127241696688,
          -0.4762769319570404,
          0.5771531798071556,
          1.2941334448093476,
          -1.0773538097917301,
          0.47556825223577,
          -0.9752553106665932,
          -1.032965092659648,
          -1.1155748598027806,
          0.25668015767886654,
          -0.8814739191660805,
          -0.22082829609725307,
          -1.3489726852465749,
          -0.5176821631863701,
          0.9882380031744157,
          0.24039272505477224,
          -0.21586922453230434,
          0.2785582142140259
         ]
        }
       ],
       "layout": {
        "legend": {
         "bgcolor": "#F5F6F9",
         "font": {
          "color": "#4D5663"
         }
        },
        "paper_bgcolor": "#F5F6F9",
        "plot_bgcolor": "#F5F6F9",
        "template": {
         "data": {
          "bar": [
           {
            "error_x": {
             "color": "#2a3f5f"
            },
            "error_y": {
             "color": "#2a3f5f"
            },
            "marker": {
             "line": {
              "color": "#E5ECF6",
              "width": 0.5
             }
            },
            "type": "bar"
           }
          ],
          "barpolar": [
           {
            "marker": {
             "line": {
              "color": "#E5ECF6",
              "width": 0.5
             }
            },
            "type": "barpolar"
           }
          ],
          "carpet": [
           {
            "aaxis": {
             "endlinecolor": "#2a3f5f",
             "gridcolor": "white",
             "linecolor": "white",
             "minorgridcolor": "white",
             "startlinecolor": "#2a3f5f"
            },
            "baxis": {
             "endlinecolor": "#2a3f5f",
             "gridcolor": "white",
             "linecolor": "white",
             "minorgridcolor": "white",
             "startlinecolor": "#2a3f5f"
            },
            "type": "carpet"
           }
          ],
          "choropleth": [
           {
            "colorbar": {
             "outlinewidth": 0,
             "ticks": ""
            },
            "type": "choropleth"
           }
          ],
          "contour": [
           {
            "colorbar": {
             "outlinewidth": 0,
             "ticks": ""
            },
            "colorscale": [
             [
              0,
              "#0d0887"
             ],
             [
              0.1111111111111111,
              "#46039f"
             ],
             [
              0.2222222222222222,
              "#7201a8"
             ],
             [
              0.3333333333333333,
              "#9c179e"
             ],
             [
              0.4444444444444444,
              "#bd3786"
             ],
             [
              0.5555555555555556,
              "#d8576b"
             ],
             [
              0.6666666666666666,
              "#ed7953"
             ],
             [
              0.7777777777777778,
              "#fb9f3a"
             ],
             [
              0.8888888888888888,
              "#fdca26"
             ],
             [
              1,
              "#f0f921"
             ]
            ],
            "type": "contour"
           }
          ],
          "contourcarpet": [
           {
            "colorbar": {
             "outlinewidth": 0,
             "ticks": ""
            },
            "type": "contourcarpet"
           }
          ],
          "heatmap": [
           {
            "colorbar": {
             "outlinewidth": 0,
             "ticks": ""
            },
            "colorscale": [
             [
              0,
              "#0d0887"
             ],
             [
              0.1111111111111111,
              "#46039f"
             ],
             [
              0.2222222222222222,
              "#7201a8"
             ],
             [
              0.3333333333333333,
              "#9c179e"
             ],
             [
              0.4444444444444444,
              "#bd3786"
             ],
             [
              0.5555555555555556,
              "#d8576b"
             ],
             [
              0.6666666666666666,
              "#ed7953"
             ],
             [
              0.7777777777777778,
              "#fb9f3a"
             ],
             [
              0.8888888888888888,
              "#fdca26"
             ],
             [
              1,
              "#f0f921"
             ]
            ],
            "type": "heatmap"
           }
          ],
          "heatmapgl": [
           {
            "colorbar": {
             "outlinewidth": 0,
             "ticks": ""
            },
            "colorscale": [
             [
              0,
              "#0d0887"
             ],
             [
              0.1111111111111111,
              "#46039f"
             ],
             [
              0.2222222222222222,
              "#7201a8"
             ],
             [
              0.3333333333333333,
              "#9c179e"
             ],
             [
              0.4444444444444444,
              "#bd3786"
             ],
             [
              0.5555555555555556,
              "#d8576b"
             ],
             [
              0.6666666666666666,
              "#ed7953"
             ],
             [
              0.7777777777777778,
              "#fb9f3a"
             ],
             [
              0.8888888888888888,
              "#fdca26"
             ],
             [
              1,
              "#f0f921"
             ]
            ],
            "type": "heatmapgl"
           }
          ],
          "histogram": [
           {
            "marker": {
             "colorbar": {
              "outlinewidth": 0,
              "ticks": ""
             }
            },
            "type": "histogram"
           }
          ],
          "histogram2d": [
           {
            "colorbar": {
             "outlinewidth": 0,
             "ticks": ""
            },
            "colorscale": [
             [
              0,
              "#0d0887"
             ],
             [
              0.1111111111111111,
              "#46039f"
             ],
             [
              0.2222222222222222,
              "#7201a8"
             ],
             [
              0.3333333333333333,
              "#9c179e"
             ],
             [
              0.4444444444444444,
              "#bd3786"
             ],
             [
              0.5555555555555556,
              "#d8576b"
             ],
             [
              0.6666666666666666,
              "#ed7953"
             ],
             [
              0.7777777777777778,
              "#fb9f3a"
             ],
             [
              0.8888888888888888,
              "#fdca26"
             ],
             [
              1,
              "#f0f921"
             ]
            ],
            "type": "histogram2d"
           }
          ],
          "histogram2dcontour": [
           {
            "colorbar": {
             "outlinewidth": 0,
             "ticks": ""
            },
            "colorscale": [
             [
              0,
              "#0d0887"
             ],
             [
              0.1111111111111111,
              "#46039f"
             ],
             [
              0.2222222222222222,
              "#7201a8"
             ],
             [
              0.3333333333333333,
              "#9c179e"
             ],
             [
              0.4444444444444444,
              "#bd3786"
             ],
             [
              0.5555555555555556,
              "#d8576b"
             ],
             [
              0.6666666666666666,
              "#ed7953"
             ],
             [
              0.7777777777777778,
              "#fb9f3a"
             ],
             [
              0.8888888888888888,
              "#fdca26"
             ],
             [
              1,
              "#f0f921"
             ]
            ],
            "type": "histogram2dcontour"
           }
          ],
          "mesh3d": [
           {
            "colorbar": {
             "outlinewidth": 0,
             "ticks": ""
            },
            "type": "mesh3d"
           }
          ],
          "parcoords": [
           {
            "line": {
             "colorbar": {
              "outlinewidth": 0,
              "ticks": ""
             }
            },
            "type": "parcoords"
           }
          ],
          "pie": [
           {
            "automargin": true,
            "type": "pie"
           }
          ],
          "scatter": [
           {
            "marker": {
             "colorbar": {
              "outlinewidth": 0,
              "ticks": ""
             }
            },
            "type": "scatter"
           }
          ],
          "scatter3d": [
           {
            "line": {
             "colorbar": {
              "outlinewidth": 0,
              "ticks": ""
             }
            },
            "marker": {
             "colorbar": {
              "outlinewidth": 0,
              "ticks": ""
             }
            },
            "type": "scatter3d"
           }
          ],
          "scattercarpet": [
           {
            "marker": {
             "colorbar": {
              "outlinewidth": 0,
              "ticks": ""
             }
            },
            "type": "scattercarpet"
           }
          ],
          "scattergeo": [
           {
            "marker": {
             "colorbar": {
              "outlinewidth": 0,
              "ticks": ""
             }
            },
            "type": "scattergeo"
           }
          ],
          "scattergl": [
           {
            "marker": {
             "colorbar": {
              "outlinewidth": 0,
              "ticks": ""
             }
            },
            "type": "scattergl"
           }
          ],
          "scattermapbox": [
           {
            "marker": {
             "colorbar": {
              "outlinewidth": 0,
              "ticks": ""
             }
            },
            "type": "scattermapbox"
           }
          ],
          "scatterpolar": [
           {
            "marker": {
             "colorbar": {
              "outlinewidth": 0,
              "ticks": ""
             }
            },
            "type": "scatterpolar"
           }
          ],
          "scatterpolargl": [
           {
            "marker": {
             "colorbar": {
              "outlinewidth": 0,
              "ticks": ""
             }
            },
            "type": "scatterpolargl"
           }
          ],
          "scatterternary": [
           {
            "marker": {
             "colorbar": {
              "outlinewidth": 0,
              "ticks": ""
             }
            },
            "type": "scatterternary"
           }
          ],
          "surface": [
           {
            "colorbar": {
             "outlinewidth": 0,
             "ticks": ""
            },
            "colorscale": [
             [
              0,
              "#0d0887"
             ],
             [
              0.1111111111111111,
              "#46039f"
             ],
             [
              0.2222222222222222,
              "#7201a8"
             ],
             [
              0.3333333333333333,
              "#9c179e"
             ],
             [
              0.4444444444444444,
              "#bd3786"
             ],
             [
              0.5555555555555556,
              "#d8576b"
             ],
             [
              0.6666666666666666,
              "#ed7953"
             ],
             [
              0.7777777777777778,
              "#fb9f3a"
             ],
             [
              0.8888888888888888,
              "#fdca26"
             ],
             [
              1,
              "#f0f921"
             ]
            ],
            "type": "surface"
           }
          ],
          "table": [
           {
            "cells": {
             "fill": {
              "color": "#EBF0F8"
             },
             "line": {
              "color": "white"
             }
            },
            "header": {
             "fill": {
              "color": "#C8D4E3"
             },
             "line": {
              "color": "white"
             }
            },
            "type": "table"
           }
          ]
         },
         "layout": {
          "annotationdefaults": {
           "arrowcolor": "#2a3f5f",
           "arrowhead": 0,
           "arrowwidth": 1
          },
          "coloraxis": {
           "colorbar": {
            "outlinewidth": 0,
            "ticks": ""
           }
          },
          "colorscale": {
           "diverging": [
            [
             0,
             "#8e0152"
            ],
            [
             0.1,
             "#c51b7d"
            ],
            [
             0.2,
             "#de77ae"
            ],
            [
             0.3,
             "#f1b6da"
            ],
            [
             0.4,
             "#fde0ef"
            ],
            [
             0.5,
             "#f7f7f7"
            ],
            [
             0.6,
             "#e6f5d0"
            ],
            [
             0.7,
             "#b8e186"
            ],
            [
             0.8,
             "#7fbc41"
            ],
            [
             0.9,
             "#4d9221"
            ],
            [
             1,
             "#276419"
            ]
           ],
           "sequential": [
            [
             0,
             "#0d0887"
            ],
            [
             0.1111111111111111,
             "#46039f"
            ],
            [
             0.2222222222222222,
             "#7201a8"
            ],
            [
             0.3333333333333333,
             "#9c179e"
            ],
            [
             0.4444444444444444,
             "#bd3786"
            ],
            [
             0.5555555555555556,
             "#d8576b"
            ],
            [
             0.6666666666666666,
             "#ed7953"
            ],
            [
             0.7777777777777778,
             "#fb9f3a"
            ],
            [
             0.8888888888888888,
             "#fdca26"
            ],
            [
             1,
             "#f0f921"
            ]
           ],
           "sequentialminus": [
            [
             0,
             "#0d0887"
            ],
            [
             0.1111111111111111,
             "#46039f"
            ],
            [
             0.2222222222222222,
             "#7201a8"
            ],
            [
             0.3333333333333333,
             "#9c179e"
            ],
            [
             0.4444444444444444,
             "#bd3786"
            ],
            [
             0.5555555555555556,
             "#d8576b"
            ],
            [
             0.6666666666666666,
             "#ed7953"
            ],
            [
             0.7777777777777778,
             "#fb9f3a"
            ],
            [
             0.8888888888888888,
             "#fdca26"
            ],
            [
             1,
             "#f0f921"
            ]
           ]
          },
          "colorway": [
           "#636efa",
           "#EF553B",
           "#00cc96",
           "#ab63fa",
           "#FFA15A",
           "#19d3f3",
           "#FF6692",
           "#B6E880",
           "#FF97FF",
           "#FECB52"
          ],
          "font": {
           "color": "#2a3f5f"
          },
          "geo": {
           "bgcolor": "white",
           "lakecolor": "white",
           "landcolor": "#E5ECF6",
           "showlakes": true,
           "showland": true,
           "subunitcolor": "white"
          },
          "hoverlabel": {
           "align": "left"
          },
          "hovermode": "closest",
          "mapbox": {
           "style": "light"
          },
          "paper_bgcolor": "white",
          "plot_bgcolor": "#E5ECF6",
          "polar": {
           "angularaxis": {
            "gridcolor": "white",
            "linecolor": "white",
            "ticks": ""
           },
           "bgcolor": "#E5ECF6",
           "radialaxis": {
            "gridcolor": "white",
            "linecolor": "white",
            "ticks": ""
           }
          },
          "scene": {
           "xaxis": {
            "backgroundcolor": "#E5ECF6",
            "gridcolor": "white",
            "gridwidth": 2,
            "linecolor": "white",
            "showbackground": true,
            "ticks": "",
            "zerolinecolor": "white"
           },
           "yaxis": {
            "backgroundcolor": "#E5ECF6",
            "gridcolor": "white",
            "gridwidth": 2,
            "linecolor": "white",
            "showbackground": true,
            "ticks": "",
            "zerolinecolor": "white"
           },
           "zaxis": {
            "backgroundcolor": "#E5ECF6",
            "gridcolor": "white",
            "gridwidth": 2,
            "linecolor": "white",
            "showbackground": true,
            "ticks": "",
            "zerolinecolor": "white"
           }
          },
          "shapedefaults": {
           "line": {
            "color": "#2a3f5f"
           }
          },
          "ternary": {
           "aaxis": {
            "gridcolor": "white",
            "linecolor": "white",
            "ticks": ""
           },
           "baxis": {
            "gridcolor": "white",
            "linecolor": "white",
            "ticks": ""
           },
           "bgcolor": "#E5ECF6",
           "caxis": {
            "gridcolor": "white",
            "linecolor": "white",
            "ticks": ""
           }
          },
          "title": {
           "x": 0.05
          },
          "xaxis": {
           "automargin": true,
           "gridcolor": "white",
           "linecolor": "white",
           "ticks": "",
           "title": {
            "standoff": 15
           },
           "zerolinecolor": "white",
           "zerolinewidth": 2
          },
          "yaxis": {
           "automargin": true,
           "gridcolor": "white",
           "linecolor": "white",
           "ticks": "",
           "title": {
            "standoff": 15
           },
           "zerolinecolor": "white",
           "zerolinewidth": 2
          }
         }
        },
        "title": {
         "font": {
          "color": "#4D5663"
         }
        },
        "xaxis": {
         "gridcolor": "#E1E5ED",
         "showgrid": true,
         "tickfont": {
          "color": "#4D5663"
         },
         "title": {
          "font": {
           "color": "#4D5663"
          },
          "text": ""
         },
         "zerolinecolor": "#E1E5ED"
        },
        "yaxis": {
         "gridcolor": "#E1E5ED",
         "showgrid": true,
         "tickfont": {
          "color": "#4D5663"
         },
         "title": {
          "font": {
           "color": "#4D5663"
          },
          "text": ""
         },
         "zerolinecolor": "#E1E5ED"
        }
       }
      },
      "text/html": [
       "<div>\n",
       "        \n",
       "        \n",
       "            <div id=\"e524badf-9463-46a1-be68-48f3cc48bd88\" class=\"plotly-graph-div\" style=\"height:525px; width:100%;\"></div>\n",
       "            <script type=\"text/javascript\">\n",
       "                require([\"plotly\"], function(Plotly) {\n",
       "                    window.PLOTLYENV=window.PLOTLYENV || {};\n",
       "                    window.PLOTLYENV.BASE_URL='https://plot.ly';\n",
       "                    \n",
       "                if (document.getElementById(\"e524badf-9463-46a1-be68-48f3cc48bd88\")) {\n",
       "                    Plotly.newPlot(\n",
       "                        'e524badf-9463-46a1-be68-48f3cc48bd88',\n",
       "                        [{\"boxpoints\": false, \"line\": {\"width\": 1.3}, \"marker\": {\"color\": \"rgba(255, 153, 51, 1.0)\"}, \"name\": \"A\", \"orientation\": \"v\", \"type\": \"box\", \"y\": [1.0568048367540321, -1.3498353277992474, -0.016590310967857964, 0.35660732790600963, 1.0193834962395287, 0.8491903166284471, -0.270898010060361, -0.392709340199791, -2.7680493355073525, -0.9598449509727272, 0.02486210535174598, -0.08209894073442042, 1.3004359980675626, -1.58538400423906, 0.0669781081316911, 0.640025802146375, -0.21302066961046895, -1.235796292702241, -0.1309253051050104, -0.31643267250308843, 0.03258708757811836, -0.3380255243770623, -0.22179719829268574, -0.46447982740594784, -0.7481879251469615, -1.8848112593418178, 1.091188842324186, -1.002344407821016, 0.3490115434488426, -1.0674123492812189, -0.6698990082688834, -0.5799795584411399, -0.06921656663627403, -1.6351975314526448, 0.7106115831459313, 1.194971214763005, 0.11625479261911345, -1.934252919633813, 0.11913041768822805, 0.11132345496649837, 1.389596749030748, -1.2171163369994655, 1.2045581848905342, 0.5820052642283193, -1.708114214802915, 1.506653156239142, -0.9254490674897976, 1.2409940264229145, 0.2074483106758396, -1.3596588313168947, -2.390481486655998, -1.4566179541064537, -0.1836022258305617, -0.21501553404228868, -0.29215975665065563, 1.6432342936542375, -0.07861297341559388, -2.19928517475691, 0.7440934149815865, -1.184472526598871, -1.2162389598474177, 0.1884059181021502, -1.5723531833999829, -1.3997371771754998, 1.1481860646913822, -0.9789763321605593, -1.9138376620999613, -0.6331452017050753, 0.7740822611022451, 0.5258410109353289, 0.819021535691631, -1.2739877143475504, -0.4999464290112291, -0.11030684358193382, 0.2888305237105291, -0.5203727627946619, 0.05106433226799674, -0.5982765768873508, 0.9655105887234117, 1.435008557832391, 0.4183410289076339, 1.7880526163669672, 0.3332612477805044, -0.46462131549385466, -0.7495203318644134, 0.8658306751167946, -0.7008970126949282, -1.2842726652184249, -0.4759677234328119, -1.215534764436904, -0.4894621529285363, 1.2034829395601145, -1.8424285969117682, -1.0479601268610481, 1.2913471557834049, -0.5675730197363626, 0.4706223082609923, 0.8438922504243296, 0.2755981536419486, -0.5314784299117727]}, {\"boxpoints\": false, \"line\": {\"width\": 1.3}, \"marker\": {\"color\": \"rgba(55, 128, 191, 1.0)\"}, \"name\": \"B\", \"orientation\": \"v\", \"type\": \"box\", \"y\": [0.48107134908112026, -1.6795123804935181, -1.407520137520341, 0.6956647126875344, -0.8244186266256153, 0.4651753314936174, 1.3326443659961662, 0.6712892112247183, -0.03678809166099367, -0.37571841568415526, -1.0933104414806638, 1.0244520712000555, -1.6774374423985707, 0.27825921049731706, -0.10656048173528182, -0.16266515491632585, -1.477859361988607, 0.5755268284581758, -0.9848408514619815, 1.1337930138402854, -2.1093063248932107, 0.6732453387771199, 1.0304751255639024, 1.3442197800221123, -1.2994725083624141, 0.24770923969024355, 0.38001451435852873, 0.6510217733836621, -1.334809357106278, -0.32591102686090045, 0.33883289533284516, -0.6396342151768055, 0.962462618516548, -0.3296481883115337, 1.0539582266267544, -0.48849257687259584, -0.32932544514589285, -1.4021026631022075, 0.4399519109122479, 0.8165453632315621, 0.17029682658018525, -1.539884876142449, -0.5290558912633045, -0.8862205911488811, 1.503260759181969, 1.2904641364329443, 0.817464070671576, 0.25455108264994014, 0.6612696163441858, 0.6148495307606112, -0.2443472940420814, -0.1502214269589789, 0.29709144796356207, 0.26233398363187316, -1.3859941884922815, -0.45976975796464326, 0.17877088761322477, -1.7265360004559602, -0.2101124096705694, -2.1667428687019026, 0.18014866395562953, 0.17096478975414062, -0.6964272661332754, 1.3526202915153194, 0.8585059112481627, -0.472753727105893, 1.5100650061692027, 0.4439906420214673, -1.465584592157141, -0.8229300005118391, 1.5114509544733574, 0.5364040103244894, -0.6760154676033024, -0.12257777263745659, -0.028732704593448222, -1.6222251014678108, 1.2862804917367132, 0.15023697198365754, 1.6432990060257577, -0.9471220749054257, -0.9861439162556745, 0.9130666364117548, 0.1790282336824031, 1.6077357010516404, 1.203379636178235, -0.8228046441290212, -1.8235900825357745, -1.0936356335033228, -0.2686300201689464, 0.7704305152906291, 1.9938798698875142, 1.3775740544428223, -0.3965660112358336, -0.3414272326891216, -0.1138789943091023, -0.21589954976034614, 0.3075242917985286, 0.6432017039579504, 0.08825291761810869, 1.5816130906771417]}, {\"boxpoints\": false, \"line\": {\"width\": 1.3}, \"marker\": {\"color\": \"rgba(50, 171, 96, 1.0)\"}, \"name\": \"C\", \"orientation\": \"v\", \"type\": \"box\", \"y\": [-0.04832900612696817, -2.0552643470456307, 1.23401808345776, 1.7622048722279813, 0.36558461414403454, 1.5271193614857776, -0.11698965638849242, 0.550877172276358, -0.18563025943375833, 1.4046676703240801, -0.8923087515065036, -0.13497956516275023, 0.0710977571789828, 1.0614963310633692, 0.7192133147377471, -0.7730472669486539, -0.7735920559571068, 1.3688275969976738, 0.9978091168302472, -0.14855973087387733, 1.4389636472969352, 0.463317487552831, 0.4057962919525643, 1.2409096014807675, -1.7981095491668768, -0.9737923820099355, -0.35343715695543854, -1.8431487538919407, -0.9635654940207634, -1.1123087567053498, 0.2671661522206472, 1.1624384050292622, -0.1671491618727415, 0.09287564079951659, 0.7719803507484746, 0.25083532191382685, -1.2609727534308801, 2.3558529106906345, -0.44250445937162747, -0.7467504601879799, -0.7198816365344325, -0.0339315665844702, 0.5497512879724022, -0.3480524571619145, 1.3768723354357362, 1.2502034702732656, -0.4012274215203553, -0.2897737272678843, -1.0084326249052749, -0.041878491458556794, 0.44192348379906643, -0.7067919348103693, -2.0158581243719778, 1.519170754551979, -0.1602334895148967, -0.31987479518621237, -0.6341683758785682, -0.781009411884995, -0.2340528015742706, 1.156470066863848, 0.46127659902382545, 0.5105671736507841, -2.189845693455042, 0.4432675837308323, -1.1516814536026996, 1.330748998222132, -0.6477011655976501, -0.026451195793421024, 0.7009205597371548, -0.31398659371351423, -0.027173796204393034, 0.7491544167403303, -1.9744604698376598, 0.8608338555104487, -0.661737329113762, -0.5835026639312187, 0.37539850136357034, 1.8791397847625453, 2.6984625358394454, 0.9477096198568582, 1.4705140165414279, -0.010514932472564067, 1.276061278128099, 1.0617667814236433, -2.512910427219062, 1.339337758066956, -0.09495253544489847, 0.11448683196821172, -1.230759772499085, 1.1776767045274097, -0.39700160277569996, -0.2847822529590679, -1.2984210140560033, -1.697273398143285, -0.03374651544880042, -1.347737876485818, 0.9598283623694468, 0.27478388842535423, 0.2146777232449316, 0.1567832074653066]}, {\"boxpoints\": false, \"line\": {\"width\": 1.3}, \"marker\": {\"color\": \"rgba(128, 0, 128, 1.0)\"}, \"name\": \"D\", \"orientation\": \"v\", \"type\": \"box\", \"y\": [-0.2877134611778512, -0.415408231157268, -0.6731520956489023, 0.11699835543967516, 0.46108847414264864, -2.075749395948886, 0.8134228721343691, -0.4171307815190678, 1.0482344785197288, -0.5629315106277006, 1.4045304971214088, -1.0036668984369883, -0.9863531301805152, -0.25807014173809195, 0.006645526873550916, -0.3653241514796089, 1.4836009543157784, 1.440594840565873, -0.4683992654901319, 1.0598744136647218, 0.44542094220103995, -1.3036291372168698, 0.4330958917310685, 1.098880423945254, 0.7912876255644647, -0.5153633833927447, 0.34099595343274336, 0.8289978197175643, 1.2860921268160947, 0.3368732252553157, -0.7886462598062345, -0.20660566142886636, -2.0332644633856414, -0.45084749186519113, 1.5395248206983076, 1.033488658632085, 0.4770679157842925, 1.5196634218257068, -1.2454550882900453, -0.49410816685358944, -1.9660433649871147, 0.2610976675087106, -1.3363618123521568, -0.8672949069980124, -1.358341898024915, 0.0985918064728073, 0.10822160952696296, -1.7743962812944087, -0.34752270013412295, -1.4942403930610262, 1.1235033870989883, 1.0245166435319117, -0.3864490739769507, -1.3471165599982078, 0.3706148647365652, -0.5162107363096655, 0.9760832195066462, -0.15633400980662576, -0.496568500607371, -0.5439552377990234, -0.8833587494428198, -0.38500838562199147, -0.34059551833802226, 2.555474453517577, -0.5489839462842704, 0.23018097576502303, -0.002817578108877567, -1.953011296752301, -0.6357711373245285, -1.1219490175131321, 0.07138034873712855, 0.5236003404531173, 0.932465243848728, -1.231077256495407, -0.1937006848204315, 1.4592991862128464, 1.546286129842861, -0.19601189357771362, 0.5391848728347883, -0.1427679427449153, 0.1805286690674597, 1.442595958836891, -0.9600127241696688, -0.4762769319570404, 0.5771531798071556, 1.2941334448093476, -1.0773538097917301, 0.47556825223577, -0.9752553106665932, -1.032965092659648, -1.1155748598027806, 0.25668015767886654, -0.8814739191660805, -0.22082829609725307, -1.3489726852465749, -0.5176821631863701, 0.9882380031744157, 0.24039272505477224, -0.21586922453230434, 0.2785582142140259]}],\n",
       "                        {\"legend\": {\"bgcolor\": \"#F5F6F9\", \"font\": {\"color\": \"#4D5663\"}}, \"paper_bgcolor\": \"#F5F6F9\", \"plot_bgcolor\": \"#F5F6F9\", \"template\": {\"data\": {\"bar\": [{\"error_x\": {\"color\": \"#2a3f5f\"}, \"error_y\": {\"color\": \"#2a3f5f\"}, \"marker\": {\"line\": {\"color\": \"#E5ECF6\", \"width\": 0.5}}, \"type\": \"bar\"}], \"barpolar\": [{\"marker\": {\"line\": {\"color\": \"#E5ECF6\", \"width\": 0.5}}, \"type\": \"barpolar\"}], \"carpet\": [{\"aaxis\": {\"endlinecolor\": \"#2a3f5f\", \"gridcolor\": \"white\", \"linecolor\": \"white\", \"minorgridcolor\": \"white\", \"startlinecolor\": \"#2a3f5f\"}, \"baxis\": {\"endlinecolor\": \"#2a3f5f\", \"gridcolor\": \"white\", \"linecolor\": \"white\", \"minorgridcolor\": \"white\", \"startlinecolor\": \"#2a3f5f\"}, \"type\": \"carpet\"}], \"choropleth\": [{\"colorbar\": {\"outlinewidth\": 0, \"ticks\": \"\"}, \"type\": \"choropleth\"}], \"contour\": [{\"colorbar\": {\"outlinewidth\": 0, \"ticks\": \"\"}, \"colorscale\": [[0.0, \"#0d0887\"], [0.1111111111111111, \"#46039f\"], [0.2222222222222222, \"#7201a8\"], [0.3333333333333333, \"#9c179e\"], [0.4444444444444444, \"#bd3786\"], [0.5555555555555556, \"#d8576b\"], [0.6666666666666666, \"#ed7953\"], [0.7777777777777778, \"#fb9f3a\"], [0.8888888888888888, \"#fdca26\"], [1.0, \"#f0f921\"]], \"type\": \"contour\"}], \"contourcarpet\": [{\"colorbar\": {\"outlinewidth\": 0, \"ticks\": \"\"}, \"type\": \"contourcarpet\"}], \"heatmap\": [{\"colorbar\": {\"outlinewidth\": 0, \"ticks\": \"\"}, \"colorscale\": [[0.0, \"#0d0887\"], [0.1111111111111111, \"#46039f\"], [0.2222222222222222, \"#7201a8\"], [0.3333333333333333, \"#9c179e\"], [0.4444444444444444, \"#bd3786\"], [0.5555555555555556, \"#d8576b\"], [0.6666666666666666, \"#ed7953\"], [0.7777777777777778, \"#fb9f3a\"], [0.8888888888888888, \"#fdca26\"], [1.0, \"#f0f921\"]], \"type\": \"heatmap\"}], \"heatmapgl\": [{\"colorbar\": {\"outlinewidth\": 0, \"ticks\": \"\"}, \"colorscale\": [[0.0, \"#0d0887\"], [0.1111111111111111, \"#46039f\"], [0.2222222222222222, \"#7201a8\"], [0.3333333333333333, \"#9c179e\"], [0.4444444444444444, \"#bd3786\"], [0.5555555555555556, \"#d8576b\"], [0.6666666666666666, \"#ed7953\"], [0.7777777777777778, \"#fb9f3a\"], [0.8888888888888888, \"#fdca26\"], [1.0, \"#f0f921\"]], \"type\": \"heatmapgl\"}], \"histogram\": [{\"marker\": {\"colorbar\": {\"outlinewidth\": 0, \"ticks\": \"\"}}, \"type\": \"histogram\"}], \"histogram2d\": [{\"colorbar\": {\"outlinewidth\": 0, \"ticks\": \"\"}, \"colorscale\": [[0.0, \"#0d0887\"], [0.1111111111111111, \"#46039f\"], [0.2222222222222222, \"#7201a8\"], [0.3333333333333333, \"#9c179e\"], [0.4444444444444444, \"#bd3786\"], [0.5555555555555556, \"#d8576b\"], [0.6666666666666666, \"#ed7953\"], [0.7777777777777778, \"#fb9f3a\"], [0.8888888888888888, \"#fdca26\"], [1.0, \"#f0f921\"]], \"type\": \"histogram2d\"}], \"histogram2dcontour\": [{\"colorbar\": {\"outlinewidth\": 0, \"ticks\": \"\"}, \"colorscale\": [[0.0, \"#0d0887\"], [0.1111111111111111, \"#46039f\"], [0.2222222222222222, \"#7201a8\"], [0.3333333333333333, \"#9c179e\"], [0.4444444444444444, \"#bd3786\"], [0.5555555555555556, \"#d8576b\"], [0.6666666666666666, \"#ed7953\"], [0.7777777777777778, \"#fb9f3a\"], [0.8888888888888888, \"#fdca26\"], [1.0, \"#f0f921\"]], \"type\": \"histogram2dcontour\"}], \"mesh3d\": [{\"colorbar\": {\"outlinewidth\": 0, \"ticks\": \"\"}, \"type\": \"mesh3d\"}], \"parcoords\": [{\"line\": {\"colorbar\": {\"outlinewidth\": 0, \"ticks\": \"\"}}, \"type\": \"parcoords\"}], \"pie\": [{\"automargin\": true, \"type\": \"pie\"}], \"scatter\": [{\"marker\": {\"colorbar\": {\"outlinewidth\": 0, \"ticks\": \"\"}}, \"type\": \"scatter\"}], \"scatter3d\": [{\"line\": {\"colorbar\": {\"outlinewidth\": 0, \"ticks\": \"\"}}, \"marker\": {\"colorbar\": {\"outlinewidth\": 0, \"ticks\": \"\"}}, \"type\": \"scatter3d\"}], \"scattercarpet\": [{\"marker\": {\"colorbar\": {\"outlinewidth\": 0, \"ticks\": \"\"}}, \"type\": \"scattercarpet\"}], \"scattergeo\": [{\"marker\": {\"colorbar\": {\"outlinewidth\": 0, \"ticks\": \"\"}}, \"type\": \"scattergeo\"}], \"scattergl\": [{\"marker\": {\"colorbar\": {\"outlinewidth\": 0, \"ticks\": \"\"}}, \"type\": \"scattergl\"}], \"scattermapbox\": [{\"marker\": {\"colorbar\": {\"outlinewidth\": 0, \"ticks\": \"\"}}, \"type\": \"scattermapbox\"}], \"scatterpolar\": [{\"marker\": {\"colorbar\": {\"outlinewidth\": 0, \"ticks\": \"\"}}, \"type\": \"scatterpolar\"}], \"scatterpolargl\": [{\"marker\": {\"colorbar\": {\"outlinewidth\": 0, \"ticks\": \"\"}}, \"type\": \"scatterpolargl\"}], \"scatterternary\": [{\"marker\": {\"colorbar\": {\"outlinewidth\": 0, \"ticks\": \"\"}}, \"type\": \"scatterternary\"}], \"surface\": [{\"colorbar\": {\"outlinewidth\": 0, \"ticks\": \"\"}, \"colorscale\": [[0.0, \"#0d0887\"], [0.1111111111111111, \"#46039f\"], [0.2222222222222222, \"#7201a8\"], [0.3333333333333333, \"#9c179e\"], [0.4444444444444444, \"#bd3786\"], [0.5555555555555556, \"#d8576b\"], [0.6666666666666666, \"#ed7953\"], [0.7777777777777778, \"#fb9f3a\"], [0.8888888888888888, \"#fdca26\"], [1.0, \"#f0f921\"]], \"type\": \"surface\"}], \"table\": [{\"cells\": {\"fill\": {\"color\": \"#EBF0F8\"}, \"line\": {\"color\": \"white\"}}, \"header\": {\"fill\": {\"color\": \"#C8D4E3\"}, \"line\": {\"color\": \"white\"}}, \"type\": \"table\"}]}, \"layout\": {\"annotationdefaults\": {\"arrowcolor\": \"#2a3f5f\", \"arrowhead\": 0, \"arrowwidth\": 1}, \"coloraxis\": {\"colorbar\": {\"outlinewidth\": 0, \"ticks\": \"\"}}, \"colorscale\": {\"diverging\": [[0, \"#8e0152\"], [0.1, \"#c51b7d\"], [0.2, \"#de77ae\"], [0.3, \"#f1b6da\"], [0.4, \"#fde0ef\"], [0.5, \"#f7f7f7\"], [0.6, \"#e6f5d0\"], [0.7, \"#b8e186\"], [0.8, \"#7fbc41\"], [0.9, \"#4d9221\"], [1, \"#276419\"]], \"sequential\": [[0.0, \"#0d0887\"], [0.1111111111111111, \"#46039f\"], [0.2222222222222222, \"#7201a8\"], [0.3333333333333333, \"#9c179e\"], [0.4444444444444444, \"#bd3786\"], [0.5555555555555556, \"#d8576b\"], [0.6666666666666666, \"#ed7953\"], [0.7777777777777778, \"#fb9f3a\"], [0.8888888888888888, \"#fdca26\"], [1.0, \"#f0f921\"]], \"sequentialminus\": [[0.0, \"#0d0887\"], [0.1111111111111111, \"#46039f\"], [0.2222222222222222, \"#7201a8\"], [0.3333333333333333, \"#9c179e\"], [0.4444444444444444, \"#bd3786\"], [0.5555555555555556, \"#d8576b\"], [0.6666666666666666, \"#ed7953\"], [0.7777777777777778, \"#fb9f3a\"], [0.8888888888888888, \"#fdca26\"], [1.0, \"#f0f921\"]]}, \"colorway\": [\"#636efa\", \"#EF553B\", \"#00cc96\", \"#ab63fa\", \"#FFA15A\", \"#19d3f3\", \"#FF6692\", \"#B6E880\", \"#FF97FF\", \"#FECB52\"], \"font\": {\"color\": \"#2a3f5f\"}, \"geo\": {\"bgcolor\": \"white\", \"lakecolor\": \"white\", \"landcolor\": \"#E5ECF6\", \"showlakes\": true, \"showland\": true, \"subunitcolor\": \"white\"}, \"hoverlabel\": {\"align\": \"left\"}, \"hovermode\": \"closest\", \"mapbox\": {\"style\": \"light\"}, \"paper_bgcolor\": \"white\", \"plot_bgcolor\": \"#E5ECF6\", \"polar\": {\"angularaxis\": {\"gridcolor\": \"white\", \"linecolor\": \"white\", \"ticks\": \"\"}, \"bgcolor\": \"#E5ECF6\", \"radialaxis\": {\"gridcolor\": \"white\", \"linecolor\": \"white\", \"ticks\": \"\"}}, \"scene\": {\"xaxis\": {\"backgroundcolor\": \"#E5ECF6\", \"gridcolor\": \"white\", \"gridwidth\": 2, \"linecolor\": \"white\", \"showbackground\": true, \"ticks\": \"\", \"zerolinecolor\": \"white\"}, \"yaxis\": {\"backgroundcolor\": \"#E5ECF6\", \"gridcolor\": \"white\", \"gridwidth\": 2, \"linecolor\": \"white\", \"showbackground\": true, \"ticks\": \"\", \"zerolinecolor\": \"white\"}, \"zaxis\": {\"backgroundcolor\": \"#E5ECF6\", \"gridcolor\": \"white\", \"gridwidth\": 2, \"linecolor\": \"white\", \"showbackground\": true, \"ticks\": \"\", \"zerolinecolor\": \"white\"}}, \"shapedefaults\": {\"line\": {\"color\": \"#2a3f5f\"}}, \"ternary\": {\"aaxis\": {\"gridcolor\": \"white\", \"linecolor\": \"white\", \"ticks\": \"\"}, \"baxis\": {\"gridcolor\": \"white\", \"linecolor\": \"white\", \"ticks\": \"\"}, \"bgcolor\": \"#E5ECF6\", \"caxis\": {\"gridcolor\": \"white\", \"linecolor\": \"white\", \"ticks\": \"\"}}, \"title\": {\"x\": 0.05}, \"xaxis\": {\"automargin\": true, \"gridcolor\": \"white\", \"linecolor\": \"white\", \"ticks\": \"\", \"title\": {\"standoff\": 15}, \"zerolinecolor\": \"white\", \"zerolinewidth\": 2}, \"yaxis\": {\"automargin\": true, \"gridcolor\": \"white\", \"linecolor\": \"white\", \"ticks\": \"\", \"title\": {\"standoff\": 15}, \"zerolinecolor\": \"white\", \"zerolinewidth\": 2}}}, \"title\": {\"font\": {\"color\": \"#4D5663\"}}, \"xaxis\": {\"gridcolor\": \"#E1E5ED\", \"showgrid\": true, \"tickfont\": {\"color\": \"#4D5663\"}, \"title\": {\"font\": {\"color\": \"#4D5663\"}, \"text\": \"\"}, \"zerolinecolor\": \"#E1E5ED\"}, \"yaxis\": {\"gridcolor\": \"#E1E5ED\", \"showgrid\": true, \"tickfont\": {\"color\": \"#4D5663\"}, \"title\": {\"font\": {\"color\": \"#4D5663\"}, \"text\": \"\"}, \"zerolinecolor\": \"#E1E5ED\"}},\n",
       "                        {\"showLink\": true, \"linkText\": \"Export to plot.ly\", \"plotlyServerURL\": \"https://plot.ly\", \"responsive\": true}\n",
       "                    ).then(function(){\n",
       "                            \n",
       "var gd = document.getElementById('e524badf-9463-46a1-be68-48f3cc48bd88');\n",
       "var x = new MutationObserver(function (mutations, observer) {{\n",
       "        var display = window.getComputedStyle(gd).display;\n",
       "        if (!display || display === 'none') {{\n",
       "            console.log([gd, 'removed!']);\n",
       "            Plotly.purge(gd);\n",
       "            observer.disconnect();\n",
       "        }}\n",
       "}});\n",
       "\n",
       "// Listen for the removal of the full notebook cells\n",
       "var notebookContainer = gd.closest('#notebook-container');\n",
       "if (notebookContainer) {{\n",
       "    x.observe(notebookContainer, {childList: true});\n",
       "}}\n",
       "\n",
       "// Listen for the clearing of the current output cell\n",
       "var outputEl = gd.closest('.output');\n",
       "if (outputEl) {{\n",
       "    x.observe(outputEl, {childList: true});\n",
       "}}\n",
       "\n",
       "                        })\n",
       "                };\n",
       "                });\n",
       "            </script>\n",
       "        </div>"
      ]
     },
     "metadata": {},
     "output_type": "display_data"
    }
   ],
   "source": [
    "df.iplot(kind='box')"
   ]
  },
  {
   "cell_type": "code",
   "execution_count": 49,
   "metadata": {},
   "outputs": [],
   "source": [
    "df3= pd.DataFrame({'x':[1,2,3,4,5],'y':[10,20,30,40,20],'z':[100,200,100,400,500]})"
   ]
  },
  {
   "cell_type": "code",
   "execution_count": 50,
   "metadata": {},
   "outputs": [
    {
     "data": {
      "application/vnd.plotly.v1+json": {
       "config": {
        "linkText": "Export to plot.ly",
        "plotlyServerURL": "https://plot.ly",
        "showLink": true
       },
       "data": [
        {
         "colorscale": [
          [
           0,
           "rgb(255, 153, 51)"
          ],
          [
           0.1111111111111111,
           "rgb(55, 128, 191)"
          ],
          [
           0.2222222222222222,
           "rgb(50, 171, 96)"
          ],
          [
           0.3333333333333333,
           "rgb(128, 0, 128)"
          ],
          [
           0.4444444444444444,
           "rgb(219, 64, 82)"
          ],
          [
           0.5555555555555556,
           "rgb(0, 128, 128)"
          ],
          [
           0.6666666666666666,
           "rgb(255, 255, 51)"
          ],
          [
           0.7777777777777778,
           "rgb(128, 128, 0)"
          ],
          [
           0.8888888888888888,
           "rgb(251, 128, 114)"
          ],
          [
           1,
           "rgb(128, 177, 211)"
          ]
         ],
         "type": "surface",
         "x": [
          0,
          1,
          2,
          3,
          4
         ],
         "y": [
          "x",
          "y",
          "z"
         ],
         "z": [
          [
           1,
           2,
           3,
           4,
           5
          ],
          [
           10,
           20,
           30,
           40,
           20
          ],
          [
           100,
           200,
           100,
           400,
           500
          ]
         ]
        }
       ],
       "layout": {
        "legend": {
         "bgcolor": "#F5F6F9",
         "font": {
          "color": "#4D5663"
         }
        },
        "paper_bgcolor": "#F5F6F9",
        "plot_bgcolor": "#F5F6F9",
        "template": {
         "data": {
          "bar": [
           {
            "error_x": {
             "color": "#2a3f5f"
            },
            "error_y": {
             "color": "#2a3f5f"
            },
            "marker": {
             "line": {
              "color": "#E5ECF6",
              "width": 0.5
             }
            },
            "type": "bar"
           }
          ],
          "barpolar": [
           {
            "marker": {
             "line": {
              "color": "#E5ECF6",
              "width": 0.5
             }
            },
            "type": "barpolar"
           }
          ],
          "carpet": [
           {
            "aaxis": {
             "endlinecolor": "#2a3f5f",
             "gridcolor": "white",
             "linecolor": "white",
             "minorgridcolor": "white",
             "startlinecolor": "#2a3f5f"
            },
            "baxis": {
             "endlinecolor": "#2a3f5f",
             "gridcolor": "white",
             "linecolor": "white",
             "minorgridcolor": "white",
             "startlinecolor": "#2a3f5f"
            },
            "type": "carpet"
           }
          ],
          "choropleth": [
           {
            "colorbar": {
             "outlinewidth": 0,
             "ticks": ""
            },
            "type": "choropleth"
           }
          ],
          "contour": [
           {
            "colorbar": {
             "outlinewidth": 0,
             "ticks": ""
            },
            "colorscale": [
             [
              0,
              "#0d0887"
             ],
             [
              0.1111111111111111,
              "#46039f"
             ],
             [
              0.2222222222222222,
              "#7201a8"
             ],
             [
              0.3333333333333333,
              "#9c179e"
             ],
             [
              0.4444444444444444,
              "#bd3786"
             ],
             [
              0.5555555555555556,
              "#d8576b"
             ],
             [
              0.6666666666666666,
              "#ed7953"
             ],
             [
              0.7777777777777778,
              "#fb9f3a"
             ],
             [
              0.8888888888888888,
              "#fdca26"
             ],
             [
              1,
              "#f0f921"
             ]
            ],
            "type": "contour"
           }
          ],
          "contourcarpet": [
           {
            "colorbar": {
             "outlinewidth": 0,
             "ticks": ""
            },
            "type": "contourcarpet"
           }
          ],
          "heatmap": [
           {
            "colorbar": {
             "outlinewidth": 0,
             "ticks": ""
            },
            "colorscale": [
             [
              0,
              "#0d0887"
             ],
             [
              0.1111111111111111,
              "#46039f"
             ],
             [
              0.2222222222222222,
              "#7201a8"
             ],
             [
              0.3333333333333333,
              "#9c179e"
             ],
             [
              0.4444444444444444,
              "#bd3786"
             ],
             [
              0.5555555555555556,
              "#d8576b"
             ],
             [
              0.6666666666666666,
              "#ed7953"
             ],
             [
              0.7777777777777778,
              "#fb9f3a"
             ],
             [
              0.8888888888888888,
              "#fdca26"
             ],
             [
              1,
              "#f0f921"
             ]
            ],
            "type": "heatmap"
           }
          ],
          "heatmapgl": [
           {
            "colorbar": {
             "outlinewidth": 0,
             "ticks": ""
            },
            "colorscale": [
             [
              0,
              "#0d0887"
             ],
             [
              0.1111111111111111,
              "#46039f"
             ],
             [
              0.2222222222222222,
              "#7201a8"
             ],
             [
              0.3333333333333333,
              "#9c179e"
             ],
             [
              0.4444444444444444,
              "#bd3786"
             ],
             [
              0.5555555555555556,
              "#d8576b"
             ],
             [
              0.6666666666666666,
              "#ed7953"
             ],
             [
              0.7777777777777778,
              "#fb9f3a"
             ],
             [
              0.8888888888888888,
              "#fdca26"
             ],
             [
              1,
              "#f0f921"
             ]
            ],
            "type": "heatmapgl"
           }
          ],
          "histogram": [
           {
            "marker": {
             "colorbar": {
              "outlinewidth": 0,
              "ticks": ""
             }
            },
            "type": "histogram"
           }
          ],
          "histogram2d": [
           {
            "colorbar": {
             "outlinewidth": 0,
             "ticks": ""
            },
            "colorscale": [
             [
              0,
              "#0d0887"
             ],
             [
              0.1111111111111111,
              "#46039f"
             ],
             [
              0.2222222222222222,
              "#7201a8"
             ],
             [
              0.3333333333333333,
              "#9c179e"
             ],
             [
              0.4444444444444444,
              "#bd3786"
             ],
             [
              0.5555555555555556,
              "#d8576b"
             ],
             [
              0.6666666666666666,
              "#ed7953"
             ],
             [
              0.7777777777777778,
              "#fb9f3a"
             ],
             [
              0.8888888888888888,
              "#fdca26"
             ],
             [
              1,
              "#f0f921"
             ]
            ],
            "type": "histogram2d"
           }
          ],
          "histogram2dcontour": [
           {
            "colorbar": {
             "outlinewidth": 0,
             "ticks": ""
            },
            "colorscale": [
             [
              0,
              "#0d0887"
             ],
             [
              0.1111111111111111,
              "#46039f"
             ],
             [
              0.2222222222222222,
              "#7201a8"
             ],
             [
              0.3333333333333333,
              "#9c179e"
             ],
             [
              0.4444444444444444,
              "#bd3786"
             ],
             [
              0.5555555555555556,
              "#d8576b"
             ],
             [
              0.6666666666666666,
              "#ed7953"
             ],
             [
              0.7777777777777778,
              "#fb9f3a"
             ],
             [
              0.8888888888888888,
              "#fdca26"
             ],
             [
              1,
              "#f0f921"
             ]
            ],
            "type": "histogram2dcontour"
           }
          ],
          "mesh3d": [
           {
            "colorbar": {
             "outlinewidth": 0,
             "ticks": ""
            },
            "type": "mesh3d"
           }
          ],
          "parcoords": [
           {
            "line": {
             "colorbar": {
              "outlinewidth": 0,
              "ticks": ""
             }
            },
            "type": "parcoords"
           }
          ],
          "pie": [
           {
            "automargin": true,
            "type": "pie"
           }
          ],
          "scatter": [
           {
            "marker": {
             "colorbar": {
              "outlinewidth": 0,
              "ticks": ""
             }
            },
            "type": "scatter"
           }
          ],
          "scatter3d": [
           {
            "line": {
             "colorbar": {
              "outlinewidth": 0,
              "ticks": ""
             }
            },
            "marker": {
             "colorbar": {
              "outlinewidth": 0,
              "ticks": ""
             }
            },
            "type": "scatter3d"
           }
          ],
          "scattercarpet": [
           {
            "marker": {
             "colorbar": {
              "outlinewidth": 0,
              "ticks": ""
             }
            },
            "type": "scattercarpet"
           }
          ],
          "scattergeo": [
           {
            "marker": {
             "colorbar": {
              "outlinewidth": 0,
              "ticks": ""
             }
            },
            "type": "scattergeo"
           }
          ],
          "scattergl": [
           {
            "marker": {
             "colorbar": {
              "outlinewidth": 0,
              "ticks": ""
             }
            },
            "type": "scattergl"
           }
          ],
          "scattermapbox": [
           {
            "marker": {
             "colorbar": {
              "outlinewidth": 0,
              "ticks": ""
             }
            },
            "type": "scattermapbox"
           }
          ],
          "scatterpolar": [
           {
            "marker": {
             "colorbar": {
              "outlinewidth": 0,
              "ticks": ""
             }
            },
            "type": "scatterpolar"
           }
          ],
          "scatterpolargl": [
           {
            "marker": {
             "colorbar": {
              "outlinewidth": 0,
              "ticks": ""
             }
            },
            "type": "scatterpolargl"
           }
          ],
          "scatterternary": [
           {
            "marker": {
             "colorbar": {
              "outlinewidth": 0,
              "ticks": ""
             }
            },
            "type": "scatterternary"
           }
          ],
          "surface": [
           {
            "colorbar": {
             "outlinewidth": 0,
             "ticks": ""
            },
            "colorscale": [
             [
              0,
              "#0d0887"
             ],
             [
              0.1111111111111111,
              "#46039f"
             ],
             [
              0.2222222222222222,
              "#7201a8"
             ],
             [
              0.3333333333333333,
              "#9c179e"
             ],
             [
              0.4444444444444444,
              "#bd3786"
             ],
             [
              0.5555555555555556,
              "#d8576b"
             ],
             [
              0.6666666666666666,
              "#ed7953"
             ],
             [
              0.7777777777777778,
              "#fb9f3a"
             ],
             [
              0.8888888888888888,
              "#fdca26"
             ],
             [
              1,
              "#f0f921"
             ]
            ],
            "type": "surface"
           }
          ],
          "table": [
           {
            "cells": {
             "fill": {
              "color": "#EBF0F8"
             },
             "line": {
              "color": "white"
             }
            },
            "header": {
             "fill": {
              "color": "#C8D4E3"
             },
             "line": {
              "color": "white"
             }
            },
            "type": "table"
           }
          ]
         },
         "layout": {
          "annotationdefaults": {
           "arrowcolor": "#2a3f5f",
           "arrowhead": 0,
           "arrowwidth": 1
          },
          "coloraxis": {
           "colorbar": {
            "outlinewidth": 0,
            "ticks": ""
           }
          },
          "colorscale": {
           "diverging": [
            [
             0,
             "#8e0152"
            ],
            [
             0.1,
             "#c51b7d"
            ],
            [
             0.2,
             "#de77ae"
            ],
            [
             0.3,
             "#f1b6da"
            ],
            [
             0.4,
             "#fde0ef"
            ],
            [
             0.5,
             "#f7f7f7"
            ],
            [
             0.6,
             "#e6f5d0"
            ],
            [
             0.7,
             "#b8e186"
            ],
            [
             0.8,
             "#7fbc41"
            ],
            [
             0.9,
             "#4d9221"
            ],
            [
             1,
             "#276419"
            ]
           ],
           "sequential": [
            [
             0,
             "#0d0887"
            ],
            [
             0.1111111111111111,
             "#46039f"
            ],
            [
             0.2222222222222222,
             "#7201a8"
            ],
            [
             0.3333333333333333,
             "#9c179e"
            ],
            [
             0.4444444444444444,
             "#bd3786"
            ],
            [
             0.5555555555555556,
             "#d8576b"
            ],
            [
             0.6666666666666666,
             "#ed7953"
            ],
            [
             0.7777777777777778,
             "#fb9f3a"
            ],
            [
             0.8888888888888888,
             "#fdca26"
            ],
            [
             1,
             "#f0f921"
            ]
           ],
           "sequentialminus": [
            [
             0,
             "#0d0887"
            ],
            [
             0.1111111111111111,
             "#46039f"
            ],
            [
             0.2222222222222222,
             "#7201a8"
            ],
            [
             0.3333333333333333,
             "#9c179e"
            ],
            [
             0.4444444444444444,
             "#bd3786"
            ],
            [
             0.5555555555555556,
             "#d8576b"
            ],
            [
             0.6666666666666666,
             "#ed7953"
            ],
            [
             0.7777777777777778,
             "#fb9f3a"
            ],
            [
             0.8888888888888888,
             "#fdca26"
            ],
            [
             1,
             "#f0f921"
            ]
           ]
          },
          "colorway": [
           "#636efa",
           "#EF553B",
           "#00cc96",
           "#ab63fa",
           "#FFA15A",
           "#19d3f3",
           "#FF6692",
           "#B6E880",
           "#FF97FF",
           "#FECB52"
          ],
          "font": {
           "color": "#2a3f5f"
          },
          "geo": {
           "bgcolor": "white",
           "lakecolor": "white",
           "landcolor": "#E5ECF6",
           "showlakes": true,
           "showland": true,
           "subunitcolor": "white"
          },
          "hoverlabel": {
           "align": "left"
          },
          "hovermode": "closest",
          "mapbox": {
           "style": "light"
          },
          "paper_bgcolor": "white",
          "plot_bgcolor": "#E5ECF6",
          "polar": {
           "angularaxis": {
            "gridcolor": "white",
            "linecolor": "white",
            "ticks": ""
           },
           "bgcolor": "#E5ECF6",
           "radialaxis": {
            "gridcolor": "white",
            "linecolor": "white",
            "ticks": ""
           }
          },
          "scene": {
           "xaxis": {
            "backgroundcolor": "#E5ECF6",
            "gridcolor": "white",
            "gridwidth": 2,
            "linecolor": "white",
            "showbackground": true,
            "ticks": "",
            "zerolinecolor": "white"
           },
           "yaxis": {
            "backgroundcolor": "#E5ECF6",
            "gridcolor": "white",
            "gridwidth": 2,
            "linecolor": "white",
            "showbackground": true,
            "ticks": "",
            "zerolinecolor": "white"
           },
           "zaxis": {
            "backgroundcolor": "#E5ECF6",
            "gridcolor": "white",
            "gridwidth": 2,
            "linecolor": "white",
            "showbackground": true,
            "ticks": "",
            "zerolinecolor": "white"
           }
          },
          "shapedefaults": {
           "line": {
            "color": "#2a3f5f"
           }
          },
          "ternary": {
           "aaxis": {
            "gridcolor": "white",
            "linecolor": "white",
            "ticks": ""
           },
           "baxis": {
            "gridcolor": "white",
            "linecolor": "white",
            "ticks": ""
           },
           "bgcolor": "#E5ECF6",
           "caxis": {
            "gridcolor": "white",
            "linecolor": "white",
            "ticks": ""
           }
          },
          "title": {
           "x": 0.05
          },
          "xaxis": {
           "automargin": true,
           "gridcolor": "white",
           "linecolor": "white",
           "ticks": "",
           "title": {
            "standoff": 15
           },
           "zerolinecolor": "white",
           "zerolinewidth": 2
          },
          "yaxis": {
           "automargin": true,
           "gridcolor": "white",
           "linecolor": "white",
           "ticks": "",
           "title": {
            "standoff": 15
           },
           "zerolinecolor": "white",
           "zerolinewidth": 2
          }
         }
        },
        "title": {
         "font": {
          "color": "#4D5663"
         }
        },
        "xaxis": {
         "gridcolor": "#E1E5ED",
         "showgrid": true,
         "tickfont": {
          "color": "#4D5663"
         },
         "title": {
          "font": {
           "color": "#4D5663"
          },
          "text": ""
         },
         "zerolinecolor": "#E1E5ED"
        },
        "yaxis": {
         "gridcolor": "#E1E5ED",
         "showgrid": true,
         "tickfont": {
          "color": "#4D5663"
         },
         "title": {
          "font": {
           "color": "#4D5663"
          },
          "text": ""
         },
         "zerolinecolor": "#E1E5ED"
        }
       }
      },
      "text/html": [
       "<div>\n",
       "        \n",
       "        \n",
       "            <div id=\"503e11f1-3c4e-4a5a-9f4f-25656bb586e4\" class=\"plotly-graph-div\" style=\"height:525px; width:100%;\"></div>\n",
       "            <script type=\"text/javascript\">\n",
       "                require([\"plotly\"], function(Plotly) {\n",
       "                    window.PLOTLYENV=window.PLOTLYENV || {};\n",
       "                    window.PLOTLYENV.BASE_URL='https://plot.ly';\n",
       "                    \n",
       "                if (document.getElementById(\"503e11f1-3c4e-4a5a-9f4f-25656bb586e4\")) {\n",
       "                    Plotly.newPlot(\n",
       "                        '503e11f1-3c4e-4a5a-9f4f-25656bb586e4',\n",
       "                        [{\"colorscale\": [[0.0, \"rgb(255, 153, 51)\"], [0.1111111111111111, \"rgb(55, 128, 191)\"], [0.2222222222222222, \"rgb(50, 171, 96)\"], [0.3333333333333333, \"rgb(128, 0, 128)\"], [0.4444444444444444, \"rgb(219, 64, 82)\"], [0.5555555555555556, \"rgb(0, 128, 128)\"], [0.6666666666666666, \"rgb(255, 255, 51)\"], [0.7777777777777778, \"rgb(128, 128, 0)\"], [0.8888888888888888, \"rgb(251, 128, 114)\"], [1.0, \"rgb(128, 177, 211)\"]], \"type\": \"surface\", \"x\": [0, 1, 2, 3, 4], \"y\": [\"x\", \"y\", \"z\"], \"z\": [[1, 2, 3, 4, 5], [10, 20, 30, 40, 20], [100, 200, 100, 400, 500]]}],\n",
       "                        {\"legend\": {\"bgcolor\": \"#F5F6F9\", \"font\": {\"color\": \"#4D5663\"}}, \"paper_bgcolor\": \"#F5F6F9\", \"plot_bgcolor\": \"#F5F6F9\", \"template\": {\"data\": {\"bar\": [{\"error_x\": {\"color\": \"#2a3f5f\"}, \"error_y\": {\"color\": \"#2a3f5f\"}, \"marker\": {\"line\": {\"color\": \"#E5ECF6\", \"width\": 0.5}}, \"type\": \"bar\"}], \"barpolar\": [{\"marker\": {\"line\": {\"color\": \"#E5ECF6\", \"width\": 0.5}}, \"type\": \"barpolar\"}], \"carpet\": [{\"aaxis\": {\"endlinecolor\": \"#2a3f5f\", \"gridcolor\": \"white\", \"linecolor\": \"white\", \"minorgridcolor\": \"white\", \"startlinecolor\": \"#2a3f5f\"}, \"baxis\": {\"endlinecolor\": \"#2a3f5f\", \"gridcolor\": \"white\", \"linecolor\": \"white\", \"minorgridcolor\": \"white\", \"startlinecolor\": \"#2a3f5f\"}, \"type\": \"carpet\"}], \"choropleth\": [{\"colorbar\": {\"outlinewidth\": 0, \"ticks\": \"\"}, \"type\": \"choropleth\"}], \"contour\": [{\"colorbar\": {\"outlinewidth\": 0, \"ticks\": \"\"}, \"colorscale\": [[0.0, \"#0d0887\"], [0.1111111111111111, \"#46039f\"], [0.2222222222222222, \"#7201a8\"], [0.3333333333333333, \"#9c179e\"], [0.4444444444444444, \"#bd3786\"], [0.5555555555555556, \"#d8576b\"], [0.6666666666666666, \"#ed7953\"], [0.7777777777777778, \"#fb9f3a\"], [0.8888888888888888, \"#fdca26\"], [1.0, \"#f0f921\"]], \"type\": \"contour\"}], \"contourcarpet\": [{\"colorbar\": {\"outlinewidth\": 0, \"ticks\": \"\"}, \"type\": \"contourcarpet\"}], \"heatmap\": [{\"colorbar\": {\"outlinewidth\": 0, \"ticks\": \"\"}, \"colorscale\": [[0.0, \"#0d0887\"], [0.1111111111111111, \"#46039f\"], [0.2222222222222222, \"#7201a8\"], [0.3333333333333333, \"#9c179e\"], [0.4444444444444444, \"#bd3786\"], [0.5555555555555556, \"#d8576b\"], [0.6666666666666666, \"#ed7953\"], [0.7777777777777778, \"#fb9f3a\"], [0.8888888888888888, \"#fdca26\"], [1.0, \"#f0f921\"]], \"type\": \"heatmap\"}], \"heatmapgl\": [{\"colorbar\": {\"outlinewidth\": 0, \"ticks\": \"\"}, \"colorscale\": [[0.0, \"#0d0887\"], [0.1111111111111111, \"#46039f\"], [0.2222222222222222, \"#7201a8\"], [0.3333333333333333, \"#9c179e\"], [0.4444444444444444, \"#bd3786\"], [0.5555555555555556, \"#d8576b\"], [0.6666666666666666, \"#ed7953\"], [0.7777777777777778, \"#fb9f3a\"], [0.8888888888888888, \"#fdca26\"], [1.0, \"#f0f921\"]], \"type\": \"heatmapgl\"}], \"histogram\": [{\"marker\": {\"colorbar\": {\"outlinewidth\": 0, \"ticks\": \"\"}}, \"type\": \"histogram\"}], \"histogram2d\": [{\"colorbar\": {\"outlinewidth\": 0, \"ticks\": \"\"}, \"colorscale\": [[0.0, \"#0d0887\"], [0.1111111111111111, \"#46039f\"], [0.2222222222222222, \"#7201a8\"], [0.3333333333333333, \"#9c179e\"], [0.4444444444444444, \"#bd3786\"], [0.5555555555555556, \"#d8576b\"], [0.6666666666666666, \"#ed7953\"], [0.7777777777777778, \"#fb9f3a\"], [0.8888888888888888, \"#fdca26\"], [1.0, \"#f0f921\"]], \"type\": \"histogram2d\"}], \"histogram2dcontour\": [{\"colorbar\": {\"outlinewidth\": 0, \"ticks\": \"\"}, \"colorscale\": [[0.0, \"#0d0887\"], [0.1111111111111111, \"#46039f\"], [0.2222222222222222, \"#7201a8\"], [0.3333333333333333, \"#9c179e\"], [0.4444444444444444, \"#bd3786\"], [0.5555555555555556, \"#d8576b\"], [0.6666666666666666, \"#ed7953\"], [0.7777777777777778, \"#fb9f3a\"], [0.8888888888888888, \"#fdca26\"], [1.0, \"#f0f921\"]], \"type\": \"histogram2dcontour\"}], \"mesh3d\": [{\"colorbar\": {\"outlinewidth\": 0, \"ticks\": \"\"}, \"type\": \"mesh3d\"}], \"parcoords\": [{\"line\": {\"colorbar\": {\"outlinewidth\": 0, \"ticks\": \"\"}}, \"type\": \"parcoords\"}], \"pie\": [{\"automargin\": true, \"type\": \"pie\"}], \"scatter\": [{\"marker\": {\"colorbar\": {\"outlinewidth\": 0, \"ticks\": \"\"}}, \"type\": \"scatter\"}], \"scatter3d\": [{\"line\": {\"colorbar\": {\"outlinewidth\": 0, \"ticks\": \"\"}}, \"marker\": {\"colorbar\": {\"outlinewidth\": 0, \"ticks\": \"\"}}, \"type\": \"scatter3d\"}], \"scattercarpet\": [{\"marker\": {\"colorbar\": {\"outlinewidth\": 0, \"ticks\": \"\"}}, \"type\": \"scattercarpet\"}], \"scattergeo\": [{\"marker\": {\"colorbar\": {\"outlinewidth\": 0, \"ticks\": \"\"}}, \"type\": \"scattergeo\"}], \"scattergl\": [{\"marker\": {\"colorbar\": {\"outlinewidth\": 0, \"ticks\": \"\"}}, \"type\": \"scattergl\"}], \"scattermapbox\": [{\"marker\": {\"colorbar\": {\"outlinewidth\": 0, \"ticks\": \"\"}}, \"type\": \"scattermapbox\"}], \"scatterpolar\": [{\"marker\": {\"colorbar\": {\"outlinewidth\": 0, \"ticks\": \"\"}}, \"type\": \"scatterpolar\"}], \"scatterpolargl\": [{\"marker\": {\"colorbar\": {\"outlinewidth\": 0, \"ticks\": \"\"}}, \"type\": \"scatterpolargl\"}], \"scatterternary\": [{\"marker\": {\"colorbar\": {\"outlinewidth\": 0, \"ticks\": \"\"}}, \"type\": \"scatterternary\"}], \"surface\": [{\"colorbar\": {\"outlinewidth\": 0, \"ticks\": \"\"}, \"colorscale\": [[0.0, \"#0d0887\"], [0.1111111111111111, \"#46039f\"], [0.2222222222222222, \"#7201a8\"], [0.3333333333333333, \"#9c179e\"], [0.4444444444444444, \"#bd3786\"], [0.5555555555555556, \"#d8576b\"], [0.6666666666666666, \"#ed7953\"], [0.7777777777777778, \"#fb9f3a\"], [0.8888888888888888, \"#fdca26\"], [1.0, \"#f0f921\"]], \"type\": \"surface\"}], \"table\": [{\"cells\": {\"fill\": {\"color\": \"#EBF0F8\"}, \"line\": {\"color\": \"white\"}}, \"header\": {\"fill\": {\"color\": \"#C8D4E3\"}, \"line\": {\"color\": \"white\"}}, \"type\": \"table\"}]}, \"layout\": {\"annotationdefaults\": {\"arrowcolor\": \"#2a3f5f\", \"arrowhead\": 0, \"arrowwidth\": 1}, \"coloraxis\": {\"colorbar\": {\"outlinewidth\": 0, \"ticks\": \"\"}}, \"colorscale\": {\"diverging\": [[0, \"#8e0152\"], [0.1, \"#c51b7d\"], [0.2, \"#de77ae\"], [0.3, \"#f1b6da\"], [0.4, \"#fde0ef\"], [0.5, \"#f7f7f7\"], [0.6, \"#e6f5d0\"], [0.7, \"#b8e186\"], [0.8, \"#7fbc41\"], [0.9, \"#4d9221\"], [1, \"#276419\"]], \"sequential\": [[0.0, \"#0d0887\"], [0.1111111111111111, \"#46039f\"], [0.2222222222222222, \"#7201a8\"], [0.3333333333333333, \"#9c179e\"], [0.4444444444444444, \"#bd3786\"], [0.5555555555555556, \"#d8576b\"], [0.6666666666666666, \"#ed7953\"], [0.7777777777777778, \"#fb9f3a\"], [0.8888888888888888, \"#fdca26\"], [1.0, \"#f0f921\"]], \"sequentialminus\": [[0.0, \"#0d0887\"], [0.1111111111111111, \"#46039f\"], [0.2222222222222222, \"#7201a8\"], [0.3333333333333333, \"#9c179e\"], [0.4444444444444444, \"#bd3786\"], [0.5555555555555556, \"#d8576b\"], [0.6666666666666666, \"#ed7953\"], [0.7777777777777778, \"#fb9f3a\"], [0.8888888888888888, \"#fdca26\"], [1.0, \"#f0f921\"]]}, \"colorway\": [\"#636efa\", \"#EF553B\", \"#00cc96\", \"#ab63fa\", \"#FFA15A\", \"#19d3f3\", \"#FF6692\", \"#B6E880\", \"#FF97FF\", \"#FECB52\"], \"font\": {\"color\": \"#2a3f5f\"}, \"geo\": {\"bgcolor\": \"white\", \"lakecolor\": \"white\", \"landcolor\": \"#E5ECF6\", \"showlakes\": true, \"showland\": true, \"subunitcolor\": \"white\"}, \"hoverlabel\": {\"align\": \"left\"}, \"hovermode\": \"closest\", \"mapbox\": {\"style\": \"light\"}, \"paper_bgcolor\": \"white\", \"plot_bgcolor\": \"#E5ECF6\", \"polar\": {\"angularaxis\": {\"gridcolor\": \"white\", \"linecolor\": \"white\", \"ticks\": \"\"}, \"bgcolor\": \"#E5ECF6\", \"radialaxis\": {\"gridcolor\": \"white\", \"linecolor\": \"white\", \"ticks\": \"\"}}, \"scene\": {\"xaxis\": {\"backgroundcolor\": \"#E5ECF6\", \"gridcolor\": \"white\", \"gridwidth\": 2, \"linecolor\": \"white\", \"showbackground\": true, \"ticks\": \"\", \"zerolinecolor\": \"white\"}, \"yaxis\": {\"backgroundcolor\": \"#E5ECF6\", \"gridcolor\": \"white\", \"gridwidth\": 2, \"linecolor\": \"white\", \"showbackground\": true, \"ticks\": \"\", \"zerolinecolor\": \"white\"}, \"zaxis\": {\"backgroundcolor\": \"#E5ECF6\", \"gridcolor\": \"white\", \"gridwidth\": 2, \"linecolor\": \"white\", \"showbackground\": true, \"ticks\": \"\", \"zerolinecolor\": \"white\"}}, \"shapedefaults\": {\"line\": {\"color\": \"#2a3f5f\"}}, \"ternary\": {\"aaxis\": {\"gridcolor\": \"white\", \"linecolor\": \"white\", \"ticks\": \"\"}, \"baxis\": {\"gridcolor\": \"white\", \"linecolor\": \"white\", \"ticks\": \"\"}, \"bgcolor\": \"#E5ECF6\", \"caxis\": {\"gridcolor\": \"white\", \"linecolor\": \"white\", \"ticks\": \"\"}}, \"title\": {\"x\": 0.05}, \"xaxis\": {\"automargin\": true, \"gridcolor\": \"white\", \"linecolor\": \"white\", \"ticks\": \"\", \"title\": {\"standoff\": 15}, \"zerolinecolor\": \"white\", \"zerolinewidth\": 2}, \"yaxis\": {\"automargin\": true, \"gridcolor\": \"white\", \"linecolor\": \"white\", \"ticks\": \"\", \"title\": {\"standoff\": 15}, \"zerolinecolor\": \"white\", \"zerolinewidth\": 2}}}, \"title\": {\"font\": {\"color\": \"#4D5663\"}}, \"xaxis\": {\"gridcolor\": \"#E1E5ED\", \"showgrid\": true, \"tickfont\": {\"color\": \"#4D5663\"}, \"title\": {\"font\": {\"color\": \"#4D5663\"}, \"text\": \"\"}, \"zerolinecolor\": \"#E1E5ED\"}, \"yaxis\": {\"gridcolor\": \"#E1E5ED\", \"showgrid\": true, \"tickfont\": {\"color\": \"#4D5663\"}, \"title\": {\"font\": {\"color\": \"#4D5663\"}, \"text\": \"\"}, \"zerolinecolor\": \"#E1E5ED\"}},\n",
       "                        {\"showLink\": true, \"linkText\": \"Export to plot.ly\", \"plotlyServerURL\": \"https://plot.ly\", \"responsive\": true}\n",
       "                    ).then(function(){\n",
       "                            \n",
       "var gd = document.getElementById('503e11f1-3c4e-4a5a-9f4f-25656bb586e4');\n",
       "var x = new MutationObserver(function (mutations, observer) {{\n",
       "        var display = window.getComputedStyle(gd).display;\n",
       "        if (!display || display === 'none') {{\n",
       "            console.log([gd, 'removed!']);\n",
       "            Plotly.purge(gd);\n",
       "            observer.disconnect();\n",
       "        }}\n",
       "}});\n",
       "\n",
       "// Listen for the removal of the full notebook cells\n",
       "var notebookContainer = gd.closest('#notebook-container');\n",
       "if (notebookContainer) {{\n",
       "    x.observe(notebookContainer, {childList: true});\n",
       "}}\n",
       "\n",
       "// Listen for the clearing of the current output cell\n",
       "var outputEl = gd.closest('.output');\n",
       "if (outputEl) {{\n",
       "    x.observe(outputEl, {childList: true});\n",
       "}}\n",
       "\n",
       "                        })\n",
       "                };\n",
       "                });\n",
       "            </script>\n",
       "        </div>"
      ]
     },
     "metadata": {},
     "output_type": "display_data"
    }
   ],
   "source": [
    "df3.iplot(kind='surface')"
   ]
  },
  {
   "cell_type": "code",
   "execution_count": 51,
   "metadata": {},
   "outputs": [
    {
     "data": {
      "application/vnd.plotly.v1+json": {
       "config": {
        "linkText": "Export to plot.ly",
        "plotlyServerURL": "https://plot.ly",
        "showLink": true
       },
       "data": [
        {
         "histfunc": "count",
         "histnorm": "",
         "marker": {
          "color": "rgba(255, 153, 51, 1.0)",
          "line": {
           "color": "#4D5663",
           "width": 1.3
          }
         },
         "name": "A",
         "nbinsx": 30,
         "opacity": 0.8,
         "orientation": "v",
         "type": "histogram",
         "x": [
          1.0568048367540321,
          -1.3498353277992474,
          -0.016590310967857964,
          0.35660732790600963,
          1.0193834962395287,
          0.8491903166284471,
          -0.270898010060361,
          -0.392709340199791,
          -2.7680493355073525,
          -0.9598449509727272,
          0.02486210535174598,
          -0.08209894073442042,
          1.3004359980675626,
          -1.58538400423906,
          0.0669781081316911,
          0.640025802146375,
          -0.21302066961046895,
          -1.235796292702241,
          -0.1309253051050104,
          -0.31643267250308843,
          0.03258708757811836,
          -0.3380255243770623,
          -0.22179719829268574,
          -0.46447982740594784,
          -0.7481879251469615,
          -1.8848112593418178,
          1.091188842324186,
          -1.002344407821016,
          0.3490115434488426,
          -1.0674123492812189,
          -0.6698990082688834,
          -0.5799795584411399,
          -0.06921656663627403,
          -1.6351975314526448,
          0.7106115831459313,
          1.194971214763005,
          0.11625479261911345,
          -1.934252919633813,
          0.11913041768822805,
          0.11132345496649837,
          1.389596749030748,
          -1.2171163369994655,
          1.2045581848905342,
          0.5820052642283193,
          -1.708114214802915,
          1.506653156239142,
          -0.9254490674897976,
          1.2409940264229145,
          0.2074483106758396,
          -1.3596588313168947,
          -2.390481486655998,
          -1.4566179541064537,
          -0.1836022258305617,
          -0.21501553404228868,
          -0.29215975665065563,
          1.6432342936542375,
          -0.07861297341559388,
          -2.19928517475691,
          0.7440934149815865,
          -1.184472526598871,
          -1.2162389598474177,
          0.1884059181021502,
          -1.5723531833999829,
          -1.3997371771754998,
          1.1481860646913822,
          -0.9789763321605593,
          -1.9138376620999613,
          -0.6331452017050753,
          0.7740822611022451,
          0.5258410109353289,
          0.819021535691631,
          -1.2739877143475504,
          -0.4999464290112291,
          -0.11030684358193382,
          0.2888305237105291,
          -0.5203727627946619,
          0.05106433226799674,
          -0.5982765768873508,
          0.9655105887234117,
          1.435008557832391,
          0.4183410289076339,
          1.7880526163669672,
          0.3332612477805044,
          -0.46462131549385466,
          -0.7495203318644134,
          0.8658306751167946,
          -0.7008970126949282,
          -1.2842726652184249,
          -0.4759677234328119,
          -1.215534764436904,
          -0.4894621529285363,
          1.2034829395601145,
          -1.8424285969117682,
          -1.0479601268610481,
          1.2913471557834049,
          -0.5675730197363626,
          0.4706223082609923,
          0.8438922504243296,
          0.2755981536419486,
          -0.5314784299117727
         ]
        }
       ],
       "layout": {
        "barmode": "overlay",
        "legend": {
         "bgcolor": "#F5F6F9",
         "font": {
          "color": "#4D5663"
         }
        },
        "paper_bgcolor": "#F5F6F9",
        "plot_bgcolor": "#F5F6F9",
        "template": {
         "data": {
          "bar": [
           {
            "error_x": {
             "color": "#2a3f5f"
            },
            "error_y": {
             "color": "#2a3f5f"
            },
            "marker": {
             "line": {
              "color": "#E5ECF6",
              "width": 0.5
             }
            },
            "type": "bar"
           }
          ],
          "barpolar": [
           {
            "marker": {
             "line": {
              "color": "#E5ECF6",
              "width": 0.5
             }
            },
            "type": "barpolar"
           }
          ],
          "carpet": [
           {
            "aaxis": {
             "endlinecolor": "#2a3f5f",
             "gridcolor": "white",
             "linecolor": "white",
             "minorgridcolor": "white",
             "startlinecolor": "#2a3f5f"
            },
            "baxis": {
             "endlinecolor": "#2a3f5f",
             "gridcolor": "white",
             "linecolor": "white",
             "minorgridcolor": "white",
             "startlinecolor": "#2a3f5f"
            },
            "type": "carpet"
           }
          ],
          "choropleth": [
           {
            "colorbar": {
             "outlinewidth": 0,
             "ticks": ""
            },
            "type": "choropleth"
           }
          ],
          "contour": [
           {
            "colorbar": {
             "outlinewidth": 0,
             "ticks": ""
            },
            "colorscale": [
             [
              0,
              "#0d0887"
             ],
             [
              0.1111111111111111,
              "#46039f"
             ],
             [
              0.2222222222222222,
              "#7201a8"
             ],
             [
              0.3333333333333333,
              "#9c179e"
             ],
             [
              0.4444444444444444,
              "#bd3786"
             ],
             [
              0.5555555555555556,
              "#d8576b"
             ],
             [
              0.6666666666666666,
              "#ed7953"
             ],
             [
              0.7777777777777778,
              "#fb9f3a"
             ],
             [
              0.8888888888888888,
              "#fdca26"
             ],
             [
              1,
              "#f0f921"
             ]
            ],
            "type": "contour"
           }
          ],
          "contourcarpet": [
           {
            "colorbar": {
             "outlinewidth": 0,
             "ticks": ""
            },
            "type": "contourcarpet"
           }
          ],
          "heatmap": [
           {
            "colorbar": {
             "outlinewidth": 0,
             "ticks": ""
            },
            "colorscale": [
             [
              0,
              "#0d0887"
             ],
             [
              0.1111111111111111,
              "#46039f"
             ],
             [
              0.2222222222222222,
              "#7201a8"
             ],
             [
              0.3333333333333333,
              "#9c179e"
             ],
             [
              0.4444444444444444,
              "#bd3786"
             ],
             [
              0.5555555555555556,
              "#d8576b"
             ],
             [
              0.6666666666666666,
              "#ed7953"
             ],
             [
              0.7777777777777778,
              "#fb9f3a"
             ],
             [
              0.8888888888888888,
              "#fdca26"
             ],
             [
              1,
              "#f0f921"
             ]
            ],
            "type": "heatmap"
           }
          ],
          "heatmapgl": [
           {
            "colorbar": {
             "outlinewidth": 0,
             "ticks": ""
            },
            "colorscale": [
             [
              0,
              "#0d0887"
             ],
             [
              0.1111111111111111,
              "#46039f"
             ],
             [
              0.2222222222222222,
              "#7201a8"
             ],
             [
              0.3333333333333333,
              "#9c179e"
             ],
             [
              0.4444444444444444,
              "#bd3786"
             ],
             [
              0.5555555555555556,
              "#d8576b"
             ],
             [
              0.6666666666666666,
              "#ed7953"
             ],
             [
              0.7777777777777778,
              "#fb9f3a"
             ],
             [
              0.8888888888888888,
              "#fdca26"
             ],
             [
              1,
              "#f0f921"
             ]
            ],
            "type": "heatmapgl"
           }
          ],
          "histogram": [
           {
            "marker": {
             "colorbar": {
              "outlinewidth": 0,
              "ticks": ""
             }
            },
            "type": "histogram"
           }
          ],
          "histogram2d": [
           {
            "colorbar": {
             "outlinewidth": 0,
             "ticks": ""
            },
            "colorscale": [
             [
              0,
              "#0d0887"
             ],
             [
              0.1111111111111111,
              "#46039f"
             ],
             [
              0.2222222222222222,
              "#7201a8"
             ],
             [
              0.3333333333333333,
              "#9c179e"
             ],
             [
              0.4444444444444444,
              "#bd3786"
             ],
             [
              0.5555555555555556,
              "#d8576b"
             ],
             [
              0.6666666666666666,
              "#ed7953"
             ],
             [
              0.7777777777777778,
              "#fb9f3a"
             ],
             [
              0.8888888888888888,
              "#fdca26"
             ],
             [
              1,
              "#f0f921"
             ]
            ],
            "type": "histogram2d"
           }
          ],
          "histogram2dcontour": [
           {
            "colorbar": {
             "outlinewidth": 0,
             "ticks": ""
            },
            "colorscale": [
             [
              0,
              "#0d0887"
             ],
             [
              0.1111111111111111,
              "#46039f"
             ],
             [
              0.2222222222222222,
              "#7201a8"
             ],
             [
              0.3333333333333333,
              "#9c179e"
             ],
             [
              0.4444444444444444,
              "#bd3786"
             ],
             [
              0.5555555555555556,
              "#d8576b"
             ],
             [
              0.6666666666666666,
              "#ed7953"
             ],
             [
              0.7777777777777778,
              "#fb9f3a"
             ],
             [
              0.8888888888888888,
              "#fdca26"
             ],
             [
              1,
              "#f0f921"
             ]
            ],
            "type": "histogram2dcontour"
           }
          ],
          "mesh3d": [
           {
            "colorbar": {
             "outlinewidth": 0,
             "ticks": ""
            },
            "type": "mesh3d"
           }
          ],
          "parcoords": [
           {
            "line": {
             "colorbar": {
              "outlinewidth": 0,
              "ticks": ""
             }
            },
            "type": "parcoords"
           }
          ],
          "pie": [
           {
            "automargin": true,
            "type": "pie"
           }
          ],
          "scatter": [
           {
            "marker": {
             "colorbar": {
              "outlinewidth": 0,
              "ticks": ""
             }
            },
            "type": "scatter"
           }
          ],
          "scatter3d": [
           {
            "line": {
             "colorbar": {
              "outlinewidth": 0,
              "ticks": ""
             }
            },
            "marker": {
             "colorbar": {
              "outlinewidth": 0,
              "ticks": ""
             }
            },
            "type": "scatter3d"
           }
          ],
          "scattercarpet": [
           {
            "marker": {
             "colorbar": {
              "outlinewidth": 0,
              "ticks": ""
             }
            },
            "type": "scattercarpet"
           }
          ],
          "scattergeo": [
           {
            "marker": {
             "colorbar": {
              "outlinewidth": 0,
              "ticks": ""
             }
            },
            "type": "scattergeo"
           }
          ],
          "scattergl": [
           {
            "marker": {
             "colorbar": {
              "outlinewidth": 0,
              "ticks": ""
             }
            },
            "type": "scattergl"
           }
          ],
          "scattermapbox": [
           {
            "marker": {
             "colorbar": {
              "outlinewidth": 0,
              "ticks": ""
             }
            },
            "type": "scattermapbox"
           }
          ],
          "scatterpolar": [
           {
            "marker": {
             "colorbar": {
              "outlinewidth": 0,
              "ticks": ""
             }
            },
            "type": "scatterpolar"
           }
          ],
          "scatterpolargl": [
           {
            "marker": {
             "colorbar": {
              "outlinewidth": 0,
              "ticks": ""
             }
            },
            "type": "scatterpolargl"
           }
          ],
          "scatterternary": [
           {
            "marker": {
             "colorbar": {
              "outlinewidth": 0,
              "ticks": ""
             }
            },
            "type": "scatterternary"
           }
          ],
          "surface": [
           {
            "colorbar": {
             "outlinewidth": 0,
             "ticks": ""
            },
            "colorscale": [
             [
              0,
              "#0d0887"
             ],
             [
              0.1111111111111111,
              "#46039f"
             ],
             [
              0.2222222222222222,
              "#7201a8"
             ],
             [
              0.3333333333333333,
              "#9c179e"
             ],
             [
              0.4444444444444444,
              "#bd3786"
             ],
             [
              0.5555555555555556,
              "#d8576b"
             ],
             [
              0.6666666666666666,
              "#ed7953"
             ],
             [
              0.7777777777777778,
              "#fb9f3a"
             ],
             [
              0.8888888888888888,
              "#fdca26"
             ],
             [
              1,
              "#f0f921"
             ]
            ],
            "type": "surface"
           }
          ],
          "table": [
           {
            "cells": {
             "fill": {
              "color": "#EBF0F8"
             },
             "line": {
              "color": "white"
             }
            },
            "header": {
             "fill": {
              "color": "#C8D4E3"
             },
             "line": {
              "color": "white"
             }
            },
            "type": "table"
           }
          ]
         },
         "layout": {
          "annotationdefaults": {
           "arrowcolor": "#2a3f5f",
           "arrowhead": 0,
           "arrowwidth": 1
          },
          "coloraxis": {
           "colorbar": {
            "outlinewidth": 0,
            "ticks": ""
           }
          },
          "colorscale": {
           "diverging": [
            [
             0,
             "#8e0152"
            ],
            [
             0.1,
             "#c51b7d"
            ],
            [
             0.2,
             "#de77ae"
            ],
            [
             0.3,
             "#f1b6da"
            ],
            [
             0.4,
             "#fde0ef"
            ],
            [
             0.5,
             "#f7f7f7"
            ],
            [
             0.6,
             "#e6f5d0"
            ],
            [
             0.7,
             "#b8e186"
            ],
            [
             0.8,
             "#7fbc41"
            ],
            [
             0.9,
             "#4d9221"
            ],
            [
             1,
             "#276419"
            ]
           ],
           "sequential": [
            [
             0,
             "#0d0887"
            ],
            [
             0.1111111111111111,
             "#46039f"
            ],
            [
             0.2222222222222222,
             "#7201a8"
            ],
            [
             0.3333333333333333,
             "#9c179e"
            ],
            [
             0.4444444444444444,
             "#bd3786"
            ],
            [
             0.5555555555555556,
             "#d8576b"
            ],
            [
             0.6666666666666666,
             "#ed7953"
            ],
            [
             0.7777777777777778,
             "#fb9f3a"
            ],
            [
             0.8888888888888888,
             "#fdca26"
            ],
            [
             1,
             "#f0f921"
            ]
           ],
           "sequentialminus": [
            [
             0,
             "#0d0887"
            ],
            [
             0.1111111111111111,
             "#46039f"
            ],
            [
             0.2222222222222222,
             "#7201a8"
            ],
            [
             0.3333333333333333,
             "#9c179e"
            ],
            [
             0.4444444444444444,
             "#bd3786"
            ],
            [
             0.5555555555555556,
             "#d8576b"
            ],
            [
             0.6666666666666666,
             "#ed7953"
            ],
            [
             0.7777777777777778,
             "#fb9f3a"
            ],
            [
             0.8888888888888888,
             "#fdca26"
            ],
            [
             1,
             "#f0f921"
            ]
           ]
          },
          "colorway": [
           "#636efa",
           "#EF553B",
           "#00cc96",
           "#ab63fa",
           "#FFA15A",
           "#19d3f3",
           "#FF6692",
           "#B6E880",
           "#FF97FF",
           "#FECB52"
          ],
          "font": {
           "color": "#2a3f5f"
          },
          "geo": {
           "bgcolor": "white",
           "lakecolor": "white",
           "landcolor": "#E5ECF6",
           "showlakes": true,
           "showland": true,
           "subunitcolor": "white"
          },
          "hoverlabel": {
           "align": "left"
          },
          "hovermode": "closest",
          "mapbox": {
           "style": "light"
          },
          "paper_bgcolor": "white",
          "plot_bgcolor": "#E5ECF6",
          "polar": {
           "angularaxis": {
            "gridcolor": "white",
            "linecolor": "white",
            "ticks": ""
           },
           "bgcolor": "#E5ECF6",
           "radialaxis": {
            "gridcolor": "white",
            "linecolor": "white",
            "ticks": ""
           }
          },
          "scene": {
           "xaxis": {
            "backgroundcolor": "#E5ECF6",
            "gridcolor": "white",
            "gridwidth": 2,
            "linecolor": "white",
            "showbackground": true,
            "ticks": "",
            "zerolinecolor": "white"
           },
           "yaxis": {
            "backgroundcolor": "#E5ECF6",
            "gridcolor": "white",
            "gridwidth": 2,
            "linecolor": "white",
            "showbackground": true,
            "ticks": "",
            "zerolinecolor": "white"
           },
           "zaxis": {
            "backgroundcolor": "#E5ECF6",
            "gridcolor": "white",
            "gridwidth": 2,
            "linecolor": "white",
            "showbackground": true,
            "ticks": "",
            "zerolinecolor": "white"
           }
          },
          "shapedefaults": {
           "line": {
            "color": "#2a3f5f"
           }
          },
          "ternary": {
           "aaxis": {
            "gridcolor": "white",
            "linecolor": "white",
            "ticks": ""
           },
           "baxis": {
            "gridcolor": "white",
            "linecolor": "white",
            "ticks": ""
           },
           "bgcolor": "#E5ECF6",
           "caxis": {
            "gridcolor": "white",
            "linecolor": "white",
            "ticks": ""
           }
          },
          "title": {
           "x": 0.05
          },
          "xaxis": {
           "automargin": true,
           "gridcolor": "white",
           "linecolor": "white",
           "ticks": "",
           "title": {
            "standoff": 15
           },
           "zerolinecolor": "white",
           "zerolinewidth": 2
          },
          "yaxis": {
           "automargin": true,
           "gridcolor": "white",
           "linecolor": "white",
           "ticks": "",
           "title": {
            "standoff": 15
           },
           "zerolinecolor": "white",
           "zerolinewidth": 2
          }
         }
        },
        "title": {
         "font": {
          "color": "#4D5663"
         }
        },
        "xaxis": {
         "gridcolor": "#E1E5ED",
         "showgrid": true,
         "tickfont": {
          "color": "#4D5663"
         },
         "title": {
          "font": {
           "color": "#4D5663"
          },
          "text": ""
         },
         "zerolinecolor": "#E1E5ED"
        },
        "yaxis": {
         "gridcolor": "#E1E5ED",
         "showgrid": true,
         "tickfont": {
          "color": "#4D5663"
         },
         "title": {
          "font": {
           "color": "#4D5663"
          },
          "text": ""
         },
         "zerolinecolor": "#E1E5ED"
        }
       }
      },
      "text/html": [
       "<div>\n",
       "        \n",
       "        \n",
       "            <div id=\"2b89cb6e-1c46-4095-9279-c7b0f7b19997\" class=\"plotly-graph-div\" style=\"height:525px; width:100%;\"></div>\n",
       "            <script type=\"text/javascript\">\n",
       "                require([\"plotly\"], function(Plotly) {\n",
       "                    window.PLOTLYENV=window.PLOTLYENV || {};\n",
       "                    window.PLOTLYENV.BASE_URL='https://plot.ly';\n",
       "                    \n",
       "                if (document.getElementById(\"2b89cb6e-1c46-4095-9279-c7b0f7b19997\")) {\n",
       "                    Plotly.newPlot(\n",
       "                        '2b89cb6e-1c46-4095-9279-c7b0f7b19997',\n",
       "                        [{\"histfunc\": \"count\", \"histnorm\": \"\", \"marker\": {\"color\": \"rgba(255, 153, 51, 1.0)\", \"line\": {\"color\": \"#4D5663\", \"width\": 1.3}}, \"name\": \"A\", \"nbinsx\": 30, \"opacity\": 0.8, \"orientation\": \"v\", \"type\": \"histogram\", \"x\": [1.0568048367540321, -1.3498353277992474, -0.016590310967857964, 0.35660732790600963, 1.0193834962395287, 0.8491903166284471, -0.270898010060361, -0.392709340199791, -2.7680493355073525, -0.9598449509727272, 0.02486210535174598, -0.08209894073442042, 1.3004359980675626, -1.58538400423906, 0.0669781081316911, 0.640025802146375, -0.21302066961046895, -1.235796292702241, -0.1309253051050104, -0.31643267250308843, 0.03258708757811836, -0.3380255243770623, -0.22179719829268574, -0.46447982740594784, -0.7481879251469615, -1.8848112593418178, 1.091188842324186, -1.002344407821016, 0.3490115434488426, -1.0674123492812189, -0.6698990082688834, -0.5799795584411399, -0.06921656663627403, -1.6351975314526448, 0.7106115831459313, 1.194971214763005, 0.11625479261911345, -1.934252919633813, 0.11913041768822805, 0.11132345496649837, 1.389596749030748, -1.2171163369994655, 1.2045581848905342, 0.5820052642283193, -1.708114214802915, 1.506653156239142, -0.9254490674897976, 1.2409940264229145, 0.2074483106758396, -1.3596588313168947, -2.390481486655998, -1.4566179541064537, -0.1836022258305617, -0.21501553404228868, -0.29215975665065563, 1.6432342936542375, -0.07861297341559388, -2.19928517475691, 0.7440934149815865, -1.184472526598871, -1.2162389598474177, 0.1884059181021502, -1.5723531833999829, -1.3997371771754998, 1.1481860646913822, -0.9789763321605593, -1.9138376620999613, -0.6331452017050753, 0.7740822611022451, 0.5258410109353289, 0.819021535691631, -1.2739877143475504, -0.4999464290112291, -0.11030684358193382, 0.2888305237105291, -0.5203727627946619, 0.05106433226799674, -0.5982765768873508, 0.9655105887234117, 1.435008557832391, 0.4183410289076339, 1.7880526163669672, 0.3332612477805044, -0.46462131549385466, -0.7495203318644134, 0.8658306751167946, -0.7008970126949282, -1.2842726652184249, -0.4759677234328119, -1.215534764436904, -0.4894621529285363, 1.2034829395601145, -1.8424285969117682, -1.0479601268610481, 1.2913471557834049, -0.5675730197363626, 0.4706223082609923, 0.8438922504243296, 0.2755981536419486, -0.5314784299117727]}],\n",
       "                        {\"barmode\": \"overlay\", \"legend\": {\"bgcolor\": \"#F5F6F9\", \"font\": {\"color\": \"#4D5663\"}}, \"paper_bgcolor\": \"#F5F6F9\", \"plot_bgcolor\": \"#F5F6F9\", \"template\": {\"data\": {\"bar\": [{\"error_x\": {\"color\": \"#2a3f5f\"}, \"error_y\": {\"color\": \"#2a3f5f\"}, \"marker\": {\"line\": {\"color\": \"#E5ECF6\", \"width\": 0.5}}, \"type\": \"bar\"}], \"barpolar\": [{\"marker\": {\"line\": {\"color\": \"#E5ECF6\", \"width\": 0.5}}, \"type\": \"barpolar\"}], \"carpet\": [{\"aaxis\": {\"endlinecolor\": \"#2a3f5f\", \"gridcolor\": \"white\", \"linecolor\": \"white\", \"minorgridcolor\": \"white\", \"startlinecolor\": \"#2a3f5f\"}, \"baxis\": {\"endlinecolor\": \"#2a3f5f\", \"gridcolor\": \"white\", \"linecolor\": \"white\", \"minorgridcolor\": \"white\", \"startlinecolor\": \"#2a3f5f\"}, \"type\": \"carpet\"}], \"choropleth\": [{\"colorbar\": {\"outlinewidth\": 0, \"ticks\": \"\"}, \"type\": \"choropleth\"}], \"contour\": [{\"colorbar\": {\"outlinewidth\": 0, \"ticks\": \"\"}, \"colorscale\": [[0.0, \"#0d0887\"], [0.1111111111111111, \"#46039f\"], [0.2222222222222222, \"#7201a8\"], [0.3333333333333333, \"#9c179e\"], [0.4444444444444444, \"#bd3786\"], [0.5555555555555556, \"#d8576b\"], [0.6666666666666666, \"#ed7953\"], [0.7777777777777778, \"#fb9f3a\"], [0.8888888888888888, \"#fdca26\"], [1.0, \"#f0f921\"]], \"type\": \"contour\"}], \"contourcarpet\": [{\"colorbar\": {\"outlinewidth\": 0, \"ticks\": \"\"}, \"type\": \"contourcarpet\"}], \"heatmap\": [{\"colorbar\": {\"outlinewidth\": 0, \"ticks\": \"\"}, \"colorscale\": [[0.0, \"#0d0887\"], [0.1111111111111111, \"#46039f\"], [0.2222222222222222, \"#7201a8\"], [0.3333333333333333, \"#9c179e\"], [0.4444444444444444, \"#bd3786\"], [0.5555555555555556, \"#d8576b\"], [0.6666666666666666, \"#ed7953\"], [0.7777777777777778, \"#fb9f3a\"], [0.8888888888888888, \"#fdca26\"], [1.0, \"#f0f921\"]], \"type\": \"heatmap\"}], \"heatmapgl\": [{\"colorbar\": {\"outlinewidth\": 0, \"ticks\": \"\"}, \"colorscale\": [[0.0, \"#0d0887\"], [0.1111111111111111, \"#46039f\"], [0.2222222222222222, \"#7201a8\"], [0.3333333333333333, \"#9c179e\"], [0.4444444444444444, \"#bd3786\"], [0.5555555555555556, \"#d8576b\"], [0.6666666666666666, \"#ed7953\"], [0.7777777777777778, \"#fb9f3a\"], [0.8888888888888888, \"#fdca26\"], [1.0, \"#f0f921\"]], \"type\": \"heatmapgl\"}], \"histogram\": [{\"marker\": {\"colorbar\": {\"outlinewidth\": 0, \"ticks\": \"\"}}, \"type\": \"histogram\"}], \"histogram2d\": [{\"colorbar\": {\"outlinewidth\": 0, \"ticks\": \"\"}, \"colorscale\": [[0.0, \"#0d0887\"], [0.1111111111111111, \"#46039f\"], [0.2222222222222222, \"#7201a8\"], [0.3333333333333333, \"#9c179e\"], [0.4444444444444444, \"#bd3786\"], [0.5555555555555556, \"#d8576b\"], [0.6666666666666666, \"#ed7953\"], [0.7777777777777778, \"#fb9f3a\"], [0.8888888888888888, \"#fdca26\"], [1.0, \"#f0f921\"]], \"type\": \"histogram2d\"}], \"histogram2dcontour\": [{\"colorbar\": {\"outlinewidth\": 0, \"ticks\": \"\"}, \"colorscale\": [[0.0, \"#0d0887\"], [0.1111111111111111, \"#46039f\"], [0.2222222222222222, \"#7201a8\"], [0.3333333333333333, \"#9c179e\"], [0.4444444444444444, \"#bd3786\"], [0.5555555555555556, \"#d8576b\"], [0.6666666666666666, \"#ed7953\"], [0.7777777777777778, \"#fb9f3a\"], [0.8888888888888888, \"#fdca26\"], [1.0, \"#f0f921\"]], \"type\": \"histogram2dcontour\"}], \"mesh3d\": [{\"colorbar\": {\"outlinewidth\": 0, \"ticks\": \"\"}, \"type\": \"mesh3d\"}], \"parcoords\": [{\"line\": {\"colorbar\": {\"outlinewidth\": 0, \"ticks\": \"\"}}, \"type\": \"parcoords\"}], \"pie\": [{\"automargin\": true, \"type\": \"pie\"}], \"scatter\": [{\"marker\": {\"colorbar\": {\"outlinewidth\": 0, \"ticks\": \"\"}}, \"type\": \"scatter\"}], \"scatter3d\": [{\"line\": {\"colorbar\": {\"outlinewidth\": 0, \"ticks\": \"\"}}, \"marker\": {\"colorbar\": {\"outlinewidth\": 0, \"ticks\": \"\"}}, \"type\": \"scatter3d\"}], \"scattercarpet\": [{\"marker\": {\"colorbar\": {\"outlinewidth\": 0, \"ticks\": \"\"}}, \"type\": \"scattercarpet\"}], \"scattergeo\": [{\"marker\": {\"colorbar\": {\"outlinewidth\": 0, \"ticks\": \"\"}}, \"type\": \"scattergeo\"}], \"scattergl\": [{\"marker\": {\"colorbar\": {\"outlinewidth\": 0, \"ticks\": \"\"}}, \"type\": \"scattergl\"}], \"scattermapbox\": [{\"marker\": {\"colorbar\": {\"outlinewidth\": 0, \"ticks\": \"\"}}, \"type\": \"scattermapbox\"}], \"scatterpolar\": [{\"marker\": {\"colorbar\": {\"outlinewidth\": 0, \"ticks\": \"\"}}, \"type\": \"scatterpolar\"}], \"scatterpolargl\": [{\"marker\": {\"colorbar\": {\"outlinewidth\": 0, \"ticks\": \"\"}}, \"type\": \"scatterpolargl\"}], \"scatterternary\": [{\"marker\": {\"colorbar\": {\"outlinewidth\": 0, \"ticks\": \"\"}}, \"type\": \"scatterternary\"}], \"surface\": [{\"colorbar\": {\"outlinewidth\": 0, \"ticks\": \"\"}, \"colorscale\": [[0.0, \"#0d0887\"], [0.1111111111111111, \"#46039f\"], [0.2222222222222222, \"#7201a8\"], [0.3333333333333333, \"#9c179e\"], [0.4444444444444444, \"#bd3786\"], [0.5555555555555556, \"#d8576b\"], [0.6666666666666666, \"#ed7953\"], [0.7777777777777778, \"#fb9f3a\"], [0.8888888888888888, \"#fdca26\"], [1.0, \"#f0f921\"]], \"type\": \"surface\"}], \"table\": [{\"cells\": {\"fill\": {\"color\": \"#EBF0F8\"}, \"line\": {\"color\": \"white\"}}, \"header\": {\"fill\": {\"color\": \"#C8D4E3\"}, \"line\": {\"color\": \"white\"}}, \"type\": \"table\"}]}, \"layout\": {\"annotationdefaults\": {\"arrowcolor\": \"#2a3f5f\", \"arrowhead\": 0, \"arrowwidth\": 1}, \"coloraxis\": {\"colorbar\": {\"outlinewidth\": 0, \"ticks\": \"\"}}, \"colorscale\": {\"diverging\": [[0, \"#8e0152\"], [0.1, \"#c51b7d\"], [0.2, \"#de77ae\"], [0.3, \"#f1b6da\"], [0.4, \"#fde0ef\"], [0.5, \"#f7f7f7\"], [0.6, \"#e6f5d0\"], [0.7, \"#b8e186\"], [0.8, \"#7fbc41\"], [0.9, \"#4d9221\"], [1, \"#276419\"]], \"sequential\": [[0.0, \"#0d0887\"], [0.1111111111111111, \"#46039f\"], [0.2222222222222222, \"#7201a8\"], [0.3333333333333333, \"#9c179e\"], [0.4444444444444444, \"#bd3786\"], [0.5555555555555556, \"#d8576b\"], [0.6666666666666666, \"#ed7953\"], [0.7777777777777778, \"#fb9f3a\"], [0.8888888888888888, \"#fdca26\"], [1.0, \"#f0f921\"]], \"sequentialminus\": [[0.0, \"#0d0887\"], [0.1111111111111111, \"#46039f\"], [0.2222222222222222, \"#7201a8\"], [0.3333333333333333, \"#9c179e\"], [0.4444444444444444, \"#bd3786\"], [0.5555555555555556, \"#d8576b\"], [0.6666666666666666, \"#ed7953\"], [0.7777777777777778, \"#fb9f3a\"], [0.8888888888888888, \"#fdca26\"], [1.0, \"#f0f921\"]]}, \"colorway\": [\"#636efa\", \"#EF553B\", \"#00cc96\", \"#ab63fa\", \"#FFA15A\", \"#19d3f3\", \"#FF6692\", \"#B6E880\", \"#FF97FF\", \"#FECB52\"], \"font\": {\"color\": \"#2a3f5f\"}, \"geo\": {\"bgcolor\": \"white\", \"lakecolor\": \"white\", \"landcolor\": \"#E5ECF6\", \"showlakes\": true, \"showland\": true, \"subunitcolor\": \"white\"}, \"hoverlabel\": {\"align\": \"left\"}, \"hovermode\": \"closest\", \"mapbox\": {\"style\": \"light\"}, \"paper_bgcolor\": \"white\", \"plot_bgcolor\": \"#E5ECF6\", \"polar\": {\"angularaxis\": {\"gridcolor\": \"white\", \"linecolor\": \"white\", \"ticks\": \"\"}, \"bgcolor\": \"#E5ECF6\", \"radialaxis\": {\"gridcolor\": \"white\", \"linecolor\": \"white\", \"ticks\": \"\"}}, \"scene\": {\"xaxis\": {\"backgroundcolor\": \"#E5ECF6\", \"gridcolor\": \"white\", \"gridwidth\": 2, \"linecolor\": \"white\", \"showbackground\": true, \"ticks\": \"\", \"zerolinecolor\": \"white\"}, \"yaxis\": {\"backgroundcolor\": \"#E5ECF6\", \"gridcolor\": \"white\", \"gridwidth\": 2, \"linecolor\": \"white\", \"showbackground\": true, \"ticks\": \"\", \"zerolinecolor\": \"white\"}, \"zaxis\": {\"backgroundcolor\": \"#E5ECF6\", \"gridcolor\": \"white\", \"gridwidth\": 2, \"linecolor\": \"white\", \"showbackground\": true, \"ticks\": \"\", \"zerolinecolor\": \"white\"}}, \"shapedefaults\": {\"line\": {\"color\": \"#2a3f5f\"}}, \"ternary\": {\"aaxis\": {\"gridcolor\": \"white\", \"linecolor\": \"white\", \"ticks\": \"\"}, \"baxis\": {\"gridcolor\": \"white\", \"linecolor\": \"white\", \"ticks\": \"\"}, \"bgcolor\": \"#E5ECF6\", \"caxis\": {\"gridcolor\": \"white\", \"linecolor\": \"white\", \"ticks\": \"\"}}, \"title\": {\"x\": 0.05}, \"xaxis\": {\"automargin\": true, \"gridcolor\": \"white\", \"linecolor\": \"white\", \"ticks\": \"\", \"title\": {\"standoff\": 15}, \"zerolinecolor\": \"white\", \"zerolinewidth\": 2}, \"yaxis\": {\"automargin\": true, \"gridcolor\": \"white\", \"linecolor\": \"white\", \"ticks\": \"\", \"title\": {\"standoff\": 15}, \"zerolinecolor\": \"white\", \"zerolinewidth\": 2}}}, \"title\": {\"font\": {\"color\": \"#4D5663\"}}, \"xaxis\": {\"gridcolor\": \"#E1E5ED\", \"showgrid\": true, \"tickfont\": {\"color\": \"#4D5663\"}, \"title\": {\"font\": {\"color\": \"#4D5663\"}, \"text\": \"\"}, \"zerolinecolor\": \"#E1E5ED\"}, \"yaxis\": {\"gridcolor\": \"#E1E5ED\", \"showgrid\": true, \"tickfont\": {\"color\": \"#4D5663\"}, \"title\": {\"font\": {\"color\": \"#4D5663\"}, \"text\": \"\"}, \"zerolinecolor\": \"#E1E5ED\"}},\n",
       "                        {\"showLink\": true, \"linkText\": \"Export to plot.ly\", \"plotlyServerURL\": \"https://plot.ly\", \"responsive\": true}\n",
       "                    ).then(function(){\n",
       "                            \n",
       "var gd = document.getElementById('2b89cb6e-1c46-4095-9279-c7b0f7b19997');\n",
       "var x = new MutationObserver(function (mutations, observer) {{\n",
       "        var display = window.getComputedStyle(gd).display;\n",
       "        if (!display || display === 'none') {{\n",
       "            console.log([gd, 'removed!']);\n",
       "            Plotly.purge(gd);\n",
       "            observer.disconnect();\n",
       "        }}\n",
       "}});\n",
       "\n",
       "// Listen for the removal of the full notebook cells\n",
       "var notebookContainer = gd.closest('#notebook-container');\n",
       "if (notebookContainer) {{\n",
       "    x.observe(notebookContainer, {childList: true});\n",
       "}}\n",
       "\n",
       "// Listen for the clearing of the current output cell\n",
       "var outputEl = gd.closest('.output');\n",
       "if (outputEl) {{\n",
       "    x.observe(outputEl, {childList: true});\n",
       "}}\n",
       "\n",
       "                        })\n",
       "                };\n",
       "                });\n",
       "            </script>\n",
       "        </div>"
      ]
     },
     "metadata": {},
     "output_type": "display_data"
    }
   ],
   "source": [
    "df['A'].iplot(kind='hist',bins=30)"
   ]
  },
  {
   "cell_type": "code",
   "execution_count": 52,
   "metadata": {},
   "outputs": [
    {
     "name": "stderr",
     "output_type": "stream",
     "text": [
      "/home/sachin/.local/lib/python3.6/site-packages/cufflinks/plotlytools.py:849: FutureWarning:\n",
      "\n",
      "The pandas.np module is deprecated and will be removed from pandas in a future version. Import numpy directly instead\n",
      "\n",
      "/home/sachin/.local/lib/python3.6/site-packages/cufflinks/plotlytools.py:850: FutureWarning:\n",
      "\n",
      "The pandas.np module is deprecated and will be removed from pandas in a future version. Import numpy directly instead\n",
      "\n"
     ]
    },
    {
     "data": {
      "application/vnd.plotly.v1+json": {
       "config": {
        "linkText": "Export to plot.ly",
        "plotlyServerURL": "https://plot.ly",
        "showLink": true
       },
       "data": [
        {
         "line": {
          "color": "rgba(255, 153, 51, 1.0)",
          "dash": "solid",
          "shape": "linear",
          "width": 1.3
         },
         "mode": "lines",
         "name": "A",
         "text": "",
         "type": "scatter",
         "x": [
          0,
          1,
          2,
          3,
          4,
          5,
          6,
          7,
          8,
          9,
          10,
          11,
          12,
          13,
          14,
          15,
          16,
          17,
          18,
          19,
          20,
          21,
          22,
          23,
          24,
          25,
          26,
          27,
          28,
          29,
          30,
          31,
          32,
          33,
          34,
          35,
          36,
          37,
          38,
          39,
          40,
          41,
          42,
          43,
          44,
          45,
          46,
          47,
          48,
          49,
          50,
          51,
          52,
          53,
          54,
          55,
          56,
          57,
          58,
          59,
          60,
          61,
          62,
          63,
          64,
          65,
          66,
          67,
          68,
          69,
          70,
          71,
          72,
          73,
          74,
          75,
          76,
          77,
          78,
          79,
          80,
          81,
          82,
          83,
          84,
          85,
          86,
          87,
          88,
          89,
          90,
          91,
          92,
          93,
          94,
          95,
          96,
          97,
          98,
          99
         ],
         "y": [
          1.0568048367540321,
          -1.3498353277992474,
          -0.016590310967857964,
          0.35660732790600963,
          1.0193834962395287,
          0.8491903166284471,
          -0.270898010060361,
          -0.392709340199791,
          -2.7680493355073525,
          -0.9598449509727272,
          0.02486210535174598,
          -0.08209894073442042,
          1.3004359980675626,
          -1.58538400423906,
          0.0669781081316911,
          0.640025802146375,
          -0.21302066961046895,
          -1.235796292702241,
          -0.1309253051050104,
          -0.31643267250308843,
          0.03258708757811836,
          -0.3380255243770623,
          -0.22179719829268574,
          -0.46447982740594784,
          -0.7481879251469615,
          -1.8848112593418178,
          1.091188842324186,
          -1.002344407821016,
          0.3490115434488426,
          -1.0674123492812189,
          -0.6698990082688834,
          -0.5799795584411399,
          -0.06921656663627403,
          -1.6351975314526448,
          0.7106115831459313,
          1.194971214763005,
          0.11625479261911345,
          -1.934252919633813,
          0.11913041768822805,
          0.11132345496649837,
          1.389596749030748,
          -1.2171163369994655,
          1.2045581848905342,
          0.5820052642283193,
          -1.708114214802915,
          1.506653156239142,
          -0.9254490674897976,
          1.2409940264229145,
          0.2074483106758396,
          -1.3596588313168947,
          -2.390481486655998,
          -1.4566179541064537,
          -0.1836022258305617,
          -0.21501553404228868,
          -0.29215975665065563,
          1.6432342936542375,
          -0.07861297341559388,
          -2.19928517475691,
          0.7440934149815865,
          -1.184472526598871,
          -1.2162389598474177,
          0.1884059181021502,
          -1.5723531833999829,
          -1.3997371771754998,
          1.1481860646913822,
          -0.9789763321605593,
          -1.9138376620999613,
          -0.6331452017050753,
          0.7740822611022451,
          0.5258410109353289,
          0.819021535691631,
          -1.2739877143475504,
          -0.4999464290112291,
          -0.11030684358193382,
          0.2888305237105291,
          -0.5203727627946619,
          0.05106433226799674,
          -0.5982765768873508,
          0.9655105887234117,
          1.435008557832391,
          0.4183410289076339,
          1.7880526163669672,
          0.3332612477805044,
          -0.46462131549385466,
          -0.7495203318644134,
          0.8658306751167946,
          -0.7008970126949282,
          -1.2842726652184249,
          -0.4759677234328119,
          -1.215534764436904,
          -0.4894621529285363,
          1.2034829395601145,
          -1.8424285969117682,
          -1.0479601268610481,
          1.2913471557834049,
          -0.5675730197363626,
          0.4706223082609923,
          0.8438922504243296,
          0.2755981536419486,
          -0.5314784299117727
         ]
        },
        {
         "line": {
          "color": "rgba(55, 128, 191, 1.0)",
          "dash": "solid",
          "shape": "linear",
          "width": 1.3
         },
         "mode": "lines",
         "name": "B",
         "text": "",
         "type": "scatter",
         "x": [
          0,
          1,
          2,
          3,
          4,
          5,
          6,
          7,
          8,
          9,
          10,
          11,
          12,
          13,
          14,
          15,
          16,
          17,
          18,
          19,
          20,
          21,
          22,
          23,
          24,
          25,
          26,
          27,
          28,
          29,
          30,
          31,
          32,
          33,
          34,
          35,
          36,
          37,
          38,
          39,
          40,
          41,
          42,
          43,
          44,
          45,
          46,
          47,
          48,
          49,
          50,
          51,
          52,
          53,
          54,
          55,
          56,
          57,
          58,
          59,
          60,
          61,
          62,
          63,
          64,
          65,
          66,
          67,
          68,
          69,
          70,
          71,
          72,
          73,
          74,
          75,
          76,
          77,
          78,
          79,
          80,
          81,
          82,
          83,
          84,
          85,
          86,
          87,
          88,
          89,
          90,
          91,
          92,
          93,
          94,
          95,
          96,
          97,
          98,
          99
         ],
         "y": [
          0.48107134908112026,
          -1.6795123804935181,
          -1.407520137520341,
          0.6956647126875344,
          -0.8244186266256153,
          0.4651753314936174,
          1.3326443659961662,
          0.6712892112247183,
          -0.03678809166099367,
          -0.37571841568415526,
          -1.0933104414806638,
          1.0244520712000555,
          -1.6774374423985707,
          0.27825921049731706,
          -0.10656048173528182,
          -0.16266515491632585,
          -1.477859361988607,
          0.5755268284581758,
          -0.9848408514619815,
          1.1337930138402854,
          -2.1093063248932107,
          0.6732453387771199,
          1.0304751255639024,
          1.3442197800221123,
          -1.2994725083624141,
          0.24770923969024355,
          0.38001451435852873,
          0.6510217733836621,
          -1.334809357106278,
          -0.32591102686090045,
          0.33883289533284516,
          -0.6396342151768055,
          0.962462618516548,
          -0.3296481883115337,
          1.0539582266267544,
          -0.48849257687259584,
          -0.32932544514589285,
          -1.4021026631022075,
          0.4399519109122479,
          0.8165453632315621,
          0.17029682658018525,
          -1.539884876142449,
          -0.5290558912633045,
          -0.8862205911488811,
          1.503260759181969,
          1.2904641364329443,
          0.817464070671576,
          0.25455108264994014,
          0.6612696163441858,
          0.6148495307606112,
          -0.2443472940420814,
          -0.1502214269589789,
          0.29709144796356207,
          0.26233398363187316,
          -1.3859941884922815,
          -0.45976975796464326,
          0.17877088761322477,
          -1.7265360004559602,
          -0.2101124096705694,
          -2.1667428687019026,
          0.18014866395562953,
          0.17096478975414062,
          -0.6964272661332754,
          1.3526202915153194,
          0.8585059112481627,
          -0.472753727105893,
          1.5100650061692027,
          0.4439906420214673,
          -1.465584592157141,
          -0.8229300005118391,
          1.5114509544733574,
          0.5364040103244894,
          -0.6760154676033024,
          -0.12257777263745659,
          -0.028732704593448222,
          -1.6222251014678108,
          1.2862804917367132,
          0.15023697198365754,
          1.6432990060257577,
          -0.9471220749054257,
          -0.9861439162556745,
          0.9130666364117548,
          0.1790282336824031,
          1.6077357010516404,
          1.203379636178235,
          -0.8228046441290212,
          -1.8235900825357745,
          -1.0936356335033228,
          -0.2686300201689464,
          0.7704305152906291,
          1.9938798698875142,
          1.3775740544428223,
          -0.3965660112358336,
          -0.3414272326891216,
          -0.1138789943091023,
          -0.21589954976034614,
          0.3075242917985286,
          0.6432017039579504,
          0.08825291761810869,
          1.5816130906771417
         ]
        },
        {
         "connectgaps": false,
         "fill": "tozeroy",
         "line": {
          "color": "green",
          "dash": "solid",
          "shape": "linear",
          "width": 0.5
         },
         "mode": "lines",
         "name": "Spread",
         "showlegend": false,
         "type": "scatter",
         "x": [
          0,
          1,
          2,
          3,
          4,
          5,
          6,
          7,
          8,
          9,
          10,
          11,
          12,
          13,
          14,
          15,
          16,
          17,
          18,
          19,
          20,
          21,
          22,
          23,
          24,
          25,
          26,
          27,
          28,
          29,
          30,
          31,
          32,
          33,
          34,
          35,
          36,
          37,
          38,
          39,
          40,
          41,
          42,
          43,
          44,
          45,
          46,
          47,
          48,
          49,
          50,
          51,
          52,
          53,
          54,
          55,
          56,
          57,
          58,
          59,
          60,
          61,
          62,
          63,
          64,
          65,
          66,
          67,
          68,
          69,
          70,
          71,
          72,
          73,
          74,
          75,
          76,
          77,
          78,
          79,
          80,
          81,
          82,
          83,
          84,
          85,
          86,
          87,
          88,
          89,
          90,
          91,
          92,
          93,
          94,
          95,
          96,
          97,
          98,
          99
         ],
         "xaxis": "x2",
         "y": [
          0.5757334876729119,
          0.3296770526942707,
          1.390929826552483,
          "",
          1.843802122865144,
          0.38401498513482973,
          "",
          "",
          "",
          "",
          1.1181725468324097,
          "",
          2.9778734404661336,
          "",
          0.1735385898669729,
          0.8026909570627008,
          1.264838692378138,
          "",
          0.8539155463569711,
          "",
          2.141893412471329,
          "",
          "",
          "",
          0.5512845832154526,
          "",
          0.7111743279656573,
          "",
          1.6838209005551206,
          "",
          "",
          0.05965465673566561,
          "",
          "",
          "",
          1.6834637916356008,
          0.4455802377650063,
          "",
          "",
          "",
          1.2192999224505627,
          0.32276853914298353,
          1.7336140761538388,
          1.4682258553772005,
          "",
          0.21618901980619776,
          "",
          0.9864429437729743,
          "",
          "",
          "",
          "",
          "",
          "",
          1.0938344318416258,
          2.1030040516188806,
          "",
          "",
          0.954205824652156,
          0.9822703421030317,
          "",
          0.017441128348009594,
          "",
          "",
          0.2896801534432195,
          "",
          "",
          "",
          2.2396668532593864,
          1.3487710114471678,
          "",
          "",
          0.17606903859207335,
          0.012270929055522767,
          0.3175632283039773,
          1.101852338673149,
          "",
          "",
          "",
          2.382130632737817,
          1.4044849451633086,
          0.8749859799552124,
          0.15423301409810133,
          "",
          "",
          1.6886353192458157,
          1.1226930698408464,
          "",
          "",
          "",
          "",
          "",
          "",
          "",
          1.4052261500925072,
          "",
          0.1630980164624637,
          0.20069054646637918,
          0.18734523602383993,
          ""
         ],
         "yaxis": "y2"
        },
        {
         "connectgaps": false,
         "fill": "tozeroy",
         "line": {
          "color": "red",
          "dash": "solid",
          "shape": "linear",
          "width": 0.5
         },
         "mode": "lines",
         "name": "Spread",
         "showlegend": false,
         "type": "scatter",
         "x": [
          0,
          1,
          2,
          3,
          4,
          5,
          6,
          7,
          8,
          9,
          10,
          11,
          12,
          13,
          14,
          15,
          16,
          17,
          18,
          19,
          20,
          21,
          22,
          23,
          24,
          25,
          26,
          27,
          28,
          29,
          30,
          31,
          32,
          33,
          34,
          35,
          36,
          37,
          38,
          39,
          40,
          41,
          42,
          43,
          44,
          45,
          46,
          47,
          48,
          49,
          50,
          51,
          52,
          53,
          54,
          55,
          56,
          57,
          58,
          59,
          60,
          61,
          62,
          63,
          64,
          65,
          66,
          67,
          68,
          69,
          70,
          71,
          72,
          73,
          74,
          75,
          76,
          77,
          78,
          79,
          80,
          81,
          82,
          83,
          84,
          85,
          86,
          87,
          88,
          89,
          90,
          91,
          92,
          93,
          94,
          95,
          96,
          97,
          98,
          99
         ],
         "xaxis": "x2",
         "y": [
          "",
          "",
          "",
          -0.33905738478152475,
          "",
          "",
          -1.6035423760565273,
          -1.0639985514245094,
          -2.731261243846359,
          -0.5841265352885718,
          "",
          -1.106551011934476,
          "",
          -1.8636432147363768,
          "",
          "",
          "",
          -1.8113231211604168,
          "",
          -1.4502256863433738,
          "",
          -1.0112708631541822,
          -1.2522723238565883,
          -1.8086996074280601,
          "",
          -2.1325204990320614,
          "",
          -1.653366181204678,
          "",
          -0.7415013224203184,
          -1.0087319036017286,
          "",
          -1.031679185152822,
          -1.3055493431411112,
          -0.3433466434808231,
          "",
          "",
          -0.5321502565316054,
          -0.32082149322401987,
          -0.7052219082650637,
          "",
          "",
          "",
          "",
          -3.211374973984884,
          "",
          -1.7429131381613736,
          "",
          -0.4538213056683462,
          -1.974508362077506,
          -2.146134192613917,
          -1.306396527147475,
          -0.48069367379412375,
          -0.47734951767416184,
          "",
          "",
          -0.25738386102881866,
          -0.47274917430094976,
          "",
          "",
          -1.3963876238030473,
          "",
          -0.8759259172667074,
          -2.7523574686908194,
          "",
          -0.5062226050546663,
          -3.423902668269164,
          -1.0771358437265426,
          "",
          "",
          -0.6924294187817264,
          -1.8103917246720398,
          "",
          "",
          "",
          "",
          -1.2352161594687165,
          -0.7485135488710084,
          -0.6777884173023461,
          "",
          "",
          "",
          "",
          -2.072357016545495,
          -1.9528999680426482,
          "",
          "",
          -0.19063703171510205,
          -0.20733770326386552,
          -1.985965279727533,
          -2.4833420228160503,
          -0.1740911148827078,
          -1.4458625856759346,
          -0.7065328941719264,
          "",
          -0.3516734699760165,
          "",
          "",
          "",
          -2.1130915205889145
         ],
         "yaxis": "y2"
        }
       ],
       "layout": {
        "hovermode": "x",
        "legend": {
         "bgcolor": "#F5F6F9",
         "font": {
          "color": "#4D5663"
         }
        },
        "paper_bgcolor": "#F5F6F9",
        "plot_bgcolor": "#F5F6F9",
        "template": {
         "data": {
          "bar": [
           {
            "error_x": {
             "color": "#2a3f5f"
            },
            "error_y": {
             "color": "#2a3f5f"
            },
            "marker": {
             "line": {
              "color": "#E5ECF6",
              "width": 0.5
             }
            },
            "type": "bar"
           }
          ],
          "barpolar": [
           {
            "marker": {
             "line": {
              "color": "#E5ECF6",
              "width": 0.5
             }
            },
            "type": "barpolar"
           }
          ],
          "carpet": [
           {
            "aaxis": {
             "endlinecolor": "#2a3f5f",
             "gridcolor": "white",
             "linecolor": "white",
             "minorgridcolor": "white",
             "startlinecolor": "#2a3f5f"
            },
            "baxis": {
             "endlinecolor": "#2a3f5f",
             "gridcolor": "white",
             "linecolor": "white",
             "minorgridcolor": "white",
             "startlinecolor": "#2a3f5f"
            },
            "type": "carpet"
           }
          ],
          "choropleth": [
           {
            "colorbar": {
             "outlinewidth": 0,
             "ticks": ""
            },
            "type": "choropleth"
           }
          ],
          "contour": [
           {
            "colorbar": {
             "outlinewidth": 0,
             "ticks": ""
            },
            "colorscale": [
             [
              0,
              "#0d0887"
             ],
             [
              0.1111111111111111,
              "#46039f"
             ],
             [
              0.2222222222222222,
              "#7201a8"
             ],
             [
              0.3333333333333333,
              "#9c179e"
             ],
             [
              0.4444444444444444,
              "#bd3786"
             ],
             [
              0.5555555555555556,
              "#d8576b"
             ],
             [
              0.6666666666666666,
              "#ed7953"
             ],
             [
              0.7777777777777778,
              "#fb9f3a"
             ],
             [
              0.8888888888888888,
              "#fdca26"
             ],
             [
              1,
              "#f0f921"
             ]
            ],
            "type": "contour"
           }
          ],
          "contourcarpet": [
           {
            "colorbar": {
             "outlinewidth": 0,
             "ticks": ""
            },
            "type": "contourcarpet"
           }
          ],
          "heatmap": [
           {
            "colorbar": {
             "outlinewidth": 0,
             "ticks": ""
            },
            "colorscale": [
             [
              0,
              "#0d0887"
             ],
             [
              0.1111111111111111,
              "#46039f"
             ],
             [
              0.2222222222222222,
              "#7201a8"
             ],
             [
              0.3333333333333333,
              "#9c179e"
             ],
             [
              0.4444444444444444,
              "#bd3786"
             ],
             [
              0.5555555555555556,
              "#d8576b"
             ],
             [
              0.6666666666666666,
              "#ed7953"
             ],
             [
              0.7777777777777778,
              "#fb9f3a"
             ],
             [
              0.8888888888888888,
              "#fdca26"
             ],
             [
              1,
              "#f0f921"
             ]
            ],
            "type": "heatmap"
           }
          ],
          "heatmapgl": [
           {
            "colorbar": {
             "outlinewidth": 0,
             "ticks": ""
            },
            "colorscale": [
             [
              0,
              "#0d0887"
             ],
             [
              0.1111111111111111,
              "#46039f"
             ],
             [
              0.2222222222222222,
              "#7201a8"
             ],
             [
              0.3333333333333333,
              "#9c179e"
             ],
             [
              0.4444444444444444,
              "#bd3786"
             ],
             [
              0.5555555555555556,
              "#d8576b"
             ],
             [
              0.6666666666666666,
              "#ed7953"
             ],
             [
              0.7777777777777778,
              "#fb9f3a"
             ],
             [
              0.8888888888888888,
              "#fdca26"
             ],
             [
              1,
              "#f0f921"
             ]
            ],
            "type": "heatmapgl"
           }
          ],
          "histogram": [
           {
            "marker": {
             "colorbar": {
              "outlinewidth": 0,
              "ticks": ""
             }
            },
            "type": "histogram"
           }
          ],
          "histogram2d": [
           {
            "colorbar": {
             "outlinewidth": 0,
             "ticks": ""
            },
            "colorscale": [
             [
              0,
              "#0d0887"
             ],
             [
              0.1111111111111111,
              "#46039f"
             ],
             [
              0.2222222222222222,
              "#7201a8"
             ],
             [
              0.3333333333333333,
              "#9c179e"
             ],
             [
              0.4444444444444444,
              "#bd3786"
             ],
             [
              0.5555555555555556,
              "#d8576b"
             ],
             [
              0.6666666666666666,
              "#ed7953"
             ],
             [
              0.7777777777777778,
              "#fb9f3a"
             ],
             [
              0.8888888888888888,
              "#fdca26"
             ],
             [
              1,
              "#f0f921"
             ]
            ],
            "type": "histogram2d"
           }
          ],
          "histogram2dcontour": [
           {
            "colorbar": {
             "outlinewidth": 0,
             "ticks": ""
            },
            "colorscale": [
             [
              0,
              "#0d0887"
             ],
             [
              0.1111111111111111,
              "#46039f"
             ],
             [
              0.2222222222222222,
              "#7201a8"
             ],
             [
              0.3333333333333333,
              "#9c179e"
             ],
             [
              0.4444444444444444,
              "#bd3786"
             ],
             [
              0.5555555555555556,
              "#d8576b"
             ],
             [
              0.6666666666666666,
              "#ed7953"
             ],
             [
              0.7777777777777778,
              "#fb9f3a"
             ],
             [
              0.8888888888888888,
              "#fdca26"
             ],
             [
              1,
              "#f0f921"
             ]
            ],
            "type": "histogram2dcontour"
           }
          ],
          "mesh3d": [
           {
            "colorbar": {
             "outlinewidth": 0,
             "ticks": ""
            },
            "type": "mesh3d"
           }
          ],
          "parcoords": [
           {
            "line": {
             "colorbar": {
              "outlinewidth": 0,
              "ticks": ""
             }
            },
            "type": "parcoords"
           }
          ],
          "pie": [
           {
            "automargin": true,
            "type": "pie"
           }
          ],
          "scatter": [
           {
            "marker": {
             "colorbar": {
              "outlinewidth": 0,
              "ticks": ""
             }
            },
            "type": "scatter"
           }
          ],
          "scatter3d": [
           {
            "line": {
             "colorbar": {
              "outlinewidth": 0,
              "ticks": ""
             }
            },
            "marker": {
             "colorbar": {
              "outlinewidth": 0,
              "ticks": ""
             }
            },
            "type": "scatter3d"
           }
          ],
          "scattercarpet": [
           {
            "marker": {
             "colorbar": {
              "outlinewidth": 0,
              "ticks": ""
             }
            },
            "type": "scattercarpet"
           }
          ],
          "scattergeo": [
           {
            "marker": {
             "colorbar": {
              "outlinewidth": 0,
              "ticks": ""
             }
            },
            "type": "scattergeo"
           }
          ],
          "scattergl": [
           {
            "marker": {
             "colorbar": {
              "outlinewidth": 0,
              "ticks": ""
             }
            },
            "type": "scattergl"
           }
          ],
          "scattermapbox": [
           {
            "marker": {
             "colorbar": {
              "outlinewidth": 0,
              "ticks": ""
             }
            },
            "type": "scattermapbox"
           }
          ],
          "scatterpolar": [
           {
            "marker": {
             "colorbar": {
              "outlinewidth": 0,
              "ticks": ""
             }
            },
            "type": "scatterpolar"
           }
          ],
          "scatterpolargl": [
           {
            "marker": {
             "colorbar": {
              "outlinewidth": 0,
              "ticks": ""
             }
            },
            "type": "scatterpolargl"
           }
          ],
          "scatterternary": [
           {
            "marker": {
             "colorbar": {
              "outlinewidth": 0,
              "ticks": ""
             }
            },
            "type": "scatterternary"
           }
          ],
          "surface": [
           {
            "colorbar": {
             "outlinewidth": 0,
             "ticks": ""
            },
            "colorscale": [
             [
              0,
              "#0d0887"
             ],
             [
              0.1111111111111111,
              "#46039f"
             ],
             [
              0.2222222222222222,
              "#7201a8"
             ],
             [
              0.3333333333333333,
              "#9c179e"
             ],
             [
              0.4444444444444444,
              "#bd3786"
             ],
             [
              0.5555555555555556,
              "#d8576b"
             ],
             [
              0.6666666666666666,
              "#ed7953"
             ],
             [
              0.7777777777777778,
              "#fb9f3a"
             ],
             [
              0.8888888888888888,
              "#fdca26"
             ],
             [
              1,
              "#f0f921"
             ]
            ],
            "type": "surface"
           }
          ],
          "table": [
           {
            "cells": {
             "fill": {
              "color": "#EBF0F8"
             },
             "line": {
              "color": "white"
             }
            },
            "header": {
             "fill": {
              "color": "#C8D4E3"
             },
             "line": {
              "color": "white"
             }
            },
            "type": "table"
           }
          ]
         },
         "layout": {
          "annotationdefaults": {
           "arrowcolor": "#2a3f5f",
           "arrowhead": 0,
           "arrowwidth": 1
          },
          "coloraxis": {
           "colorbar": {
            "outlinewidth": 0,
            "ticks": ""
           }
          },
          "colorscale": {
           "diverging": [
            [
             0,
             "#8e0152"
            ],
            [
             0.1,
             "#c51b7d"
            ],
            [
             0.2,
             "#de77ae"
            ],
            [
             0.3,
             "#f1b6da"
            ],
            [
             0.4,
             "#fde0ef"
            ],
            [
             0.5,
             "#f7f7f7"
            ],
            [
             0.6,
             "#e6f5d0"
            ],
            [
             0.7,
             "#b8e186"
            ],
            [
             0.8,
             "#7fbc41"
            ],
            [
             0.9,
             "#4d9221"
            ],
            [
             1,
             "#276419"
            ]
           ],
           "sequential": [
            [
             0,
             "#0d0887"
            ],
            [
             0.1111111111111111,
             "#46039f"
            ],
            [
             0.2222222222222222,
             "#7201a8"
            ],
            [
             0.3333333333333333,
             "#9c179e"
            ],
            [
             0.4444444444444444,
             "#bd3786"
            ],
            [
             0.5555555555555556,
             "#d8576b"
            ],
            [
             0.6666666666666666,
             "#ed7953"
            ],
            [
             0.7777777777777778,
             "#fb9f3a"
            ],
            [
             0.8888888888888888,
             "#fdca26"
            ],
            [
             1,
             "#f0f921"
            ]
           ],
           "sequentialminus": [
            [
             0,
             "#0d0887"
            ],
            [
             0.1111111111111111,
             "#46039f"
            ],
            [
             0.2222222222222222,
             "#7201a8"
            ],
            [
             0.3333333333333333,
             "#9c179e"
            ],
            [
             0.4444444444444444,
             "#bd3786"
            ],
            [
             0.5555555555555556,
             "#d8576b"
            ],
            [
             0.6666666666666666,
             "#ed7953"
            ],
            [
             0.7777777777777778,
             "#fb9f3a"
            ],
            [
             0.8888888888888888,
             "#fdca26"
            ],
            [
             1,
             "#f0f921"
            ]
           ]
          },
          "colorway": [
           "#636efa",
           "#EF553B",
           "#00cc96",
           "#ab63fa",
           "#FFA15A",
           "#19d3f3",
           "#FF6692",
           "#B6E880",
           "#FF97FF",
           "#FECB52"
          ],
          "font": {
           "color": "#2a3f5f"
          },
          "geo": {
           "bgcolor": "white",
           "lakecolor": "white",
           "landcolor": "#E5ECF6",
           "showlakes": true,
           "showland": true,
           "subunitcolor": "white"
          },
          "hoverlabel": {
           "align": "left"
          },
          "hovermode": "closest",
          "mapbox": {
           "style": "light"
          },
          "paper_bgcolor": "white",
          "plot_bgcolor": "#E5ECF6",
          "polar": {
           "angularaxis": {
            "gridcolor": "white",
            "linecolor": "white",
            "ticks": ""
           },
           "bgcolor": "#E5ECF6",
           "radialaxis": {
            "gridcolor": "white",
            "linecolor": "white",
            "ticks": ""
           }
          },
          "scene": {
           "xaxis": {
            "backgroundcolor": "#E5ECF6",
            "gridcolor": "white",
            "gridwidth": 2,
            "linecolor": "white",
            "showbackground": true,
            "ticks": "",
            "zerolinecolor": "white"
           },
           "yaxis": {
            "backgroundcolor": "#E5ECF6",
            "gridcolor": "white",
            "gridwidth": 2,
            "linecolor": "white",
            "showbackground": true,
            "ticks": "",
            "zerolinecolor": "white"
           },
           "zaxis": {
            "backgroundcolor": "#E5ECF6",
            "gridcolor": "white",
            "gridwidth": 2,
            "linecolor": "white",
            "showbackground": true,
            "ticks": "",
            "zerolinecolor": "white"
           }
          },
          "shapedefaults": {
           "line": {
            "color": "#2a3f5f"
           }
          },
          "ternary": {
           "aaxis": {
            "gridcolor": "white",
            "linecolor": "white",
            "ticks": ""
           },
           "baxis": {
            "gridcolor": "white",
            "linecolor": "white",
            "ticks": ""
           },
           "bgcolor": "#E5ECF6",
           "caxis": {
            "gridcolor": "white",
            "linecolor": "white",
            "ticks": ""
           }
          },
          "title": {
           "x": 0.05
          },
          "xaxis": {
           "automargin": true,
           "gridcolor": "white",
           "linecolor": "white",
           "ticks": "",
           "title": {
            "standoff": 15
           },
           "zerolinecolor": "white",
           "zerolinewidth": 2
          },
          "yaxis": {
           "automargin": true,
           "gridcolor": "white",
           "linecolor": "white",
           "ticks": "",
           "title": {
            "standoff": 15
           },
           "zerolinecolor": "white",
           "zerolinewidth": 2
          }
         }
        },
        "title": {
         "font": {
          "color": "#4D5663"
         }
        },
        "xaxis": {
         "gridcolor": "#E1E5ED",
         "showgrid": true,
         "tickfont": {
          "color": "#4D5663"
         },
         "title": {
          "font": {
           "color": "#4D5663"
          },
          "text": ""
         },
         "zerolinecolor": "#E1E5ED"
        },
        "xaxis2": {
         "anchor": "y2",
         "gridcolor": "#E1E5ED",
         "showgrid": true,
         "showticklabels": false,
         "tickfont": {
          "color": "#4D5663"
         },
         "title": {
          "font": {
           "color": "#4D5663"
          },
          "text": ""
         },
         "zerolinecolor": "#E1E5ED"
        },
        "yaxis": {
         "domain": [
          0.3,
          1
         ],
         "gridcolor": "#E1E5ED",
         "showgrid": true,
         "tickfont": {
          "color": "#4D5663"
         },
         "title": {
          "font": {
           "color": "#4D5663"
          },
          "text": ""
         },
         "zerolinecolor": "#E1E5ED"
        },
        "yaxis2": {
         "domain": [
          0,
          0.25
         ],
         "gridcolor": "#E1E5ED",
         "showgrid": true,
         "tickfont": {
          "color": "#4D5663"
         },
         "title": {
          "font": {
           "color": "#4D5663"
          },
          "text": "Spread"
         },
         "zerolinecolor": "#E1E5ED"
        }
       }
      },
      "text/html": [
       "<div>\n",
       "        \n",
       "        \n",
       "            <div id=\"e4d9cc3c-4f0b-4a65-b940-edc29cd78161\" class=\"plotly-graph-div\" style=\"height:525px; width:100%;\"></div>\n",
       "            <script type=\"text/javascript\">\n",
       "                require([\"plotly\"], function(Plotly) {\n",
       "                    window.PLOTLYENV=window.PLOTLYENV || {};\n",
       "                    window.PLOTLYENV.BASE_URL='https://plot.ly';\n",
       "                    \n",
       "                if (document.getElementById(\"e4d9cc3c-4f0b-4a65-b940-edc29cd78161\")) {\n",
       "                    Plotly.newPlot(\n",
       "                        'e4d9cc3c-4f0b-4a65-b940-edc29cd78161',\n",
       "                        [{\"line\": {\"color\": \"rgba(255, 153, 51, 1.0)\", \"dash\": \"solid\", \"shape\": \"linear\", \"width\": 1.3}, \"mode\": \"lines\", \"name\": \"A\", \"text\": \"\", \"type\": \"scatter\", \"x\": [0, 1, 2, 3, 4, 5, 6, 7, 8, 9, 10, 11, 12, 13, 14, 15, 16, 17, 18, 19, 20, 21, 22, 23, 24, 25, 26, 27, 28, 29, 30, 31, 32, 33, 34, 35, 36, 37, 38, 39, 40, 41, 42, 43, 44, 45, 46, 47, 48, 49, 50, 51, 52, 53, 54, 55, 56, 57, 58, 59, 60, 61, 62, 63, 64, 65, 66, 67, 68, 69, 70, 71, 72, 73, 74, 75, 76, 77, 78, 79, 80, 81, 82, 83, 84, 85, 86, 87, 88, 89, 90, 91, 92, 93, 94, 95, 96, 97, 98, 99], \"y\": [1.0568048367540321, -1.3498353277992474, -0.016590310967857964, 0.35660732790600963, 1.0193834962395287, 0.8491903166284471, -0.270898010060361, -0.392709340199791, -2.7680493355073525, -0.9598449509727272, 0.02486210535174598, -0.08209894073442042, 1.3004359980675626, -1.58538400423906, 0.0669781081316911, 0.640025802146375, -0.21302066961046895, -1.235796292702241, -0.1309253051050104, -0.31643267250308843, 0.03258708757811836, -0.3380255243770623, -0.22179719829268574, -0.46447982740594784, -0.7481879251469615, -1.8848112593418178, 1.091188842324186, -1.002344407821016, 0.3490115434488426, -1.0674123492812189, -0.6698990082688834, -0.5799795584411399, -0.06921656663627403, -1.6351975314526448, 0.7106115831459313, 1.194971214763005, 0.11625479261911345, -1.934252919633813, 0.11913041768822805, 0.11132345496649837, 1.389596749030748, -1.2171163369994655, 1.2045581848905342, 0.5820052642283193, -1.708114214802915, 1.506653156239142, -0.9254490674897976, 1.2409940264229145, 0.2074483106758396, -1.3596588313168947, -2.390481486655998, -1.4566179541064537, -0.1836022258305617, -0.21501553404228868, -0.29215975665065563, 1.6432342936542375, -0.07861297341559388, -2.19928517475691, 0.7440934149815865, -1.184472526598871, -1.2162389598474177, 0.1884059181021502, -1.5723531833999829, -1.3997371771754998, 1.1481860646913822, -0.9789763321605593, -1.9138376620999613, -0.6331452017050753, 0.7740822611022451, 0.5258410109353289, 0.819021535691631, -1.2739877143475504, -0.4999464290112291, -0.11030684358193382, 0.2888305237105291, -0.5203727627946619, 0.05106433226799674, -0.5982765768873508, 0.9655105887234117, 1.435008557832391, 0.4183410289076339, 1.7880526163669672, 0.3332612477805044, -0.46462131549385466, -0.7495203318644134, 0.8658306751167946, -0.7008970126949282, -1.2842726652184249, -0.4759677234328119, -1.215534764436904, -0.4894621529285363, 1.2034829395601145, -1.8424285969117682, -1.0479601268610481, 1.2913471557834049, -0.5675730197363626, 0.4706223082609923, 0.8438922504243296, 0.2755981536419486, -0.5314784299117727]}, {\"line\": {\"color\": \"rgba(55, 128, 191, 1.0)\", \"dash\": \"solid\", \"shape\": \"linear\", \"width\": 1.3}, \"mode\": \"lines\", \"name\": \"B\", \"text\": \"\", \"type\": \"scatter\", \"x\": [0, 1, 2, 3, 4, 5, 6, 7, 8, 9, 10, 11, 12, 13, 14, 15, 16, 17, 18, 19, 20, 21, 22, 23, 24, 25, 26, 27, 28, 29, 30, 31, 32, 33, 34, 35, 36, 37, 38, 39, 40, 41, 42, 43, 44, 45, 46, 47, 48, 49, 50, 51, 52, 53, 54, 55, 56, 57, 58, 59, 60, 61, 62, 63, 64, 65, 66, 67, 68, 69, 70, 71, 72, 73, 74, 75, 76, 77, 78, 79, 80, 81, 82, 83, 84, 85, 86, 87, 88, 89, 90, 91, 92, 93, 94, 95, 96, 97, 98, 99], \"y\": [0.48107134908112026, -1.6795123804935181, -1.407520137520341, 0.6956647126875344, -0.8244186266256153, 0.4651753314936174, 1.3326443659961662, 0.6712892112247183, -0.03678809166099367, -0.37571841568415526, -1.0933104414806638, 1.0244520712000555, -1.6774374423985707, 0.27825921049731706, -0.10656048173528182, -0.16266515491632585, -1.477859361988607, 0.5755268284581758, -0.9848408514619815, 1.1337930138402854, -2.1093063248932107, 0.6732453387771199, 1.0304751255639024, 1.3442197800221123, -1.2994725083624141, 0.24770923969024355, 0.38001451435852873, 0.6510217733836621, -1.334809357106278, -0.32591102686090045, 0.33883289533284516, -0.6396342151768055, 0.962462618516548, -0.3296481883115337, 1.0539582266267544, -0.48849257687259584, -0.32932544514589285, -1.4021026631022075, 0.4399519109122479, 0.8165453632315621, 0.17029682658018525, -1.539884876142449, -0.5290558912633045, -0.8862205911488811, 1.503260759181969, 1.2904641364329443, 0.817464070671576, 0.25455108264994014, 0.6612696163441858, 0.6148495307606112, -0.2443472940420814, -0.1502214269589789, 0.29709144796356207, 0.26233398363187316, -1.3859941884922815, -0.45976975796464326, 0.17877088761322477, -1.7265360004559602, -0.2101124096705694, -2.1667428687019026, 0.18014866395562953, 0.17096478975414062, -0.6964272661332754, 1.3526202915153194, 0.8585059112481627, -0.472753727105893, 1.5100650061692027, 0.4439906420214673, -1.465584592157141, -0.8229300005118391, 1.5114509544733574, 0.5364040103244894, -0.6760154676033024, -0.12257777263745659, -0.028732704593448222, -1.6222251014678108, 1.2862804917367132, 0.15023697198365754, 1.6432990060257577, -0.9471220749054257, -0.9861439162556745, 0.9130666364117548, 0.1790282336824031, 1.6077357010516404, 1.203379636178235, -0.8228046441290212, -1.8235900825357745, -1.0936356335033228, -0.2686300201689464, 0.7704305152906291, 1.9938798698875142, 1.3775740544428223, -0.3965660112358336, -0.3414272326891216, -0.1138789943091023, -0.21589954976034614, 0.3075242917985286, 0.6432017039579504, 0.08825291761810869, 1.5816130906771417]}, {\"connectgaps\": false, \"fill\": \"tozeroy\", \"line\": {\"color\": \"green\", \"dash\": \"solid\", \"shape\": \"linear\", \"width\": 0.5}, \"mode\": \"lines\", \"name\": \"Spread\", \"showlegend\": false, \"type\": \"scatter\", \"x\": [0, 1, 2, 3, 4, 5, 6, 7, 8, 9, 10, 11, 12, 13, 14, 15, 16, 17, 18, 19, 20, 21, 22, 23, 24, 25, 26, 27, 28, 29, 30, 31, 32, 33, 34, 35, 36, 37, 38, 39, 40, 41, 42, 43, 44, 45, 46, 47, 48, 49, 50, 51, 52, 53, 54, 55, 56, 57, 58, 59, 60, 61, 62, 63, 64, 65, 66, 67, 68, 69, 70, 71, 72, 73, 74, 75, 76, 77, 78, 79, 80, 81, 82, 83, 84, 85, 86, 87, 88, 89, 90, 91, 92, 93, 94, 95, 96, 97, 98, 99], \"xaxis\": \"x2\", \"y\": [0.5757334876729119, 0.3296770526942707, 1.390929826552483, \"\", 1.843802122865144, 0.38401498513482973, \"\", \"\", \"\", \"\", 1.1181725468324097, \"\", 2.9778734404661336, \"\", 0.1735385898669729, 0.8026909570627008, 1.264838692378138, \"\", 0.8539155463569711, \"\", 2.141893412471329, \"\", \"\", \"\", 0.5512845832154526, \"\", 0.7111743279656573, \"\", 1.6838209005551206, \"\", \"\", 0.05965465673566561, \"\", \"\", \"\", 1.6834637916356008, 0.4455802377650063, \"\", \"\", \"\", 1.2192999224505627, 0.32276853914298353, 1.7336140761538388, 1.4682258553772005, \"\", 0.21618901980619776, \"\", 0.9864429437729743, \"\", \"\", \"\", \"\", \"\", \"\", 1.0938344318416258, 2.1030040516188806, \"\", \"\", 0.954205824652156, 0.9822703421030317, \"\", 0.017441128348009594, \"\", \"\", 0.2896801534432195, \"\", \"\", \"\", 2.2396668532593864, 1.3487710114471678, \"\", \"\", 0.17606903859207335, 0.012270929055522767, 0.3175632283039773, 1.101852338673149, \"\", \"\", \"\", 2.382130632737817, 1.4044849451633086, 0.8749859799552124, 0.15423301409810133, \"\", \"\", 1.6886353192458157, 1.1226930698408464, \"\", \"\", \"\", \"\", \"\", \"\", \"\", 1.4052261500925072, \"\", 0.1630980164624637, 0.20069054646637918, 0.18734523602383993, \"\"], \"yaxis\": \"y2\"}, {\"connectgaps\": false, \"fill\": \"tozeroy\", \"line\": {\"color\": \"red\", \"dash\": \"solid\", \"shape\": \"linear\", \"width\": 0.5}, \"mode\": \"lines\", \"name\": \"Spread\", \"showlegend\": false, \"type\": \"scatter\", \"x\": [0, 1, 2, 3, 4, 5, 6, 7, 8, 9, 10, 11, 12, 13, 14, 15, 16, 17, 18, 19, 20, 21, 22, 23, 24, 25, 26, 27, 28, 29, 30, 31, 32, 33, 34, 35, 36, 37, 38, 39, 40, 41, 42, 43, 44, 45, 46, 47, 48, 49, 50, 51, 52, 53, 54, 55, 56, 57, 58, 59, 60, 61, 62, 63, 64, 65, 66, 67, 68, 69, 70, 71, 72, 73, 74, 75, 76, 77, 78, 79, 80, 81, 82, 83, 84, 85, 86, 87, 88, 89, 90, 91, 92, 93, 94, 95, 96, 97, 98, 99], \"xaxis\": \"x2\", \"y\": [\"\", \"\", \"\", -0.33905738478152475, \"\", \"\", -1.6035423760565273, -1.0639985514245094, -2.731261243846359, -0.5841265352885718, \"\", -1.106551011934476, \"\", -1.8636432147363768, \"\", \"\", \"\", -1.8113231211604168, \"\", -1.4502256863433738, \"\", -1.0112708631541822, -1.2522723238565883, -1.8086996074280601, \"\", -2.1325204990320614, \"\", -1.653366181204678, \"\", -0.7415013224203184, -1.0087319036017286, \"\", -1.031679185152822, -1.3055493431411112, -0.3433466434808231, \"\", \"\", -0.5321502565316054, -0.32082149322401987, -0.7052219082650637, \"\", \"\", \"\", \"\", -3.211374973984884, \"\", -1.7429131381613736, \"\", -0.4538213056683462, -1.974508362077506, -2.146134192613917, -1.306396527147475, -0.48069367379412375, -0.47734951767416184, \"\", \"\", -0.25738386102881866, -0.47274917430094976, \"\", \"\", -1.3963876238030473, \"\", -0.8759259172667074, -2.7523574686908194, \"\", -0.5062226050546663, -3.423902668269164, -1.0771358437265426, \"\", \"\", -0.6924294187817264, -1.8103917246720398, \"\", \"\", \"\", \"\", -1.2352161594687165, -0.7485135488710084, -0.6777884173023461, \"\", \"\", \"\", \"\", -2.072357016545495, -1.9528999680426482, \"\", \"\", -0.19063703171510205, -0.20733770326386552, -1.985965279727533, -2.4833420228160503, -0.1740911148827078, -1.4458625856759346, -0.7065328941719264, \"\", -0.3516734699760165, \"\", \"\", \"\", -2.1130915205889145], \"yaxis\": \"y2\"}],\n",
       "                        {\"hovermode\": \"x\", \"legend\": {\"bgcolor\": \"#F5F6F9\", \"font\": {\"color\": \"#4D5663\"}}, \"paper_bgcolor\": \"#F5F6F9\", \"plot_bgcolor\": \"#F5F6F9\", \"template\": {\"data\": {\"bar\": [{\"error_x\": {\"color\": \"#2a3f5f\"}, \"error_y\": {\"color\": \"#2a3f5f\"}, \"marker\": {\"line\": {\"color\": \"#E5ECF6\", \"width\": 0.5}}, \"type\": \"bar\"}], \"barpolar\": [{\"marker\": {\"line\": {\"color\": \"#E5ECF6\", \"width\": 0.5}}, \"type\": \"barpolar\"}], \"carpet\": [{\"aaxis\": {\"endlinecolor\": \"#2a3f5f\", \"gridcolor\": \"white\", \"linecolor\": \"white\", \"minorgridcolor\": \"white\", \"startlinecolor\": \"#2a3f5f\"}, \"baxis\": {\"endlinecolor\": \"#2a3f5f\", \"gridcolor\": \"white\", \"linecolor\": \"white\", \"minorgridcolor\": \"white\", \"startlinecolor\": \"#2a3f5f\"}, \"type\": \"carpet\"}], \"choropleth\": [{\"colorbar\": {\"outlinewidth\": 0, \"ticks\": \"\"}, \"type\": \"choropleth\"}], \"contour\": [{\"colorbar\": {\"outlinewidth\": 0, \"ticks\": \"\"}, \"colorscale\": [[0.0, \"#0d0887\"], [0.1111111111111111, \"#46039f\"], [0.2222222222222222, \"#7201a8\"], [0.3333333333333333, \"#9c179e\"], [0.4444444444444444, \"#bd3786\"], [0.5555555555555556, \"#d8576b\"], [0.6666666666666666, \"#ed7953\"], [0.7777777777777778, \"#fb9f3a\"], [0.8888888888888888, \"#fdca26\"], [1.0, \"#f0f921\"]], \"type\": \"contour\"}], \"contourcarpet\": [{\"colorbar\": {\"outlinewidth\": 0, \"ticks\": \"\"}, \"type\": \"contourcarpet\"}], \"heatmap\": [{\"colorbar\": {\"outlinewidth\": 0, \"ticks\": \"\"}, \"colorscale\": [[0.0, \"#0d0887\"], [0.1111111111111111, \"#46039f\"], [0.2222222222222222, \"#7201a8\"], [0.3333333333333333, \"#9c179e\"], [0.4444444444444444, \"#bd3786\"], [0.5555555555555556, \"#d8576b\"], [0.6666666666666666, \"#ed7953\"], [0.7777777777777778, \"#fb9f3a\"], [0.8888888888888888, \"#fdca26\"], [1.0, \"#f0f921\"]], \"type\": \"heatmap\"}], \"heatmapgl\": [{\"colorbar\": {\"outlinewidth\": 0, \"ticks\": \"\"}, \"colorscale\": [[0.0, \"#0d0887\"], [0.1111111111111111, \"#46039f\"], [0.2222222222222222, \"#7201a8\"], [0.3333333333333333, \"#9c179e\"], [0.4444444444444444, \"#bd3786\"], [0.5555555555555556, \"#d8576b\"], [0.6666666666666666, \"#ed7953\"], [0.7777777777777778, \"#fb9f3a\"], [0.8888888888888888, \"#fdca26\"], [1.0, \"#f0f921\"]], \"type\": \"heatmapgl\"}], \"histogram\": [{\"marker\": {\"colorbar\": {\"outlinewidth\": 0, \"ticks\": \"\"}}, \"type\": \"histogram\"}], \"histogram2d\": [{\"colorbar\": {\"outlinewidth\": 0, \"ticks\": \"\"}, \"colorscale\": [[0.0, \"#0d0887\"], [0.1111111111111111, \"#46039f\"], [0.2222222222222222, \"#7201a8\"], [0.3333333333333333, \"#9c179e\"], [0.4444444444444444, \"#bd3786\"], [0.5555555555555556, \"#d8576b\"], [0.6666666666666666, \"#ed7953\"], [0.7777777777777778, \"#fb9f3a\"], [0.8888888888888888, \"#fdca26\"], [1.0, \"#f0f921\"]], \"type\": \"histogram2d\"}], \"histogram2dcontour\": [{\"colorbar\": {\"outlinewidth\": 0, \"ticks\": \"\"}, \"colorscale\": [[0.0, \"#0d0887\"], [0.1111111111111111, \"#46039f\"], [0.2222222222222222, \"#7201a8\"], [0.3333333333333333, \"#9c179e\"], [0.4444444444444444, \"#bd3786\"], [0.5555555555555556, \"#d8576b\"], [0.6666666666666666, \"#ed7953\"], [0.7777777777777778, \"#fb9f3a\"], [0.8888888888888888, \"#fdca26\"], [1.0, \"#f0f921\"]], \"type\": \"histogram2dcontour\"}], \"mesh3d\": [{\"colorbar\": {\"outlinewidth\": 0, \"ticks\": \"\"}, \"type\": \"mesh3d\"}], \"parcoords\": [{\"line\": {\"colorbar\": {\"outlinewidth\": 0, \"ticks\": \"\"}}, \"type\": \"parcoords\"}], \"pie\": [{\"automargin\": true, \"type\": \"pie\"}], \"scatter\": [{\"marker\": {\"colorbar\": {\"outlinewidth\": 0, \"ticks\": \"\"}}, \"type\": \"scatter\"}], \"scatter3d\": [{\"line\": {\"colorbar\": {\"outlinewidth\": 0, \"ticks\": \"\"}}, \"marker\": {\"colorbar\": {\"outlinewidth\": 0, \"ticks\": \"\"}}, \"type\": \"scatter3d\"}], \"scattercarpet\": [{\"marker\": {\"colorbar\": {\"outlinewidth\": 0, \"ticks\": \"\"}}, \"type\": \"scattercarpet\"}], \"scattergeo\": [{\"marker\": {\"colorbar\": {\"outlinewidth\": 0, \"ticks\": \"\"}}, \"type\": \"scattergeo\"}], \"scattergl\": [{\"marker\": {\"colorbar\": {\"outlinewidth\": 0, \"ticks\": \"\"}}, \"type\": \"scattergl\"}], \"scattermapbox\": [{\"marker\": {\"colorbar\": {\"outlinewidth\": 0, \"ticks\": \"\"}}, \"type\": \"scattermapbox\"}], \"scatterpolar\": [{\"marker\": {\"colorbar\": {\"outlinewidth\": 0, \"ticks\": \"\"}}, \"type\": \"scatterpolar\"}], \"scatterpolargl\": [{\"marker\": {\"colorbar\": {\"outlinewidth\": 0, \"ticks\": \"\"}}, \"type\": \"scatterpolargl\"}], \"scatterternary\": [{\"marker\": {\"colorbar\": {\"outlinewidth\": 0, \"ticks\": \"\"}}, \"type\": \"scatterternary\"}], \"surface\": [{\"colorbar\": {\"outlinewidth\": 0, \"ticks\": \"\"}, \"colorscale\": [[0.0, \"#0d0887\"], [0.1111111111111111, \"#46039f\"], [0.2222222222222222, \"#7201a8\"], [0.3333333333333333, \"#9c179e\"], [0.4444444444444444, \"#bd3786\"], [0.5555555555555556, \"#d8576b\"], [0.6666666666666666, \"#ed7953\"], [0.7777777777777778, \"#fb9f3a\"], [0.8888888888888888, \"#fdca26\"], [1.0, \"#f0f921\"]], \"type\": \"surface\"}], \"table\": [{\"cells\": {\"fill\": {\"color\": \"#EBF0F8\"}, \"line\": {\"color\": \"white\"}}, \"header\": {\"fill\": {\"color\": \"#C8D4E3\"}, \"line\": {\"color\": \"white\"}}, \"type\": \"table\"}]}, \"layout\": {\"annotationdefaults\": {\"arrowcolor\": \"#2a3f5f\", \"arrowhead\": 0, \"arrowwidth\": 1}, \"coloraxis\": {\"colorbar\": {\"outlinewidth\": 0, \"ticks\": \"\"}}, \"colorscale\": {\"diverging\": [[0, \"#8e0152\"], [0.1, \"#c51b7d\"], [0.2, \"#de77ae\"], [0.3, \"#f1b6da\"], [0.4, \"#fde0ef\"], [0.5, \"#f7f7f7\"], [0.6, \"#e6f5d0\"], [0.7, \"#b8e186\"], [0.8, \"#7fbc41\"], [0.9, \"#4d9221\"], [1, \"#276419\"]], \"sequential\": [[0.0, \"#0d0887\"], [0.1111111111111111, \"#46039f\"], [0.2222222222222222, \"#7201a8\"], [0.3333333333333333, \"#9c179e\"], [0.4444444444444444, \"#bd3786\"], [0.5555555555555556, \"#d8576b\"], [0.6666666666666666, \"#ed7953\"], [0.7777777777777778, \"#fb9f3a\"], [0.8888888888888888, \"#fdca26\"], [1.0, \"#f0f921\"]], \"sequentialminus\": [[0.0, \"#0d0887\"], [0.1111111111111111, \"#46039f\"], [0.2222222222222222, \"#7201a8\"], [0.3333333333333333, \"#9c179e\"], [0.4444444444444444, \"#bd3786\"], [0.5555555555555556, \"#d8576b\"], [0.6666666666666666, \"#ed7953\"], [0.7777777777777778, \"#fb9f3a\"], [0.8888888888888888, \"#fdca26\"], [1.0, \"#f0f921\"]]}, \"colorway\": [\"#636efa\", \"#EF553B\", \"#00cc96\", \"#ab63fa\", \"#FFA15A\", \"#19d3f3\", \"#FF6692\", \"#B6E880\", \"#FF97FF\", \"#FECB52\"], \"font\": {\"color\": \"#2a3f5f\"}, \"geo\": {\"bgcolor\": \"white\", \"lakecolor\": \"white\", \"landcolor\": \"#E5ECF6\", \"showlakes\": true, \"showland\": true, \"subunitcolor\": \"white\"}, \"hoverlabel\": {\"align\": \"left\"}, \"hovermode\": \"closest\", \"mapbox\": {\"style\": \"light\"}, \"paper_bgcolor\": \"white\", \"plot_bgcolor\": \"#E5ECF6\", \"polar\": {\"angularaxis\": {\"gridcolor\": \"white\", \"linecolor\": \"white\", \"ticks\": \"\"}, \"bgcolor\": \"#E5ECF6\", \"radialaxis\": {\"gridcolor\": \"white\", \"linecolor\": \"white\", \"ticks\": \"\"}}, \"scene\": {\"xaxis\": {\"backgroundcolor\": \"#E5ECF6\", \"gridcolor\": \"white\", \"gridwidth\": 2, \"linecolor\": \"white\", \"showbackground\": true, \"ticks\": \"\", \"zerolinecolor\": \"white\"}, \"yaxis\": {\"backgroundcolor\": \"#E5ECF6\", \"gridcolor\": \"white\", \"gridwidth\": 2, \"linecolor\": \"white\", \"showbackground\": true, \"ticks\": \"\", \"zerolinecolor\": \"white\"}, \"zaxis\": {\"backgroundcolor\": \"#E5ECF6\", \"gridcolor\": \"white\", \"gridwidth\": 2, \"linecolor\": \"white\", \"showbackground\": true, \"ticks\": \"\", \"zerolinecolor\": \"white\"}}, \"shapedefaults\": {\"line\": {\"color\": \"#2a3f5f\"}}, \"ternary\": {\"aaxis\": {\"gridcolor\": \"white\", \"linecolor\": \"white\", \"ticks\": \"\"}, \"baxis\": {\"gridcolor\": \"white\", \"linecolor\": \"white\", \"ticks\": \"\"}, \"bgcolor\": \"#E5ECF6\", \"caxis\": {\"gridcolor\": \"white\", \"linecolor\": \"white\", \"ticks\": \"\"}}, \"title\": {\"x\": 0.05}, \"xaxis\": {\"automargin\": true, \"gridcolor\": \"white\", \"linecolor\": \"white\", \"ticks\": \"\", \"title\": {\"standoff\": 15}, \"zerolinecolor\": \"white\", \"zerolinewidth\": 2}, \"yaxis\": {\"automargin\": true, \"gridcolor\": \"white\", \"linecolor\": \"white\", \"ticks\": \"\", \"title\": {\"standoff\": 15}, \"zerolinecolor\": \"white\", \"zerolinewidth\": 2}}}, \"title\": {\"font\": {\"color\": \"#4D5663\"}}, \"xaxis\": {\"gridcolor\": \"#E1E5ED\", \"showgrid\": true, \"tickfont\": {\"color\": \"#4D5663\"}, \"title\": {\"font\": {\"color\": \"#4D5663\"}, \"text\": \"\"}, \"zerolinecolor\": \"#E1E5ED\"}, \"xaxis2\": {\"anchor\": \"y2\", \"gridcolor\": \"#E1E5ED\", \"showgrid\": true, \"showticklabels\": false, \"tickfont\": {\"color\": \"#4D5663\"}, \"title\": {\"font\": {\"color\": \"#4D5663\"}, \"text\": \"\"}, \"zerolinecolor\": \"#E1E5ED\"}, \"yaxis\": {\"domain\": [0.3, 1], \"gridcolor\": \"#E1E5ED\", \"showgrid\": true, \"tickfont\": {\"color\": \"#4D5663\"}, \"title\": {\"font\": {\"color\": \"#4D5663\"}, \"text\": \"\"}, \"zerolinecolor\": \"#E1E5ED\"}, \"yaxis2\": {\"domain\": [0, 0.25], \"gridcolor\": \"#E1E5ED\", \"showgrid\": true, \"tickfont\": {\"color\": \"#4D5663\"}, \"title\": {\"font\": {\"color\": \"#4D5663\"}, \"text\": \"Spread\"}, \"zerolinecolor\": \"#E1E5ED\"}},\n",
       "                        {\"showLink\": true, \"linkText\": \"Export to plot.ly\", \"plotlyServerURL\": \"https://plot.ly\", \"responsive\": true}\n",
       "                    ).then(function(){\n",
       "                            \n",
       "var gd = document.getElementById('e4d9cc3c-4f0b-4a65-b940-edc29cd78161');\n",
       "var x = new MutationObserver(function (mutations, observer) {{\n",
       "        var display = window.getComputedStyle(gd).display;\n",
       "        if (!display || display === 'none') {{\n",
       "            console.log([gd, 'removed!']);\n",
       "            Plotly.purge(gd);\n",
       "            observer.disconnect();\n",
       "        }}\n",
       "}});\n",
       "\n",
       "// Listen for the removal of the full notebook cells\n",
       "var notebookContainer = gd.closest('#notebook-container');\n",
       "if (notebookContainer) {{\n",
       "    x.observe(notebookContainer, {childList: true});\n",
       "}}\n",
       "\n",
       "// Listen for the clearing of the current output cell\n",
       "var outputEl = gd.closest('.output');\n",
       "if (outputEl) {{\n",
       "    x.observe(outputEl, {childList: true});\n",
       "}}\n",
       "\n",
       "                        })\n",
       "                };\n",
       "                });\n",
       "            </script>\n",
       "        </div>"
      ]
     },
     "metadata": {},
     "output_type": "display_data"
    }
   ],
   "source": [
    "df[['A','B']].iplot(kind='spread')"
   ]
  },
  {
   "cell_type": "code",
   "execution_count": 53,
   "metadata": {},
   "outputs": [
    {
     "data": {
      "application/vnd.plotly.v1+json": {
       "config": {
        "linkText": "Export to plot.ly",
        "plotlyServerURL": "https://plot.ly",
        "showLink": true
       },
       "data": [
        {
         "histfunc": "count",
         "histnorm": "",
         "marker": {
          "color": "rgba(255, 153, 51, 1.0)",
          "line": {
           "color": "#4D5663",
           "width": 1.3
          }
         },
         "name": "A",
         "nbinsx": 10,
         "opacity": 0.8,
         "orientation": "v",
         "type": "histogram",
         "x": [
          1.0568048367540321,
          -1.3498353277992474,
          -0.016590310967857964,
          0.35660732790600963,
          1.0193834962395287,
          0.8491903166284471,
          -0.270898010060361,
          -0.392709340199791,
          -2.7680493355073525,
          -0.9598449509727272,
          0.02486210535174598,
          -0.08209894073442042,
          1.3004359980675626,
          -1.58538400423906,
          0.0669781081316911,
          0.640025802146375,
          -0.21302066961046895,
          -1.235796292702241,
          -0.1309253051050104,
          -0.31643267250308843,
          0.03258708757811836,
          -0.3380255243770623,
          -0.22179719829268574,
          -0.46447982740594784,
          -0.7481879251469615,
          -1.8848112593418178,
          1.091188842324186,
          -1.002344407821016,
          0.3490115434488426,
          -1.0674123492812189,
          -0.6698990082688834,
          -0.5799795584411399,
          -0.06921656663627403,
          -1.6351975314526448,
          0.7106115831459313,
          1.194971214763005,
          0.11625479261911345,
          -1.934252919633813,
          0.11913041768822805,
          0.11132345496649837,
          1.389596749030748,
          -1.2171163369994655,
          1.2045581848905342,
          0.5820052642283193,
          -1.708114214802915,
          1.506653156239142,
          -0.9254490674897976,
          1.2409940264229145,
          0.2074483106758396,
          -1.3596588313168947,
          -2.390481486655998,
          -1.4566179541064537,
          -0.1836022258305617,
          -0.21501553404228868,
          -0.29215975665065563,
          1.6432342936542375,
          -0.07861297341559388,
          -2.19928517475691,
          0.7440934149815865,
          -1.184472526598871,
          -1.2162389598474177,
          0.1884059181021502,
          -1.5723531833999829,
          -1.3997371771754998,
          1.1481860646913822,
          -0.9789763321605593,
          -1.9138376620999613,
          -0.6331452017050753,
          0.7740822611022451,
          0.5258410109353289,
          0.819021535691631,
          -1.2739877143475504,
          -0.4999464290112291,
          -0.11030684358193382,
          0.2888305237105291,
          -0.5203727627946619,
          0.05106433226799674,
          -0.5982765768873508,
          0.9655105887234117,
          1.435008557832391,
          0.4183410289076339,
          1.7880526163669672,
          0.3332612477805044,
          -0.46462131549385466,
          -0.7495203318644134,
          0.8658306751167946,
          -0.7008970126949282,
          -1.2842726652184249,
          -0.4759677234328119,
          -1.215534764436904,
          -0.4894621529285363,
          1.2034829395601145,
          -1.8424285969117682,
          -1.0479601268610481,
          1.2913471557834049,
          -0.5675730197363626,
          0.4706223082609923,
          0.8438922504243296,
          0.2755981536419486,
          -0.5314784299117727
         ],
         "xaxis": "x",
         "yaxis": "y"
        },
        {
         "line": {
          "color": "rgba(128, 128, 128, 1.0)",
          "dash": "solid",
          "shape": "linear",
          "width": 1.3
         },
         "marker": {
          "size": 2,
          "symbol": "circle"
         },
         "mode": "markers",
         "name": "A",
         "text": "",
         "type": "scatter",
         "x": [
          0.48107134908112026,
          -1.6795123804935181,
          -1.407520137520341,
          0.6956647126875344,
          -0.8244186266256153,
          0.4651753314936174,
          1.3326443659961662,
          0.6712892112247183,
          -0.03678809166099367,
          -0.37571841568415526,
          -1.0933104414806638,
          1.0244520712000555,
          -1.6774374423985707,
          0.27825921049731706,
          -0.10656048173528182,
          -0.16266515491632585,
          -1.477859361988607,
          0.5755268284581758,
          -0.9848408514619815,
          1.1337930138402854,
          -2.1093063248932107,
          0.6732453387771199,
          1.0304751255639024,
          1.3442197800221123,
          -1.2994725083624141,
          0.24770923969024355,
          0.38001451435852873,
          0.6510217733836621,
          -1.334809357106278,
          -0.32591102686090045,
          0.33883289533284516,
          -0.6396342151768055,
          0.962462618516548,
          -0.3296481883115337,
          1.0539582266267544,
          -0.48849257687259584,
          -0.32932544514589285,
          -1.4021026631022075,
          0.4399519109122479,
          0.8165453632315621,
          0.17029682658018525,
          -1.539884876142449,
          -0.5290558912633045,
          -0.8862205911488811,
          1.503260759181969,
          1.2904641364329443,
          0.817464070671576,
          0.25455108264994014,
          0.6612696163441858,
          0.6148495307606112,
          -0.2443472940420814,
          -0.1502214269589789,
          0.29709144796356207,
          0.26233398363187316,
          -1.3859941884922815,
          -0.45976975796464326,
          0.17877088761322477,
          -1.7265360004559602,
          -0.2101124096705694,
          -2.1667428687019026,
          0.18014866395562953,
          0.17096478975414062,
          -0.6964272661332754,
          1.3526202915153194,
          0.8585059112481627,
          -0.472753727105893,
          1.5100650061692027,
          0.4439906420214673,
          -1.465584592157141,
          -0.8229300005118391,
          1.5114509544733574,
          0.5364040103244894,
          -0.6760154676033024,
          -0.12257777263745659,
          -0.028732704593448222,
          -1.6222251014678108,
          1.2862804917367132,
          0.15023697198365754,
          1.6432990060257577,
          -0.9471220749054257,
          -0.9861439162556745,
          0.9130666364117548,
          0.1790282336824031,
          1.6077357010516404,
          1.203379636178235,
          -0.8228046441290212,
          -1.8235900825357745,
          -1.0936356335033228,
          -0.2686300201689464,
          0.7704305152906291,
          1.9938798698875142,
          1.3775740544428223,
          -0.3965660112358336,
          -0.3414272326891216,
          -0.1138789943091023,
          -0.21589954976034614,
          0.3075242917985286,
          0.6432017039579504,
          0.08825291761810869,
          1.5816130906771417
         ],
         "xaxis": "x2",
         "y": [
          1.0568048367540321,
          -1.3498353277992474,
          -0.016590310967857964,
          0.35660732790600963,
          1.0193834962395287,
          0.8491903166284471,
          -0.270898010060361,
          -0.392709340199791,
          -2.7680493355073525,
          -0.9598449509727272,
          0.02486210535174598,
          -0.08209894073442042,
          1.3004359980675626,
          -1.58538400423906,
          0.0669781081316911,
          0.640025802146375,
          -0.21302066961046895,
          -1.235796292702241,
          -0.1309253051050104,
          -0.31643267250308843,
          0.03258708757811836,
          -0.3380255243770623,
          -0.22179719829268574,
          -0.46447982740594784,
          -0.7481879251469615,
          -1.8848112593418178,
          1.091188842324186,
          -1.002344407821016,
          0.3490115434488426,
          -1.0674123492812189,
          -0.6698990082688834,
          -0.5799795584411399,
          -0.06921656663627403,
          -1.6351975314526448,
          0.7106115831459313,
          1.194971214763005,
          0.11625479261911345,
          -1.934252919633813,
          0.11913041768822805,
          0.11132345496649837,
          1.389596749030748,
          -1.2171163369994655,
          1.2045581848905342,
          0.5820052642283193,
          -1.708114214802915,
          1.506653156239142,
          -0.9254490674897976,
          1.2409940264229145,
          0.2074483106758396,
          -1.3596588313168947,
          -2.390481486655998,
          -1.4566179541064537,
          -0.1836022258305617,
          -0.21501553404228868,
          -0.29215975665065563,
          1.6432342936542375,
          -0.07861297341559388,
          -2.19928517475691,
          0.7440934149815865,
          -1.184472526598871,
          -1.2162389598474177,
          0.1884059181021502,
          -1.5723531833999829,
          -1.3997371771754998,
          1.1481860646913822,
          -0.9789763321605593,
          -1.9138376620999613,
          -0.6331452017050753,
          0.7740822611022451,
          0.5258410109353289,
          0.819021535691631,
          -1.2739877143475504,
          -0.4999464290112291,
          -0.11030684358193382,
          0.2888305237105291,
          -0.5203727627946619,
          0.05106433226799674,
          -0.5982765768873508,
          0.9655105887234117,
          1.435008557832391,
          0.4183410289076339,
          1.7880526163669672,
          0.3332612477805044,
          -0.46462131549385466,
          -0.7495203318644134,
          0.8658306751167946,
          -0.7008970126949282,
          -1.2842726652184249,
          -0.4759677234328119,
          -1.215534764436904,
          -0.4894621529285363,
          1.2034829395601145,
          -1.8424285969117682,
          -1.0479601268610481,
          1.2913471557834049,
          -0.5675730197363626,
          0.4706223082609923,
          0.8438922504243296,
          0.2755981536419486,
          -0.5314784299117727
         ],
         "yaxis": "y2"
        },
        {
         "line": {
          "color": "rgba(128, 128, 128, 1.0)",
          "dash": "solid",
          "shape": "linear",
          "width": 1.3
         },
         "marker": {
          "size": 2,
          "symbol": "circle"
         },
         "mode": "markers",
         "name": "A",
         "text": "",
         "type": "scatter",
         "x": [
          -0.04832900612696817,
          -2.0552643470456307,
          1.23401808345776,
          1.7622048722279813,
          0.36558461414403454,
          1.5271193614857776,
          -0.11698965638849242,
          0.550877172276358,
          -0.18563025943375833,
          1.4046676703240801,
          -0.8923087515065036,
          -0.13497956516275023,
          0.0710977571789828,
          1.0614963310633692,
          0.7192133147377471,
          -0.7730472669486539,
          -0.7735920559571068,
          1.3688275969976738,
          0.9978091168302472,
          -0.14855973087387733,
          1.4389636472969352,
          0.463317487552831,
          0.4057962919525643,
          1.2409096014807675,
          -1.7981095491668768,
          -0.9737923820099355,
          -0.35343715695543854,
          -1.8431487538919407,
          -0.9635654940207634,
          -1.1123087567053498,
          0.2671661522206472,
          1.1624384050292622,
          -0.1671491618727415,
          0.09287564079951659,
          0.7719803507484746,
          0.25083532191382685,
          -1.2609727534308801,
          2.3558529106906345,
          -0.44250445937162747,
          -0.7467504601879799,
          -0.7198816365344325,
          -0.0339315665844702,
          0.5497512879724022,
          -0.3480524571619145,
          1.3768723354357362,
          1.2502034702732656,
          -0.4012274215203553,
          -0.2897737272678843,
          -1.0084326249052749,
          -0.041878491458556794,
          0.44192348379906643,
          -0.7067919348103693,
          -2.0158581243719778,
          1.519170754551979,
          -0.1602334895148967,
          -0.31987479518621237,
          -0.6341683758785682,
          -0.781009411884995,
          -0.2340528015742706,
          1.156470066863848,
          0.46127659902382545,
          0.5105671736507841,
          -2.189845693455042,
          0.4432675837308323,
          -1.1516814536026996,
          1.330748998222132,
          -0.6477011655976501,
          -0.026451195793421024,
          0.7009205597371548,
          -0.31398659371351423,
          -0.027173796204393034,
          0.7491544167403303,
          -1.9744604698376598,
          0.8608338555104487,
          -0.661737329113762,
          -0.5835026639312187,
          0.37539850136357034,
          1.8791397847625453,
          2.6984625358394454,
          0.9477096198568582,
          1.4705140165414279,
          -0.010514932472564067,
          1.276061278128099,
          1.0617667814236433,
          -2.512910427219062,
          1.339337758066956,
          -0.09495253544489847,
          0.11448683196821172,
          -1.230759772499085,
          1.1776767045274097,
          -0.39700160277569996,
          -0.2847822529590679,
          -1.2984210140560033,
          -1.697273398143285,
          -0.03374651544880042,
          -1.347737876485818,
          0.9598283623694468,
          0.27478388842535423,
          0.2146777232449316,
          0.1567832074653066
         ],
         "xaxis": "x3",
         "y": [
          1.0568048367540321,
          -1.3498353277992474,
          -0.016590310967857964,
          0.35660732790600963,
          1.0193834962395287,
          0.8491903166284471,
          -0.270898010060361,
          -0.392709340199791,
          -2.7680493355073525,
          -0.9598449509727272,
          0.02486210535174598,
          -0.08209894073442042,
          1.3004359980675626,
          -1.58538400423906,
          0.0669781081316911,
          0.640025802146375,
          -0.21302066961046895,
          -1.235796292702241,
          -0.1309253051050104,
          -0.31643267250308843,
          0.03258708757811836,
          -0.3380255243770623,
          -0.22179719829268574,
          -0.46447982740594784,
          -0.7481879251469615,
          -1.8848112593418178,
          1.091188842324186,
          -1.002344407821016,
          0.3490115434488426,
          -1.0674123492812189,
          -0.6698990082688834,
          -0.5799795584411399,
          -0.06921656663627403,
          -1.6351975314526448,
          0.7106115831459313,
          1.194971214763005,
          0.11625479261911345,
          -1.934252919633813,
          0.11913041768822805,
          0.11132345496649837,
          1.389596749030748,
          -1.2171163369994655,
          1.2045581848905342,
          0.5820052642283193,
          -1.708114214802915,
          1.506653156239142,
          -0.9254490674897976,
          1.2409940264229145,
          0.2074483106758396,
          -1.3596588313168947,
          -2.390481486655998,
          -1.4566179541064537,
          -0.1836022258305617,
          -0.21501553404228868,
          -0.29215975665065563,
          1.6432342936542375,
          -0.07861297341559388,
          -2.19928517475691,
          0.7440934149815865,
          -1.184472526598871,
          -1.2162389598474177,
          0.1884059181021502,
          -1.5723531833999829,
          -1.3997371771754998,
          1.1481860646913822,
          -0.9789763321605593,
          -1.9138376620999613,
          -0.6331452017050753,
          0.7740822611022451,
          0.5258410109353289,
          0.819021535691631,
          -1.2739877143475504,
          -0.4999464290112291,
          -0.11030684358193382,
          0.2888305237105291,
          -0.5203727627946619,
          0.05106433226799674,
          -0.5982765768873508,
          0.9655105887234117,
          1.435008557832391,
          0.4183410289076339,
          1.7880526163669672,
          0.3332612477805044,
          -0.46462131549385466,
          -0.7495203318644134,
          0.8658306751167946,
          -0.7008970126949282,
          -1.2842726652184249,
          -0.4759677234328119,
          -1.215534764436904,
          -0.4894621529285363,
          1.2034829395601145,
          -1.8424285969117682,
          -1.0479601268610481,
          1.2913471557834049,
          -0.5675730197363626,
          0.4706223082609923,
          0.8438922504243296,
          0.2755981536419486,
          -0.5314784299117727
         ],
         "yaxis": "y3"
        },
        {
         "line": {
          "color": "rgba(128, 128, 128, 1.0)",
          "dash": "solid",
          "shape": "linear",
          "width": 1.3
         },
         "marker": {
          "size": 2,
          "symbol": "circle"
         },
         "mode": "markers",
         "name": "A",
         "text": "",
         "type": "scatter",
         "x": [
          -0.2877134611778512,
          -0.415408231157268,
          -0.6731520956489023,
          0.11699835543967516,
          0.46108847414264864,
          -2.075749395948886,
          0.8134228721343691,
          -0.4171307815190678,
          1.0482344785197288,
          -0.5629315106277006,
          1.4045304971214088,
          -1.0036668984369883,
          -0.9863531301805152,
          -0.25807014173809195,
          0.006645526873550916,
          -0.3653241514796089,
          1.4836009543157784,
          1.440594840565873,
          -0.4683992654901319,
          1.0598744136647218,
          0.44542094220103995,
          -1.3036291372168698,
          0.4330958917310685,
          1.098880423945254,
          0.7912876255644647,
          -0.5153633833927447,
          0.34099595343274336,
          0.8289978197175643,
          1.2860921268160947,
          0.3368732252553157,
          -0.7886462598062345,
          -0.20660566142886636,
          -2.0332644633856414,
          -0.45084749186519113,
          1.5395248206983076,
          1.033488658632085,
          0.4770679157842925,
          1.5196634218257068,
          -1.2454550882900453,
          -0.49410816685358944,
          -1.9660433649871147,
          0.2610976675087106,
          -1.3363618123521568,
          -0.8672949069980124,
          -1.358341898024915,
          0.0985918064728073,
          0.10822160952696296,
          -1.7743962812944087,
          -0.34752270013412295,
          -1.4942403930610262,
          1.1235033870989883,
          1.0245166435319117,
          -0.3864490739769507,
          -1.3471165599982078,
          0.3706148647365652,
          -0.5162107363096655,
          0.9760832195066462,
          -0.15633400980662576,
          -0.496568500607371,
          -0.5439552377990234,
          -0.8833587494428198,
          -0.38500838562199147,
          -0.34059551833802226,
          2.555474453517577,
          -0.5489839462842704,
          0.23018097576502303,
          -0.002817578108877567,
          -1.953011296752301,
          -0.6357711373245285,
          -1.1219490175131321,
          0.07138034873712855,
          0.5236003404531173,
          0.932465243848728,
          -1.231077256495407,
          -0.1937006848204315,
          1.4592991862128464,
          1.546286129842861,
          -0.19601189357771362,
          0.5391848728347883,
          -0.1427679427449153,
          0.1805286690674597,
          1.442595958836891,
          -0.9600127241696688,
          -0.4762769319570404,
          0.5771531798071556,
          1.2941334448093476,
          -1.0773538097917301,
          0.47556825223577,
          -0.9752553106665932,
          -1.032965092659648,
          -1.1155748598027806,
          0.25668015767886654,
          -0.8814739191660805,
          -0.22082829609725307,
          -1.3489726852465749,
          -0.5176821631863701,
          0.9882380031744157,
          0.24039272505477224,
          -0.21586922453230434,
          0.2785582142140259
         ],
         "xaxis": "x4",
         "y": [
          1.0568048367540321,
          -1.3498353277992474,
          -0.016590310967857964,
          0.35660732790600963,
          1.0193834962395287,
          0.8491903166284471,
          -0.270898010060361,
          -0.392709340199791,
          -2.7680493355073525,
          -0.9598449509727272,
          0.02486210535174598,
          -0.08209894073442042,
          1.3004359980675626,
          -1.58538400423906,
          0.0669781081316911,
          0.640025802146375,
          -0.21302066961046895,
          -1.235796292702241,
          -0.1309253051050104,
          -0.31643267250308843,
          0.03258708757811836,
          -0.3380255243770623,
          -0.22179719829268574,
          -0.46447982740594784,
          -0.7481879251469615,
          -1.8848112593418178,
          1.091188842324186,
          -1.002344407821016,
          0.3490115434488426,
          -1.0674123492812189,
          -0.6698990082688834,
          -0.5799795584411399,
          -0.06921656663627403,
          -1.6351975314526448,
          0.7106115831459313,
          1.194971214763005,
          0.11625479261911345,
          -1.934252919633813,
          0.11913041768822805,
          0.11132345496649837,
          1.389596749030748,
          -1.2171163369994655,
          1.2045581848905342,
          0.5820052642283193,
          -1.708114214802915,
          1.506653156239142,
          -0.9254490674897976,
          1.2409940264229145,
          0.2074483106758396,
          -1.3596588313168947,
          -2.390481486655998,
          -1.4566179541064537,
          -0.1836022258305617,
          -0.21501553404228868,
          -0.29215975665065563,
          1.6432342936542375,
          -0.07861297341559388,
          -2.19928517475691,
          0.7440934149815865,
          -1.184472526598871,
          -1.2162389598474177,
          0.1884059181021502,
          -1.5723531833999829,
          -1.3997371771754998,
          1.1481860646913822,
          -0.9789763321605593,
          -1.9138376620999613,
          -0.6331452017050753,
          0.7740822611022451,
          0.5258410109353289,
          0.819021535691631,
          -1.2739877143475504,
          -0.4999464290112291,
          -0.11030684358193382,
          0.2888305237105291,
          -0.5203727627946619,
          0.05106433226799674,
          -0.5982765768873508,
          0.9655105887234117,
          1.435008557832391,
          0.4183410289076339,
          1.7880526163669672,
          0.3332612477805044,
          -0.46462131549385466,
          -0.7495203318644134,
          0.8658306751167946,
          -0.7008970126949282,
          -1.2842726652184249,
          -0.4759677234328119,
          -1.215534764436904,
          -0.4894621529285363,
          1.2034829395601145,
          -1.8424285969117682,
          -1.0479601268610481,
          1.2913471557834049,
          -0.5675730197363626,
          0.4706223082609923,
          0.8438922504243296,
          0.2755981536419486,
          -0.5314784299117727
         ],
         "yaxis": "y4"
        },
        {
         "line": {
          "color": "rgba(128, 128, 128, 1.0)",
          "dash": "solid",
          "shape": "linear",
          "width": 1.3
         },
         "marker": {
          "size": 2,
          "symbol": "circle"
         },
         "mode": "markers",
         "name": "B",
         "text": "",
         "type": "scatter",
         "x": [
          1.0568048367540321,
          -1.3498353277992474,
          -0.016590310967857964,
          0.35660732790600963,
          1.0193834962395287,
          0.8491903166284471,
          -0.270898010060361,
          -0.392709340199791,
          -2.7680493355073525,
          -0.9598449509727272,
          0.02486210535174598,
          -0.08209894073442042,
          1.3004359980675626,
          -1.58538400423906,
          0.0669781081316911,
          0.640025802146375,
          -0.21302066961046895,
          -1.235796292702241,
          -0.1309253051050104,
          -0.31643267250308843,
          0.03258708757811836,
          -0.3380255243770623,
          -0.22179719829268574,
          -0.46447982740594784,
          -0.7481879251469615,
          -1.8848112593418178,
          1.091188842324186,
          -1.002344407821016,
          0.3490115434488426,
          -1.0674123492812189,
          -0.6698990082688834,
          -0.5799795584411399,
          -0.06921656663627403,
          -1.6351975314526448,
          0.7106115831459313,
          1.194971214763005,
          0.11625479261911345,
          -1.934252919633813,
          0.11913041768822805,
          0.11132345496649837,
          1.389596749030748,
          -1.2171163369994655,
          1.2045581848905342,
          0.5820052642283193,
          -1.708114214802915,
          1.506653156239142,
          -0.9254490674897976,
          1.2409940264229145,
          0.2074483106758396,
          -1.3596588313168947,
          -2.390481486655998,
          -1.4566179541064537,
          -0.1836022258305617,
          -0.21501553404228868,
          -0.29215975665065563,
          1.6432342936542375,
          -0.07861297341559388,
          -2.19928517475691,
          0.7440934149815865,
          -1.184472526598871,
          -1.2162389598474177,
          0.1884059181021502,
          -1.5723531833999829,
          -1.3997371771754998,
          1.1481860646913822,
          -0.9789763321605593,
          -1.9138376620999613,
          -0.6331452017050753,
          0.7740822611022451,
          0.5258410109353289,
          0.819021535691631,
          -1.2739877143475504,
          -0.4999464290112291,
          -0.11030684358193382,
          0.2888305237105291,
          -0.5203727627946619,
          0.05106433226799674,
          -0.5982765768873508,
          0.9655105887234117,
          1.435008557832391,
          0.4183410289076339,
          1.7880526163669672,
          0.3332612477805044,
          -0.46462131549385466,
          -0.7495203318644134,
          0.8658306751167946,
          -0.7008970126949282,
          -1.2842726652184249,
          -0.4759677234328119,
          -1.215534764436904,
          -0.4894621529285363,
          1.2034829395601145,
          -1.8424285969117682,
          -1.0479601268610481,
          1.2913471557834049,
          -0.5675730197363626,
          0.4706223082609923,
          0.8438922504243296,
          0.2755981536419486,
          -0.5314784299117727
         ],
         "xaxis": "x5",
         "y": [
          0.48107134908112026,
          -1.6795123804935181,
          -1.407520137520341,
          0.6956647126875344,
          -0.8244186266256153,
          0.4651753314936174,
          1.3326443659961662,
          0.6712892112247183,
          -0.03678809166099367,
          -0.37571841568415526,
          -1.0933104414806638,
          1.0244520712000555,
          -1.6774374423985707,
          0.27825921049731706,
          -0.10656048173528182,
          -0.16266515491632585,
          -1.477859361988607,
          0.5755268284581758,
          -0.9848408514619815,
          1.1337930138402854,
          -2.1093063248932107,
          0.6732453387771199,
          1.0304751255639024,
          1.3442197800221123,
          -1.2994725083624141,
          0.24770923969024355,
          0.38001451435852873,
          0.6510217733836621,
          -1.334809357106278,
          -0.32591102686090045,
          0.33883289533284516,
          -0.6396342151768055,
          0.962462618516548,
          -0.3296481883115337,
          1.0539582266267544,
          -0.48849257687259584,
          -0.32932544514589285,
          -1.4021026631022075,
          0.4399519109122479,
          0.8165453632315621,
          0.17029682658018525,
          -1.539884876142449,
          -0.5290558912633045,
          -0.8862205911488811,
          1.503260759181969,
          1.2904641364329443,
          0.817464070671576,
          0.25455108264994014,
          0.6612696163441858,
          0.6148495307606112,
          -0.2443472940420814,
          -0.1502214269589789,
          0.29709144796356207,
          0.26233398363187316,
          -1.3859941884922815,
          -0.45976975796464326,
          0.17877088761322477,
          -1.7265360004559602,
          -0.2101124096705694,
          -2.1667428687019026,
          0.18014866395562953,
          0.17096478975414062,
          -0.6964272661332754,
          1.3526202915153194,
          0.8585059112481627,
          -0.472753727105893,
          1.5100650061692027,
          0.4439906420214673,
          -1.465584592157141,
          -0.8229300005118391,
          1.5114509544733574,
          0.5364040103244894,
          -0.6760154676033024,
          -0.12257777263745659,
          -0.028732704593448222,
          -1.6222251014678108,
          1.2862804917367132,
          0.15023697198365754,
          1.6432990060257577,
          -0.9471220749054257,
          -0.9861439162556745,
          0.9130666364117548,
          0.1790282336824031,
          1.6077357010516404,
          1.203379636178235,
          -0.8228046441290212,
          -1.8235900825357745,
          -1.0936356335033228,
          -0.2686300201689464,
          0.7704305152906291,
          1.9938798698875142,
          1.3775740544428223,
          -0.3965660112358336,
          -0.3414272326891216,
          -0.1138789943091023,
          -0.21589954976034614,
          0.3075242917985286,
          0.6432017039579504,
          0.08825291761810869,
          1.5816130906771417
         ],
         "yaxis": "y5"
        },
        {
         "histfunc": "count",
         "histnorm": "",
         "marker": {
          "color": "rgba(55, 128, 191, 1.0)",
          "line": {
           "color": "#4D5663",
           "width": 1.3
          }
         },
         "name": "B",
         "nbinsx": 10,
         "opacity": 0.8,
         "orientation": "v",
         "type": "histogram",
         "x": [
          0.48107134908112026,
          -1.6795123804935181,
          -1.407520137520341,
          0.6956647126875344,
          -0.8244186266256153,
          0.4651753314936174,
          1.3326443659961662,
          0.6712892112247183,
          -0.03678809166099367,
          -0.37571841568415526,
          -1.0933104414806638,
          1.0244520712000555,
          -1.6774374423985707,
          0.27825921049731706,
          -0.10656048173528182,
          -0.16266515491632585,
          -1.477859361988607,
          0.5755268284581758,
          -0.9848408514619815,
          1.1337930138402854,
          -2.1093063248932107,
          0.6732453387771199,
          1.0304751255639024,
          1.3442197800221123,
          -1.2994725083624141,
          0.24770923969024355,
          0.38001451435852873,
          0.6510217733836621,
          -1.334809357106278,
          -0.32591102686090045,
          0.33883289533284516,
          -0.6396342151768055,
          0.962462618516548,
          -0.3296481883115337,
          1.0539582266267544,
          -0.48849257687259584,
          -0.32932544514589285,
          -1.4021026631022075,
          0.4399519109122479,
          0.8165453632315621,
          0.17029682658018525,
          -1.539884876142449,
          -0.5290558912633045,
          -0.8862205911488811,
          1.503260759181969,
          1.2904641364329443,
          0.817464070671576,
          0.25455108264994014,
          0.6612696163441858,
          0.6148495307606112,
          -0.2443472940420814,
          -0.1502214269589789,
          0.29709144796356207,
          0.26233398363187316,
          -1.3859941884922815,
          -0.45976975796464326,
          0.17877088761322477,
          -1.7265360004559602,
          -0.2101124096705694,
          -2.1667428687019026,
          0.18014866395562953,
          0.17096478975414062,
          -0.6964272661332754,
          1.3526202915153194,
          0.8585059112481627,
          -0.472753727105893,
          1.5100650061692027,
          0.4439906420214673,
          -1.465584592157141,
          -0.8229300005118391,
          1.5114509544733574,
          0.5364040103244894,
          -0.6760154676033024,
          -0.12257777263745659,
          -0.028732704593448222,
          -1.6222251014678108,
          1.2862804917367132,
          0.15023697198365754,
          1.6432990060257577,
          -0.9471220749054257,
          -0.9861439162556745,
          0.9130666364117548,
          0.1790282336824031,
          1.6077357010516404,
          1.203379636178235,
          -0.8228046441290212,
          -1.8235900825357745,
          -1.0936356335033228,
          -0.2686300201689464,
          0.7704305152906291,
          1.9938798698875142,
          1.3775740544428223,
          -0.3965660112358336,
          -0.3414272326891216,
          -0.1138789943091023,
          -0.21589954976034614,
          0.3075242917985286,
          0.6432017039579504,
          0.08825291761810869,
          1.5816130906771417
         ],
         "xaxis": "x6",
         "yaxis": "y6"
        },
        {
         "line": {
          "color": "rgba(128, 128, 128, 1.0)",
          "dash": "solid",
          "shape": "linear",
          "width": 1.3
         },
         "marker": {
          "size": 2,
          "symbol": "circle"
         },
         "mode": "markers",
         "name": "B",
         "text": "",
         "type": "scatter",
         "x": [
          -0.04832900612696817,
          -2.0552643470456307,
          1.23401808345776,
          1.7622048722279813,
          0.36558461414403454,
          1.5271193614857776,
          -0.11698965638849242,
          0.550877172276358,
          -0.18563025943375833,
          1.4046676703240801,
          -0.8923087515065036,
          -0.13497956516275023,
          0.0710977571789828,
          1.0614963310633692,
          0.7192133147377471,
          -0.7730472669486539,
          -0.7735920559571068,
          1.3688275969976738,
          0.9978091168302472,
          -0.14855973087387733,
          1.4389636472969352,
          0.463317487552831,
          0.4057962919525643,
          1.2409096014807675,
          -1.7981095491668768,
          -0.9737923820099355,
          -0.35343715695543854,
          -1.8431487538919407,
          -0.9635654940207634,
          -1.1123087567053498,
          0.2671661522206472,
          1.1624384050292622,
          -0.1671491618727415,
          0.09287564079951659,
          0.7719803507484746,
          0.25083532191382685,
          -1.2609727534308801,
          2.3558529106906345,
          -0.44250445937162747,
          -0.7467504601879799,
          -0.7198816365344325,
          -0.0339315665844702,
          0.5497512879724022,
          -0.3480524571619145,
          1.3768723354357362,
          1.2502034702732656,
          -0.4012274215203553,
          -0.2897737272678843,
          -1.0084326249052749,
          -0.041878491458556794,
          0.44192348379906643,
          -0.7067919348103693,
          -2.0158581243719778,
          1.519170754551979,
          -0.1602334895148967,
          -0.31987479518621237,
          -0.6341683758785682,
          -0.781009411884995,
          -0.2340528015742706,
          1.156470066863848,
          0.46127659902382545,
          0.5105671736507841,
          -2.189845693455042,
          0.4432675837308323,
          -1.1516814536026996,
          1.330748998222132,
          -0.6477011655976501,
          -0.026451195793421024,
          0.7009205597371548,
          -0.31398659371351423,
          -0.027173796204393034,
          0.7491544167403303,
          -1.9744604698376598,
          0.8608338555104487,
          -0.661737329113762,
          -0.5835026639312187,
          0.37539850136357034,
          1.8791397847625453,
          2.6984625358394454,
          0.9477096198568582,
          1.4705140165414279,
          -0.010514932472564067,
          1.276061278128099,
          1.0617667814236433,
          -2.512910427219062,
          1.339337758066956,
          -0.09495253544489847,
          0.11448683196821172,
          -1.230759772499085,
          1.1776767045274097,
          -0.39700160277569996,
          -0.2847822529590679,
          -1.2984210140560033,
          -1.697273398143285,
          -0.03374651544880042,
          -1.347737876485818,
          0.9598283623694468,
          0.27478388842535423,
          0.2146777232449316,
          0.1567832074653066
         ],
         "xaxis": "x7",
         "y": [
          0.48107134908112026,
          -1.6795123804935181,
          -1.407520137520341,
          0.6956647126875344,
          -0.8244186266256153,
          0.4651753314936174,
          1.3326443659961662,
          0.6712892112247183,
          -0.03678809166099367,
          -0.37571841568415526,
          -1.0933104414806638,
          1.0244520712000555,
          -1.6774374423985707,
          0.27825921049731706,
          -0.10656048173528182,
          -0.16266515491632585,
          -1.477859361988607,
          0.5755268284581758,
          -0.9848408514619815,
          1.1337930138402854,
          -2.1093063248932107,
          0.6732453387771199,
          1.0304751255639024,
          1.3442197800221123,
          -1.2994725083624141,
          0.24770923969024355,
          0.38001451435852873,
          0.6510217733836621,
          -1.334809357106278,
          -0.32591102686090045,
          0.33883289533284516,
          -0.6396342151768055,
          0.962462618516548,
          -0.3296481883115337,
          1.0539582266267544,
          -0.48849257687259584,
          -0.32932544514589285,
          -1.4021026631022075,
          0.4399519109122479,
          0.8165453632315621,
          0.17029682658018525,
          -1.539884876142449,
          -0.5290558912633045,
          -0.8862205911488811,
          1.503260759181969,
          1.2904641364329443,
          0.817464070671576,
          0.25455108264994014,
          0.6612696163441858,
          0.6148495307606112,
          -0.2443472940420814,
          -0.1502214269589789,
          0.29709144796356207,
          0.26233398363187316,
          -1.3859941884922815,
          -0.45976975796464326,
          0.17877088761322477,
          -1.7265360004559602,
          -0.2101124096705694,
          -2.1667428687019026,
          0.18014866395562953,
          0.17096478975414062,
          -0.6964272661332754,
          1.3526202915153194,
          0.8585059112481627,
          -0.472753727105893,
          1.5100650061692027,
          0.4439906420214673,
          -1.465584592157141,
          -0.8229300005118391,
          1.5114509544733574,
          0.5364040103244894,
          -0.6760154676033024,
          -0.12257777263745659,
          -0.028732704593448222,
          -1.6222251014678108,
          1.2862804917367132,
          0.15023697198365754,
          1.6432990060257577,
          -0.9471220749054257,
          -0.9861439162556745,
          0.9130666364117548,
          0.1790282336824031,
          1.6077357010516404,
          1.203379636178235,
          -0.8228046441290212,
          -1.8235900825357745,
          -1.0936356335033228,
          -0.2686300201689464,
          0.7704305152906291,
          1.9938798698875142,
          1.3775740544428223,
          -0.3965660112358336,
          -0.3414272326891216,
          -0.1138789943091023,
          -0.21589954976034614,
          0.3075242917985286,
          0.6432017039579504,
          0.08825291761810869,
          1.5816130906771417
         ],
         "yaxis": "y7"
        },
        {
         "line": {
          "color": "rgba(128, 128, 128, 1.0)",
          "dash": "solid",
          "shape": "linear",
          "width": 1.3
         },
         "marker": {
          "size": 2,
          "symbol": "circle"
         },
         "mode": "markers",
         "name": "B",
         "text": "",
         "type": "scatter",
         "x": [
          -0.2877134611778512,
          -0.415408231157268,
          -0.6731520956489023,
          0.11699835543967516,
          0.46108847414264864,
          -2.075749395948886,
          0.8134228721343691,
          -0.4171307815190678,
          1.0482344785197288,
          -0.5629315106277006,
          1.4045304971214088,
          -1.0036668984369883,
          -0.9863531301805152,
          -0.25807014173809195,
          0.006645526873550916,
          -0.3653241514796089,
          1.4836009543157784,
          1.440594840565873,
          -0.4683992654901319,
          1.0598744136647218,
          0.44542094220103995,
          -1.3036291372168698,
          0.4330958917310685,
          1.098880423945254,
          0.7912876255644647,
          -0.5153633833927447,
          0.34099595343274336,
          0.8289978197175643,
          1.2860921268160947,
          0.3368732252553157,
          -0.7886462598062345,
          -0.20660566142886636,
          -2.0332644633856414,
          -0.45084749186519113,
          1.5395248206983076,
          1.033488658632085,
          0.4770679157842925,
          1.5196634218257068,
          -1.2454550882900453,
          -0.49410816685358944,
          -1.9660433649871147,
          0.2610976675087106,
          -1.3363618123521568,
          -0.8672949069980124,
          -1.358341898024915,
          0.0985918064728073,
          0.10822160952696296,
          -1.7743962812944087,
          -0.34752270013412295,
          -1.4942403930610262,
          1.1235033870989883,
          1.0245166435319117,
          -0.3864490739769507,
          -1.3471165599982078,
          0.3706148647365652,
          -0.5162107363096655,
          0.9760832195066462,
          -0.15633400980662576,
          -0.496568500607371,
          -0.5439552377990234,
          -0.8833587494428198,
          -0.38500838562199147,
          -0.34059551833802226,
          2.555474453517577,
          -0.5489839462842704,
          0.23018097576502303,
          -0.002817578108877567,
          -1.953011296752301,
          -0.6357711373245285,
          -1.1219490175131321,
          0.07138034873712855,
          0.5236003404531173,
          0.932465243848728,
          -1.231077256495407,
          -0.1937006848204315,
          1.4592991862128464,
          1.546286129842861,
          -0.19601189357771362,
          0.5391848728347883,
          -0.1427679427449153,
          0.1805286690674597,
          1.442595958836891,
          -0.9600127241696688,
          -0.4762769319570404,
          0.5771531798071556,
          1.2941334448093476,
          -1.0773538097917301,
          0.47556825223577,
          -0.9752553106665932,
          -1.032965092659648,
          -1.1155748598027806,
          0.25668015767886654,
          -0.8814739191660805,
          -0.22082829609725307,
          -1.3489726852465749,
          -0.5176821631863701,
          0.9882380031744157,
          0.24039272505477224,
          -0.21586922453230434,
          0.2785582142140259
         ],
         "xaxis": "x8",
         "y": [
          0.48107134908112026,
          -1.6795123804935181,
          -1.407520137520341,
          0.6956647126875344,
          -0.8244186266256153,
          0.4651753314936174,
          1.3326443659961662,
          0.6712892112247183,
          -0.03678809166099367,
          -0.37571841568415526,
          -1.0933104414806638,
          1.0244520712000555,
          -1.6774374423985707,
          0.27825921049731706,
          -0.10656048173528182,
          -0.16266515491632585,
          -1.477859361988607,
          0.5755268284581758,
          -0.9848408514619815,
          1.1337930138402854,
          -2.1093063248932107,
          0.6732453387771199,
          1.0304751255639024,
          1.3442197800221123,
          -1.2994725083624141,
          0.24770923969024355,
          0.38001451435852873,
          0.6510217733836621,
          -1.334809357106278,
          -0.32591102686090045,
          0.33883289533284516,
          -0.6396342151768055,
          0.962462618516548,
          -0.3296481883115337,
          1.0539582266267544,
          -0.48849257687259584,
          -0.32932544514589285,
          -1.4021026631022075,
          0.4399519109122479,
          0.8165453632315621,
          0.17029682658018525,
          -1.539884876142449,
          -0.5290558912633045,
          -0.8862205911488811,
          1.503260759181969,
          1.2904641364329443,
          0.817464070671576,
          0.25455108264994014,
          0.6612696163441858,
          0.6148495307606112,
          -0.2443472940420814,
          -0.1502214269589789,
          0.29709144796356207,
          0.26233398363187316,
          -1.3859941884922815,
          -0.45976975796464326,
          0.17877088761322477,
          -1.7265360004559602,
          -0.2101124096705694,
          -2.1667428687019026,
          0.18014866395562953,
          0.17096478975414062,
          -0.6964272661332754,
          1.3526202915153194,
          0.8585059112481627,
          -0.472753727105893,
          1.5100650061692027,
          0.4439906420214673,
          -1.465584592157141,
          -0.8229300005118391,
          1.5114509544733574,
          0.5364040103244894,
          -0.6760154676033024,
          -0.12257777263745659,
          -0.028732704593448222,
          -1.6222251014678108,
          1.2862804917367132,
          0.15023697198365754,
          1.6432990060257577,
          -0.9471220749054257,
          -0.9861439162556745,
          0.9130666364117548,
          0.1790282336824031,
          1.6077357010516404,
          1.203379636178235,
          -0.8228046441290212,
          -1.8235900825357745,
          -1.0936356335033228,
          -0.2686300201689464,
          0.7704305152906291,
          1.9938798698875142,
          1.3775740544428223,
          -0.3965660112358336,
          -0.3414272326891216,
          -0.1138789943091023,
          -0.21589954976034614,
          0.3075242917985286,
          0.6432017039579504,
          0.08825291761810869,
          1.5816130906771417
         ],
         "yaxis": "y8"
        },
        {
         "line": {
          "color": "rgba(128, 128, 128, 1.0)",
          "dash": "solid",
          "shape": "linear",
          "width": 1.3
         },
         "marker": {
          "size": 2,
          "symbol": "circle"
         },
         "mode": "markers",
         "name": "C",
         "text": "",
         "type": "scatter",
         "x": [
          1.0568048367540321,
          -1.3498353277992474,
          -0.016590310967857964,
          0.35660732790600963,
          1.0193834962395287,
          0.8491903166284471,
          -0.270898010060361,
          -0.392709340199791,
          -2.7680493355073525,
          -0.9598449509727272,
          0.02486210535174598,
          -0.08209894073442042,
          1.3004359980675626,
          -1.58538400423906,
          0.0669781081316911,
          0.640025802146375,
          -0.21302066961046895,
          -1.235796292702241,
          -0.1309253051050104,
          -0.31643267250308843,
          0.03258708757811836,
          -0.3380255243770623,
          -0.22179719829268574,
          -0.46447982740594784,
          -0.7481879251469615,
          -1.8848112593418178,
          1.091188842324186,
          -1.002344407821016,
          0.3490115434488426,
          -1.0674123492812189,
          -0.6698990082688834,
          -0.5799795584411399,
          -0.06921656663627403,
          -1.6351975314526448,
          0.7106115831459313,
          1.194971214763005,
          0.11625479261911345,
          -1.934252919633813,
          0.11913041768822805,
          0.11132345496649837,
          1.389596749030748,
          -1.2171163369994655,
          1.2045581848905342,
          0.5820052642283193,
          -1.708114214802915,
          1.506653156239142,
          -0.9254490674897976,
          1.2409940264229145,
          0.2074483106758396,
          -1.3596588313168947,
          -2.390481486655998,
          -1.4566179541064537,
          -0.1836022258305617,
          -0.21501553404228868,
          -0.29215975665065563,
          1.6432342936542375,
          -0.07861297341559388,
          -2.19928517475691,
          0.7440934149815865,
          -1.184472526598871,
          -1.2162389598474177,
          0.1884059181021502,
          -1.5723531833999829,
          -1.3997371771754998,
          1.1481860646913822,
          -0.9789763321605593,
          -1.9138376620999613,
          -0.6331452017050753,
          0.7740822611022451,
          0.5258410109353289,
          0.819021535691631,
          -1.2739877143475504,
          -0.4999464290112291,
          -0.11030684358193382,
          0.2888305237105291,
          -0.5203727627946619,
          0.05106433226799674,
          -0.5982765768873508,
          0.9655105887234117,
          1.435008557832391,
          0.4183410289076339,
          1.7880526163669672,
          0.3332612477805044,
          -0.46462131549385466,
          -0.7495203318644134,
          0.8658306751167946,
          -0.7008970126949282,
          -1.2842726652184249,
          -0.4759677234328119,
          -1.215534764436904,
          -0.4894621529285363,
          1.2034829395601145,
          -1.8424285969117682,
          -1.0479601268610481,
          1.2913471557834049,
          -0.5675730197363626,
          0.4706223082609923,
          0.8438922504243296,
          0.2755981536419486,
          -0.5314784299117727
         ],
         "xaxis": "x9",
         "y": [
          -0.04832900612696817,
          -2.0552643470456307,
          1.23401808345776,
          1.7622048722279813,
          0.36558461414403454,
          1.5271193614857776,
          -0.11698965638849242,
          0.550877172276358,
          -0.18563025943375833,
          1.4046676703240801,
          -0.8923087515065036,
          -0.13497956516275023,
          0.0710977571789828,
          1.0614963310633692,
          0.7192133147377471,
          -0.7730472669486539,
          -0.7735920559571068,
          1.3688275969976738,
          0.9978091168302472,
          -0.14855973087387733,
          1.4389636472969352,
          0.463317487552831,
          0.4057962919525643,
          1.2409096014807675,
          -1.7981095491668768,
          -0.9737923820099355,
          -0.35343715695543854,
          -1.8431487538919407,
          -0.9635654940207634,
          -1.1123087567053498,
          0.2671661522206472,
          1.1624384050292622,
          -0.1671491618727415,
          0.09287564079951659,
          0.7719803507484746,
          0.25083532191382685,
          -1.2609727534308801,
          2.3558529106906345,
          -0.44250445937162747,
          -0.7467504601879799,
          -0.7198816365344325,
          -0.0339315665844702,
          0.5497512879724022,
          -0.3480524571619145,
          1.3768723354357362,
          1.2502034702732656,
          -0.4012274215203553,
          -0.2897737272678843,
          -1.0084326249052749,
          -0.041878491458556794,
          0.44192348379906643,
          -0.7067919348103693,
          -2.0158581243719778,
          1.519170754551979,
          -0.1602334895148967,
          -0.31987479518621237,
          -0.6341683758785682,
          -0.781009411884995,
          -0.2340528015742706,
          1.156470066863848,
          0.46127659902382545,
          0.5105671736507841,
          -2.189845693455042,
          0.4432675837308323,
          -1.1516814536026996,
          1.330748998222132,
          -0.6477011655976501,
          -0.026451195793421024,
          0.7009205597371548,
          -0.31398659371351423,
          -0.027173796204393034,
          0.7491544167403303,
          -1.9744604698376598,
          0.8608338555104487,
          -0.661737329113762,
          -0.5835026639312187,
          0.37539850136357034,
          1.8791397847625453,
          2.6984625358394454,
          0.9477096198568582,
          1.4705140165414279,
          -0.010514932472564067,
          1.276061278128099,
          1.0617667814236433,
          -2.512910427219062,
          1.339337758066956,
          -0.09495253544489847,
          0.11448683196821172,
          -1.230759772499085,
          1.1776767045274097,
          -0.39700160277569996,
          -0.2847822529590679,
          -1.2984210140560033,
          -1.697273398143285,
          -0.03374651544880042,
          -1.347737876485818,
          0.9598283623694468,
          0.27478388842535423,
          0.2146777232449316,
          0.1567832074653066
         ],
         "yaxis": "y9"
        },
        {
         "line": {
          "color": "rgba(128, 128, 128, 1.0)",
          "dash": "solid",
          "shape": "linear",
          "width": 1.3
         },
         "marker": {
          "size": 2,
          "symbol": "circle"
         },
         "mode": "markers",
         "name": "C",
         "text": "",
         "type": "scatter",
         "x": [
          0.48107134908112026,
          -1.6795123804935181,
          -1.407520137520341,
          0.6956647126875344,
          -0.8244186266256153,
          0.4651753314936174,
          1.3326443659961662,
          0.6712892112247183,
          -0.03678809166099367,
          -0.37571841568415526,
          -1.0933104414806638,
          1.0244520712000555,
          -1.6774374423985707,
          0.27825921049731706,
          -0.10656048173528182,
          -0.16266515491632585,
          -1.477859361988607,
          0.5755268284581758,
          -0.9848408514619815,
          1.1337930138402854,
          -2.1093063248932107,
          0.6732453387771199,
          1.0304751255639024,
          1.3442197800221123,
          -1.2994725083624141,
          0.24770923969024355,
          0.38001451435852873,
          0.6510217733836621,
          -1.334809357106278,
          -0.32591102686090045,
          0.33883289533284516,
          -0.6396342151768055,
          0.962462618516548,
          -0.3296481883115337,
          1.0539582266267544,
          -0.48849257687259584,
          -0.32932544514589285,
          -1.4021026631022075,
          0.4399519109122479,
          0.8165453632315621,
          0.17029682658018525,
          -1.539884876142449,
          -0.5290558912633045,
          -0.8862205911488811,
          1.503260759181969,
          1.2904641364329443,
          0.817464070671576,
          0.25455108264994014,
          0.6612696163441858,
          0.6148495307606112,
          -0.2443472940420814,
          -0.1502214269589789,
          0.29709144796356207,
          0.26233398363187316,
          -1.3859941884922815,
          -0.45976975796464326,
          0.17877088761322477,
          -1.7265360004559602,
          -0.2101124096705694,
          -2.1667428687019026,
          0.18014866395562953,
          0.17096478975414062,
          -0.6964272661332754,
          1.3526202915153194,
          0.8585059112481627,
          -0.472753727105893,
          1.5100650061692027,
          0.4439906420214673,
          -1.465584592157141,
          -0.8229300005118391,
          1.5114509544733574,
          0.5364040103244894,
          -0.6760154676033024,
          -0.12257777263745659,
          -0.028732704593448222,
          -1.6222251014678108,
          1.2862804917367132,
          0.15023697198365754,
          1.6432990060257577,
          -0.9471220749054257,
          -0.9861439162556745,
          0.9130666364117548,
          0.1790282336824031,
          1.6077357010516404,
          1.203379636178235,
          -0.8228046441290212,
          -1.8235900825357745,
          -1.0936356335033228,
          -0.2686300201689464,
          0.7704305152906291,
          1.9938798698875142,
          1.3775740544428223,
          -0.3965660112358336,
          -0.3414272326891216,
          -0.1138789943091023,
          -0.21589954976034614,
          0.3075242917985286,
          0.6432017039579504,
          0.08825291761810869,
          1.5816130906771417
         ],
         "xaxis": "x10",
         "y": [
          -0.04832900612696817,
          -2.0552643470456307,
          1.23401808345776,
          1.7622048722279813,
          0.36558461414403454,
          1.5271193614857776,
          -0.11698965638849242,
          0.550877172276358,
          -0.18563025943375833,
          1.4046676703240801,
          -0.8923087515065036,
          -0.13497956516275023,
          0.0710977571789828,
          1.0614963310633692,
          0.7192133147377471,
          -0.7730472669486539,
          -0.7735920559571068,
          1.3688275969976738,
          0.9978091168302472,
          -0.14855973087387733,
          1.4389636472969352,
          0.463317487552831,
          0.4057962919525643,
          1.2409096014807675,
          -1.7981095491668768,
          -0.9737923820099355,
          -0.35343715695543854,
          -1.8431487538919407,
          -0.9635654940207634,
          -1.1123087567053498,
          0.2671661522206472,
          1.1624384050292622,
          -0.1671491618727415,
          0.09287564079951659,
          0.7719803507484746,
          0.25083532191382685,
          -1.2609727534308801,
          2.3558529106906345,
          -0.44250445937162747,
          -0.7467504601879799,
          -0.7198816365344325,
          -0.0339315665844702,
          0.5497512879724022,
          -0.3480524571619145,
          1.3768723354357362,
          1.2502034702732656,
          -0.4012274215203553,
          -0.2897737272678843,
          -1.0084326249052749,
          -0.041878491458556794,
          0.44192348379906643,
          -0.7067919348103693,
          -2.0158581243719778,
          1.519170754551979,
          -0.1602334895148967,
          -0.31987479518621237,
          -0.6341683758785682,
          -0.781009411884995,
          -0.2340528015742706,
          1.156470066863848,
          0.46127659902382545,
          0.5105671736507841,
          -2.189845693455042,
          0.4432675837308323,
          -1.1516814536026996,
          1.330748998222132,
          -0.6477011655976501,
          -0.026451195793421024,
          0.7009205597371548,
          -0.31398659371351423,
          -0.027173796204393034,
          0.7491544167403303,
          -1.9744604698376598,
          0.8608338555104487,
          -0.661737329113762,
          -0.5835026639312187,
          0.37539850136357034,
          1.8791397847625453,
          2.6984625358394454,
          0.9477096198568582,
          1.4705140165414279,
          -0.010514932472564067,
          1.276061278128099,
          1.0617667814236433,
          -2.512910427219062,
          1.339337758066956,
          -0.09495253544489847,
          0.11448683196821172,
          -1.230759772499085,
          1.1776767045274097,
          -0.39700160277569996,
          -0.2847822529590679,
          -1.2984210140560033,
          -1.697273398143285,
          -0.03374651544880042,
          -1.347737876485818,
          0.9598283623694468,
          0.27478388842535423,
          0.2146777232449316,
          0.1567832074653066
         ],
         "yaxis": "y10"
        },
        {
         "histfunc": "count",
         "histnorm": "",
         "marker": {
          "color": "rgba(50, 171, 96, 1.0)",
          "line": {
           "color": "#4D5663",
           "width": 1.3
          }
         },
         "name": "C",
         "nbinsx": 10,
         "opacity": 0.8,
         "orientation": "v",
         "type": "histogram",
         "x": [
          -0.04832900612696817,
          -2.0552643470456307,
          1.23401808345776,
          1.7622048722279813,
          0.36558461414403454,
          1.5271193614857776,
          -0.11698965638849242,
          0.550877172276358,
          -0.18563025943375833,
          1.4046676703240801,
          -0.8923087515065036,
          -0.13497956516275023,
          0.0710977571789828,
          1.0614963310633692,
          0.7192133147377471,
          -0.7730472669486539,
          -0.7735920559571068,
          1.3688275969976738,
          0.9978091168302472,
          -0.14855973087387733,
          1.4389636472969352,
          0.463317487552831,
          0.4057962919525643,
          1.2409096014807675,
          -1.7981095491668768,
          -0.9737923820099355,
          -0.35343715695543854,
          -1.8431487538919407,
          -0.9635654940207634,
          -1.1123087567053498,
          0.2671661522206472,
          1.1624384050292622,
          -0.1671491618727415,
          0.09287564079951659,
          0.7719803507484746,
          0.25083532191382685,
          -1.2609727534308801,
          2.3558529106906345,
          -0.44250445937162747,
          -0.7467504601879799,
          -0.7198816365344325,
          -0.0339315665844702,
          0.5497512879724022,
          -0.3480524571619145,
          1.3768723354357362,
          1.2502034702732656,
          -0.4012274215203553,
          -0.2897737272678843,
          -1.0084326249052749,
          -0.041878491458556794,
          0.44192348379906643,
          -0.7067919348103693,
          -2.0158581243719778,
          1.519170754551979,
          -0.1602334895148967,
          -0.31987479518621237,
          -0.6341683758785682,
          -0.781009411884995,
          -0.2340528015742706,
          1.156470066863848,
          0.46127659902382545,
          0.5105671736507841,
          -2.189845693455042,
          0.4432675837308323,
          -1.1516814536026996,
          1.330748998222132,
          -0.6477011655976501,
          -0.026451195793421024,
          0.7009205597371548,
          -0.31398659371351423,
          -0.027173796204393034,
          0.7491544167403303,
          -1.9744604698376598,
          0.8608338555104487,
          -0.661737329113762,
          -0.5835026639312187,
          0.37539850136357034,
          1.8791397847625453,
          2.6984625358394454,
          0.9477096198568582,
          1.4705140165414279,
          -0.010514932472564067,
          1.276061278128099,
          1.0617667814236433,
          -2.512910427219062,
          1.339337758066956,
          -0.09495253544489847,
          0.11448683196821172,
          -1.230759772499085,
          1.1776767045274097,
          -0.39700160277569996,
          -0.2847822529590679,
          -1.2984210140560033,
          -1.697273398143285,
          -0.03374651544880042,
          -1.347737876485818,
          0.9598283623694468,
          0.27478388842535423,
          0.2146777232449316,
          0.1567832074653066
         ],
         "xaxis": "x11",
         "yaxis": "y11"
        },
        {
         "line": {
          "color": "rgba(128, 128, 128, 1.0)",
          "dash": "solid",
          "shape": "linear",
          "width": 1.3
         },
         "marker": {
          "size": 2,
          "symbol": "circle"
         },
         "mode": "markers",
         "name": "C",
         "text": "",
         "type": "scatter",
         "x": [
          -0.2877134611778512,
          -0.415408231157268,
          -0.6731520956489023,
          0.11699835543967516,
          0.46108847414264864,
          -2.075749395948886,
          0.8134228721343691,
          -0.4171307815190678,
          1.0482344785197288,
          -0.5629315106277006,
          1.4045304971214088,
          -1.0036668984369883,
          -0.9863531301805152,
          -0.25807014173809195,
          0.006645526873550916,
          -0.3653241514796089,
          1.4836009543157784,
          1.440594840565873,
          -0.4683992654901319,
          1.0598744136647218,
          0.44542094220103995,
          -1.3036291372168698,
          0.4330958917310685,
          1.098880423945254,
          0.7912876255644647,
          -0.5153633833927447,
          0.34099595343274336,
          0.8289978197175643,
          1.2860921268160947,
          0.3368732252553157,
          -0.7886462598062345,
          -0.20660566142886636,
          -2.0332644633856414,
          -0.45084749186519113,
          1.5395248206983076,
          1.033488658632085,
          0.4770679157842925,
          1.5196634218257068,
          -1.2454550882900453,
          -0.49410816685358944,
          -1.9660433649871147,
          0.2610976675087106,
          -1.3363618123521568,
          -0.8672949069980124,
          -1.358341898024915,
          0.0985918064728073,
          0.10822160952696296,
          -1.7743962812944087,
          -0.34752270013412295,
          -1.4942403930610262,
          1.1235033870989883,
          1.0245166435319117,
          -0.3864490739769507,
          -1.3471165599982078,
          0.3706148647365652,
          -0.5162107363096655,
          0.9760832195066462,
          -0.15633400980662576,
          -0.496568500607371,
          -0.5439552377990234,
          -0.8833587494428198,
          -0.38500838562199147,
          -0.34059551833802226,
          2.555474453517577,
          -0.5489839462842704,
          0.23018097576502303,
          -0.002817578108877567,
          -1.953011296752301,
          -0.6357711373245285,
          -1.1219490175131321,
          0.07138034873712855,
          0.5236003404531173,
          0.932465243848728,
          -1.231077256495407,
          -0.1937006848204315,
          1.4592991862128464,
          1.546286129842861,
          -0.19601189357771362,
          0.5391848728347883,
          -0.1427679427449153,
          0.1805286690674597,
          1.442595958836891,
          -0.9600127241696688,
          -0.4762769319570404,
          0.5771531798071556,
          1.2941334448093476,
          -1.0773538097917301,
          0.47556825223577,
          -0.9752553106665932,
          -1.032965092659648,
          -1.1155748598027806,
          0.25668015767886654,
          -0.8814739191660805,
          -0.22082829609725307,
          -1.3489726852465749,
          -0.5176821631863701,
          0.9882380031744157,
          0.24039272505477224,
          -0.21586922453230434,
          0.2785582142140259
         ],
         "xaxis": "x12",
         "y": [
          -0.04832900612696817,
          -2.0552643470456307,
          1.23401808345776,
          1.7622048722279813,
          0.36558461414403454,
          1.5271193614857776,
          -0.11698965638849242,
          0.550877172276358,
          -0.18563025943375833,
          1.4046676703240801,
          -0.8923087515065036,
          -0.13497956516275023,
          0.0710977571789828,
          1.0614963310633692,
          0.7192133147377471,
          -0.7730472669486539,
          -0.7735920559571068,
          1.3688275969976738,
          0.9978091168302472,
          -0.14855973087387733,
          1.4389636472969352,
          0.463317487552831,
          0.4057962919525643,
          1.2409096014807675,
          -1.7981095491668768,
          -0.9737923820099355,
          -0.35343715695543854,
          -1.8431487538919407,
          -0.9635654940207634,
          -1.1123087567053498,
          0.2671661522206472,
          1.1624384050292622,
          -0.1671491618727415,
          0.09287564079951659,
          0.7719803507484746,
          0.25083532191382685,
          -1.2609727534308801,
          2.3558529106906345,
          -0.44250445937162747,
          -0.7467504601879799,
          -0.7198816365344325,
          -0.0339315665844702,
          0.5497512879724022,
          -0.3480524571619145,
          1.3768723354357362,
          1.2502034702732656,
          -0.4012274215203553,
          -0.2897737272678843,
          -1.0084326249052749,
          -0.041878491458556794,
          0.44192348379906643,
          -0.7067919348103693,
          -2.0158581243719778,
          1.519170754551979,
          -0.1602334895148967,
          -0.31987479518621237,
          -0.6341683758785682,
          -0.781009411884995,
          -0.2340528015742706,
          1.156470066863848,
          0.46127659902382545,
          0.5105671736507841,
          -2.189845693455042,
          0.4432675837308323,
          -1.1516814536026996,
          1.330748998222132,
          -0.6477011655976501,
          -0.026451195793421024,
          0.7009205597371548,
          -0.31398659371351423,
          -0.027173796204393034,
          0.7491544167403303,
          -1.9744604698376598,
          0.8608338555104487,
          -0.661737329113762,
          -0.5835026639312187,
          0.37539850136357034,
          1.8791397847625453,
          2.6984625358394454,
          0.9477096198568582,
          1.4705140165414279,
          -0.010514932472564067,
          1.276061278128099,
          1.0617667814236433,
          -2.512910427219062,
          1.339337758066956,
          -0.09495253544489847,
          0.11448683196821172,
          -1.230759772499085,
          1.1776767045274097,
          -0.39700160277569996,
          -0.2847822529590679,
          -1.2984210140560033,
          -1.697273398143285,
          -0.03374651544880042,
          -1.347737876485818,
          0.9598283623694468,
          0.27478388842535423,
          0.2146777232449316,
          0.1567832074653066
         ],
         "yaxis": "y12"
        },
        {
         "line": {
          "color": "rgba(128, 128, 128, 1.0)",
          "dash": "solid",
          "shape": "linear",
          "width": 1.3
         },
         "marker": {
          "size": 2,
          "symbol": "circle"
         },
         "mode": "markers",
         "name": "D",
         "text": "",
         "type": "scatter",
         "x": [
          1.0568048367540321,
          -1.3498353277992474,
          -0.016590310967857964,
          0.35660732790600963,
          1.0193834962395287,
          0.8491903166284471,
          -0.270898010060361,
          -0.392709340199791,
          -2.7680493355073525,
          -0.9598449509727272,
          0.02486210535174598,
          -0.08209894073442042,
          1.3004359980675626,
          -1.58538400423906,
          0.0669781081316911,
          0.640025802146375,
          -0.21302066961046895,
          -1.235796292702241,
          -0.1309253051050104,
          -0.31643267250308843,
          0.03258708757811836,
          -0.3380255243770623,
          -0.22179719829268574,
          -0.46447982740594784,
          -0.7481879251469615,
          -1.8848112593418178,
          1.091188842324186,
          -1.002344407821016,
          0.3490115434488426,
          -1.0674123492812189,
          -0.6698990082688834,
          -0.5799795584411399,
          -0.06921656663627403,
          -1.6351975314526448,
          0.7106115831459313,
          1.194971214763005,
          0.11625479261911345,
          -1.934252919633813,
          0.11913041768822805,
          0.11132345496649837,
          1.389596749030748,
          -1.2171163369994655,
          1.2045581848905342,
          0.5820052642283193,
          -1.708114214802915,
          1.506653156239142,
          -0.9254490674897976,
          1.2409940264229145,
          0.2074483106758396,
          -1.3596588313168947,
          -2.390481486655998,
          -1.4566179541064537,
          -0.1836022258305617,
          -0.21501553404228868,
          -0.29215975665065563,
          1.6432342936542375,
          -0.07861297341559388,
          -2.19928517475691,
          0.7440934149815865,
          -1.184472526598871,
          -1.2162389598474177,
          0.1884059181021502,
          -1.5723531833999829,
          -1.3997371771754998,
          1.1481860646913822,
          -0.9789763321605593,
          -1.9138376620999613,
          -0.6331452017050753,
          0.7740822611022451,
          0.5258410109353289,
          0.819021535691631,
          -1.2739877143475504,
          -0.4999464290112291,
          -0.11030684358193382,
          0.2888305237105291,
          -0.5203727627946619,
          0.05106433226799674,
          -0.5982765768873508,
          0.9655105887234117,
          1.435008557832391,
          0.4183410289076339,
          1.7880526163669672,
          0.3332612477805044,
          -0.46462131549385466,
          -0.7495203318644134,
          0.8658306751167946,
          -0.7008970126949282,
          -1.2842726652184249,
          -0.4759677234328119,
          -1.215534764436904,
          -0.4894621529285363,
          1.2034829395601145,
          -1.8424285969117682,
          -1.0479601268610481,
          1.2913471557834049,
          -0.5675730197363626,
          0.4706223082609923,
          0.8438922504243296,
          0.2755981536419486,
          -0.5314784299117727
         ],
         "xaxis": "x13",
         "y": [
          -0.2877134611778512,
          -0.415408231157268,
          -0.6731520956489023,
          0.11699835543967516,
          0.46108847414264864,
          -2.075749395948886,
          0.8134228721343691,
          -0.4171307815190678,
          1.0482344785197288,
          -0.5629315106277006,
          1.4045304971214088,
          -1.0036668984369883,
          -0.9863531301805152,
          -0.25807014173809195,
          0.006645526873550916,
          -0.3653241514796089,
          1.4836009543157784,
          1.440594840565873,
          -0.4683992654901319,
          1.0598744136647218,
          0.44542094220103995,
          -1.3036291372168698,
          0.4330958917310685,
          1.098880423945254,
          0.7912876255644647,
          -0.5153633833927447,
          0.34099595343274336,
          0.8289978197175643,
          1.2860921268160947,
          0.3368732252553157,
          -0.7886462598062345,
          -0.20660566142886636,
          -2.0332644633856414,
          -0.45084749186519113,
          1.5395248206983076,
          1.033488658632085,
          0.4770679157842925,
          1.5196634218257068,
          -1.2454550882900453,
          -0.49410816685358944,
          -1.9660433649871147,
          0.2610976675087106,
          -1.3363618123521568,
          -0.8672949069980124,
          -1.358341898024915,
          0.0985918064728073,
          0.10822160952696296,
          -1.7743962812944087,
          -0.34752270013412295,
          -1.4942403930610262,
          1.1235033870989883,
          1.0245166435319117,
          -0.3864490739769507,
          -1.3471165599982078,
          0.3706148647365652,
          -0.5162107363096655,
          0.9760832195066462,
          -0.15633400980662576,
          -0.496568500607371,
          -0.5439552377990234,
          -0.8833587494428198,
          -0.38500838562199147,
          -0.34059551833802226,
          2.555474453517577,
          -0.5489839462842704,
          0.23018097576502303,
          -0.002817578108877567,
          -1.953011296752301,
          -0.6357711373245285,
          -1.1219490175131321,
          0.07138034873712855,
          0.5236003404531173,
          0.932465243848728,
          -1.231077256495407,
          -0.1937006848204315,
          1.4592991862128464,
          1.546286129842861,
          -0.19601189357771362,
          0.5391848728347883,
          -0.1427679427449153,
          0.1805286690674597,
          1.442595958836891,
          -0.9600127241696688,
          -0.4762769319570404,
          0.5771531798071556,
          1.2941334448093476,
          -1.0773538097917301,
          0.47556825223577,
          -0.9752553106665932,
          -1.032965092659648,
          -1.1155748598027806,
          0.25668015767886654,
          -0.8814739191660805,
          -0.22082829609725307,
          -1.3489726852465749,
          -0.5176821631863701,
          0.9882380031744157,
          0.24039272505477224,
          -0.21586922453230434,
          0.2785582142140259
         ],
         "yaxis": "y13"
        },
        {
         "line": {
          "color": "rgba(128, 128, 128, 1.0)",
          "dash": "solid",
          "shape": "linear",
          "width": 1.3
         },
         "marker": {
          "size": 2,
          "symbol": "circle"
         },
         "mode": "markers",
         "name": "D",
         "text": "",
         "type": "scatter",
         "x": [
          0.48107134908112026,
          -1.6795123804935181,
          -1.407520137520341,
          0.6956647126875344,
          -0.8244186266256153,
          0.4651753314936174,
          1.3326443659961662,
          0.6712892112247183,
          -0.03678809166099367,
          -0.37571841568415526,
          -1.0933104414806638,
          1.0244520712000555,
          -1.6774374423985707,
          0.27825921049731706,
          -0.10656048173528182,
          -0.16266515491632585,
          -1.477859361988607,
          0.5755268284581758,
          -0.9848408514619815,
          1.1337930138402854,
          -2.1093063248932107,
          0.6732453387771199,
          1.0304751255639024,
          1.3442197800221123,
          -1.2994725083624141,
          0.24770923969024355,
          0.38001451435852873,
          0.6510217733836621,
          -1.334809357106278,
          -0.32591102686090045,
          0.33883289533284516,
          -0.6396342151768055,
          0.962462618516548,
          -0.3296481883115337,
          1.0539582266267544,
          -0.48849257687259584,
          -0.32932544514589285,
          -1.4021026631022075,
          0.4399519109122479,
          0.8165453632315621,
          0.17029682658018525,
          -1.539884876142449,
          -0.5290558912633045,
          -0.8862205911488811,
          1.503260759181969,
          1.2904641364329443,
          0.817464070671576,
          0.25455108264994014,
          0.6612696163441858,
          0.6148495307606112,
          -0.2443472940420814,
          -0.1502214269589789,
          0.29709144796356207,
          0.26233398363187316,
          -1.3859941884922815,
          -0.45976975796464326,
          0.17877088761322477,
          -1.7265360004559602,
          -0.2101124096705694,
          -2.1667428687019026,
          0.18014866395562953,
          0.17096478975414062,
          -0.6964272661332754,
          1.3526202915153194,
          0.8585059112481627,
          -0.472753727105893,
          1.5100650061692027,
          0.4439906420214673,
          -1.465584592157141,
          -0.8229300005118391,
          1.5114509544733574,
          0.5364040103244894,
          -0.6760154676033024,
          -0.12257777263745659,
          -0.028732704593448222,
          -1.6222251014678108,
          1.2862804917367132,
          0.15023697198365754,
          1.6432990060257577,
          -0.9471220749054257,
          -0.9861439162556745,
          0.9130666364117548,
          0.1790282336824031,
          1.6077357010516404,
          1.203379636178235,
          -0.8228046441290212,
          -1.8235900825357745,
          -1.0936356335033228,
          -0.2686300201689464,
          0.7704305152906291,
          1.9938798698875142,
          1.3775740544428223,
          -0.3965660112358336,
          -0.3414272326891216,
          -0.1138789943091023,
          -0.21589954976034614,
          0.3075242917985286,
          0.6432017039579504,
          0.08825291761810869,
          1.5816130906771417
         ],
         "xaxis": "x14",
         "y": [
          -0.2877134611778512,
          -0.415408231157268,
          -0.6731520956489023,
          0.11699835543967516,
          0.46108847414264864,
          -2.075749395948886,
          0.8134228721343691,
          -0.4171307815190678,
          1.0482344785197288,
          -0.5629315106277006,
          1.4045304971214088,
          -1.0036668984369883,
          -0.9863531301805152,
          -0.25807014173809195,
          0.006645526873550916,
          -0.3653241514796089,
          1.4836009543157784,
          1.440594840565873,
          -0.4683992654901319,
          1.0598744136647218,
          0.44542094220103995,
          -1.3036291372168698,
          0.4330958917310685,
          1.098880423945254,
          0.7912876255644647,
          -0.5153633833927447,
          0.34099595343274336,
          0.8289978197175643,
          1.2860921268160947,
          0.3368732252553157,
          -0.7886462598062345,
          -0.20660566142886636,
          -2.0332644633856414,
          -0.45084749186519113,
          1.5395248206983076,
          1.033488658632085,
          0.4770679157842925,
          1.5196634218257068,
          -1.2454550882900453,
          -0.49410816685358944,
          -1.9660433649871147,
          0.2610976675087106,
          -1.3363618123521568,
          -0.8672949069980124,
          -1.358341898024915,
          0.0985918064728073,
          0.10822160952696296,
          -1.7743962812944087,
          -0.34752270013412295,
          -1.4942403930610262,
          1.1235033870989883,
          1.0245166435319117,
          -0.3864490739769507,
          -1.3471165599982078,
          0.3706148647365652,
          -0.5162107363096655,
          0.9760832195066462,
          -0.15633400980662576,
          -0.496568500607371,
          -0.5439552377990234,
          -0.8833587494428198,
          -0.38500838562199147,
          -0.34059551833802226,
          2.555474453517577,
          -0.5489839462842704,
          0.23018097576502303,
          -0.002817578108877567,
          -1.953011296752301,
          -0.6357711373245285,
          -1.1219490175131321,
          0.07138034873712855,
          0.5236003404531173,
          0.932465243848728,
          -1.231077256495407,
          -0.1937006848204315,
          1.4592991862128464,
          1.546286129842861,
          -0.19601189357771362,
          0.5391848728347883,
          -0.1427679427449153,
          0.1805286690674597,
          1.442595958836891,
          -0.9600127241696688,
          -0.4762769319570404,
          0.5771531798071556,
          1.2941334448093476,
          -1.0773538097917301,
          0.47556825223577,
          -0.9752553106665932,
          -1.032965092659648,
          -1.1155748598027806,
          0.25668015767886654,
          -0.8814739191660805,
          -0.22082829609725307,
          -1.3489726852465749,
          -0.5176821631863701,
          0.9882380031744157,
          0.24039272505477224,
          -0.21586922453230434,
          0.2785582142140259
         ],
         "yaxis": "y14"
        },
        {
         "line": {
          "color": "rgba(128, 128, 128, 1.0)",
          "dash": "solid",
          "shape": "linear",
          "width": 1.3
         },
         "marker": {
          "size": 2,
          "symbol": "circle"
         },
         "mode": "markers",
         "name": "D",
         "text": "",
         "type": "scatter",
         "x": [
          -0.04832900612696817,
          -2.0552643470456307,
          1.23401808345776,
          1.7622048722279813,
          0.36558461414403454,
          1.5271193614857776,
          -0.11698965638849242,
          0.550877172276358,
          -0.18563025943375833,
          1.4046676703240801,
          -0.8923087515065036,
          -0.13497956516275023,
          0.0710977571789828,
          1.0614963310633692,
          0.7192133147377471,
          -0.7730472669486539,
          -0.7735920559571068,
          1.3688275969976738,
          0.9978091168302472,
          -0.14855973087387733,
          1.4389636472969352,
          0.463317487552831,
          0.4057962919525643,
          1.2409096014807675,
          -1.7981095491668768,
          -0.9737923820099355,
          -0.35343715695543854,
          -1.8431487538919407,
          -0.9635654940207634,
          -1.1123087567053498,
          0.2671661522206472,
          1.1624384050292622,
          -0.1671491618727415,
          0.09287564079951659,
          0.7719803507484746,
          0.25083532191382685,
          -1.2609727534308801,
          2.3558529106906345,
          -0.44250445937162747,
          -0.7467504601879799,
          -0.7198816365344325,
          -0.0339315665844702,
          0.5497512879724022,
          -0.3480524571619145,
          1.3768723354357362,
          1.2502034702732656,
          -0.4012274215203553,
          -0.2897737272678843,
          -1.0084326249052749,
          -0.041878491458556794,
          0.44192348379906643,
          -0.7067919348103693,
          -2.0158581243719778,
          1.519170754551979,
          -0.1602334895148967,
          -0.31987479518621237,
          -0.6341683758785682,
          -0.781009411884995,
          -0.2340528015742706,
          1.156470066863848,
          0.46127659902382545,
          0.5105671736507841,
          -2.189845693455042,
          0.4432675837308323,
          -1.1516814536026996,
          1.330748998222132,
          -0.6477011655976501,
          -0.026451195793421024,
          0.7009205597371548,
          -0.31398659371351423,
          -0.027173796204393034,
          0.7491544167403303,
          -1.9744604698376598,
          0.8608338555104487,
          -0.661737329113762,
          -0.5835026639312187,
          0.37539850136357034,
          1.8791397847625453,
          2.6984625358394454,
          0.9477096198568582,
          1.4705140165414279,
          -0.010514932472564067,
          1.276061278128099,
          1.0617667814236433,
          -2.512910427219062,
          1.339337758066956,
          -0.09495253544489847,
          0.11448683196821172,
          -1.230759772499085,
          1.1776767045274097,
          -0.39700160277569996,
          -0.2847822529590679,
          -1.2984210140560033,
          -1.697273398143285,
          -0.03374651544880042,
          -1.347737876485818,
          0.9598283623694468,
          0.27478388842535423,
          0.2146777232449316,
          0.1567832074653066
         ],
         "xaxis": "x15",
         "y": [
          -0.2877134611778512,
          -0.415408231157268,
          -0.6731520956489023,
          0.11699835543967516,
          0.46108847414264864,
          -2.075749395948886,
          0.8134228721343691,
          -0.4171307815190678,
          1.0482344785197288,
          -0.5629315106277006,
          1.4045304971214088,
          -1.0036668984369883,
          -0.9863531301805152,
          -0.25807014173809195,
          0.006645526873550916,
          -0.3653241514796089,
          1.4836009543157784,
          1.440594840565873,
          -0.4683992654901319,
          1.0598744136647218,
          0.44542094220103995,
          -1.3036291372168698,
          0.4330958917310685,
          1.098880423945254,
          0.7912876255644647,
          -0.5153633833927447,
          0.34099595343274336,
          0.8289978197175643,
          1.2860921268160947,
          0.3368732252553157,
          -0.7886462598062345,
          -0.20660566142886636,
          -2.0332644633856414,
          -0.45084749186519113,
          1.5395248206983076,
          1.033488658632085,
          0.4770679157842925,
          1.5196634218257068,
          -1.2454550882900453,
          -0.49410816685358944,
          -1.9660433649871147,
          0.2610976675087106,
          -1.3363618123521568,
          -0.8672949069980124,
          -1.358341898024915,
          0.0985918064728073,
          0.10822160952696296,
          -1.7743962812944087,
          -0.34752270013412295,
          -1.4942403930610262,
          1.1235033870989883,
          1.0245166435319117,
          -0.3864490739769507,
          -1.3471165599982078,
          0.3706148647365652,
          -0.5162107363096655,
          0.9760832195066462,
          -0.15633400980662576,
          -0.496568500607371,
          -0.5439552377990234,
          -0.8833587494428198,
          -0.38500838562199147,
          -0.34059551833802226,
          2.555474453517577,
          -0.5489839462842704,
          0.23018097576502303,
          -0.002817578108877567,
          -1.953011296752301,
          -0.6357711373245285,
          -1.1219490175131321,
          0.07138034873712855,
          0.5236003404531173,
          0.932465243848728,
          -1.231077256495407,
          -0.1937006848204315,
          1.4592991862128464,
          1.546286129842861,
          -0.19601189357771362,
          0.5391848728347883,
          -0.1427679427449153,
          0.1805286690674597,
          1.442595958836891,
          -0.9600127241696688,
          -0.4762769319570404,
          0.5771531798071556,
          1.2941334448093476,
          -1.0773538097917301,
          0.47556825223577,
          -0.9752553106665932,
          -1.032965092659648,
          -1.1155748598027806,
          0.25668015767886654,
          -0.8814739191660805,
          -0.22082829609725307,
          -1.3489726852465749,
          -0.5176821631863701,
          0.9882380031744157,
          0.24039272505477224,
          -0.21586922453230434,
          0.2785582142140259
         ],
         "yaxis": "y15"
        },
        {
         "histfunc": "count",
         "histnorm": "",
         "marker": {
          "color": "rgba(128, 0, 128, 1.0)",
          "line": {
           "color": "#4D5663",
           "width": 1.3
          }
         },
         "name": "D",
         "nbinsx": 10,
         "opacity": 0.8,
         "orientation": "v",
         "type": "histogram",
         "x": [
          -0.2877134611778512,
          -0.415408231157268,
          -0.6731520956489023,
          0.11699835543967516,
          0.46108847414264864,
          -2.075749395948886,
          0.8134228721343691,
          -0.4171307815190678,
          1.0482344785197288,
          -0.5629315106277006,
          1.4045304971214088,
          -1.0036668984369883,
          -0.9863531301805152,
          -0.25807014173809195,
          0.006645526873550916,
          -0.3653241514796089,
          1.4836009543157784,
          1.440594840565873,
          -0.4683992654901319,
          1.0598744136647218,
          0.44542094220103995,
          -1.3036291372168698,
          0.4330958917310685,
          1.098880423945254,
          0.7912876255644647,
          -0.5153633833927447,
          0.34099595343274336,
          0.8289978197175643,
          1.2860921268160947,
          0.3368732252553157,
          -0.7886462598062345,
          -0.20660566142886636,
          -2.0332644633856414,
          -0.45084749186519113,
          1.5395248206983076,
          1.033488658632085,
          0.4770679157842925,
          1.5196634218257068,
          -1.2454550882900453,
          -0.49410816685358944,
          -1.9660433649871147,
          0.2610976675087106,
          -1.3363618123521568,
          -0.8672949069980124,
          -1.358341898024915,
          0.0985918064728073,
          0.10822160952696296,
          -1.7743962812944087,
          -0.34752270013412295,
          -1.4942403930610262,
          1.1235033870989883,
          1.0245166435319117,
          -0.3864490739769507,
          -1.3471165599982078,
          0.3706148647365652,
          -0.5162107363096655,
          0.9760832195066462,
          -0.15633400980662576,
          -0.496568500607371,
          -0.5439552377990234,
          -0.8833587494428198,
          -0.38500838562199147,
          -0.34059551833802226,
          2.555474453517577,
          -0.5489839462842704,
          0.23018097576502303,
          -0.002817578108877567,
          -1.953011296752301,
          -0.6357711373245285,
          -1.1219490175131321,
          0.07138034873712855,
          0.5236003404531173,
          0.932465243848728,
          -1.231077256495407,
          -0.1937006848204315,
          1.4592991862128464,
          1.546286129842861,
          -0.19601189357771362,
          0.5391848728347883,
          -0.1427679427449153,
          0.1805286690674597,
          1.442595958836891,
          -0.9600127241696688,
          -0.4762769319570404,
          0.5771531798071556,
          1.2941334448093476,
          -1.0773538097917301,
          0.47556825223577,
          -0.9752553106665932,
          -1.032965092659648,
          -1.1155748598027806,
          0.25668015767886654,
          -0.8814739191660805,
          -0.22082829609725307,
          -1.3489726852465749,
          -0.5176821631863701,
          0.9882380031744157,
          0.24039272505477224,
          -0.21586922453230434,
          0.2785582142140259
         ],
         "xaxis": "x16",
         "yaxis": "y16"
        }
       ],
       "layout": {
        "bargap": 0.02,
        "legend": {
         "bgcolor": "#F5F6F9",
         "font": {
          "color": "#4D5663"
         }
        },
        "paper_bgcolor": "#F5F6F9",
        "plot_bgcolor": "#F5F6F9",
        "showlegend": false,
        "template": {
         "data": {
          "bar": [
           {
            "error_x": {
             "color": "#2a3f5f"
            },
            "error_y": {
             "color": "#2a3f5f"
            },
            "marker": {
             "line": {
              "color": "#E5ECF6",
              "width": 0.5
             }
            },
            "type": "bar"
           }
          ],
          "barpolar": [
           {
            "marker": {
             "line": {
              "color": "#E5ECF6",
              "width": 0.5
             }
            },
            "type": "barpolar"
           }
          ],
          "carpet": [
           {
            "aaxis": {
             "endlinecolor": "#2a3f5f",
             "gridcolor": "white",
             "linecolor": "white",
             "minorgridcolor": "white",
             "startlinecolor": "#2a3f5f"
            },
            "baxis": {
             "endlinecolor": "#2a3f5f",
             "gridcolor": "white",
             "linecolor": "white",
             "minorgridcolor": "white",
             "startlinecolor": "#2a3f5f"
            },
            "type": "carpet"
           }
          ],
          "choropleth": [
           {
            "colorbar": {
             "outlinewidth": 0,
             "ticks": ""
            },
            "type": "choropleth"
           }
          ],
          "contour": [
           {
            "colorbar": {
             "outlinewidth": 0,
             "ticks": ""
            },
            "colorscale": [
             [
              0,
              "#0d0887"
             ],
             [
              0.1111111111111111,
              "#46039f"
             ],
             [
              0.2222222222222222,
              "#7201a8"
             ],
             [
              0.3333333333333333,
              "#9c179e"
             ],
             [
              0.4444444444444444,
              "#bd3786"
             ],
             [
              0.5555555555555556,
              "#d8576b"
             ],
             [
              0.6666666666666666,
              "#ed7953"
             ],
             [
              0.7777777777777778,
              "#fb9f3a"
             ],
             [
              0.8888888888888888,
              "#fdca26"
             ],
             [
              1,
              "#f0f921"
             ]
            ],
            "type": "contour"
           }
          ],
          "contourcarpet": [
           {
            "colorbar": {
             "outlinewidth": 0,
             "ticks": ""
            },
            "type": "contourcarpet"
           }
          ],
          "heatmap": [
           {
            "colorbar": {
             "outlinewidth": 0,
             "ticks": ""
            },
            "colorscale": [
             [
              0,
              "#0d0887"
             ],
             [
              0.1111111111111111,
              "#46039f"
             ],
             [
              0.2222222222222222,
              "#7201a8"
             ],
             [
              0.3333333333333333,
              "#9c179e"
             ],
             [
              0.4444444444444444,
              "#bd3786"
             ],
             [
              0.5555555555555556,
              "#d8576b"
             ],
             [
              0.6666666666666666,
              "#ed7953"
             ],
             [
              0.7777777777777778,
              "#fb9f3a"
             ],
             [
              0.8888888888888888,
              "#fdca26"
             ],
             [
              1,
              "#f0f921"
             ]
            ],
            "type": "heatmap"
           }
          ],
          "heatmapgl": [
           {
            "colorbar": {
             "outlinewidth": 0,
             "ticks": ""
            },
            "colorscale": [
             [
              0,
              "#0d0887"
             ],
             [
              0.1111111111111111,
              "#46039f"
             ],
             [
              0.2222222222222222,
              "#7201a8"
             ],
             [
              0.3333333333333333,
              "#9c179e"
             ],
             [
              0.4444444444444444,
              "#bd3786"
             ],
             [
              0.5555555555555556,
              "#d8576b"
             ],
             [
              0.6666666666666666,
              "#ed7953"
             ],
             [
              0.7777777777777778,
              "#fb9f3a"
             ],
             [
              0.8888888888888888,
              "#fdca26"
             ],
             [
              1,
              "#f0f921"
             ]
            ],
            "type": "heatmapgl"
           }
          ],
          "histogram": [
           {
            "marker": {
             "colorbar": {
              "outlinewidth": 0,
              "ticks": ""
             }
            },
            "type": "histogram"
           }
          ],
          "histogram2d": [
           {
            "colorbar": {
             "outlinewidth": 0,
             "ticks": ""
            },
            "colorscale": [
             [
              0,
              "#0d0887"
             ],
             [
              0.1111111111111111,
              "#46039f"
             ],
             [
              0.2222222222222222,
              "#7201a8"
             ],
             [
              0.3333333333333333,
              "#9c179e"
             ],
             [
              0.4444444444444444,
              "#bd3786"
             ],
             [
              0.5555555555555556,
              "#d8576b"
             ],
             [
              0.6666666666666666,
              "#ed7953"
             ],
             [
              0.7777777777777778,
              "#fb9f3a"
             ],
             [
              0.8888888888888888,
              "#fdca26"
             ],
             [
              1,
              "#f0f921"
             ]
            ],
            "type": "histogram2d"
           }
          ],
          "histogram2dcontour": [
           {
            "colorbar": {
             "outlinewidth": 0,
             "ticks": ""
            },
            "colorscale": [
             [
              0,
              "#0d0887"
             ],
             [
              0.1111111111111111,
              "#46039f"
             ],
             [
              0.2222222222222222,
              "#7201a8"
             ],
             [
              0.3333333333333333,
              "#9c179e"
             ],
             [
              0.4444444444444444,
              "#bd3786"
             ],
             [
              0.5555555555555556,
              "#d8576b"
             ],
             [
              0.6666666666666666,
              "#ed7953"
             ],
             [
              0.7777777777777778,
              "#fb9f3a"
             ],
             [
              0.8888888888888888,
              "#fdca26"
             ],
             [
              1,
              "#f0f921"
             ]
            ],
            "type": "histogram2dcontour"
           }
          ],
          "mesh3d": [
           {
            "colorbar": {
             "outlinewidth": 0,
             "ticks": ""
            },
            "type": "mesh3d"
           }
          ],
          "parcoords": [
           {
            "line": {
             "colorbar": {
              "outlinewidth": 0,
              "ticks": ""
             }
            },
            "type": "parcoords"
           }
          ],
          "pie": [
           {
            "automargin": true,
            "type": "pie"
           }
          ],
          "scatter": [
           {
            "marker": {
             "colorbar": {
              "outlinewidth": 0,
              "ticks": ""
             }
            },
            "type": "scatter"
           }
          ],
          "scatter3d": [
           {
            "line": {
             "colorbar": {
              "outlinewidth": 0,
              "ticks": ""
             }
            },
            "marker": {
             "colorbar": {
              "outlinewidth": 0,
              "ticks": ""
             }
            },
            "type": "scatter3d"
           }
          ],
          "scattercarpet": [
           {
            "marker": {
             "colorbar": {
              "outlinewidth": 0,
              "ticks": ""
             }
            },
            "type": "scattercarpet"
           }
          ],
          "scattergeo": [
           {
            "marker": {
             "colorbar": {
              "outlinewidth": 0,
              "ticks": ""
             }
            },
            "type": "scattergeo"
           }
          ],
          "scattergl": [
           {
            "marker": {
             "colorbar": {
              "outlinewidth": 0,
              "ticks": ""
             }
            },
            "type": "scattergl"
           }
          ],
          "scattermapbox": [
           {
            "marker": {
             "colorbar": {
              "outlinewidth": 0,
              "ticks": ""
             }
            },
            "type": "scattermapbox"
           }
          ],
          "scatterpolar": [
           {
            "marker": {
             "colorbar": {
              "outlinewidth": 0,
              "ticks": ""
             }
            },
            "type": "scatterpolar"
           }
          ],
          "scatterpolargl": [
           {
            "marker": {
             "colorbar": {
              "outlinewidth": 0,
              "ticks": ""
             }
            },
            "type": "scatterpolargl"
           }
          ],
          "scatterternary": [
           {
            "marker": {
             "colorbar": {
              "outlinewidth": 0,
              "ticks": ""
             }
            },
            "type": "scatterternary"
           }
          ],
          "surface": [
           {
            "colorbar": {
             "outlinewidth": 0,
             "ticks": ""
            },
            "colorscale": [
             [
              0,
              "#0d0887"
             ],
             [
              0.1111111111111111,
              "#46039f"
             ],
             [
              0.2222222222222222,
              "#7201a8"
             ],
             [
              0.3333333333333333,
              "#9c179e"
             ],
             [
              0.4444444444444444,
              "#bd3786"
             ],
             [
              0.5555555555555556,
              "#d8576b"
             ],
             [
              0.6666666666666666,
              "#ed7953"
             ],
             [
              0.7777777777777778,
              "#fb9f3a"
             ],
             [
              0.8888888888888888,
              "#fdca26"
             ],
             [
              1,
              "#f0f921"
             ]
            ],
            "type": "surface"
           }
          ],
          "table": [
           {
            "cells": {
             "fill": {
              "color": "#EBF0F8"
             },
             "line": {
              "color": "white"
             }
            },
            "header": {
             "fill": {
              "color": "#C8D4E3"
             },
             "line": {
              "color": "white"
             }
            },
            "type": "table"
           }
          ]
         },
         "layout": {
          "annotationdefaults": {
           "arrowcolor": "#2a3f5f",
           "arrowhead": 0,
           "arrowwidth": 1
          },
          "coloraxis": {
           "colorbar": {
            "outlinewidth": 0,
            "ticks": ""
           }
          },
          "colorscale": {
           "diverging": [
            [
             0,
             "#8e0152"
            ],
            [
             0.1,
             "#c51b7d"
            ],
            [
             0.2,
             "#de77ae"
            ],
            [
             0.3,
             "#f1b6da"
            ],
            [
             0.4,
             "#fde0ef"
            ],
            [
             0.5,
             "#f7f7f7"
            ],
            [
             0.6,
             "#e6f5d0"
            ],
            [
             0.7,
             "#b8e186"
            ],
            [
             0.8,
             "#7fbc41"
            ],
            [
             0.9,
             "#4d9221"
            ],
            [
             1,
             "#276419"
            ]
           ],
           "sequential": [
            [
             0,
             "#0d0887"
            ],
            [
             0.1111111111111111,
             "#46039f"
            ],
            [
             0.2222222222222222,
             "#7201a8"
            ],
            [
             0.3333333333333333,
             "#9c179e"
            ],
            [
             0.4444444444444444,
             "#bd3786"
            ],
            [
             0.5555555555555556,
             "#d8576b"
            ],
            [
             0.6666666666666666,
             "#ed7953"
            ],
            [
             0.7777777777777778,
             "#fb9f3a"
            ],
            [
             0.8888888888888888,
             "#fdca26"
            ],
            [
             1,
             "#f0f921"
            ]
           ],
           "sequentialminus": [
            [
             0,
             "#0d0887"
            ],
            [
             0.1111111111111111,
             "#46039f"
            ],
            [
             0.2222222222222222,
             "#7201a8"
            ],
            [
             0.3333333333333333,
             "#9c179e"
            ],
            [
             0.4444444444444444,
             "#bd3786"
            ],
            [
             0.5555555555555556,
             "#d8576b"
            ],
            [
             0.6666666666666666,
             "#ed7953"
            ],
            [
             0.7777777777777778,
             "#fb9f3a"
            ],
            [
             0.8888888888888888,
             "#fdca26"
            ],
            [
             1,
             "#f0f921"
            ]
           ]
          },
          "colorway": [
           "#636efa",
           "#EF553B",
           "#00cc96",
           "#ab63fa",
           "#FFA15A",
           "#19d3f3",
           "#FF6692",
           "#B6E880",
           "#FF97FF",
           "#FECB52"
          ],
          "font": {
           "color": "#2a3f5f"
          },
          "geo": {
           "bgcolor": "white",
           "lakecolor": "white",
           "landcolor": "#E5ECF6",
           "showlakes": true,
           "showland": true,
           "subunitcolor": "white"
          },
          "hoverlabel": {
           "align": "left"
          },
          "hovermode": "closest",
          "mapbox": {
           "style": "light"
          },
          "paper_bgcolor": "white",
          "plot_bgcolor": "#E5ECF6",
          "polar": {
           "angularaxis": {
            "gridcolor": "white",
            "linecolor": "white",
            "ticks": ""
           },
           "bgcolor": "#E5ECF6",
           "radialaxis": {
            "gridcolor": "white",
            "linecolor": "white",
            "ticks": ""
           }
          },
          "scene": {
           "xaxis": {
            "backgroundcolor": "#E5ECF6",
            "gridcolor": "white",
            "gridwidth": 2,
            "linecolor": "white",
            "showbackground": true,
            "ticks": "",
            "zerolinecolor": "white"
           },
           "yaxis": {
            "backgroundcolor": "#E5ECF6",
            "gridcolor": "white",
            "gridwidth": 2,
            "linecolor": "white",
            "showbackground": true,
            "ticks": "",
            "zerolinecolor": "white"
           },
           "zaxis": {
            "backgroundcolor": "#E5ECF6",
            "gridcolor": "white",
            "gridwidth": 2,
            "linecolor": "white",
            "showbackground": true,
            "ticks": "",
            "zerolinecolor": "white"
           }
          },
          "shapedefaults": {
           "line": {
            "color": "#2a3f5f"
           }
          },
          "ternary": {
           "aaxis": {
            "gridcolor": "white",
            "linecolor": "white",
            "ticks": ""
           },
           "baxis": {
            "gridcolor": "white",
            "linecolor": "white",
            "ticks": ""
           },
           "bgcolor": "#E5ECF6",
           "caxis": {
            "gridcolor": "white",
            "linecolor": "white",
            "ticks": ""
           }
          },
          "title": {
           "x": 0.05
          },
          "xaxis": {
           "automargin": true,
           "gridcolor": "white",
           "linecolor": "white",
           "ticks": "",
           "title": {
            "standoff": 15
           },
           "zerolinecolor": "white",
           "zerolinewidth": 2
          },
          "yaxis": {
           "automargin": true,
           "gridcolor": "white",
           "linecolor": "white",
           "ticks": "",
           "title": {
            "standoff": 15
           },
           "zerolinecolor": "white",
           "zerolinewidth": 2
          }
         }
        },
        "title": {
         "font": {
          "color": "#4D5663"
         }
        },
        "xaxis": {
         "anchor": "y",
         "domain": [
          0,
          0.2125
         ],
         "gridcolor": "#E1E5ED",
         "showgrid": false,
         "tickfont": {
          "color": "#4D5663"
         },
         "title": {
          "font": {
           "color": "#4D5663"
          },
          "text": ""
         },
         "zerolinecolor": "#E1E5ED"
        },
        "xaxis10": {
         "anchor": "y10",
         "domain": [
          0.2625,
          0.475
         ],
         "gridcolor": "#E1E5ED",
         "showgrid": false,
         "tickfont": {
          "color": "#4D5663"
         },
         "title": {
          "font": {
           "color": "#4D5663"
          },
          "text": ""
         },
         "zerolinecolor": "#E1E5ED"
        },
        "xaxis11": {
         "anchor": "y11",
         "domain": [
          0.525,
          0.7375
         ],
         "gridcolor": "#E1E5ED",
         "showgrid": false,
         "tickfont": {
          "color": "#4D5663"
         },
         "title": {
          "font": {
           "color": "#4D5663"
          },
          "text": ""
         },
         "zerolinecolor": "#E1E5ED"
        },
        "xaxis12": {
         "anchor": "y12",
         "domain": [
          0.7875,
          1
         ],
         "gridcolor": "#E1E5ED",
         "showgrid": false,
         "tickfont": {
          "color": "#4D5663"
         },
         "title": {
          "font": {
           "color": "#4D5663"
          },
          "text": ""
         },
         "zerolinecolor": "#E1E5ED"
        },
        "xaxis13": {
         "anchor": "y13",
         "domain": [
          0,
          0.2125
         ],
         "gridcolor": "#E1E5ED",
         "showgrid": false,
         "tickfont": {
          "color": "#4D5663"
         },
         "title": {
          "font": {
           "color": "#4D5663"
          },
          "text": ""
         },
         "zerolinecolor": "#E1E5ED"
        },
        "xaxis14": {
         "anchor": "y14",
         "domain": [
          0.2625,
          0.475
         ],
         "gridcolor": "#E1E5ED",
         "showgrid": false,
         "tickfont": {
          "color": "#4D5663"
         },
         "title": {
          "font": {
           "color": "#4D5663"
          },
          "text": ""
         },
         "zerolinecolor": "#E1E5ED"
        },
        "xaxis15": {
         "anchor": "y15",
         "domain": [
          0.525,
          0.7375
         ],
         "gridcolor": "#E1E5ED",
         "showgrid": false,
         "tickfont": {
          "color": "#4D5663"
         },
         "title": {
          "font": {
           "color": "#4D5663"
          },
          "text": ""
         },
         "zerolinecolor": "#E1E5ED"
        },
        "xaxis16": {
         "anchor": "y16",
         "domain": [
          0.7875,
          1
         ],
         "gridcolor": "#E1E5ED",
         "showgrid": false,
         "tickfont": {
          "color": "#4D5663"
         },
         "title": {
          "font": {
           "color": "#4D5663"
          },
          "text": ""
         },
         "zerolinecolor": "#E1E5ED"
        },
        "xaxis2": {
         "anchor": "y2",
         "domain": [
          0.2625,
          0.475
         ],
         "gridcolor": "#E1E5ED",
         "showgrid": false,
         "tickfont": {
          "color": "#4D5663"
         },
         "title": {
          "font": {
           "color": "#4D5663"
          },
          "text": ""
         },
         "zerolinecolor": "#E1E5ED"
        },
        "xaxis3": {
         "anchor": "y3",
         "domain": [
          0.525,
          0.7375
         ],
         "gridcolor": "#E1E5ED",
         "showgrid": false,
         "tickfont": {
          "color": "#4D5663"
         },
         "title": {
          "font": {
           "color": "#4D5663"
          },
          "text": ""
         },
         "zerolinecolor": "#E1E5ED"
        },
        "xaxis4": {
         "anchor": "y4",
         "domain": [
          0.7875,
          1
         ],
         "gridcolor": "#E1E5ED",
         "showgrid": false,
         "tickfont": {
          "color": "#4D5663"
         },
         "title": {
          "font": {
           "color": "#4D5663"
          },
          "text": ""
         },
         "zerolinecolor": "#E1E5ED"
        },
        "xaxis5": {
         "anchor": "y5",
         "domain": [
          0,
          0.2125
         ],
         "gridcolor": "#E1E5ED",
         "showgrid": false,
         "tickfont": {
          "color": "#4D5663"
         },
         "title": {
          "font": {
           "color": "#4D5663"
          },
          "text": ""
         },
         "zerolinecolor": "#E1E5ED"
        },
        "xaxis6": {
         "anchor": "y6",
         "domain": [
          0.2625,
          0.475
         ],
         "gridcolor": "#E1E5ED",
         "showgrid": false,
         "tickfont": {
          "color": "#4D5663"
         },
         "title": {
          "font": {
           "color": "#4D5663"
          },
          "text": ""
         },
         "zerolinecolor": "#E1E5ED"
        },
        "xaxis7": {
         "anchor": "y7",
         "domain": [
          0.525,
          0.7375
         ],
         "gridcolor": "#E1E5ED",
         "showgrid": false,
         "tickfont": {
          "color": "#4D5663"
         },
         "title": {
          "font": {
           "color": "#4D5663"
          },
          "text": ""
         },
         "zerolinecolor": "#E1E5ED"
        },
        "xaxis8": {
         "anchor": "y8",
         "domain": [
          0.7875,
          1
         ],
         "gridcolor": "#E1E5ED",
         "showgrid": false,
         "tickfont": {
          "color": "#4D5663"
         },
         "title": {
          "font": {
           "color": "#4D5663"
          },
          "text": ""
         },
         "zerolinecolor": "#E1E5ED"
        },
        "xaxis9": {
         "anchor": "y9",
         "domain": [
          0,
          0.2125
         ],
         "gridcolor": "#E1E5ED",
         "showgrid": false,
         "tickfont": {
          "color": "#4D5663"
         },
         "title": {
          "font": {
           "color": "#4D5663"
          },
          "text": ""
         },
         "zerolinecolor": "#E1E5ED"
        },
        "yaxis": {
         "anchor": "x",
         "domain": [
          0.8025,
          1
         ],
         "gridcolor": "#E1E5ED",
         "showgrid": false,
         "tickfont": {
          "color": "#4D5663"
         },
         "title": {
          "font": {
           "color": "#4D5663"
          },
          "text": ""
         },
         "zerolinecolor": "#E1E5ED"
        },
        "yaxis10": {
         "anchor": "x10",
         "domain": [
          0.2675,
          0.465
         ],
         "gridcolor": "#E1E5ED",
         "showgrid": false,
         "tickfont": {
          "color": "#4D5663"
         },
         "title": {
          "font": {
           "color": "#4D5663"
          },
          "text": ""
         },
         "zerolinecolor": "#E1E5ED"
        },
        "yaxis11": {
         "anchor": "x11",
         "domain": [
          0.2675,
          0.465
         ],
         "gridcolor": "#E1E5ED",
         "showgrid": false,
         "tickfont": {
          "color": "#4D5663"
         },
         "title": {
          "font": {
           "color": "#4D5663"
          },
          "text": ""
         },
         "zerolinecolor": "#E1E5ED"
        },
        "yaxis12": {
         "anchor": "x12",
         "domain": [
          0.2675,
          0.465
         ],
         "gridcolor": "#E1E5ED",
         "showgrid": false,
         "tickfont": {
          "color": "#4D5663"
         },
         "title": {
          "font": {
           "color": "#4D5663"
          },
          "text": ""
         },
         "zerolinecolor": "#E1E5ED"
        },
        "yaxis13": {
         "anchor": "x13",
         "domain": [
          0,
          0.1975
         ],
         "gridcolor": "#E1E5ED",
         "showgrid": false,
         "tickfont": {
          "color": "#4D5663"
         },
         "title": {
          "font": {
           "color": "#4D5663"
          },
          "text": ""
         },
         "zerolinecolor": "#E1E5ED"
        },
        "yaxis14": {
         "anchor": "x14",
         "domain": [
          0,
          0.1975
         ],
         "gridcolor": "#E1E5ED",
         "showgrid": false,
         "tickfont": {
          "color": "#4D5663"
         },
         "title": {
          "font": {
           "color": "#4D5663"
          },
          "text": ""
         },
         "zerolinecolor": "#E1E5ED"
        },
        "yaxis15": {
         "anchor": "x15",
         "domain": [
          0,
          0.1975
         ],
         "gridcolor": "#E1E5ED",
         "showgrid": false,
         "tickfont": {
          "color": "#4D5663"
         },
         "title": {
          "font": {
           "color": "#4D5663"
          },
          "text": ""
         },
         "zerolinecolor": "#E1E5ED"
        },
        "yaxis16": {
         "anchor": "x16",
         "domain": [
          0,
          0.1975
         ],
         "gridcolor": "#E1E5ED",
         "showgrid": false,
         "tickfont": {
          "color": "#4D5663"
         },
         "title": {
          "font": {
           "color": "#4D5663"
          },
          "text": ""
         },
         "zerolinecolor": "#E1E5ED"
        },
        "yaxis2": {
         "anchor": "x2",
         "domain": [
          0.8025,
          1
         ],
         "gridcolor": "#E1E5ED",
         "showgrid": false,
         "tickfont": {
          "color": "#4D5663"
         },
         "title": {
          "font": {
           "color": "#4D5663"
          },
          "text": ""
         },
         "zerolinecolor": "#E1E5ED"
        },
        "yaxis3": {
         "anchor": "x3",
         "domain": [
          0.8025,
          1
         ],
         "gridcolor": "#E1E5ED",
         "showgrid": false,
         "tickfont": {
          "color": "#4D5663"
         },
         "title": {
          "font": {
           "color": "#4D5663"
          },
          "text": ""
         },
         "zerolinecolor": "#E1E5ED"
        },
        "yaxis4": {
         "anchor": "x4",
         "domain": [
          0.8025,
          1
         ],
         "gridcolor": "#E1E5ED",
         "showgrid": false,
         "tickfont": {
          "color": "#4D5663"
         },
         "title": {
          "font": {
           "color": "#4D5663"
          },
          "text": ""
         },
         "zerolinecolor": "#E1E5ED"
        },
        "yaxis5": {
         "anchor": "x5",
         "domain": [
          0.535,
          0.7325
         ],
         "gridcolor": "#E1E5ED",
         "showgrid": false,
         "tickfont": {
          "color": "#4D5663"
         },
         "title": {
          "font": {
           "color": "#4D5663"
          },
          "text": ""
         },
         "zerolinecolor": "#E1E5ED"
        },
        "yaxis6": {
         "anchor": "x6",
         "domain": [
          0.535,
          0.7325
         ],
         "gridcolor": "#E1E5ED",
         "showgrid": false,
         "tickfont": {
          "color": "#4D5663"
         },
         "title": {
          "font": {
           "color": "#4D5663"
          },
          "text": ""
         },
         "zerolinecolor": "#E1E5ED"
        },
        "yaxis7": {
         "anchor": "x7",
         "domain": [
          0.535,
          0.7325
         ],
         "gridcolor": "#E1E5ED",
         "showgrid": false,
         "tickfont": {
          "color": "#4D5663"
         },
         "title": {
          "font": {
           "color": "#4D5663"
          },
          "text": ""
         },
         "zerolinecolor": "#E1E5ED"
        },
        "yaxis8": {
         "anchor": "x8",
         "domain": [
          0.535,
          0.7325
         ],
         "gridcolor": "#E1E5ED",
         "showgrid": false,
         "tickfont": {
          "color": "#4D5663"
         },
         "title": {
          "font": {
           "color": "#4D5663"
          },
          "text": ""
         },
         "zerolinecolor": "#E1E5ED"
        },
        "yaxis9": {
         "anchor": "x9",
         "domain": [
          0.2675,
          0.465
         ],
         "gridcolor": "#E1E5ED",
         "showgrid": false,
         "tickfont": {
          "color": "#4D5663"
         },
         "title": {
          "font": {
           "color": "#4D5663"
          },
          "text": ""
         },
         "zerolinecolor": "#E1E5ED"
        }
       }
      },
      "text/html": [
       "<div>\n",
       "        \n",
       "        \n",
       "            <div id=\"e7fe3c48-de6d-43b5-a2b7-4aaa0e445e5f\" class=\"plotly-graph-div\" style=\"height:525px; width:100%;\"></div>\n",
       "            <script type=\"text/javascript\">\n",
       "                require([\"plotly\"], function(Plotly) {\n",
       "                    window.PLOTLYENV=window.PLOTLYENV || {};\n",
       "                    window.PLOTLYENV.BASE_URL='https://plot.ly';\n",
       "                    \n",
       "                if (document.getElementById(\"e7fe3c48-de6d-43b5-a2b7-4aaa0e445e5f\")) {\n",
       "                    Plotly.newPlot(\n",
       "                        'e7fe3c48-de6d-43b5-a2b7-4aaa0e445e5f',\n",
       "                        [{\"histfunc\": \"count\", \"histnorm\": \"\", \"marker\": {\"color\": \"rgba(255, 153, 51, 1.0)\", \"line\": {\"color\": \"#4D5663\", \"width\": 1.3}}, \"name\": \"A\", \"nbinsx\": 10, \"opacity\": 0.8, \"orientation\": \"v\", \"type\": \"histogram\", \"x\": [1.0568048367540321, -1.3498353277992474, -0.016590310967857964, 0.35660732790600963, 1.0193834962395287, 0.8491903166284471, -0.270898010060361, -0.392709340199791, -2.7680493355073525, -0.9598449509727272, 0.02486210535174598, -0.08209894073442042, 1.3004359980675626, -1.58538400423906, 0.0669781081316911, 0.640025802146375, -0.21302066961046895, -1.235796292702241, -0.1309253051050104, -0.31643267250308843, 0.03258708757811836, -0.3380255243770623, -0.22179719829268574, -0.46447982740594784, -0.7481879251469615, -1.8848112593418178, 1.091188842324186, -1.002344407821016, 0.3490115434488426, -1.0674123492812189, -0.6698990082688834, -0.5799795584411399, -0.06921656663627403, -1.6351975314526448, 0.7106115831459313, 1.194971214763005, 0.11625479261911345, -1.934252919633813, 0.11913041768822805, 0.11132345496649837, 1.389596749030748, -1.2171163369994655, 1.2045581848905342, 0.5820052642283193, -1.708114214802915, 1.506653156239142, -0.9254490674897976, 1.2409940264229145, 0.2074483106758396, -1.3596588313168947, -2.390481486655998, -1.4566179541064537, -0.1836022258305617, -0.21501553404228868, -0.29215975665065563, 1.6432342936542375, -0.07861297341559388, -2.19928517475691, 0.7440934149815865, -1.184472526598871, -1.2162389598474177, 0.1884059181021502, -1.5723531833999829, -1.3997371771754998, 1.1481860646913822, -0.9789763321605593, -1.9138376620999613, -0.6331452017050753, 0.7740822611022451, 0.5258410109353289, 0.819021535691631, -1.2739877143475504, -0.4999464290112291, -0.11030684358193382, 0.2888305237105291, -0.5203727627946619, 0.05106433226799674, -0.5982765768873508, 0.9655105887234117, 1.435008557832391, 0.4183410289076339, 1.7880526163669672, 0.3332612477805044, -0.46462131549385466, -0.7495203318644134, 0.8658306751167946, -0.7008970126949282, -1.2842726652184249, -0.4759677234328119, -1.215534764436904, -0.4894621529285363, 1.2034829395601145, -1.8424285969117682, -1.0479601268610481, 1.2913471557834049, -0.5675730197363626, 0.4706223082609923, 0.8438922504243296, 0.2755981536419486, -0.5314784299117727], \"xaxis\": \"x\", \"yaxis\": \"y\"}, {\"line\": {\"color\": \"rgba(128, 128, 128, 1.0)\", \"dash\": \"solid\", \"shape\": \"linear\", \"width\": 1.3}, \"marker\": {\"size\": 2, \"symbol\": \"circle\"}, \"mode\": \"markers\", \"name\": \"A\", \"text\": \"\", \"type\": \"scatter\", \"x\": [0.48107134908112026, -1.6795123804935181, -1.407520137520341, 0.6956647126875344, -0.8244186266256153, 0.4651753314936174, 1.3326443659961662, 0.6712892112247183, -0.03678809166099367, -0.37571841568415526, -1.0933104414806638, 1.0244520712000555, -1.6774374423985707, 0.27825921049731706, -0.10656048173528182, -0.16266515491632585, -1.477859361988607, 0.5755268284581758, -0.9848408514619815, 1.1337930138402854, -2.1093063248932107, 0.6732453387771199, 1.0304751255639024, 1.3442197800221123, -1.2994725083624141, 0.24770923969024355, 0.38001451435852873, 0.6510217733836621, -1.334809357106278, -0.32591102686090045, 0.33883289533284516, -0.6396342151768055, 0.962462618516548, -0.3296481883115337, 1.0539582266267544, -0.48849257687259584, -0.32932544514589285, -1.4021026631022075, 0.4399519109122479, 0.8165453632315621, 0.17029682658018525, -1.539884876142449, -0.5290558912633045, -0.8862205911488811, 1.503260759181969, 1.2904641364329443, 0.817464070671576, 0.25455108264994014, 0.6612696163441858, 0.6148495307606112, -0.2443472940420814, -0.1502214269589789, 0.29709144796356207, 0.26233398363187316, -1.3859941884922815, -0.45976975796464326, 0.17877088761322477, -1.7265360004559602, -0.2101124096705694, -2.1667428687019026, 0.18014866395562953, 0.17096478975414062, -0.6964272661332754, 1.3526202915153194, 0.8585059112481627, -0.472753727105893, 1.5100650061692027, 0.4439906420214673, -1.465584592157141, -0.8229300005118391, 1.5114509544733574, 0.5364040103244894, -0.6760154676033024, -0.12257777263745659, -0.028732704593448222, -1.6222251014678108, 1.2862804917367132, 0.15023697198365754, 1.6432990060257577, -0.9471220749054257, -0.9861439162556745, 0.9130666364117548, 0.1790282336824031, 1.6077357010516404, 1.203379636178235, -0.8228046441290212, -1.8235900825357745, -1.0936356335033228, -0.2686300201689464, 0.7704305152906291, 1.9938798698875142, 1.3775740544428223, -0.3965660112358336, -0.3414272326891216, -0.1138789943091023, -0.21589954976034614, 0.3075242917985286, 0.6432017039579504, 0.08825291761810869, 1.5816130906771417], \"xaxis\": \"x2\", \"y\": [1.0568048367540321, -1.3498353277992474, -0.016590310967857964, 0.35660732790600963, 1.0193834962395287, 0.8491903166284471, -0.270898010060361, -0.392709340199791, -2.7680493355073525, -0.9598449509727272, 0.02486210535174598, -0.08209894073442042, 1.3004359980675626, -1.58538400423906, 0.0669781081316911, 0.640025802146375, -0.21302066961046895, -1.235796292702241, -0.1309253051050104, -0.31643267250308843, 0.03258708757811836, -0.3380255243770623, -0.22179719829268574, -0.46447982740594784, -0.7481879251469615, -1.8848112593418178, 1.091188842324186, -1.002344407821016, 0.3490115434488426, -1.0674123492812189, -0.6698990082688834, -0.5799795584411399, -0.06921656663627403, -1.6351975314526448, 0.7106115831459313, 1.194971214763005, 0.11625479261911345, -1.934252919633813, 0.11913041768822805, 0.11132345496649837, 1.389596749030748, -1.2171163369994655, 1.2045581848905342, 0.5820052642283193, -1.708114214802915, 1.506653156239142, -0.9254490674897976, 1.2409940264229145, 0.2074483106758396, -1.3596588313168947, -2.390481486655998, -1.4566179541064537, -0.1836022258305617, -0.21501553404228868, -0.29215975665065563, 1.6432342936542375, -0.07861297341559388, -2.19928517475691, 0.7440934149815865, -1.184472526598871, -1.2162389598474177, 0.1884059181021502, -1.5723531833999829, -1.3997371771754998, 1.1481860646913822, -0.9789763321605593, -1.9138376620999613, -0.6331452017050753, 0.7740822611022451, 0.5258410109353289, 0.819021535691631, -1.2739877143475504, -0.4999464290112291, -0.11030684358193382, 0.2888305237105291, -0.5203727627946619, 0.05106433226799674, -0.5982765768873508, 0.9655105887234117, 1.435008557832391, 0.4183410289076339, 1.7880526163669672, 0.3332612477805044, -0.46462131549385466, -0.7495203318644134, 0.8658306751167946, -0.7008970126949282, -1.2842726652184249, -0.4759677234328119, -1.215534764436904, -0.4894621529285363, 1.2034829395601145, -1.8424285969117682, -1.0479601268610481, 1.2913471557834049, -0.5675730197363626, 0.4706223082609923, 0.8438922504243296, 0.2755981536419486, -0.5314784299117727], \"yaxis\": \"y2\"}, {\"line\": {\"color\": \"rgba(128, 128, 128, 1.0)\", \"dash\": \"solid\", \"shape\": \"linear\", \"width\": 1.3}, \"marker\": {\"size\": 2, \"symbol\": \"circle\"}, \"mode\": \"markers\", \"name\": \"A\", \"text\": \"\", \"type\": \"scatter\", \"x\": [-0.04832900612696817, -2.0552643470456307, 1.23401808345776, 1.7622048722279813, 0.36558461414403454, 1.5271193614857776, -0.11698965638849242, 0.550877172276358, -0.18563025943375833, 1.4046676703240801, -0.8923087515065036, -0.13497956516275023, 0.0710977571789828, 1.0614963310633692, 0.7192133147377471, -0.7730472669486539, -0.7735920559571068, 1.3688275969976738, 0.9978091168302472, -0.14855973087387733, 1.4389636472969352, 0.463317487552831, 0.4057962919525643, 1.2409096014807675, -1.7981095491668768, -0.9737923820099355, -0.35343715695543854, -1.8431487538919407, -0.9635654940207634, -1.1123087567053498, 0.2671661522206472, 1.1624384050292622, -0.1671491618727415, 0.09287564079951659, 0.7719803507484746, 0.25083532191382685, -1.2609727534308801, 2.3558529106906345, -0.44250445937162747, -0.7467504601879799, -0.7198816365344325, -0.0339315665844702, 0.5497512879724022, -0.3480524571619145, 1.3768723354357362, 1.2502034702732656, -0.4012274215203553, -0.2897737272678843, -1.0084326249052749, -0.041878491458556794, 0.44192348379906643, -0.7067919348103693, -2.0158581243719778, 1.519170754551979, -0.1602334895148967, -0.31987479518621237, -0.6341683758785682, -0.781009411884995, -0.2340528015742706, 1.156470066863848, 0.46127659902382545, 0.5105671736507841, -2.189845693455042, 0.4432675837308323, -1.1516814536026996, 1.330748998222132, -0.6477011655976501, -0.026451195793421024, 0.7009205597371548, -0.31398659371351423, -0.027173796204393034, 0.7491544167403303, -1.9744604698376598, 0.8608338555104487, -0.661737329113762, -0.5835026639312187, 0.37539850136357034, 1.8791397847625453, 2.6984625358394454, 0.9477096198568582, 1.4705140165414279, -0.010514932472564067, 1.276061278128099, 1.0617667814236433, -2.512910427219062, 1.339337758066956, -0.09495253544489847, 0.11448683196821172, -1.230759772499085, 1.1776767045274097, -0.39700160277569996, -0.2847822529590679, -1.2984210140560033, -1.697273398143285, -0.03374651544880042, -1.347737876485818, 0.9598283623694468, 0.27478388842535423, 0.2146777232449316, 0.1567832074653066], \"xaxis\": \"x3\", \"y\": [1.0568048367540321, -1.3498353277992474, -0.016590310967857964, 0.35660732790600963, 1.0193834962395287, 0.8491903166284471, -0.270898010060361, -0.392709340199791, -2.7680493355073525, -0.9598449509727272, 0.02486210535174598, -0.08209894073442042, 1.3004359980675626, -1.58538400423906, 0.0669781081316911, 0.640025802146375, -0.21302066961046895, -1.235796292702241, -0.1309253051050104, -0.31643267250308843, 0.03258708757811836, -0.3380255243770623, -0.22179719829268574, -0.46447982740594784, -0.7481879251469615, -1.8848112593418178, 1.091188842324186, -1.002344407821016, 0.3490115434488426, -1.0674123492812189, -0.6698990082688834, -0.5799795584411399, -0.06921656663627403, -1.6351975314526448, 0.7106115831459313, 1.194971214763005, 0.11625479261911345, -1.934252919633813, 0.11913041768822805, 0.11132345496649837, 1.389596749030748, -1.2171163369994655, 1.2045581848905342, 0.5820052642283193, -1.708114214802915, 1.506653156239142, -0.9254490674897976, 1.2409940264229145, 0.2074483106758396, -1.3596588313168947, -2.390481486655998, -1.4566179541064537, -0.1836022258305617, -0.21501553404228868, -0.29215975665065563, 1.6432342936542375, -0.07861297341559388, -2.19928517475691, 0.7440934149815865, -1.184472526598871, -1.2162389598474177, 0.1884059181021502, -1.5723531833999829, -1.3997371771754998, 1.1481860646913822, -0.9789763321605593, -1.9138376620999613, -0.6331452017050753, 0.7740822611022451, 0.5258410109353289, 0.819021535691631, -1.2739877143475504, -0.4999464290112291, -0.11030684358193382, 0.2888305237105291, -0.5203727627946619, 0.05106433226799674, -0.5982765768873508, 0.9655105887234117, 1.435008557832391, 0.4183410289076339, 1.7880526163669672, 0.3332612477805044, -0.46462131549385466, -0.7495203318644134, 0.8658306751167946, -0.7008970126949282, -1.2842726652184249, -0.4759677234328119, -1.215534764436904, -0.4894621529285363, 1.2034829395601145, -1.8424285969117682, -1.0479601268610481, 1.2913471557834049, -0.5675730197363626, 0.4706223082609923, 0.8438922504243296, 0.2755981536419486, -0.5314784299117727], \"yaxis\": \"y3\"}, {\"line\": {\"color\": \"rgba(128, 128, 128, 1.0)\", \"dash\": \"solid\", \"shape\": \"linear\", \"width\": 1.3}, \"marker\": {\"size\": 2, \"symbol\": \"circle\"}, \"mode\": \"markers\", \"name\": \"A\", \"text\": \"\", \"type\": \"scatter\", \"x\": [-0.2877134611778512, -0.415408231157268, -0.6731520956489023, 0.11699835543967516, 0.46108847414264864, -2.075749395948886, 0.8134228721343691, -0.4171307815190678, 1.0482344785197288, -0.5629315106277006, 1.4045304971214088, -1.0036668984369883, -0.9863531301805152, -0.25807014173809195, 0.006645526873550916, -0.3653241514796089, 1.4836009543157784, 1.440594840565873, -0.4683992654901319, 1.0598744136647218, 0.44542094220103995, -1.3036291372168698, 0.4330958917310685, 1.098880423945254, 0.7912876255644647, -0.5153633833927447, 0.34099595343274336, 0.8289978197175643, 1.2860921268160947, 0.3368732252553157, -0.7886462598062345, -0.20660566142886636, -2.0332644633856414, -0.45084749186519113, 1.5395248206983076, 1.033488658632085, 0.4770679157842925, 1.5196634218257068, -1.2454550882900453, -0.49410816685358944, -1.9660433649871147, 0.2610976675087106, -1.3363618123521568, -0.8672949069980124, -1.358341898024915, 0.0985918064728073, 0.10822160952696296, -1.7743962812944087, -0.34752270013412295, -1.4942403930610262, 1.1235033870989883, 1.0245166435319117, -0.3864490739769507, -1.3471165599982078, 0.3706148647365652, -0.5162107363096655, 0.9760832195066462, -0.15633400980662576, -0.496568500607371, -0.5439552377990234, -0.8833587494428198, -0.38500838562199147, -0.34059551833802226, 2.555474453517577, -0.5489839462842704, 0.23018097576502303, -0.002817578108877567, -1.953011296752301, -0.6357711373245285, -1.1219490175131321, 0.07138034873712855, 0.5236003404531173, 0.932465243848728, -1.231077256495407, -0.1937006848204315, 1.4592991862128464, 1.546286129842861, -0.19601189357771362, 0.5391848728347883, -0.1427679427449153, 0.1805286690674597, 1.442595958836891, -0.9600127241696688, -0.4762769319570404, 0.5771531798071556, 1.2941334448093476, -1.0773538097917301, 0.47556825223577, -0.9752553106665932, -1.032965092659648, -1.1155748598027806, 0.25668015767886654, -0.8814739191660805, -0.22082829609725307, -1.3489726852465749, -0.5176821631863701, 0.9882380031744157, 0.24039272505477224, -0.21586922453230434, 0.2785582142140259], \"xaxis\": \"x4\", \"y\": [1.0568048367540321, -1.3498353277992474, -0.016590310967857964, 0.35660732790600963, 1.0193834962395287, 0.8491903166284471, -0.270898010060361, -0.392709340199791, -2.7680493355073525, -0.9598449509727272, 0.02486210535174598, -0.08209894073442042, 1.3004359980675626, -1.58538400423906, 0.0669781081316911, 0.640025802146375, -0.21302066961046895, -1.235796292702241, -0.1309253051050104, -0.31643267250308843, 0.03258708757811836, -0.3380255243770623, -0.22179719829268574, -0.46447982740594784, -0.7481879251469615, -1.8848112593418178, 1.091188842324186, -1.002344407821016, 0.3490115434488426, -1.0674123492812189, -0.6698990082688834, -0.5799795584411399, -0.06921656663627403, -1.6351975314526448, 0.7106115831459313, 1.194971214763005, 0.11625479261911345, -1.934252919633813, 0.11913041768822805, 0.11132345496649837, 1.389596749030748, -1.2171163369994655, 1.2045581848905342, 0.5820052642283193, -1.708114214802915, 1.506653156239142, -0.9254490674897976, 1.2409940264229145, 0.2074483106758396, -1.3596588313168947, -2.390481486655998, -1.4566179541064537, -0.1836022258305617, -0.21501553404228868, -0.29215975665065563, 1.6432342936542375, -0.07861297341559388, -2.19928517475691, 0.7440934149815865, -1.184472526598871, -1.2162389598474177, 0.1884059181021502, -1.5723531833999829, -1.3997371771754998, 1.1481860646913822, -0.9789763321605593, -1.9138376620999613, -0.6331452017050753, 0.7740822611022451, 0.5258410109353289, 0.819021535691631, -1.2739877143475504, -0.4999464290112291, -0.11030684358193382, 0.2888305237105291, -0.5203727627946619, 0.05106433226799674, -0.5982765768873508, 0.9655105887234117, 1.435008557832391, 0.4183410289076339, 1.7880526163669672, 0.3332612477805044, -0.46462131549385466, -0.7495203318644134, 0.8658306751167946, -0.7008970126949282, -1.2842726652184249, -0.4759677234328119, -1.215534764436904, -0.4894621529285363, 1.2034829395601145, -1.8424285969117682, -1.0479601268610481, 1.2913471557834049, -0.5675730197363626, 0.4706223082609923, 0.8438922504243296, 0.2755981536419486, -0.5314784299117727], \"yaxis\": \"y4\"}, {\"line\": {\"color\": \"rgba(128, 128, 128, 1.0)\", \"dash\": \"solid\", \"shape\": \"linear\", \"width\": 1.3}, \"marker\": {\"size\": 2, \"symbol\": \"circle\"}, \"mode\": \"markers\", \"name\": \"B\", \"text\": \"\", \"type\": \"scatter\", \"x\": [1.0568048367540321, -1.3498353277992474, -0.016590310967857964, 0.35660732790600963, 1.0193834962395287, 0.8491903166284471, -0.270898010060361, -0.392709340199791, -2.7680493355073525, -0.9598449509727272, 0.02486210535174598, -0.08209894073442042, 1.3004359980675626, -1.58538400423906, 0.0669781081316911, 0.640025802146375, -0.21302066961046895, -1.235796292702241, -0.1309253051050104, -0.31643267250308843, 0.03258708757811836, -0.3380255243770623, -0.22179719829268574, -0.46447982740594784, -0.7481879251469615, -1.8848112593418178, 1.091188842324186, -1.002344407821016, 0.3490115434488426, -1.0674123492812189, -0.6698990082688834, -0.5799795584411399, -0.06921656663627403, -1.6351975314526448, 0.7106115831459313, 1.194971214763005, 0.11625479261911345, -1.934252919633813, 0.11913041768822805, 0.11132345496649837, 1.389596749030748, -1.2171163369994655, 1.2045581848905342, 0.5820052642283193, -1.708114214802915, 1.506653156239142, -0.9254490674897976, 1.2409940264229145, 0.2074483106758396, -1.3596588313168947, -2.390481486655998, -1.4566179541064537, -0.1836022258305617, -0.21501553404228868, -0.29215975665065563, 1.6432342936542375, -0.07861297341559388, -2.19928517475691, 0.7440934149815865, -1.184472526598871, -1.2162389598474177, 0.1884059181021502, -1.5723531833999829, -1.3997371771754998, 1.1481860646913822, -0.9789763321605593, -1.9138376620999613, -0.6331452017050753, 0.7740822611022451, 0.5258410109353289, 0.819021535691631, -1.2739877143475504, -0.4999464290112291, -0.11030684358193382, 0.2888305237105291, -0.5203727627946619, 0.05106433226799674, -0.5982765768873508, 0.9655105887234117, 1.435008557832391, 0.4183410289076339, 1.7880526163669672, 0.3332612477805044, -0.46462131549385466, -0.7495203318644134, 0.8658306751167946, -0.7008970126949282, -1.2842726652184249, -0.4759677234328119, -1.215534764436904, -0.4894621529285363, 1.2034829395601145, -1.8424285969117682, -1.0479601268610481, 1.2913471557834049, -0.5675730197363626, 0.4706223082609923, 0.8438922504243296, 0.2755981536419486, -0.5314784299117727], \"xaxis\": \"x5\", \"y\": [0.48107134908112026, -1.6795123804935181, -1.407520137520341, 0.6956647126875344, -0.8244186266256153, 0.4651753314936174, 1.3326443659961662, 0.6712892112247183, -0.03678809166099367, -0.37571841568415526, -1.0933104414806638, 1.0244520712000555, -1.6774374423985707, 0.27825921049731706, -0.10656048173528182, -0.16266515491632585, -1.477859361988607, 0.5755268284581758, -0.9848408514619815, 1.1337930138402854, -2.1093063248932107, 0.6732453387771199, 1.0304751255639024, 1.3442197800221123, -1.2994725083624141, 0.24770923969024355, 0.38001451435852873, 0.6510217733836621, -1.334809357106278, -0.32591102686090045, 0.33883289533284516, -0.6396342151768055, 0.962462618516548, -0.3296481883115337, 1.0539582266267544, -0.48849257687259584, -0.32932544514589285, -1.4021026631022075, 0.4399519109122479, 0.8165453632315621, 0.17029682658018525, -1.539884876142449, -0.5290558912633045, -0.8862205911488811, 1.503260759181969, 1.2904641364329443, 0.817464070671576, 0.25455108264994014, 0.6612696163441858, 0.6148495307606112, -0.2443472940420814, -0.1502214269589789, 0.29709144796356207, 0.26233398363187316, -1.3859941884922815, -0.45976975796464326, 0.17877088761322477, -1.7265360004559602, -0.2101124096705694, -2.1667428687019026, 0.18014866395562953, 0.17096478975414062, -0.6964272661332754, 1.3526202915153194, 0.8585059112481627, -0.472753727105893, 1.5100650061692027, 0.4439906420214673, -1.465584592157141, -0.8229300005118391, 1.5114509544733574, 0.5364040103244894, -0.6760154676033024, -0.12257777263745659, -0.028732704593448222, -1.6222251014678108, 1.2862804917367132, 0.15023697198365754, 1.6432990060257577, -0.9471220749054257, -0.9861439162556745, 0.9130666364117548, 0.1790282336824031, 1.6077357010516404, 1.203379636178235, -0.8228046441290212, -1.8235900825357745, -1.0936356335033228, -0.2686300201689464, 0.7704305152906291, 1.9938798698875142, 1.3775740544428223, -0.3965660112358336, -0.3414272326891216, -0.1138789943091023, -0.21589954976034614, 0.3075242917985286, 0.6432017039579504, 0.08825291761810869, 1.5816130906771417], \"yaxis\": \"y5\"}, {\"histfunc\": \"count\", \"histnorm\": \"\", \"marker\": {\"color\": \"rgba(55, 128, 191, 1.0)\", \"line\": {\"color\": \"#4D5663\", \"width\": 1.3}}, \"name\": \"B\", \"nbinsx\": 10, \"opacity\": 0.8, \"orientation\": \"v\", \"type\": \"histogram\", \"x\": [0.48107134908112026, -1.6795123804935181, -1.407520137520341, 0.6956647126875344, -0.8244186266256153, 0.4651753314936174, 1.3326443659961662, 0.6712892112247183, -0.03678809166099367, -0.37571841568415526, -1.0933104414806638, 1.0244520712000555, -1.6774374423985707, 0.27825921049731706, -0.10656048173528182, -0.16266515491632585, -1.477859361988607, 0.5755268284581758, -0.9848408514619815, 1.1337930138402854, -2.1093063248932107, 0.6732453387771199, 1.0304751255639024, 1.3442197800221123, -1.2994725083624141, 0.24770923969024355, 0.38001451435852873, 0.6510217733836621, -1.334809357106278, -0.32591102686090045, 0.33883289533284516, -0.6396342151768055, 0.962462618516548, -0.3296481883115337, 1.0539582266267544, -0.48849257687259584, -0.32932544514589285, -1.4021026631022075, 0.4399519109122479, 0.8165453632315621, 0.17029682658018525, -1.539884876142449, -0.5290558912633045, -0.8862205911488811, 1.503260759181969, 1.2904641364329443, 0.817464070671576, 0.25455108264994014, 0.6612696163441858, 0.6148495307606112, -0.2443472940420814, -0.1502214269589789, 0.29709144796356207, 0.26233398363187316, -1.3859941884922815, -0.45976975796464326, 0.17877088761322477, -1.7265360004559602, -0.2101124096705694, -2.1667428687019026, 0.18014866395562953, 0.17096478975414062, -0.6964272661332754, 1.3526202915153194, 0.8585059112481627, -0.472753727105893, 1.5100650061692027, 0.4439906420214673, -1.465584592157141, -0.8229300005118391, 1.5114509544733574, 0.5364040103244894, -0.6760154676033024, -0.12257777263745659, -0.028732704593448222, -1.6222251014678108, 1.2862804917367132, 0.15023697198365754, 1.6432990060257577, -0.9471220749054257, -0.9861439162556745, 0.9130666364117548, 0.1790282336824031, 1.6077357010516404, 1.203379636178235, -0.8228046441290212, -1.8235900825357745, -1.0936356335033228, -0.2686300201689464, 0.7704305152906291, 1.9938798698875142, 1.3775740544428223, -0.3965660112358336, -0.3414272326891216, -0.1138789943091023, -0.21589954976034614, 0.3075242917985286, 0.6432017039579504, 0.08825291761810869, 1.5816130906771417], \"xaxis\": \"x6\", \"yaxis\": \"y6\"}, {\"line\": {\"color\": \"rgba(128, 128, 128, 1.0)\", \"dash\": \"solid\", \"shape\": \"linear\", \"width\": 1.3}, \"marker\": {\"size\": 2, \"symbol\": \"circle\"}, \"mode\": \"markers\", \"name\": \"B\", \"text\": \"\", \"type\": \"scatter\", \"x\": [-0.04832900612696817, -2.0552643470456307, 1.23401808345776, 1.7622048722279813, 0.36558461414403454, 1.5271193614857776, -0.11698965638849242, 0.550877172276358, -0.18563025943375833, 1.4046676703240801, -0.8923087515065036, -0.13497956516275023, 0.0710977571789828, 1.0614963310633692, 0.7192133147377471, -0.7730472669486539, -0.7735920559571068, 1.3688275969976738, 0.9978091168302472, -0.14855973087387733, 1.4389636472969352, 0.463317487552831, 0.4057962919525643, 1.2409096014807675, -1.7981095491668768, -0.9737923820099355, -0.35343715695543854, -1.8431487538919407, -0.9635654940207634, -1.1123087567053498, 0.2671661522206472, 1.1624384050292622, -0.1671491618727415, 0.09287564079951659, 0.7719803507484746, 0.25083532191382685, -1.2609727534308801, 2.3558529106906345, -0.44250445937162747, -0.7467504601879799, -0.7198816365344325, -0.0339315665844702, 0.5497512879724022, -0.3480524571619145, 1.3768723354357362, 1.2502034702732656, -0.4012274215203553, -0.2897737272678843, -1.0084326249052749, -0.041878491458556794, 0.44192348379906643, -0.7067919348103693, -2.0158581243719778, 1.519170754551979, -0.1602334895148967, -0.31987479518621237, -0.6341683758785682, -0.781009411884995, -0.2340528015742706, 1.156470066863848, 0.46127659902382545, 0.5105671736507841, -2.189845693455042, 0.4432675837308323, -1.1516814536026996, 1.330748998222132, -0.6477011655976501, -0.026451195793421024, 0.7009205597371548, -0.31398659371351423, -0.027173796204393034, 0.7491544167403303, -1.9744604698376598, 0.8608338555104487, -0.661737329113762, -0.5835026639312187, 0.37539850136357034, 1.8791397847625453, 2.6984625358394454, 0.9477096198568582, 1.4705140165414279, -0.010514932472564067, 1.276061278128099, 1.0617667814236433, -2.512910427219062, 1.339337758066956, -0.09495253544489847, 0.11448683196821172, -1.230759772499085, 1.1776767045274097, -0.39700160277569996, -0.2847822529590679, -1.2984210140560033, -1.697273398143285, -0.03374651544880042, -1.347737876485818, 0.9598283623694468, 0.27478388842535423, 0.2146777232449316, 0.1567832074653066], \"xaxis\": \"x7\", \"y\": [0.48107134908112026, -1.6795123804935181, -1.407520137520341, 0.6956647126875344, -0.8244186266256153, 0.4651753314936174, 1.3326443659961662, 0.6712892112247183, -0.03678809166099367, -0.37571841568415526, -1.0933104414806638, 1.0244520712000555, -1.6774374423985707, 0.27825921049731706, -0.10656048173528182, -0.16266515491632585, -1.477859361988607, 0.5755268284581758, -0.9848408514619815, 1.1337930138402854, -2.1093063248932107, 0.6732453387771199, 1.0304751255639024, 1.3442197800221123, -1.2994725083624141, 0.24770923969024355, 0.38001451435852873, 0.6510217733836621, -1.334809357106278, -0.32591102686090045, 0.33883289533284516, -0.6396342151768055, 0.962462618516548, -0.3296481883115337, 1.0539582266267544, -0.48849257687259584, -0.32932544514589285, -1.4021026631022075, 0.4399519109122479, 0.8165453632315621, 0.17029682658018525, -1.539884876142449, -0.5290558912633045, -0.8862205911488811, 1.503260759181969, 1.2904641364329443, 0.817464070671576, 0.25455108264994014, 0.6612696163441858, 0.6148495307606112, -0.2443472940420814, -0.1502214269589789, 0.29709144796356207, 0.26233398363187316, -1.3859941884922815, -0.45976975796464326, 0.17877088761322477, -1.7265360004559602, -0.2101124096705694, -2.1667428687019026, 0.18014866395562953, 0.17096478975414062, -0.6964272661332754, 1.3526202915153194, 0.8585059112481627, -0.472753727105893, 1.5100650061692027, 0.4439906420214673, -1.465584592157141, -0.8229300005118391, 1.5114509544733574, 0.5364040103244894, -0.6760154676033024, -0.12257777263745659, -0.028732704593448222, -1.6222251014678108, 1.2862804917367132, 0.15023697198365754, 1.6432990060257577, -0.9471220749054257, -0.9861439162556745, 0.9130666364117548, 0.1790282336824031, 1.6077357010516404, 1.203379636178235, -0.8228046441290212, -1.8235900825357745, -1.0936356335033228, -0.2686300201689464, 0.7704305152906291, 1.9938798698875142, 1.3775740544428223, -0.3965660112358336, -0.3414272326891216, -0.1138789943091023, -0.21589954976034614, 0.3075242917985286, 0.6432017039579504, 0.08825291761810869, 1.5816130906771417], \"yaxis\": \"y7\"}, {\"line\": {\"color\": \"rgba(128, 128, 128, 1.0)\", \"dash\": \"solid\", \"shape\": \"linear\", \"width\": 1.3}, \"marker\": {\"size\": 2, \"symbol\": \"circle\"}, \"mode\": \"markers\", \"name\": \"B\", \"text\": \"\", \"type\": \"scatter\", \"x\": [-0.2877134611778512, -0.415408231157268, -0.6731520956489023, 0.11699835543967516, 0.46108847414264864, -2.075749395948886, 0.8134228721343691, -0.4171307815190678, 1.0482344785197288, -0.5629315106277006, 1.4045304971214088, -1.0036668984369883, -0.9863531301805152, -0.25807014173809195, 0.006645526873550916, -0.3653241514796089, 1.4836009543157784, 1.440594840565873, -0.4683992654901319, 1.0598744136647218, 0.44542094220103995, -1.3036291372168698, 0.4330958917310685, 1.098880423945254, 0.7912876255644647, -0.5153633833927447, 0.34099595343274336, 0.8289978197175643, 1.2860921268160947, 0.3368732252553157, -0.7886462598062345, -0.20660566142886636, -2.0332644633856414, -0.45084749186519113, 1.5395248206983076, 1.033488658632085, 0.4770679157842925, 1.5196634218257068, -1.2454550882900453, -0.49410816685358944, -1.9660433649871147, 0.2610976675087106, -1.3363618123521568, -0.8672949069980124, -1.358341898024915, 0.0985918064728073, 0.10822160952696296, -1.7743962812944087, -0.34752270013412295, -1.4942403930610262, 1.1235033870989883, 1.0245166435319117, -0.3864490739769507, -1.3471165599982078, 0.3706148647365652, -0.5162107363096655, 0.9760832195066462, -0.15633400980662576, -0.496568500607371, -0.5439552377990234, -0.8833587494428198, -0.38500838562199147, -0.34059551833802226, 2.555474453517577, -0.5489839462842704, 0.23018097576502303, -0.002817578108877567, -1.953011296752301, -0.6357711373245285, -1.1219490175131321, 0.07138034873712855, 0.5236003404531173, 0.932465243848728, -1.231077256495407, -0.1937006848204315, 1.4592991862128464, 1.546286129842861, -0.19601189357771362, 0.5391848728347883, -0.1427679427449153, 0.1805286690674597, 1.442595958836891, -0.9600127241696688, -0.4762769319570404, 0.5771531798071556, 1.2941334448093476, -1.0773538097917301, 0.47556825223577, -0.9752553106665932, -1.032965092659648, -1.1155748598027806, 0.25668015767886654, -0.8814739191660805, -0.22082829609725307, -1.3489726852465749, -0.5176821631863701, 0.9882380031744157, 0.24039272505477224, -0.21586922453230434, 0.2785582142140259], \"xaxis\": \"x8\", \"y\": [0.48107134908112026, -1.6795123804935181, -1.407520137520341, 0.6956647126875344, -0.8244186266256153, 0.4651753314936174, 1.3326443659961662, 0.6712892112247183, -0.03678809166099367, -0.37571841568415526, -1.0933104414806638, 1.0244520712000555, -1.6774374423985707, 0.27825921049731706, -0.10656048173528182, -0.16266515491632585, -1.477859361988607, 0.5755268284581758, -0.9848408514619815, 1.1337930138402854, -2.1093063248932107, 0.6732453387771199, 1.0304751255639024, 1.3442197800221123, -1.2994725083624141, 0.24770923969024355, 0.38001451435852873, 0.6510217733836621, -1.334809357106278, -0.32591102686090045, 0.33883289533284516, -0.6396342151768055, 0.962462618516548, -0.3296481883115337, 1.0539582266267544, -0.48849257687259584, -0.32932544514589285, -1.4021026631022075, 0.4399519109122479, 0.8165453632315621, 0.17029682658018525, -1.539884876142449, -0.5290558912633045, -0.8862205911488811, 1.503260759181969, 1.2904641364329443, 0.817464070671576, 0.25455108264994014, 0.6612696163441858, 0.6148495307606112, -0.2443472940420814, -0.1502214269589789, 0.29709144796356207, 0.26233398363187316, -1.3859941884922815, -0.45976975796464326, 0.17877088761322477, -1.7265360004559602, -0.2101124096705694, -2.1667428687019026, 0.18014866395562953, 0.17096478975414062, -0.6964272661332754, 1.3526202915153194, 0.8585059112481627, -0.472753727105893, 1.5100650061692027, 0.4439906420214673, -1.465584592157141, -0.8229300005118391, 1.5114509544733574, 0.5364040103244894, -0.6760154676033024, -0.12257777263745659, -0.028732704593448222, -1.6222251014678108, 1.2862804917367132, 0.15023697198365754, 1.6432990060257577, -0.9471220749054257, -0.9861439162556745, 0.9130666364117548, 0.1790282336824031, 1.6077357010516404, 1.203379636178235, -0.8228046441290212, -1.8235900825357745, -1.0936356335033228, -0.2686300201689464, 0.7704305152906291, 1.9938798698875142, 1.3775740544428223, -0.3965660112358336, -0.3414272326891216, -0.1138789943091023, -0.21589954976034614, 0.3075242917985286, 0.6432017039579504, 0.08825291761810869, 1.5816130906771417], \"yaxis\": \"y8\"}, {\"line\": {\"color\": \"rgba(128, 128, 128, 1.0)\", \"dash\": \"solid\", \"shape\": \"linear\", \"width\": 1.3}, \"marker\": {\"size\": 2, \"symbol\": \"circle\"}, \"mode\": \"markers\", \"name\": \"C\", \"text\": \"\", \"type\": \"scatter\", \"x\": [1.0568048367540321, -1.3498353277992474, -0.016590310967857964, 0.35660732790600963, 1.0193834962395287, 0.8491903166284471, -0.270898010060361, -0.392709340199791, -2.7680493355073525, -0.9598449509727272, 0.02486210535174598, -0.08209894073442042, 1.3004359980675626, -1.58538400423906, 0.0669781081316911, 0.640025802146375, -0.21302066961046895, -1.235796292702241, -0.1309253051050104, -0.31643267250308843, 0.03258708757811836, -0.3380255243770623, -0.22179719829268574, -0.46447982740594784, -0.7481879251469615, -1.8848112593418178, 1.091188842324186, -1.002344407821016, 0.3490115434488426, -1.0674123492812189, -0.6698990082688834, -0.5799795584411399, -0.06921656663627403, -1.6351975314526448, 0.7106115831459313, 1.194971214763005, 0.11625479261911345, -1.934252919633813, 0.11913041768822805, 0.11132345496649837, 1.389596749030748, -1.2171163369994655, 1.2045581848905342, 0.5820052642283193, -1.708114214802915, 1.506653156239142, -0.9254490674897976, 1.2409940264229145, 0.2074483106758396, -1.3596588313168947, -2.390481486655998, -1.4566179541064537, -0.1836022258305617, -0.21501553404228868, -0.29215975665065563, 1.6432342936542375, -0.07861297341559388, -2.19928517475691, 0.7440934149815865, -1.184472526598871, -1.2162389598474177, 0.1884059181021502, -1.5723531833999829, -1.3997371771754998, 1.1481860646913822, -0.9789763321605593, -1.9138376620999613, -0.6331452017050753, 0.7740822611022451, 0.5258410109353289, 0.819021535691631, -1.2739877143475504, -0.4999464290112291, -0.11030684358193382, 0.2888305237105291, -0.5203727627946619, 0.05106433226799674, -0.5982765768873508, 0.9655105887234117, 1.435008557832391, 0.4183410289076339, 1.7880526163669672, 0.3332612477805044, -0.46462131549385466, -0.7495203318644134, 0.8658306751167946, -0.7008970126949282, -1.2842726652184249, -0.4759677234328119, -1.215534764436904, -0.4894621529285363, 1.2034829395601145, -1.8424285969117682, -1.0479601268610481, 1.2913471557834049, -0.5675730197363626, 0.4706223082609923, 0.8438922504243296, 0.2755981536419486, -0.5314784299117727], \"xaxis\": \"x9\", \"y\": [-0.04832900612696817, -2.0552643470456307, 1.23401808345776, 1.7622048722279813, 0.36558461414403454, 1.5271193614857776, -0.11698965638849242, 0.550877172276358, -0.18563025943375833, 1.4046676703240801, -0.8923087515065036, -0.13497956516275023, 0.0710977571789828, 1.0614963310633692, 0.7192133147377471, -0.7730472669486539, -0.7735920559571068, 1.3688275969976738, 0.9978091168302472, -0.14855973087387733, 1.4389636472969352, 0.463317487552831, 0.4057962919525643, 1.2409096014807675, -1.7981095491668768, -0.9737923820099355, -0.35343715695543854, -1.8431487538919407, -0.9635654940207634, -1.1123087567053498, 0.2671661522206472, 1.1624384050292622, -0.1671491618727415, 0.09287564079951659, 0.7719803507484746, 0.25083532191382685, -1.2609727534308801, 2.3558529106906345, -0.44250445937162747, -0.7467504601879799, -0.7198816365344325, -0.0339315665844702, 0.5497512879724022, -0.3480524571619145, 1.3768723354357362, 1.2502034702732656, -0.4012274215203553, -0.2897737272678843, -1.0084326249052749, -0.041878491458556794, 0.44192348379906643, -0.7067919348103693, -2.0158581243719778, 1.519170754551979, -0.1602334895148967, -0.31987479518621237, -0.6341683758785682, -0.781009411884995, -0.2340528015742706, 1.156470066863848, 0.46127659902382545, 0.5105671736507841, -2.189845693455042, 0.4432675837308323, -1.1516814536026996, 1.330748998222132, -0.6477011655976501, -0.026451195793421024, 0.7009205597371548, -0.31398659371351423, -0.027173796204393034, 0.7491544167403303, -1.9744604698376598, 0.8608338555104487, -0.661737329113762, -0.5835026639312187, 0.37539850136357034, 1.8791397847625453, 2.6984625358394454, 0.9477096198568582, 1.4705140165414279, -0.010514932472564067, 1.276061278128099, 1.0617667814236433, -2.512910427219062, 1.339337758066956, -0.09495253544489847, 0.11448683196821172, -1.230759772499085, 1.1776767045274097, -0.39700160277569996, -0.2847822529590679, -1.2984210140560033, -1.697273398143285, -0.03374651544880042, -1.347737876485818, 0.9598283623694468, 0.27478388842535423, 0.2146777232449316, 0.1567832074653066], \"yaxis\": \"y9\"}, {\"line\": {\"color\": \"rgba(128, 128, 128, 1.0)\", \"dash\": \"solid\", \"shape\": \"linear\", \"width\": 1.3}, \"marker\": {\"size\": 2, \"symbol\": \"circle\"}, \"mode\": \"markers\", \"name\": \"C\", \"text\": \"\", \"type\": \"scatter\", \"x\": [0.48107134908112026, -1.6795123804935181, -1.407520137520341, 0.6956647126875344, -0.8244186266256153, 0.4651753314936174, 1.3326443659961662, 0.6712892112247183, -0.03678809166099367, -0.37571841568415526, -1.0933104414806638, 1.0244520712000555, -1.6774374423985707, 0.27825921049731706, -0.10656048173528182, -0.16266515491632585, -1.477859361988607, 0.5755268284581758, -0.9848408514619815, 1.1337930138402854, -2.1093063248932107, 0.6732453387771199, 1.0304751255639024, 1.3442197800221123, -1.2994725083624141, 0.24770923969024355, 0.38001451435852873, 0.6510217733836621, -1.334809357106278, -0.32591102686090045, 0.33883289533284516, -0.6396342151768055, 0.962462618516548, -0.3296481883115337, 1.0539582266267544, -0.48849257687259584, -0.32932544514589285, -1.4021026631022075, 0.4399519109122479, 0.8165453632315621, 0.17029682658018525, -1.539884876142449, -0.5290558912633045, -0.8862205911488811, 1.503260759181969, 1.2904641364329443, 0.817464070671576, 0.25455108264994014, 0.6612696163441858, 0.6148495307606112, -0.2443472940420814, -0.1502214269589789, 0.29709144796356207, 0.26233398363187316, -1.3859941884922815, -0.45976975796464326, 0.17877088761322477, -1.7265360004559602, -0.2101124096705694, -2.1667428687019026, 0.18014866395562953, 0.17096478975414062, -0.6964272661332754, 1.3526202915153194, 0.8585059112481627, -0.472753727105893, 1.5100650061692027, 0.4439906420214673, -1.465584592157141, -0.8229300005118391, 1.5114509544733574, 0.5364040103244894, -0.6760154676033024, -0.12257777263745659, -0.028732704593448222, -1.6222251014678108, 1.2862804917367132, 0.15023697198365754, 1.6432990060257577, -0.9471220749054257, -0.9861439162556745, 0.9130666364117548, 0.1790282336824031, 1.6077357010516404, 1.203379636178235, -0.8228046441290212, -1.8235900825357745, -1.0936356335033228, -0.2686300201689464, 0.7704305152906291, 1.9938798698875142, 1.3775740544428223, -0.3965660112358336, -0.3414272326891216, -0.1138789943091023, -0.21589954976034614, 0.3075242917985286, 0.6432017039579504, 0.08825291761810869, 1.5816130906771417], \"xaxis\": \"x10\", \"y\": [-0.04832900612696817, -2.0552643470456307, 1.23401808345776, 1.7622048722279813, 0.36558461414403454, 1.5271193614857776, -0.11698965638849242, 0.550877172276358, -0.18563025943375833, 1.4046676703240801, -0.8923087515065036, -0.13497956516275023, 0.0710977571789828, 1.0614963310633692, 0.7192133147377471, -0.7730472669486539, -0.7735920559571068, 1.3688275969976738, 0.9978091168302472, -0.14855973087387733, 1.4389636472969352, 0.463317487552831, 0.4057962919525643, 1.2409096014807675, -1.7981095491668768, -0.9737923820099355, -0.35343715695543854, -1.8431487538919407, -0.9635654940207634, -1.1123087567053498, 0.2671661522206472, 1.1624384050292622, -0.1671491618727415, 0.09287564079951659, 0.7719803507484746, 0.25083532191382685, -1.2609727534308801, 2.3558529106906345, -0.44250445937162747, -0.7467504601879799, -0.7198816365344325, -0.0339315665844702, 0.5497512879724022, -0.3480524571619145, 1.3768723354357362, 1.2502034702732656, -0.4012274215203553, -0.2897737272678843, -1.0084326249052749, -0.041878491458556794, 0.44192348379906643, -0.7067919348103693, -2.0158581243719778, 1.519170754551979, -0.1602334895148967, -0.31987479518621237, -0.6341683758785682, -0.781009411884995, -0.2340528015742706, 1.156470066863848, 0.46127659902382545, 0.5105671736507841, -2.189845693455042, 0.4432675837308323, -1.1516814536026996, 1.330748998222132, -0.6477011655976501, -0.026451195793421024, 0.7009205597371548, -0.31398659371351423, -0.027173796204393034, 0.7491544167403303, -1.9744604698376598, 0.8608338555104487, -0.661737329113762, -0.5835026639312187, 0.37539850136357034, 1.8791397847625453, 2.6984625358394454, 0.9477096198568582, 1.4705140165414279, -0.010514932472564067, 1.276061278128099, 1.0617667814236433, -2.512910427219062, 1.339337758066956, -0.09495253544489847, 0.11448683196821172, -1.230759772499085, 1.1776767045274097, -0.39700160277569996, -0.2847822529590679, -1.2984210140560033, -1.697273398143285, -0.03374651544880042, -1.347737876485818, 0.9598283623694468, 0.27478388842535423, 0.2146777232449316, 0.1567832074653066], \"yaxis\": \"y10\"}, {\"histfunc\": \"count\", \"histnorm\": \"\", \"marker\": {\"color\": \"rgba(50, 171, 96, 1.0)\", \"line\": {\"color\": \"#4D5663\", \"width\": 1.3}}, \"name\": \"C\", \"nbinsx\": 10, \"opacity\": 0.8, \"orientation\": \"v\", \"type\": \"histogram\", \"x\": [-0.04832900612696817, -2.0552643470456307, 1.23401808345776, 1.7622048722279813, 0.36558461414403454, 1.5271193614857776, -0.11698965638849242, 0.550877172276358, -0.18563025943375833, 1.4046676703240801, -0.8923087515065036, -0.13497956516275023, 0.0710977571789828, 1.0614963310633692, 0.7192133147377471, -0.7730472669486539, -0.7735920559571068, 1.3688275969976738, 0.9978091168302472, -0.14855973087387733, 1.4389636472969352, 0.463317487552831, 0.4057962919525643, 1.2409096014807675, -1.7981095491668768, -0.9737923820099355, -0.35343715695543854, -1.8431487538919407, -0.9635654940207634, -1.1123087567053498, 0.2671661522206472, 1.1624384050292622, -0.1671491618727415, 0.09287564079951659, 0.7719803507484746, 0.25083532191382685, -1.2609727534308801, 2.3558529106906345, -0.44250445937162747, -0.7467504601879799, -0.7198816365344325, -0.0339315665844702, 0.5497512879724022, -0.3480524571619145, 1.3768723354357362, 1.2502034702732656, -0.4012274215203553, -0.2897737272678843, -1.0084326249052749, -0.041878491458556794, 0.44192348379906643, -0.7067919348103693, -2.0158581243719778, 1.519170754551979, -0.1602334895148967, -0.31987479518621237, -0.6341683758785682, -0.781009411884995, -0.2340528015742706, 1.156470066863848, 0.46127659902382545, 0.5105671736507841, -2.189845693455042, 0.4432675837308323, -1.1516814536026996, 1.330748998222132, -0.6477011655976501, -0.026451195793421024, 0.7009205597371548, -0.31398659371351423, -0.027173796204393034, 0.7491544167403303, -1.9744604698376598, 0.8608338555104487, -0.661737329113762, -0.5835026639312187, 0.37539850136357034, 1.8791397847625453, 2.6984625358394454, 0.9477096198568582, 1.4705140165414279, -0.010514932472564067, 1.276061278128099, 1.0617667814236433, -2.512910427219062, 1.339337758066956, -0.09495253544489847, 0.11448683196821172, -1.230759772499085, 1.1776767045274097, -0.39700160277569996, -0.2847822529590679, -1.2984210140560033, -1.697273398143285, -0.03374651544880042, -1.347737876485818, 0.9598283623694468, 0.27478388842535423, 0.2146777232449316, 0.1567832074653066], \"xaxis\": \"x11\", \"yaxis\": \"y11\"}, {\"line\": {\"color\": \"rgba(128, 128, 128, 1.0)\", \"dash\": \"solid\", \"shape\": \"linear\", \"width\": 1.3}, \"marker\": {\"size\": 2, \"symbol\": \"circle\"}, \"mode\": \"markers\", \"name\": \"C\", \"text\": \"\", \"type\": \"scatter\", \"x\": [-0.2877134611778512, -0.415408231157268, -0.6731520956489023, 0.11699835543967516, 0.46108847414264864, -2.075749395948886, 0.8134228721343691, -0.4171307815190678, 1.0482344785197288, -0.5629315106277006, 1.4045304971214088, -1.0036668984369883, -0.9863531301805152, -0.25807014173809195, 0.006645526873550916, -0.3653241514796089, 1.4836009543157784, 1.440594840565873, -0.4683992654901319, 1.0598744136647218, 0.44542094220103995, -1.3036291372168698, 0.4330958917310685, 1.098880423945254, 0.7912876255644647, -0.5153633833927447, 0.34099595343274336, 0.8289978197175643, 1.2860921268160947, 0.3368732252553157, -0.7886462598062345, -0.20660566142886636, -2.0332644633856414, -0.45084749186519113, 1.5395248206983076, 1.033488658632085, 0.4770679157842925, 1.5196634218257068, -1.2454550882900453, -0.49410816685358944, -1.9660433649871147, 0.2610976675087106, -1.3363618123521568, -0.8672949069980124, -1.358341898024915, 0.0985918064728073, 0.10822160952696296, -1.7743962812944087, -0.34752270013412295, -1.4942403930610262, 1.1235033870989883, 1.0245166435319117, -0.3864490739769507, -1.3471165599982078, 0.3706148647365652, -0.5162107363096655, 0.9760832195066462, -0.15633400980662576, -0.496568500607371, -0.5439552377990234, -0.8833587494428198, -0.38500838562199147, -0.34059551833802226, 2.555474453517577, -0.5489839462842704, 0.23018097576502303, -0.002817578108877567, -1.953011296752301, -0.6357711373245285, -1.1219490175131321, 0.07138034873712855, 0.5236003404531173, 0.932465243848728, -1.231077256495407, -0.1937006848204315, 1.4592991862128464, 1.546286129842861, -0.19601189357771362, 0.5391848728347883, -0.1427679427449153, 0.1805286690674597, 1.442595958836891, -0.9600127241696688, -0.4762769319570404, 0.5771531798071556, 1.2941334448093476, -1.0773538097917301, 0.47556825223577, -0.9752553106665932, -1.032965092659648, -1.1155748598027806, 0.25668015767886654, -0.8814739191660805, -0.22082829609725307, -1.3489726852465749, -0.5176821631863701, 0.9882380031744157, 0.24039272505477224, -0.21586922453230434, 0.2785582142140259], \"xaxis\": \"x12\", \"y\": [-0.04832900612696817, -2.0552643470456307, 1.23401808345776, 1.7622048722279813, 0.36558461414403454, 1.5271193614857776, -0.11698965638849242, 0.550877172276358, -0.18563025943375833, 1.4046676703240801, -0.8923087515065036, -0.13497956516275023, 0.0710977571789828, 1.0614963310633692, 0.7192133147377471, -0.7730472669486539, -0.7735920559571068, 1.3688275969976738, 0.9978091168302472, -0.14855973087387733, 1.4389636472969352, 0.463317487552831, 0.4057962919525643, 1.2409096014807675, -1.7981095491668768, -0.9737923820099355, -0.35343715695543854, -1.8431487538919407, -0.9635654940207634, -1.1123087567053498, 0.2671661522206472, 1.1624384050292622, -0.1671491618727415, 0.09287564079951659, 0.7719803507484746, 0.25083532191382685, -1.2609727534308801, 2.3558529106906345, -0.44250445937162747, -0.7467504601879799, -0.7198816365344325, -0.0339315665844702, 0.5497512879724022, -0.3480524571619145, 1.3768723354357362, 1.2502034702732656, -0.4012274215203553, -0.2897737272678843, -1.0084326249052749, -0.041878491458556794, 0.44192348379906643, -0.7067919348103693, -2.0158581243719778, 1.519170754551979, -0.1602334895148967, -0.31987479518621237, -0.6341683758785682, -0.781009411884995, -0.2340528015742706, 1.156470066863848, 0.46127659902382545, 0.5105671736507841, -2.189845693455042, 0.4432675837308323, -1.1516814536026996, 1.330748998222132, -0.6477011655976501, -0.026451195793421024, 0.7009205597371548, -0.31398659371351423, -0.027173796204393034, 0.7491544167403303, -1.9744604698376598, 0.8608338555104487, -0.661737329113762, -0.5835026639312187, 0.37539850136357034, 1.8791397847625453, 2.6984625358394454, 0.9477096198568582, 1.4705140165414279, -0.010514932472564067, 1.276061278128099, 1.0617667814236433, -2.512910427219062, 1.339337758066956, -0.09495253544489847, 0.11448683196821172, -1.230759772499085, 1.1776767045274097, -0.39700160277569996, -0.2847822529590679, -1.2984210140560033, -1.697273398143285, -0.03374651544880042, -1.347737876485818, 0.9598283623694468, 0.27478388842535423, 0.2146777232449316, 0.1567832074653066], \"yaxis\": \"y12\"}, {\"line\": {\"color\": \"rgba(128, 128, 128, 1.0)\", \"dash\": \"solid\", \"shape\": \"linear\", \"width\": 1.3}, \"marker\": {\"size\": 2, \"symbol\": \"circle\"}, \"mode\": \"markers\", \"name\": \"D\", \"text\": \"\", \"type\": \"scatter\", \"x\": [1.0568048367540321, -1.3498353277992474, -0.016590310967857964, 0.35660732790600963, 1.0193834962395287, 0.8491903166284471, -0.270898010060361, -0.392709340199791, -2.7680493355073525, -0.9598449509727272, 0.02486210535174598, -0.08209894073442042, 1.3004359980675626, -1.58538400423906, 0.0669781081316911, 0.640025802146375, -0.21302066961046895, -1.235796292702241, -0.1309253051050104, -0.31643267250308843, 0.03258708757811836, -0.3380255243770623, -0.22179719829268574, -0.46447982740594784, -0.7481879251469615, -1.8848112593418178, 1.091188842324186, -1.002344407821016, 0.3490115434488426, -1.0674123492812189, -0.6698990082688834, -0.5799795584411399, -0.06921656663627403, -1.6351975314526448, 0.7106115831459313, 1.194971214763005, 0.11625479261911345, -1.934252919633813, 0.11913041768822805, 0.11132345496649837, 1.389596749030748, -1.2171163369994655, 1.2045581848905342, 0.5820052642283193, -1.708114214802915, 1.506653156239142, -0.9254490674897976, 1.2409940264229145, 0.2074483106758396, -1.3596588313168947, -2.390481486655998, -1.4566179541064537, -0.1836022258305617, -0.21501553404228868, -0.29215975665065563, 1.6432342936542375, -0.07861297341559388, -2.19928517475691, 0.7440934149815865, -1.184472526598871, -1.2162389598474177, 0.1884059181021502, -1.5723531833999829, -1.3997371771754998, 1.1481860646913822, -0.9789763321605593, -1.9138376620999613, -0.6331452017050753, 0.7740822611022451, 0.5258410109353289, 0.819021535691631, -1.2739877143475504, -0.4999464290112291, -0.11030684358193382, 0.2888305237105291, -0.5203727627946619, 0.05106433226799674, -0.5982765768873508, 0.9655105887234117, 1.435008557832391, 0.4183410289076339, 1.7880526163669672, 0.3332612477805044, -0.46462131549385466, -0.7495203318644134, 0.8658306751167946, -0.7008970126949282, -1.2842726652184249, -0.4759677234328119, -1.215534764436904, -0.4894621529285363, 1.2034829395601145, -1.8424285969117682, -1.0479601268610481, 1.2913471557834049, -0.5675730197363626, 0.4706223082609923, 0.8438922504243296, 0.2755981536419486, -0.5314784299117727], \"xaxis\": \"x13\", \"y\": [-0.2877134611778512, -0.415408231157268, -0.6731520956489023, 0.11699835543967516, 0.46108847414264864, -2.075749395948886, 0.8134228721343691, -0.4171307815190678, 1.0482344785197288, -0.5629315106277006, 1.4045304971214088, -1.0036668984369883, -0.9863531301805152, -0.25807014173809195, 0.006645526873550916, -0.3653241514796089, 1.4836009543157784, 1.440594840565873, -0.4683992654901319, 1.0598744136647218, 0.44542094220103995, -1.3036291372168698, 0.4330958917310685, 1.098880423945254, 0.7912876255644647, -0.5153633833927447, 0.34099595343274336, 0.8289978197175643, 1.2860921268160947, 0.3368732252553157, -0.7886462598062345, -0.20660566142886636, -2.0332644633856414, -0.45084749186519113, 1.5395248206983076, 1.033488658632085, 0.4770679157842925, 1.5196634218257068, -1.2454550882900453, -0.49410816685358944, -1.9660433649871147, 0.2610976675087106, -1.3363618123521568, -0.8672949069980124, -1.358341898024915, 0.0985918064728073, 0.10822160952696296, -1.7743962812944087, -0.34752270013412295, -1.4942403930610262, 1.1235033870989883, 1.0245166435319117, -0.3864490739769507, -1.3471165599982078, 0.3706148647365652, -0.5162107363096655, 0.9760832195066462, -0.15633400980662576, -0.496568500607371, -0.5439552377990234, -0.8833587494428198, -0.38500838562199147, -0.34059551833802226, 2.555474453517577, -0.5489839462842704, 0.23018097576502303, -0.002817578108877567, -1.953011296752301, -0.6357711373245285, -1.1219490175131321, 0.07138034873712855, 0.5236003404531173, 0.932465243848728, -1.231077256495407, -0.1937006848204315, 1.4592991862128464, 1.546286129842861, -0.19601189357771362, 0.5391848728347883, -0.1427679427449153, 0.1805286690674597, 1.442595958836891, -0.9600127241696688, -0.4762769319570404, 0.5771531798071556, 1.2941334448093476, -1.0773538097917301, 0.47556825223577, -0.9752553106665932, -1.032965092659648, -1.1155748598027806, 0.25668015767886654, -0.8814739191660805, -0.22082829609725307, -1.3489726852465749, -0.5176821631863701, 0.9882380031744157, 0.24039272505477224, -0.21586922453230434, 0.2785582142140259], \"yaxis\": \"y13\"}, {\"line\": {\"color\": \"rgba(128, 128, 128, 1.0)\", \"dash\": \"solid\", \"shape\": \"linear\", \"width\": 1.3}, \"marker\": {\"size\": 2, \"symbol\": \"circle\"}, \"mode\": \"markers\", \"name\": \"D\", \"text\": \"\", \"type\": \"scatter\", \"x\": [0.48107134908112026, -1.6795123804935181, -1.407520137520341, 0.6956647126875344, -0.8244186266256153, 0.4651753314936174, 1.3326443659961662, 0.6712892112247183, -0.03678809166099367, -0.37571841568415526, -1.0933104414806638, 1.0244520712000555, -1.6774374423985707, 0.27825921049731706, -0.10656048173528182, -0.16266515491632585, -1.477859361988607, 0.5755268284581758, -0.9848408514619815, 1.1337930138402854, -2.1093063248932107, 0.6732453387771199, 1.0304751255639024, 1.3442197800221123, -1.2994725083624141, 0.24770923969024355, 0.38001451435852873, 0.6510217733836621, -1.334809357106278, -0.32591102686090045, 0.33883289533284516, -0.6396342151768055, 0.962462618516548, -0.3296481883115337, 1.0539582266267544, -0.48849257687259584, -0.32932544514589285, -1.4021026631022075, 0.4399519109122479, 0.8165453632315621, 0.17029682658018525, -1.539884876142449, -0.5290558912633045, -0.8862205911488811, 1.503260759181969, 1.2904641364329443, 0.817464070671576, 0.25455108264994014, 0.6612696163441858, 0.6148495307606112, -0.2443472940420814, -0.1502214269589789, 0.29709144796356207, 0.26233398363187316, -1.3859941884922815, -0.45976975796464326, 0.17877088761322477, -1.7265360004559602, -0.2101124096705694, -2.1667428687019026, 0.18014866395562953, 0.17096478975414062, -0.6964272661332754, 1.3526202915153194, 0.8585059112481627, -0.472753727105893, 1.5100650061692027, 0.4439906420214673, -1.465584592157141, -0.8229300005118391, 1.5114509544733574, 0.5364040103244894, -0.6760154676033024, -0.12257777263745659, -0.028732704593448222, -1.6222251014678108, 1.2862804917367132, 0.15023697198365754, 1.6432990060257577, -0.9471220749054257, -0.9861439162556745, 0.9130666364117548, 0.1790282336824031, 1.6077357010516404, 1.203379636178235, -0.8228046441290212, -1.8235900825357745, -1.0936356335033228, -0.2686300201689464, 0.7704305152906291, 1.9938798698875142, 1.3775740544428223, -0.3965660112358336, -0.3414272326891216, -0.1138789943091023, -0.21589954976034614, 0.3075242917985286, 0.6432017039579504, 0.08825291761810869, 1.5816130906771417], \"xaxis\": \"x14\", \"y\": [-0.2877134611778512, -0.415408231157268, -0.6731520956489023, 0.11699835543967516, 0.46108847414264864, -2.075749395948886, 0.8134228721343691, -0.4171307815190678, 1.0482344785197288, -0.5629315106277006, 1.4045304971214088, -1.0036668984369883, -0.9863531301805152, -0.25807014173809195, 0.006645526873550916, -0.3653241514796089, 1.4836009543157784, 1.440594840565873, -0.4683992654901319, 1.0598744136647218, 0.44542094220103995, -1.3036291372168698, 0.4330958917310685, 1.098880423945254, 0.7912876255644647, -0.5153633833927447, 0.34099595343274336, 0.8289978197175643, 1.2860921268160947, 0.3368732252553157, -0.7886462598062345, -0.20660566142886636, -2.0332644633856414, -0.45084749186519113, 1.5395248206983076, 1.033488658632085, 0.4770679157842925, 1.5196634218257068, -1.2454550882900453, -0.49410816685358944, -1.9660433649871147, 0.2610976675087106, -1.3363618123521568, -0.8672949069980124, -1.358341898024915, 0.0985918064728073, 0.10822160952696296, -1.7743962812944087, -0.34752270013412295, -1.4942403930610262, 1.1235033870989883, 1.0245166435319117, -0.3864490739769507, -1.3471165599982078, 0.3706148647365652, -0.5162107363096655, 0.9760832195066462, -0.15633400980662576, -0.496568500607371, -0.5439552377990234, -0.8833587494428198, -0.38500838562199147, -0.34059551833802226, 2.555474453517577, -0.5489839462842704, 0.23018097576502303, -0.002817578108877567, -1.953011296752301, -0.6357711373245285, -1.1219490175131321, 0.07138034873712855, 0.5236003404531173, 0.932465243848728, -1.231077256495407, -0.1937006848204315, 1.4592991862128464, 1.546286129842861, -0.19601189357771362, 0.5391848728347883, -0.1427679427449153, 0.1805286690674597, 1.442595958836891, -0.9600127241696688, -0.4762769319570404, 0.5771531798071556, 1.2941334448093476, -1.0773538097917301, 0.47556825223577, -0.9752553106665932, -1.032965092659648, -1.1155748598027806, 0.25668015767886654, -0.8814739191660805, -0.22082829609725307, -1.3489726852465749, -0.5176821631863701, 0.9882380031744157, 0.24039272505477224, -0.21586922453230434, 0.2785582142140259], \"yaxis\": \"y14\"}, {\"line\": {\"color\": \"rgba(128, 128, 128, 1.0)\", \"dash\": \"solid\", \"shape\": \"linear\", \"width\": 1.3}, \"marker\": {\"size\": 2, \"symbol\": \"circle\"}, \"mode\": \"markers\", \"name\": \"D\", \"text\": \"\", \"type\": \"scatter\", \"x\": [-0.04832900612696817, -2.0552643470456307, 1.23401808345776, 1.7622048722279813, 0.36558461414403454, 1.5271193614857776, -0.11698965638849242, 0.550877172276358, -0.18563025943375833, 1.4046676703240801, -0.8923087515065036, -0.13497956516275023, 0.0710977571789828, 1.0614963310633692, 0.7192133147377471, -0.7730472669486539, -0.7735920559571068, 1.3688275969976738, 0.9978091168302472, -0.14855973087387733, 1.4389636472969352, 0.463317487552831, 0.4057962919525643, 1.2409096014807675, -1.7981095491668768, -0.9737923820099355, -0.35343715695543854, -1.8431487538919407, -0.9635654940207634, -1.1123087567053498, 0.2671661522206472, 1.1624384050292622, -0.1671491618727415, 0.09287564079951659, 0.7719803507484746, 0.25083532191382685, -1.2609727534308801, 2.3558529106906345, -0.44250445937162747, -0.7467504601879799, -0.7198816365344325, -0.0339315665844702, 0.5497512879724022, -0.3480524571619145, 1.3768723354357362, 1.2502034702732656, -0.4012274215203553, -0.2897737272678843, -1.0084326249052749, -0.041878491458556794, 0.44192348379906643, -0.7067919348103693, -2.0158581243719778, 1.519170754551979, -0.1602334895148967, -0.31987479518621237, -0.6341683758785682, -0.781009411884995, -0.2340528015742706, 1.156470066863848, 0.46127659902382545, 0.5105671736507841, -2.189845693455042, 0.4432675837308323, -1.1516814536026996, 1.330748998222132, -0.6477011655976501, -0.026451195793421024, 0.7009205597371548, -0.31398659371351423, -0.027173796204393034, 0.7491544167403303, -1.9744604698376598, 0.8608338555104487, -0.661737329113762, -0.5835026639312187, 0.37539850136357034, 1.8791397847625453, 2.6984625358394454, 0.9477096198568582, 1.4705140165414279, -0.010514932472564067, 1.276061278128099, 1.0617667814236433, -2.512910427219062, 1.339337758066956, -0.09495253544489847, 0.11448683196821172, -1.230759772499085, 1.1776767045274097, -0.39700160277569996, -0.2847822529590679, -1.2984210140560033, -1.697273398143285, -0.03374651544880042, -1.347737876485818, 0.9598283623694468, 0.27478388842535423, 0.2146777232449316, 0.1567832074653066], \"xaxis\": \"x15\", \"y\": [-0.2877134611778512, -0.415408231157268, -0.6731520956489023, 0.11699835543967516, 0.46108847414264864, -2.075749395948886, 0.8134228721343691, -0.4171307815190678, 1.0482344785197288, -0.5629315106277006, 1.4045304971214088, -1.0036668984369883, -0.9863531301805152, -0.25807014173809195, 0.006645526873550916, -0.3653241514796089, 1.4836009543157784, 1.440594840565873, -0.4683992654901319, 1.0598744136647218, 0.44542094220103995, -1.3036291372168698, 0.4330958917310685, 1.098880423945254, 0.7912876255644647, -0.5153633833927447, 0.34099595343274336, 0.8289978197175643, 1.2860921268160947, 0.3368732252553157, -0.7886462598062345, -0.20660566142886636, -2.0332644633856414, -0.45084749186519113, 1.5395248206983076, 1.033488658632085, 0.4770679157842925, 1.5196634218257068, -1.2454550882900453, -0.49410816685358944, -1.9660433649871147, 0.2610976675087106, -1.3363618123521568, -0.8672949069980124, -1.358341898024915, 0.0985918064728073, 0.10822160952696296, -1.7743962812944087, -0.34752270013412295, -1.4942403930610262, 1.1235033870989883, 1.0245166435319117, -0.3864490739769507, -1.3471165599982078, 0.3706148647365652, -0.5162107363096655, 0.9760832195066462, -0.15633400980662576, -0.496568500607371, -0.5439552377990234, -0.8833587494428198, -0.38500838562199147, -0.34059551833802226, 2.555474453517577, -0.5489839462842704, 0.23018097576502303, -0.002817578108877567, -1.953011296752301, -0.6357711373245285, -1.1219490175131321, 0.07138034873712855, 0.5236003404531173, 0.932465243848728, -1.231077256495407, -0.1937006848204315, 1.4592991862128464, 1.546286129842861, -0.19601189357771362, 0.5391848728347883, -0.1427679427449153, 0.1805286690674597, 1.442595958836891, -0.9600127241696688, -0.4762769319570404, 0.5771531798071556, 1.2941334448093476, -1.0773538097917301, 0.47556825223577, -0.9752553106665932, -1.032965092659648, -1.1155748598027806, 0.25668015767886654, -0.8814739191660805, -0.22082829609725307, -1.3489726852465749, -0.5176821631863701, 0.9882380031744157, 0.24039272505477224, -0.21586922453230434, 0.2785582142140259], \"yaxis\": \"y15\"}, {\"histfunc\": \"count\", \"histnorm\": \"\", \"marker\": {\"color\": \"rgba(128, 0, 128, 1.0)\", \"line\": {\"color\": \"#4D5663\", \"width\": 1.3}}, \"name\": \"D\", \"nbinsx\": 10, \"opacity\": 0.8, \"orientation\": \"v\", \"type\": \"histogram\", \"x\": [-0.2877134611778512, -0.415408231157268, -0.6731520956489023, 0.11699835543967516, 0.46108847414264864, -2.075749395948886, 0.8134228721343691, -0.4171307815190678, 1.0482344785197288, -0.5629315106277006, 1.4045304971214088, -1.0036668984369883, -0.9863531301805152, -0.25807014173809195, 0.006645526873550916, -0.3653241514796089, 1.4836009543157784, 1.440594840565873, -0.4683992654901319, 1.0598744136647218, 0.44542094220103995, -1.3036291372168698, 0.4330958917310685, 1.098880423945254, 0.7912876255644647, -0.5153633833927447, 0.34099595343274336, 0.8289978197175643, 1.2860921268160947, 0.3368732252553157, -0.7886462598062345, -0.20660566142886636, -2.0332644633856414, -0.45084749186519113, 1.5395248206983076, 1.033488658632085, 0.4770679157842925, 1.5196634218257068, -1.2454550882900453, -0.49410816685358944, -1.9660433649871147, 0.2610976675087106, -1.3363618123521568, -0.8672949069980124, -1.358341898024915, 0.0985918064728073, 0.10822160952696296, -1.7743962812944087, -0.34752270013412295, -1.4942403930610262, 1.1235033870989883, 1.0245166435319117, -0.3864490739769507, -1.3471165599982078, 0.3706148647365652, -0.5162107363096655, 0.9760832195066462, -0.15633400980662576, -0.496568500607371, -0.5439552377990234, -0.8833587494428198, -0.38500838562199147, -0.34059551833802226, 2.555474453517577, -0.5489839462842704, 0.23018097576502303, -0.002817578108877567, -1.953011296752301, -0.6357711373245285, -1.1219490175131321, 0.07138034873712855, 0.5236003404531173, 0.932465243848728, -1.231077256495407, -0.1937006848204315, 1.4592991862128464, 1.546286129842861, -0.19601189357771362, 0.5391848728347883, -0.1427679427449153, 0.1805286690674597, 1.442595958836891, -0.9600127241696688, -0.4762769319570404, 0.5771531798071556, 1.2941334448093476, -1.0773538097917301, 0.47556825223577, -0.9752553106665932, -1.032965092659648, -1.1155748598027806, 0.25668015767886654, -0.8814739191660805, -0.22082829609725307, -1.3489726852465749, -0.5176821631863701, 0.9882380031744157, 0.24039272505477224, -0.21586922453230434, 0.2785582142140259], \"xaxis\": \"x16\", \"yaxis\": \"y16\"}],\n",
       "                        {\"bargap\": 0.02, \"legend\": {\"bgcolor\": \"#F5F6F9\", \"font\": {\"color\": \"#4D5663\"}}, \"paper_bgcolor\": \"#F5F6F9\", \"plot_bgcolor\": \"#F5F6F9\", \"showlegend\": false, \"template\": {\"data\": {\"bar\": [{\"error_x\": {\"color\": \"#2a3f5f\"}, \"error_y\": {\"color\": \"#2a3f5f\"}, \"marker\": {\"line\": {\"color\": \"#E5ECF6\", \"width\": 0.5}}, \"type\": \"bar\"}], \"barpolar\": [{\"marker\": {\"line\": {\"color\": \"#E5ECF6\", \"width\": 0.5}}, \"type\": \"barpolar\"}], \"carpet\": [{\"aaxis\": {\"endlinecolor\": \"#2a3f5f\", \"gridcolor\": \"white\", \"linecolor\": \"white\", \"minorgridcolor\": \"white\", \"startlinecolor\": \"#2a3f5f\"}, \"baxis\": {\"endlinecolor\": \"#2a3f5f\", \"gridcolor\": \"white\", \"linecolor\": \"white\", \"minorgridcolor\": \"white\", \"startlinecolor\": \"#2a3f5f\"}, \"type\": \"carpet\"}], \"choropleth\": [{\"colorbar\": {\"outlinewidth\": 0, \"ticks\": \"\"}, \"type\": \"choropleth\"}], \"contour\": [{\"colorbar\": {\"outlinewidth\": 0, \"ticks\": \"\"}, \"colorscale\": [[0.0, \"#0d0887\"], [0.1111111111111111, \"#46039f\"], [0.2222222222222222, \"#7201a8\"], [0.3333333333333333, \"#9c179e\"], [0.4444444444444444, \"#bd3786\"], [0.5555555555555556, \"#d8576b\"], [0.6666666666666666, \"#ed7953\"], [0.7777777777777778, \"#fb9f3a\"], [0.8888888888888888, \"#fdca26\"], [1.0, \"#f0f921\"]], \"type\": \"contour\"}], \"contourcarpet\": [{\"colorbar\": {\"outlinewidth\": 0, \"ticks\": \"\"}, \"type\": \"contourcarpet\"}], \"heatmap\": [{\"colorbar\": {\"outlinewidth\": 0, \"ticks\": \"\"}, \"colorscale\": [[0.0, \"#0d0887\"], [0.1111111111111111, \"#46039f\"], [0.2222222222222222, \"#7201a8\"], [0.3333333333333333, \"#9c179e\"], [0.4444444444444444, \"#bd3786\"], [0.5555555555555556, \"#d8576b\"], [0.6666666666666666, \"#ed7953\"], [0.7777777777777778, \"#fb9f3a\"], [0.8888888888888888, \"#fdca26\"], [1.0, \"#f0f921\"]], \"type\": \"heatmap\"}], \"heatmapgl\": [{\"colorbar\": {\"outlinewidth\": 0, \"ticks\": \"\"}, \"colorscale\": [[0.0, \"#0d0887\"], [0.1111111111111111, \"#46039f\"], [0.2222222222222222, \"#7201a8\"], [0.3333333333333333, \"#9c179e\"], [0.4444444444444444, \"#bd3786\"], [0.5555555555555556, \"#d8576b\"], [0.6666666666666666, \"#ed7953\"], [0.7777777777777778, \"#fb9f3a\"], [0.8888888888888888, \"#fdca26\"], [1.0, \"#f0f921\"]], \"type\": \"heatmapgl\"}], \"histogram\": [{\"marker\": {\"colorbar\": {\"outlinewidth\": 0, \"ticks\": \"\"}}, \"type\": \"histogram\"}], \"histogram2d\": [{\"colorbar\": {\"outlinewidth\": 0, \"ticks\": \"\"}, \"colorscale\": [[0.0, \"#0d0887\"], [0.1111111111111111, \"#46039f\"], [0.2222222222222222, \"#7201a8\"], [0.3333333333333333, \"#9c179e\"], [0.4444444444444444, \"#bd3786\"], [0.5555555555555556, \"#d8576b\"], [0.6666666666666666, \"#ed7953\"], [0.7777777777777778, \"#fb9f3a\"], [0.8888888888888888, \"#fdca26\"], [1.0, \"#f0f921\"]], \"type\": \"histogram2d\"}], \"histogram2dcontour\": [{\"colorbar\": {\"outlinewidth\": 0, \"ticks\": \"\"}, \"colorscale\": [[0.0, \"#0d0887\"], [0.1111111111111111, \"#46039f\"], [0.2222222222222222, \"#7201a8\"], [0.3333333333333333, \"#9c179e\"], [0.4444444444444444, \"#bd3786\"], [0.5555555555555556, \"#d8576b\"], [0.6666666666666666, \"#ed7953\"], [0.7777777777777778, \"#fb9f3a\"], [0.8888888888888888, \"#fdca26\"], [1.0, \"#f0f921\"]], \"type\": \"histogram2dcontour\"}], \"mesh3d\": [{\"colorbar\": {\"outlinewidth\": 0, \"ticks\": \"\"}, \"type\": \"mesh3d\"}], \"parcoords\": [{\"line\": {\"colorbar\": {\"outlinewidth\": 0, \"ticks\": \"\"}}, \"type\": \"parcoords\"}], \"pie\": [{\"automargin\": true, \"type\": \"pie\"}], \"scatter\": [{\"marker\": {\"colorbar\": {\"outlinewidth\": 0, \"ticks\": \"\"}}, \"type\": \"scatter\"}], \"scatter3d\": [{\"line\": {\"colorbar\": {\"outlinewidth\": 0, \"ticks\": \"\"}}, \"marker\": {\"colorbar\": {\"outlinewidth\": 0, \"ticks\": \"\"}}, \"type\": \"scatter3d\"}], \"scattercarpet\": [{\"marker\": {\"colorbar\": {\"outlinewidth\": 0, \"ticks\": \"\"}}, \"type\": \"scattercarpet\"}], \"scattergeo\": [{\"marker\": {\"colorbar\": {\"outlinewidth\": 0, \"ticks\": \"\"}}, \"type\": \"scattergeo\"}], \"scattergl\": [{\"marker\": {\"colorbar\": {\"outlinewidth\": 0, \"ticks\": \"\"}}, \"type\": \"scattergl\"}], \"scattermapbox\": [{\"marker\": {\"colorbar\": {\"outlinewidth\": 0, \"ticks\": \"\"}}, \"type\": \"scattermapbox\"}], \"scatterpolar\": [{\"marker\": {\"colorbar\": {\"outlinewidth\": 0, \"ticks\": \"\"}}, \"type\": \"scatterpolar\"}], \"scatterpolargl\": [{\"marker\": {\"colorbar\": {\"outlinewidth\": 0, \"ticks\": \"\"}}, \"type\": \"scatterpolargl\"}], \"scatterternary\": [{\"marker\": {\"colorbar\": {\"outlinewidth\": 0, \"ticks\": \"\"}}, \"type\": \"scatterternary\"}], \"surface\": [{\"colorbar\": {\"outlinewidth\": 0, \"ticks\": \"\"}, \"colorscale\": [[0.0, \"#0d0887\"], [0.1111111111111111, \"#46039f\"], [0.2222222222222222, \"#7201a8\"], [0.3333333333333333, \"#9c179e\"], [0.4444444444444444, \"#bd3786\"], [0.5555555555555556, \"#d8576b\"], [0.6666666666666666, \"#ed7953\"], [0.7777777777777778, \"#fb9f3a\"], [0.8888888888888888, \"#fdca26\"], [1.0, \"#f0f921\"]], \"type\": \"surface\"}], \"table\": [{\"cells\": {\"fill\": {\"color\": \"#EBF0F8\"}, \"line\": {\"color\": \"white\"}}, \"header\": {\"fill\": {\"color\": \"#C8D4E3\"}, \"line\": {\"color\": \"white\"}}, \"type\": \"table\"}]}, \"layout\": {\"annotationdefaults\": {\"arrowcolor\": \"#2a3f5f\", \"arrowhead\": 0, \"arrowwidth\": 1}, \"coloraxis\": {\"colorbar\": {\"outlinewidth\": 0, \"ticks\": \"\"}}, \"colorscale\": {\"diverging\": [[0, \"#8e0152\"], [0.1, \"#c51b7d\"], [0.2, \"#de77ae\"], [0.3, \"#f1b6da\"], [0.4, \"#fde0ef\"], [0.5, \"#f7f7f7\"], [0.6, \"#e6f5d0\"], [0.7, \"#b8e186\"], [0.8, \"#7fbc41\"], [0.9, \"#4d9221\"], [1, \"#276419\"]], \"sequential\": [[0.0, \"#0d0887\"], [0.1111111111111111, \"#46039f\"], [0.2222222222222222, \"#7201a8\"], [0.3333333333333333, \"#9c179e\"], [0.4444444444444444, \"#bd3786\"], [0.5555555555555556, \"#d8576b\"], [0.6666666666666666, \"#ed7953\"], [0.7777777777777778, \"#fb9f3a\"], [0.8888888888888888, \"#fdca26\"], [1.0, \"#f0f921\"]], \"sequentialminus\": [[0.0, \"#0d0887\"], [0.1111111111111111, \"#46039f\"], [0.2222222222222222, \"#7201a8\"], [0.3333333333333333, \"#9c179e\"], [0.4444444444444444, \"#bd3786\"], [0.5555555555555556, \"#d8576b\"], [0.6666666666666666, \"#ed7953\"], [0.7777777777777778, \"#fb9f3a\"], [0.8888888888888888, \"#fdca26\"], [1.0, \"#f0f921\"]]}, \"colorway\": [\"#636efa\", \"#EF553B\", \"#00cc96\", \"#ab63fa\", \"#FFA15A\", \"#19d3f3\", \"#FF6692\", \"#B6E880\", \"#FF97FF\", \"#FECB52\"], \"font\": {\"color\": \"#2a3f5f\"}, \"geo\": {\"bgcolor\": \"white\", \"lakecolor\": \"white\", \"landcolor\": \"#E5ECF6\", \"showlakes\": true, \"showland\": true, \"subunitcolor\": \"white\"}, \"hoverlabel\": {\"align\": \"left\"}, \"hovermode\": \"closest\", \"mapbox\": {\"style\": \"light\"}, \"paper_bgcolor\": \"white\", \"plot_bgcolor\": \"#E5ECF6\", \"polar\": {\"angularaxis\": {\"gridcolor\": \"white\", \"linecolor\": \"white\", \"ticks\": \"\"}, \"bgcolor\": \"#E5ECF6\", \"radialaxis\": {\"gridcolor\": \"white\", \"linecolor\": \"white\", \"ticks\": \"\"}}, \"scene\": {\"xaxis\": {\"backgroundcolor\": \"#E5ECF6\", \"gridcolor\": \"white\", \"gridwidth\": 2, \"linecolor\": \"white\", \"showbackground\": true, \"ticks\": \"\", \"zerolinecolor\": \"white\"}, \"yaxis\": {\"backgroundcolor\": \"#E5ECF6\", \"gridcolor\": \"white\", \"gridwidth\": 2, \"linecolor\": \"white\", \"showbackground\": true, \"ticks\": \"\", \"zerolinecolor\": \"white\"}, \"zaxis\": {\"backgroundcolor\": \"#E5ECF6\", \"gridcolor\": \"white\", \"gridwidth\": 2, \"linecolor\": \"white\", \"showbackground\": true, \"ticks\": \"\", \"zerolinecolor\": \"white\"}}, \"shapedefaults\": {\"line\": {\"color\": \"#2a3f5f\"}}, \"ternary\": {\"aaxis\": {\"gridcolor\": \"white\", \"linecolor\": \"white\", \"ticks\": \"\"}, \"baxis\": {\"gridcolor\": \"white\", \"linecolor\": \"white\", \"ticks\": \"\"}, \"bgcolor\": \"#E5ECF6\", \"caxis\": {\"gridcolor\": \"white\", \"linecolor\": \"white\", \"ticks\": \"\"}}, \"title\": {\"x\": 0.05}, \"xaxis\": {\"automargin\": true, \"gridcolor\": \"white\", \"linecolor\": \"white\", \"ticks\": \"\", \"title\": {\"standoff\": 15}, \"zerolinecolor\": \"white\", \"zerolinewidth\": 2}, \"yaxis\": {\"automargin\": true, \"gridcolor\": \"white\", \"linecolor\": \"white\", \"ticks\": \"\", \"title\": {\"standoff\": 15}, \"zerolinecolor\": \"white\", \"zerolinewidth\": 2}}}, \"title\": {\"font\": {\"color\": \"#4D5663\"}}, \"xaxis\": {\"anchor\": \"y\", \"domain\": [0.0, 0.2125], \"gridcolor\": \"#E1E5ED\", \"showgrid\": false, \"tickfont\": {\"color\": \"#4D5663\"}, \"title\": {\"font\": {\"color\": \"#4D5663\"}, \"text\": \"\"}, \"zerolinecolor\": \"#E1E5ED\"}, \"xaxis10\": {\"anchor\": \"y10\", \"domain\": [0.2625, 0.475], \"gridcolor\": \"#E1E5ED\", \"showgrid\": false, \"tickfont\": {\"color\": \"#4D5663\"}, \"title\": {\"font\": {\"color\": \"#4D5663\"}, \"text\": \"\"}, \"zerolinecolor\": \"#E1E5ED\"}, \"xaxis11\": {\"anchor\": \"y11\", \"domain\": [0.525, 0.7375], \"gridcolor\": \"#E1E5ED\", \"showgrid\": false, \"tickfont\": {\"color\": \"#4D5663\"}, \"title\": {\"font\": {\"color\": \"#4D5663\"}, \"text\": \"\"}, \"zerolinecolor\": \"#E1E5ED\"}, \"xaxis12\": {\"anchor\": \"y12\", \"domain\": [0.7875, 1.0], \"gridcolor\": \"#E1E5ED\", \"showgrid\": false, \"tickfont\": {\"color\": \"#4D5663\"}, \"title\": {\"font\": {\"color\": \"#4D5663\"}, \"text\": \"\"}, \"zerolinecolor\": \"#E1E5ED\"}, \"xaxis13\": {\"anchor\": \"y13\", \"domain\": [0.0, 0.2125], \"gridcolor\": \"#E1E5ED\", \"showgrid\": false, \"tickfont\": {\"color\": \"#4D5663\"}, \"title\": {\"font\": {\"color\": \"#4D5663\"}, \"text\": \"\"}, \"zerolinecolor\": \"#E1E5ED\"}, \"xaxis14\": {\"anchor\": \"y14\", \"domain\": [0.2625, 0.475], \"gridcolor\": \"#E1E5ED\", \"showgrid\": false, \"tickfont\": {\"color\": \"#4D5663\"}, \"title\": {\"font\": {\"color\": \"#4D5663\"}, \"text\": \"\"}, \"zerolinecolor\": \"#E1E5ED\"}, \"xaxis15\": {\"anchor\": \"y15\", \"domain\": [0.525, 0.7375], \"gridcolor\": \"#E1E5ED\", \"showgrid\": false, \"tickfont\": {\"color\": \"#4D5663\"}, \"title\": {\"font\": {\"color\": \"#4D5663\"}, \"text\": \"\"}, \"zerolinecolor\": \"#E1E5ED\"}, \"xaxis16\": {\"anchor\": \"y16\", \"domain\": [0.7875, 1.0], \"gridcolor\": \"#E1E5ED\", \"showgrid\": false, \"tickfont\": {\"color\": \"#4D5663\"}, \"title\": {\"font\": {\"color\": \"#4D5663\"}, \"text\": \"\"}, \"zerolinecolor\": \"#E1E5ED\"}, \"xaxis2\": {\"anchor\": \"y2\", \"domain\": [0.2625, 0.475], \"gridcolor\": \"#E1E5ED\", \"showgrid\": false, \"tickfont\": {\"color\": \"#4D5663\"}, \"title\": {\"font\": {\"color\": \"#4D5663\"}, \"text\": \"\"}, \"zerolinecolor\": \"#E1E5ED\"}, \"xaxis3\": {\"anchor\": \"y3\", \"domain\": [0.525, 0.7375], \"gridcolor\": \"#E1E5ED\", \"showgrid\": false, \"tickfont\": {\"color\": \"#4D5663\"}, \"title\": {\"font\": {\"color\": \"#4D5663\"}, \"text\": \"\"}, \"zerolinecolor\": \"#E1E5ED\"}, \"xaxis4\": {\"anchor\": \"y4\", \"domain\": [0.7875, 1.0], \"gridcolor\": \"#E1E5ED\", \"showgrid\": false, \"tickfont\": {\"color\": \"#4D5663\"}, \"title\": {\"font\": {\"color\": \"#4D5663\"}, \"text\": \"\"}, \"zerolinecolor\": \"#E1E5ED\"}, \"xaxis5\": {\"anchor\": \"y5\", \"domain\": [0.0, 0.2125], \"gridcolor\": \"#E1E5ED\", \"showgrid\": false, \"tickfont\": {\"color\": \"#4D5663\"}, \"title\": {\"font\": {\"color\": \"#4D5663\"}, \"text\": \"\"}, \"zerolinecolor\": \"#E1E5ED\"}, \"xaxis6\": {\"anchor\": \"y6\", \"domain\": [0.2625, 0.475], \"gridcolor\": \"#E1E5ED\", \"showgrid\": false, \"tickfont\": {\"color\": \"#4D5663\"}, \"title\": {\"font\": {\"color\": \"#4D5663\"}, \"text\": \"\"}, \"zerolinecolor\": \"#E1E5ED\"}, \"xaxis7\": {\"anchor\": \"y7\", \"domain\": [0.525, 0.7375], \"gridcolor\": \"#E1E5ED\", \"showgrid\": false, \"tickfont\": {\"color\": \"#4D5663\"}, \"title\": {\"font\": {\"color\": \"#4D5663\"}, \"text\": \"\"}, \"zerolinecolor\": \"#E1E5ED\"}, \"xaxis8\": {\"anchor\": \"y8\", \"domain\": [0.7875, 1.0], \"gridcolor\": \"#E1E5ED\", \"showgrid\": false, \"tickfont\": {\"color\": \"#4D5663\"}, \"title\": {\"font\": {\"color\": \"#4D5663\"}, \"text\": \"\"}, \"zerolinecolor\": \"#E1E5ED\"}, \"xaxis9\": {\"anchor\": \"y9\", \"domain\": [0.0, 0.2125], \"gridcolor\": \"#E1E5ED\", \"showgrid\": false, \"tickfont\": {\"color\": \"#4D5663\"}, \"title\": {\"font\": {\"color\": \"#4D5663\"}, \"text\": \"\"}, \"zerolinecolor\": \"#E1E5ED\"}, \"yaxis\": {\"anchor\": \"x\", \"domain\": [0.8025, 1.0], \"gridcolor\": \"#E1E5ED\", \"showgrid\": false, \"tickfont\": {\"color\": \"#4D5663\"}, \"title\": {\"font\": {\"color\": \"#4D5663\"}, \"text\": \"\"}, \"zerolinecolor\": \"#E1E5ED\"}, \"yaxis10\": {\"anchor\": \"x10\", \"domain\": [0.2675, 0.465], \"gridcolor\": \"#E1E5ED\", \"showgrid\": false, \"tickfont\": {\"color\": \"#4D5663\"}, \"title\": {\"font\": {\"color\": \"#4D5663\"}, \"text\": \"\"}, \"zerolinecolor\": \"#E1E5ED\"}, \"yaxis11\": {\"anchor\": \"x11\", \"domain\": [0.2675, 0.465], \"gridcolor\": \"#E1E5ED\", \"showgrid\": false, \"tickfont\": {\"color\": \"#4D5663\"}, \"title\": {\"font\": {\"color\": \"#4D5663\"}, \"text\": \"\"}, \"zerolinecolor\": \"#E1E5ED\"}, \"yaxis12\": {\"anchor\": \"x12\", \"domain\": [0.2675, 0.465], \"gridcolor\": \"#E1E5ED\", \"showgrid\": false, \"tickfont\": {\"color\": \"#4D5663\"}, \"title\": {\"font\": {\"color\": \"#4D5663\"}, \"text\": \"\"}, \"zerolinecolor\": \"#E1E5ED\"}, \"yaxis13\": {\"anchor\": \"x13\", \"domain\": [0.0, 0.1975], \"gridcolor\": \"#E1E5ED\", \"showgrid\": false, \"tickfont\": {\"color\": \"#4D5663\"}, \"title\": {\"font\": {\"color\": \"#4D5663\"}, \"text\": \"\"}, \"zerolinecolor\": \"#E1E5ED\"}, \"yaxis14\": {\"anchor\": \"x14\", \"domain\": [0.0, 0.1975], \"gridcolor\": \"#E1E5ED\", \"showgrid\": false, \"tickfont\": {\"color\": \"#4D5663\"}, \"title\": {\"font\": {\"color\": \"#4D5663\"}, \"text\": \"\"}, \"zerolinecolor\": \"#E1E5ED\"}, \"yaxis15\": {\"anchor\": \"x15\", \"domain\": [0.0, 0.1975], \"gridcolor\": \"#E1E5ED\", \"showgrid\": false, \"tickfont\": {\"color\": \"#4D5663\"}, \"title\": {\"font\": {\"color\": \"#4D5663\"}, \"text\": \"\"}, \"zerolinecolor\": \"#E1E5ED\"}, \"yaxis16\": {\"anchor\": \"x16\", \"domain\": [0.0, 0.1975], \"gridcolor\": \"#E1E5ED\", \"showgrid\": false, \"tickfont\": {\"color\": \"#4D5663\"}, \"title\": {\"font\": {\"color\": \"#4D5663\"}, \"text\": \"\"}, \"zerolinecolor\": \"#E1E5ED\"}, \"yaxis2\": {\"anchor\": \"x2\", \"domain\": [0.8025, 1.0], \"gridcolor\": \"#E1E5ED\", \"showgrid\": false, \"tickfont\": {\"color\": \"#4D5663\"}, \"title\": {\"font\": {\"color\": \"#4D5663\"}, \"text\": \"\"}, \"zerolinecolor\": \"#E1E5ED\"}, \"yaxis3\": {\"anchor\": \"x3\", \"domain\": [0.8025, 1.0], \"gridcolor\": \"#E1E5ED\", \"showgrid\": false, \"tickfont\": {\"color\": \"#4D5663\"}, \"title\": {\"font\": {\"color\": \"#4D5663\"}, \"text\": \"\"}, \"zerolinecolor\": \"#E1E5ED\"}, \"yaxis4\": {\"anchor\": \"x4\", \"domain\": [0.8025, 1.0], \"gridcolor\": \"#E1E5ED\", \"showgrid\": false, \"tickfont\": {\"color\": \"#4D5663\"}, \"title\": {\"font\": {\"color\": \"#4D5663\"}, \"text\": \"\"}, \"zerolinecolor\": \"#E1E5ED\"}, \"yaxis5\": {\"anchor\": \"x5\", \"domain\": [0.535, 0.7325], \"gridcolor\": \"#E1E5ED\", \"showgrid\": false, \"tickfont\": {\"color\": \"#4D5663\"}, \"title\": {\"font\": {\"color\": \"#4D5663\"}, \"text\": \"\"}, \"zerolinecolor\": \"#E1E5ED\"}, \"yaxis6\": {\"anchor\": \"x6\", \"domain\": [0.535, 0.7325], \"gridcolor\": \"#E1E5ED\", \"showgrid\": false, \"tickfont\": {\"color\": \"#4D5663\"}, \"title\": {\"font\": {\"color\": \"#4D5663\"}, \"text\": \"\"}, \"zerolinecolor\": \"#E1E5ED\"}, \"yaxis7\": {\"anchor\": \"x7\", \"domain\": [0.535, 0.7325], \"gridcolor\": \"#E1E5ED\", \"showgrid\": false, \"tickfont\": {\"color\": \"#4D5663\"}, \"title\": {\"font\": {\"color\": \"#4D5663\"}, \"text\": \"\"}, \"zerolinecolor\": \"#E1E5ED\"}, \"yaxis8\": {\"anchor\": \"x8\", \"domain\": [0.535, 0.7325], \"gridcolor\": \"#E1E5ED\", \"showgrid\": false, \"tickfont\": {\"color\": \"#4D5663\"}, \"title\": {\"font\": {\"color\": \"#4D5663\"}, \"text\": \"\"}, \"zerolinecolor\": \"#E1E5ED\"}, \"yaxis9\": {\"anchor\": \"x9\", \"domain\": [0.2675, 0.465], \"gridcolor\": \"#E1E5ED\", \"showgrid\": false, \"tickfont\": {\"color\": \"#4D5663\"}, \"title\": {\"font\": {\"color\": \"#4D5663\"}, \"text\": \"\"}, \"zerolinecolor\": \"#E1E5ED\"}},\n",
       "                        {\"showLink\": true, \"linkText\": \"Export to plot.ly\", \"plotlyServerURL\": \"https://plot.ly\", \"responsive\": true}\n",
       "                    ).then(function(){\n",
       "                            \n",
       "var gd = document.getElementById('e7fe3c48-de6d-43b5-a2b7-4aaa0e445e5f');\n",
       "var x = new MutationObserver(function (mutations, observer) {{\n",
       "        var display = window.getComputedStyle(gd).display;\n",
       "        if (!display || display === 'none') {{\n",
       "            console.log([gd, 'removed!']);\n",
       "            Plotly.purge(gd);\n",
       "            observer.disconnect();\n",
       "        }}\n",
       "}});\n",
       "\n",
       "// Listen for the removal of the full notebook cells\n",
       "var notebookContainer = gd.closest('#notebook-container');\n",
       "if (notebookContainer) {{\n",
       "    x.observe(notebookContainer, {childList: true});\n",
       "}}\n",
       "\n",
       "// Listen for the clearing of the current output cell\n",
       "var outputEl = gd.closest('.output');\n",
       "if (outputEl) {{\n",
       "    x.observe(outputEl, {childList: true});\n",
       "}}\n",
       "\n",
       "                        })\n",
       "                };\n",
       "                });\n",
       "            </script>\n",
       "        </div>"
      ]
     },
     "metadata": {},
     "output_type": "display_data"
    }
   ],
   "source": [
    "df.scatter_matrix()"
   ]
  },
  {
   "cell_type": "code",
   "execution_count": null,
   "metadata": {},
   "outputs": [],
   "source": []
  }
 ],
 "metadata": {
  "kernelspec": {
   "display_name": "Python 3",
   "language": "python",
   "name": "python3"
  },
  "language_info": {
   "codemirror_mode": {
    "name": "ipython",
    "version": 3
   },
   "file_extension": ".py",
   "mimetype": "text/x-python",
   "name": "python",
   "nbconvert_exporter": "python",
   "pygments_lexer": "ipython3",
   "version": "3.6.9"
  }
 },
 "nbformat": 4,
 "nbformat_minor": 4
}
