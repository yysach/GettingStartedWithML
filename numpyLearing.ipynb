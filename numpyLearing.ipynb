{
 "cells": [
  {
   "cell_type": "markdown",
   "metadata": {},
   "source": [
    "### Array is the linear data structure which can have only same datatype element.\n",
    "### List can have mixed datatype value in it.\n",
    "- use tab buttom to know functionality of numpy"
   ]
  },
  {
   "cell_type": "code",
   "execution_count": 16,
   "metadata": {},
   "outputs": [
    {
     "data": {
      "text/plain": [
       "array([[ 1,  2,  3,  4,  5],\n",
       "       [ 6,  7,  8,  9, 10],\n",
       "       [11, 12, 13, 14, 15]])"
      ]
     },
     "execution_count": 16,
     "metadata": {},
     "output_type": "execute_result"
    }
   ],
   "source": [
    "import numpy as np\n",
    "list1=[1,2,3,4,5]\n",
    "list2=[6,7,8,9,10]\n",
    "list3=[11,12,13,14,15]\n",
    "\n",
    "arr = np.array([list1,list2,list3])\n",
    "arr"
   ]
  },
  {
   "cell_type": "code",
   "execution_count": 17,
   "metadata": {},
   "outputs": [
    {
     "data": {
      "text/plain": [
       "array([[ 1,  2,  3],\n",
       "       [ 4,  5,  6],\n",
       "       [ 7,  8,  9],\n",
       "       [10, 11, 12],\n",
       "       [13, 14, 15]])"
      ]
     },
     "execution_count": 17,
     "metadata": {},
     "output_type": "execute_result"
    }
   ],
   "source": [
    "arr.reshape(5,3)"
   ]
  },
  {
   "cell_type": "code",
   "execution_count": 18,
   "metadata": {},
   "outputs": [
    {
     "data": {
      "text/plain": [
       "(3, 5)"
      ]
     },
     "execution_count": 18,
     "metadata": {},
     "output_type": "execute_result"
    }
   ],
   "source": [
    "arr.shape"
   ]
  },
  {
   "cell_type": "code",
   "execution_count": 19,
   "metadata": {},
   "outputs": [
    {
     "data": {
      "text/plain": [
       "array([0, 2, 4, 6, 8])"
      ]
     },
     "execution_count": 19,
     "metadata": {},
     "output_type": "execute_result"
    }
   ],
   "source": [
    "arr= np.arange(0,10,step=2)\n",
    "arr"
   ]
  },
  {
   "cell_type": "code",
   "execution_count": 20,
   "metadata": {},
   "outputs": [],
   "source": [
    "arr1=arr # is the refernce type, means if we do changes in arr1 then changes will reflect back to arr also\n",
    "arr1=arr.copy() # use .copy for no change reflections\n"
   ]
  },
  {
   "cell_type": "code",
   "execution_count": 21,
   "metadata": {},
   "outputs": [
    {
     "data": {
      "text/plain": [
       "array([0, 2, 4])"
      ]
     },
     "execution_count": 21,
     "metadata": {},
     "output_type": "execute_result"
    }
   ],
   "source": [
    "# one can use conditions in np array as well like\n",
    "# \n",
    "arr[arr<5]"
   ]
  },
  {
   "cell_type": "code",
   "execution_count": 22,
   "metadata": {},
   "outputs": [
    {
     "data": {
      "text/plain": [
       "array([[ 0.73408191,  1.14389256],\n",
       "       [ 0.18693436, -0.45474336],\n",
       "       [ 1.14621164, -1.22721113]])"
      ]
     },
     "execution_count": 22,
     "metadata": {},
     "output_type": "execute_result"
    }
   ],
   "source": [
    "## random distribution values lies in 0..1\n",
    "np.random.rand(4,3)\n",
    "\n",
    "arr_ex=np.random.randn(3,2)\n",
    "arr_ex"
   ]
  },
  {
   "cell_type": "code",
   "execution_count": 23,
   "metadata": {},
   "outputs": [
    {
     "name": "stdout",
     "output_type": "stream",
     "text": [
      "[[ 0  1  2  3  4  5  6  7  8  9]\n",
      " [10 11 12 13 14 15 16 17 18 19]\n",
      " [20 21 22 23 24 25 26 27 28 29]]\n"
     ]
    }
   ],
   "source": [
    "a=np.arange(30).reshape(3,10)\n",
    "print (a)"
   ]
  },
  {
   "cell_type": "code",
   "execution_count": 24,
   "metadata": {},
   "outputs": [
    {
     "name": "stdout",
     "output_type": "stream",
     "text": [
      "[0 1 2 3 4 5 6 7 8 9]\n",
      "[10 11 12 13 14 15 16 17 18 19]\n",
      "[20 21 22 23 24 25 26 27 28 29]\n"
     ]
    }
   ],
   "source": [
    "for row in a:\n",
    "    print(row)"
   ]
  },
  {
   "cell_type": "code",
   "execution_count": 25,
   "metadata": {},
   "outputs": [
    {
     "name": "stdout",
     "output_type": "stream",
     "text": [
      "0\n",
      "1\n",
      "2\n",
      "3\n",
      "4\n",
      "5\n",
      "6\n",
      "7\n",
      "8\n",
      "9\n",
      "10\n",
      "11\n",
      "12\n",
      "13\n",
      "14\n",
      "15\n",
      "16\n",
      "17\n",
      "18\n",
      "19\n",
      "20\n",
      "21\n",
      "22\n",
      "23\n",
      "24\n",
      "25\n",
      "26\n",
      "27\n",
      "28\n",
      "29\n"
     ]
    }
   ],
   "source": [
    "for row in a:\n",
    "    for cell in row:\n",
    "        print(cell)"
   ]
  },
  {
   "cell_type": "code",
   "execution_count": 26,
   "metadata": {},
   "outputs": [
    {
     "name": "stdout",
     "output_type": "stream",
     "text": [
      "0\n",
      "1\n",
      "2\n",
      "3\n",
      "4\n",
      "5\n",
      "6\n",
      "7\n",
      "8\n",
      "9\n",
      "10\n",
      "11\n",
      "12\n",
      "13\n",
      "14\n",
      "15\n",
      "16\n",
      "17\n",
      "18\n",
      "19\n",
      "20\n",
      "21\n",
      "22\n",
      "23\n",
      "24\n",
      "25\n",
      "26\n",
      "27\n",
      "28\n",
      "29\n"
     ]
    }
   ],
   "source": [
    "for x in np.nditer(a,order='C'):\n",
    "    print (x)"
   ]
  },
  {
   "cell_type": "code",
   "execution_count": 27,
   "metadata": {},
   "outputs": [
    {
     "name": "stdout",
     "output_type": "stream",
     "text": [
      "0\n",
      "10\n",
      "20\n",
      "1\n",
      "11\n",
      "21\n",
      "2\n",
      "12\n",
      "22\n",
      "3\n",
      "13\n",
      "23\n",
      "4\n",
      "14\n",
      "24\n",
      "5\n",
      "15\n",
      "25\n",
      "6\n",
      "16\n",
      "26\n",
      "7\n",
      "17\n",
      "27\n",
      "8\n",
      "18\n",
      "28\n",
      "9\n",
      "19\n",
      "29\n"
     ]
    }
   ],
   "source": [
    "for x in np.nditer(a,order='F'):\n",
    "    print(x)"
   ]
  },
  {
   "cell_type": "code",
   "execution_count": 28,
   "metadata": {},
   "outputs": [],
   "source": [
    "for x in np.nditer(a,op_flags=[\"readwrite\"]):\n",
    "    x[...]=x*x"
   ]
  },
  {
   "cell_type": "code",
   "execution_count": 29,
   "metadata": {},
   "outputs": [
    {
     "name": "stdout",
     "output_type": "stream",
     "text": [
      "841\n"
     ]
    }
   ],
   "source": [
    "print(x)"
   ]
  },
  {
   "cell_type": "code",
   "execution_count": 30,
   "metadata": {},
   "outputs": [],
   "source": [
    "b=np.arange(30).reshape(3,10)"
   ]
  },
  {
   "cell_type": "code",
   "execution_count": 31,
   "metadata": {},
   "outputs": [
    {
     "name": "stdout",
     "output_type": "stream",
     "text": [
      "0 0\n",
      "1 1\n",
      "4 2\n",
      "9 3\n",
      "16 4\n",
      "25 5\n",
      "36 6\n",
      "49 7\n",
      "64 8\n",
      "81 9\n",
      "100 10\n",
      "121 11\n",
      "144 12\n",
      "169 13\n",
      "196 14\n",
      "225 15\n",
      "256 16\n",
      "289 17\n",
      "324 18\n",
      "361 19\n",
      "400 20\n",
      "441 21\n",
      "484 22\n",
      "529 23\n",
      "576 24\n",
      "625 25\n",
      "676 26\n",
      "729 27\n",
      "784 28\n",
      "841 29\n"
     ]
    }
   ],
   "source": [
    "for x,y in np.nditer([a,b]):\n",
    "    print (x,y)"
   ]
  },
  {
   "cell_type": "code",
   "execution_count": 32,
   "metadata": {},
   "outputs": [
    {
     "name": "stdout",
     "output_type": "stream",
     "text": [
      "[[ 1  2  3  4]\n",
      " [ 5  6  7  8]\n",
      " [10 11 12 13]]\n"
     ]
    }
   ],
   "source": [
    "a=np.array([[1,2,3,4],[5,6,7,8],[10,11,12,13]])\n",
    "print (a)"
   ]
  },
  {
   "cell_type": "code",
   "execution_count": 33,
   "metadata": {},
   "outputs": [
    {
     "name": "stdout",
     "output_type": "stream",
     "text": [
      "[[[1 2 3]\n",
      "  [4 5 6]]]\n"
     ]
    }
   ],
   "source": [
    "# its a three diensional array\n",
    "a=np.array([[[1,2,3],[4,5,6]]])\n",
    "print (a)"
   ]
  },
  {
   "cell_type": "code",
   "execution_count": 34,
   "metadata": {},
   "outputs": [
    {
     "name": "stdout",
     "output_type": "stream",
     "text": [
      "time to add to numpy array is : 0.03861403465270996\n",
      "time to add to list array is : 0.7832739353179932\n"
     ]
    }
   ],
   "source": [
    "# numpy array take less memory ,less time and more compatible\n",
    "# here is quick demo\n",
    "import time as t\n",
    "import numpy as np\n",
    "size=10000000\n",
    "a=np.arange(size)\n",
    "b=np.arange(size)\n",
    "\n",
    "start=t.time()\n",
    "result = a+b\n",
    "print (\"time to add to numpy array is :\",t.time()-start)\n",
    "\n",
    "# printing both array together\n",
    "# for x,y in zip(a,b):\n",
    "#    print(x,y)\n",
    "\n",
    "# check for list\n",
    "a=range(size)\n",
    "b=range(size)\n",
    "\n",
    "start=t.time()\n",
    "result=[(x+y) for x,y in zip(a,b)]\n",
    "print (\"time to add to list array is :\",t.time()-start)\n",
    "\n",
    "\n",
    "\n",
    "# As in the result we can see list is taking way much time than numpy array"
   ]
  },
  {
   "cell_type": "code",
   "execution_count": 35,
   "metadata": {},
   "outputs": [
    {
     "name": "stdout",
     "output_type": "stream",
     "text": [
      "memory for list is : 28000\n",
      "memory for numpy array is : 8000\n"
     ]
    }
   ],
   "source": [
    "# in order to prove that numpy array is less memory than list\n",
    "import sys as sys\n",
    "\n",
    "a=range(1000)\n",
    "b=np.arange(1000)\n",
    "\n",
    "print(\"memory for list is :\",sys.getsizeof(5)*len(a))\n",
    "print(\"memory for numpy array is :\",b.size*b.itemsize)\n",
    "\n",
    "# AS we can see in result list is taking way much memory than numpy array thank you\n"
   ]
  },
  {
   "cell_type": "code",
   "execution_count": 36,
   "metadata": {},
   "outputs": [
    {
     "name": "stdout",
     "output_type": "stream",
     "text": [
      "[[0. 1.]\n",
      " [2. 3.]\n",
      " [4. 5.]\n",
      " [6. 7.]\n",
      " [8. 9.]]\n"
     ]
    }
   ],
   "source": [
    "a=np.arange(10,dtype=np.float64).reshape(5,2)\n",
    "print(a)"
   ]
  },
  {
   "cell_type": "code",
   "execution_count": 37,
   "metadata": {},
   "outputs": [
    {
     "name": "stdout",
     "output_type": "stream",
     "text": [
      "[[  5.   6.   7.   8.   9.]\n",
      " [ 15.  20.  25.  30.  35.]\n",
      " [ 25.  34.  43.  52.  61.]\n",
      " [ 35.  48.  61.  74.  87.]\n",
      " [ 45.  62.  79.  96. 113.]]\n"
     ]
    }
   ],
   "source": [
    "# we can have operation directly on array like\n",
    "# +,-,*,power and dot product\n",
    "\n",
    "b=np.arange(10).reshape(2,5)\n",
    "\n",
    "print (a.dot(b))   # doing dot product"
   ]
  },
  {
   "cell_type": "code",
   "execution_count": 38,
   "metadata": {},
   "outputs": [
    {
     "name": "stdout",
     "output_type": "stream",
     "text": [
      "[8. 9.]\n",
      "[[4. 5.]\n",
      " [6. 7.]]\n",
      "[1. 3.]\n"
     ]
    }
   ],
   "source": [
    "# slicing and indexing also there in numpy array\n",
    "# should print last row\n",
    "print(a[-1])\n",
    "\n",
    "# should print 2 to 5 row\n",
    "print(a[2:4])\n",
    "\n",
    "# should print first two row with both column\n",
    "print(a[0:2,1])"
   ]
  },
  {
   "cell_type": "code",
   "execution_count": null,
   "metadata": {},
   "outputs": [],
   "source": []
  }
 ],
 "metadata": {
  "kernelspec": {
   "display_name": "Python 3",
   "language": "python",
   "name": "python3"
  },
  "language_info": {
   "codemirror_mode": {
    "name": "ipython",
    "version": 3
   },
   "file_extension": ".py",
   "mimetype": "text/x-python",
   "name": "python",
   "nbconvert_exporter": "python",
   "pygments_lexer": "ipython3",
   "version": "3.6.9"
  }
 },
 "nbformat": 4,
 "nbformat_minor": 4
}
