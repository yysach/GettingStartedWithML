{
 "cells": [
  {
   "cell_type": "markdown",
   "metadata": {},
   "source": [
    "### SetUp"
   ]
  },
  {
   "cell_type": "code",
   "execution_count": 1,
   "metadata": {},
   "outputs": [
    {
     "name": "stderr",
     "output_type": "stream",
     "text": [
      "Couldn't call 'get_role' to get Role ARN from role name Sachin to get Role path.\n"
     ]
    },
    {
     "ename": "ValueError",
     "evalue": "The current AWS identity is not a role: arn:aws:iam::424165949979:user/Sachin, therefore it cannot be used as a SageMaker execution role",
     "output_type": "error",
     "traceback": [
      "\u001b[0;31m---------------------------------------------------------------------------\u001b[0m",
      "\u001b[0;31mValueError\u001b[0m                                Traceback (most recent call last)",
      "\u001b[0;32m<ipython-input-1-92da82ee6620>\u001b[0m in \u001b[0;36m<module>\u001b[0;34m\u001b[0m\n\u001b[1;32m     10\u001b[0m \u001b[0;34m\u001b[0m\u001b[0m\n\u001b[1;32m     11\u001b[0m \u001b[0;34m\u001b[0m\u001b[0m\n\u001b[0;32m---> 12\u001b[0;31m \u001b[0mrole\u001b[0m\u001b[0;34m=\u001b[0m\u001b[0mget_execution_role\u001b[0m\u001b[0;34m(\u001b[0m\u001b[0;34m)\u001b[0m\u001b[0;34m\u001b[0m\u001b[0;34m\u001b[0m\u001b[0m\n\u001b[0m\u001b[1;32m     13\u001b[0m \u001b[0mprint\u001b[0m\u001b[0;34m(\u001b[0m\u001b[0mrole\u001b[0m\u001b[0;34m)\u001b[0m\u001b[0;34m\u001b[0m\u001b[0;34m\u001b[0m\u001b[0m\n\u001b[1;32m     14\u001b[0m \u001b[0;34m\u001b[0m\u001b[0m\n",
      "\u001b[0;32m~/.local/lib/python3.6/site-packages/sagemaker/session.py\u001b[0m in \u001b[0;36mget_execution_role\u001b[0;34m(sagemaker_session)\u001b[0m\n\u001b[1;32m   3334\u001b[0m         \u001b[0;34m\"SageMaker execution role\"\u001b[0m\u001b[0;34m\u001b[0m\u001b[0;34m\u001b[0m\u001b[0m\n\u001b[1;32m   3335\u001b[0m     )\n\u001b[0;32m-> 3336\u001b[0;31m     \u001b[0;32mraise\u001b[0m \u001b[0mValueError\u001b[0m\u001b[0;34m(\u001b[0m\u001b[0mmessage\u001b[0m\u001b[0;34m.\u001b[0m\u001b[0mformat\u001b[0m\u001b[0;34m(\u001b[0m\u001b[0marn\u001b[0m\u001b[0;34m)\u001b[0m\u001b[0;34m)\u001b[0m\u001b[0;34m\u001b[0m\u001b[0;34m\u001b[0m\u001b[0m\n\u001b[0m\u001b[1;32m   3337\u001b[0m \u001b[0;34m\u001b[0m\u001b[0m\n\u001b[1;32m   3338\u001b[0m \u001b[0;34m\u001b[0m\u001b[0m\n",
      "\u001b[0;31mValueError\u001b[0m: The current AWS identity is not a role: arn:aws:iam::424165949979:user/Sachin, therefore it cannot be used as a SageMaker execution role"
     ]
    }
   ],
   "source": [
    "import sagemaker\n",
    "from sagemaker import get_execution_role\n",
    "import pandas as pd\n",
    "import numpy as np\n",
    "import json\n",
    "import sys\n",
    "import os\n",
    "import boto3\n",
    "from sagemaker.tuner import IntegerParameter, CategoricalParameter, ContinuousParameter, HyperparameterTuner\n",
    "\n",
    "\n",
    "role=get_execution_role()\n",
    "print(role)\n",
    "\n",
    "sess=sagemaker.Session()\n",
    "bucket=sess.default_bucket()\n",
    "prefix='Classification/Titanic'\n",
    "print(bucket)\n",
    "\n",
    "# here i am using default bucket, one can create bucket using boto3 as well in order to have train or test data\n",
    "\n",
    "'''\n",
    "bucket_name = 'your-s3-bucket-name' # <--- CHANGE THIS VARIABLE TO A UNIQUE NAME FOR YOUR BUCKET\n",
    "s3 = boto3.resource('s3')\n",
    "try:\n",
    "    if  my_region == 'us-east-1':\n",
    "      s3.create_bucket(Bucket=bucket_name)\n",
    "    else: \n",
    "      s3.create_bucket(Bucket=bucket_name, CreateBucketConfiguration={ 'LocationConstraint': my_region })\n",
    "    print('S3 bucket created successfully')\n",
    "except Exception as e:\n",
    "    print('S3 error: ',e)\n",
    "'''"
   ]
  },
  {
   "cell_type": "markdown",
   "metadata": {},
   "source": [
    "### Data preparation"
   ]
  },
  {
   "cell_type": "code",
   "execution_count": 2,
   "metadata": {},
   "outputs": [
    {
     "data": {
      "text/plain": [
       "'\\ntry:\\n  urllib.request.urlretrieve (\"https://d1.awsstatic.com/tmt/build-train-deploy-machine-learning-model-sagemaker/bank_clean.27f01fbbdf43271788427f3682996ae29ceca05d.csv\", \"bank_clean.csv\")\\n  print(\\'Success: downloaded bank_clean.csv.\\')\\nexcept Exception as e:\\n  print(\\'Data load error: \\',e)\\n\\ntry:\\n  model_data = pd.read_csv(\\'./bank_clean.csv\\',index_col=0)\\n  print(\\'Success: Data loaded into dataframe.\\')\\nexcept Exception as e:\\n    print(\\'Data load error: \\',e)\\n'"
      ]
     },
     "execution_count": 2,
     "metadata": {},
     "output_type": "execute_result"
    }
   ],
   "source": [
    "# getting data from s3 bucket\n",
    "dataset_channel=prefix+'/Dataset/titanic_data.csv'\n",
    "s3_data='s3://{}/{}'.format(bucket,dataset_channel)\n",
    "\n",
    "try:\n",
    "    df=pd.read_csv(s3_data)\n",
    "except Exception as e:\n",
    "    print ('Unable to read data from S3 bucket',e)\n",
    "    \n",
    "df.head()\n",
    "\n",
    "\n",
    "# we can also download data using urlretrieve, here is a sample example\n",
    "'''\n",
    "try:\n",
    "  urllib.request.urlretrieve (\"https://d1.awsstatic.com/tmt/build-train-deploy-machine-learning-model-sagemaker/bank_clean.27f01fbbdf43271788427f3682996ae29ceca05d.csv\", \"bank_clean.csv\")\n",
    "  print('Success: downloaded bank_clean.csv.')\n",
    "except Exception as e:\n",
    "  print('Data load error: ',e)\n",
    "\n",
    "try:\n",
    "  model_data = pd.read_csv('./bank_clean.csv',index_col=0)\n",
    "  print('Success: Data loaded into dataframe.')\n",
    "except Exception as e:\n",
    "    print('Data load error: ',e)\n",
    "'''"
   ]
  },
  {
   "cell_type": "code",
   "execution_count": 3,
   "metadata": {},
   "outputs": [
    {
     "data": {
      "text/plain": [
       "PassengerId      0\n",
       "Survived         0\n",
       "Pclass           0\n",
       "Name             0\n",
       "Sex              0\n",
       "Age            177\n",
       "SibSp            0\n",
       "Parch            0\n",
       "Ticket           0\n",
       "Fare             0\n",
       "Cabin          687\n",
       "Embarked         2\n",
       "dtype: int64"
      ]
     },
     "execution_count": 3,
     "metadata": {},
     "output_type": "execute_result"
    }
   ],
   "source": [
    "# checking for null values\n",
    "df.isnull().sum()"
   ]
  },
  {
   "cell_type": "code",
   "execution_count": 4,
   "metadata": {},
   "outputs": [
    {
     "data": {
      "text/plain": [
       "(891, 12)"
      ]
     },
     "execution_count": 4,
     "metadata": {},
     "output_type": "execute_result"
    }
   ],
   "source": [
    "df.shape"
   ]
  },
  {
   "cell_type": "markdown",
   "metadata": {},
   "source": [
    "### Data Analysis"
   ]
  },
  {
   "cell_type": "code",
   "execution_count": 5,
   "metadata": {},
   "outputs": [
    {
     "data": {
      "text/html": [
       "<div>\n",
       "<style scoped>\n",
       "    .dataframe tbody tr th:only-of-type {\n",
       "        vertical-align: middle;\n",
       "    }\n",
       "\n",
       "    .dataframe tbody tr th {\n",
       "        vertical-align: top;\n",
       "    }\n",
       "\n",
       "    .dataframe thead th {\n",
       "        text-align: right;\n",
       "    }\n",
       "</style>\n",
       "<table border=\"1\" class=\"dataframe\">\n",
       "  <thead>\n",
       "    <tr style=\"text-align: right;\">\n",
       "      <th></th>\n",
       "      <th>Survived</th>\n",
       "      <th>Pclass</th>\n",
       "      <th>Sex</th>\n",
       "      <th>Age</th>\n",
       "      <th>Fare</th>\n",
       "    </tr>\n",
       "  </thead>\n",
       "  <tbody>\n",
       "    <tr>\n",
       "      <th>0</th>\n",
       "      <td>0</td>\n",
       "      <td>3</td>\n",
       "      <td>male</td>\n",
       "      <td>22.0</td>\n",
       "      <td>7.2500</td>\n",
       "    </tr>\n",
       "    <tr>\n",
       "      <th>1</th>\n",
       "      <td>1</td>\n",
       "      <td>1</td>\n",
       "      <td>female</td>\n",
       "      <td>38.0</td>\n",
       "      <td>71.2833</td>\n",
       "    </tr>\n",
       "    <tr>\n",
       "      <th>2</th>\n",
       "      <td>1</td>\n",
       "      <td>3</td>\n",
       "      <td>female</td>\n",
       "      <td>26.0</td>\n",
       "      <td>7.9250</td>\n",
       "    </tr>\n",
       "    <tr>\n",
       "      <th>3</th>\n",
       "      <td>1</td>\n",
       "      <td>1</td>\n",
       "      <td>female</td>\n",
       "      <td>35.0</td>\n",
       "      <td>53.1000</td>\n",
       "    </tr>\n",
       "    <tr>\n",
       "      <th>4</th>\n",
       "      <td>0</td>\n",
       "      <td>3</td>\n",
       "      <td>male</td>\n",
       "      <td>35.0</td>\n",
       "      <td>8.0500</td>\n",
       "    </tr>\n",
       "  </tbody>\n",
       "</table>\n",
       "</div>"
      ],
      "text/plain": [
       "   Survived  Pclass     Sex   Age     Fare\n",
       "0         0       3    male  22.0   7.2500\n",
       "1         1       1  female  38.0  71.2833\n",
       "2         1       3  female  26.0   7.9250\n",
       "3         1       1  female  35.0  53.1000\n",
       "4         0       3    male  35.0   8.0500"
      ]
     },
     "execution_count": 5,
     "metadata": {},
     "output_type": "execute_result"
    }
   ],
   "source": [
    "# first removing irrelvant independent variable\n",
    "df.drop(['PassengerId','Name','SibSp','Parch','Ticket','Cabin','Embarked'],axis='columns',inplace=True)\n",
    "df.head()"
   ]
  },
  {
   "cell_type": "code",
   "execution_count": 6,
   "metadata": {},
   "outputs": [],
   "source": [
    "# survived will be our result or can say it is label class while Pclass,sex age and Fare will be classifiers\n",
    "inputs=df.drop(['Survived'],axis='columns')\n",
    "target =df.Survived"
   ]
  },
  {
   "cell_type": "markdown",
   "metadata": {},
   "source": [
    "### Data Preprocessing"
   ]
  },
  {
   "cell_type": "code",
   "execution_count": 7,
   "metadata": {},
   "outputs": [
    {
     "data": {
      "text/html": [
       "<div>\n",
       "<style scoped>\n",
       "    .dataframe tbody tr th:only-of-type {\n",
       "        vertical-align: middle;\n",
       "    }\n",
       "\n",
       "    .dataframe tbody tr th {\n",
       "        vertical-align: top;\n",
       "    }\n",
       "\n",
       "    .dataframe thead th {\n",
       "        text-align: right;\n",
       "    }\n",
       "</style>\n",
       "<table border=\"1\" class=\"dataframe\">\n",
       "  <thead>\n",
       "    <tr style=\"text-align: right;\">\n",
       "      <th></th>\n",
       "      <th>Pclass</th>\n",
       "      <th>Age</th>\n",
       "      <th>Fare</th>\n",
       "      <th>Sex_female</th>\n",
       "      <th>Sex_male</th>\n",
       "    </tr>\n",
       "  </thead>\n",
       "  <tbody>\n",
       "    <tr>\n",
       "      <th>0</th>\n",
       "      <td>3</td>\n",
       "      <td>22.0</td>\n",
       "      <td>7.2500</td>\n",
       "      <td>0</td>\n",
       "      <td>1</td>\n",
       "    </tr>\n",
       "    <tr>\n",
       "      <th>1</th>\n",
       "      <td>1</td>\n",
       "      <td>38.0</td>\n",
       "      <td>71.2833</td>\n",
       "      <td>1</td>\n",
       "      <td>0</td>\n",
       "    </tr>\n",
       "    <tr>\n",
       "      <th>2</th>\n",
       "      <td>3</td>\n",
       "      <td>26.0</td>\n",
       "      <td>7.9250</td>\n",
       "      <td>1</td>\n",
       "      <td>0</td>\n",
       "    </tr>\n",
       "    <tr>\n",
       "      <th>3</th>\n",
       "      <td>1</td>\n",
       "      <td>35.0</td>\n",
       "      <td>53.1000</td>\n",
       "      <td>1</td>\n",
       "      <td>0</td>\n",
       "    </tr>\n",
       "    <tr>\n",
       "      <th>4</th>\n",
       "      <td>3</td>\n",
       "      <td>35.0</td>\n",
       "      <td>8.0500</td>\n",
       "      <td>0</td>\n",
       "      <td>1</td>\n",
       "    </tr>\n",
       "  </tbody>\n",
       "</table>\n",
       "</div>"
      ],
      "text/plain": [
       "   Pclass   Age     Fare  Sex_female  Sex_male\n",
       "0       3  22.0   7.2500           0         1\n",
       "1       1  38.0  71.2833           1         0\n",
       "2       3  26.0   7.9250           1         0\n",
       "3       1  35.0  53.1000           1         0\n",
       "4       3  35.0   8.0500           0         1"
      ]
     },
     "execution_count": 7,
     "metadata": {},
     "output_type": "execute_result"
    }
   ],
   "source": [
    "model_inputs=pd.get_dummies(inputs)\n",
    "model_inputs.head()"
   ]
  },
  {
   "cell_type": "code",
   "execution_count": 8,
   "metadata": {},
   "outputs": [
    {
     "data": {
      "text/plain": [
       "Pclass        0\n",
       "Age           0\n",
       "Fare          0\n",
       "Sex_female    0\n",
       "Sex_male      0\n",
       "dtype: int64"
      ]
     },
     "execution_count": 8,
     "metadata": {},
     "output_type": "execute_result"
    }
   ],
   "source": [
    "# as age have some null values as we see earlier\n",
    "model_inputs.Age=inputs.Age.fillna(inputs.Age.mean())\n",
    "model_inputs.isnull().sum() # will show no null value\n",
    "# data is ready for training now\n"
   ]
  },
  {
   "cell_type": "code",
   "execution_count": 9,
   "metadata": {},
   "outputs": [
    {
     "data": {
      "text/plain": [
       "0    0\n",
       "1    1\n",
       "2    1\n",
       "3    1\n",
       "4    0\n",
       "Name: Survived, dtype: int64"
      ]
     },
     "execution_count": 9,
     "metadata": {},
     "output_type": "execute_result"
    }
   ],
   "source": [
    "target.head()"
   ]
  },
  {
   "cell_type": "markdown",
   "metadata": {},
   "source": [
    "### Training of model"
   ]
  },
  {
   "cell_type": "code",
   "execution_count": 10,
   "metadata": {},
   "outputs": [
    {
     "name": "stdout",
     "output_type": "stream",
     "text": [
      "(623, 6)\n",
      "(90, 6)\n"
     ]
    }
   ],
   "source": [
    "# Now, we will shuffle the data and split it into training data and test data.sklearn ML framework is used here\n",
    "# label should be the first column while using csv format\n",
    "\n",
    "model_data=pd.concat([target,model_inputs],axis=1)\n",
    "train_data, validation_data, test_data = np.split(model_data.sample(frac=1, random_state=10), [int(0.7 * len(model_data)), int(0.9*len(model_data))])  \n",
    "print(train_data.shape)\n",
    "print(test_data.shape)\n",
    "\n",
    "# from sklearn.model_selection import train_test_split\n",
    "# X_train,X_test,y_train,y_test = train_test_split(model_inputs,target,test_size=0.2)"
   ]
  },
  {
   "cell_type": "code",
   "execution_count": 11,
   "metadata": {},
   "outputs": [],
   "source": [
    "# concate training and testing dataseet\n",
    "train_data.to_csv('train.csv', index=False, header=False)\n",
    "test_data.to_csv('test.csv', index=False, header=False)\n",
    " \n",
    "# uploading train.csv and test.csv to s3 bucket\n",
    "boto3.Session().resource('s3').Bucket(bucket).Object(os.path.join(prefix, 'train/train.csv')).upload_file('train.csv')    \n",
    "boto3.Session().resource('s3').Bucket(bucket).Object(os.path.join(prefix, 'test/test.csv')).upload_file('test.csv')\n",
    "           \n",
    "     \n",
    "# Amazon SageMaker channel configurations for S3 data sources and file system data sources\n",
    "\n",
    "s3_input_train = sagemaker.s3_input(s3_data='s3://{}/{}/train'.format(bucket, prefix), content_type='csv')\n",
    "s3_input_test = sagemaker.s3_input(s3_data='s3://{}/{}/test'.format(bucket, prefix), content_type='csv')\n",
    "# s3_output_path='s3://{}/{}/output'.format(bucket,prefix)  ##"
   ]
  },
  {
   "cell_type": "code",
   "execution_count": 12,
   "metadata": {},
   "outputs": [
    {
     "name": "stderr",
     "output_type": "stream",
     "text": [
      "WARNING:root:There is a more up to date SageMaker XGBoost image. To use the newer image, please set 'repo_version'='0.90-1'. For example:\n",
      "\tget_image_uri(region, 'xgboost', '0.90-1').\n"
     ]
    }
   ],
   "source": [
    "# The XGBoost (eXtreme Gradient Boosting) is a popular and \n",
    "# efficient open-source implementation of the gradient boosted trees algorithm.\n",
    "# XGBoost a solid choice for problems in regression, classification (binary and multiclass), and ranking.\n",
    "import sagemaker.amazon.amazon_estimator as Est\n",
    "container= Est.get_image_uri(boto3.Session().region_name,\n",
    "                          'xgboost', \n",
    "                          repo_version='latest')\n",
    "xgb = sagemaker.estimator.Estimator(container,\n",
    "                                          role,\n",
    "                                          train_instance_count=1,\n",
    "                                          train_instance_type='ml.m4.xlarge',\n",
    "                                          output_path='s3://{}/{}/output'.format(bucket,prefix),\n",
    "                                          sagemaker_session=sess)\n",
    "                                          \n",
    "                                          "
   ]
  },
  {
   "cell_type": "code",
   "execution_count": 13,
   "metadata": {},
   "outputs": [],
   "source": [
    "# defining  hyperparameter for hyperparameter tuning\n",
    "# The following contains the subset of hyperparameters\n",
    "#        that are required or most commonly used for the Amazon SageMaker XGBoost algorithm\n",
    "# Amazon SageMaker automatic model tuning, also known as hyperparameter tuning\n",
    "\n",
    "xgb.set_hyperparameters(\n",
    "    eval_metric='auc',\n",
    "    objective='binary:logistic',\n",
    "    num_round=100,\n",
    "    rate_drop=0.3,\n",
    "    tweedie_variance_power=1.4\n",
    ")\n",
    "objective_metric_name = 'validation:auc'"
   ]
  },
  {
   "cell_type": "code",
   "execution_count": 14,
   "metadata": {},
   "outputs": [],
   "source": [
    "# Going for auto scaling we also have logarithm and linear\n",
    "hyperparameter_ranges = {\n",
    "    'alpha': ContinuousParameter(0.01, 10, scaling_type=\"Auto\"),\n",
    "    'lambda': ContinuousParameter(0.01, 10, scaling_type=\"Auto\")\n",
    "}"
   ]
  },
  {
   "cell_type": "code",
   "execution_count": 17,
   "metadata": {},
   "outputs": [],
   "source": [
    "# random search or default bayesian search\n",
    "\n",
    "tuner_auto = HyperparameterTuner(\n",
    "    xgb,\n",
    "    objective_metric_name,\n",
    "    hyperparameter_ranges,\n",
    "    max_jobs=4,\n",
    "    max_parallel_jobs=2\n",
    ")\n",
    "\n",
    "## creating training jobs\n",
    "#job_name = tuner_auto.latest_tuning_job.job_name\n",
    "tuner_auto.fit({'train': s3_input_train, 'validation': s3_input_test}, include_cls_metadata=False,logs=True)"
   ]
  },
  {
   "cell_type": "code",
   "execution_count": 19,
   "metadata": {},
   "outputs": [
    {
     "data": {
      "text/plain": [
       "'Completed'"
      ]
     },
     "execution_count": 19,
     "metadata": {},
     "output_type": "execute_result"
    }
   ],
   "source": [
    "# Let's just run a quick check of the hyperparameter tuning jobs status to make sure it started successfully.\n",
    "boto3.client('sagemaker').describe_hyper_parameter_tuning_job(\n",
    "    HyperParameterTuningJobName=tuner_auto.latest_tuning_job.job_name)['HyperParameterTuningJobStatus']"
   ]
  },
  {
   "cell_type": "code",
   "execution_count": 20,
   "metadata": {},
   "outputs": [
    {
     "data": {
      "text/plain": [
       "'\\nhyperparameter_ranges_linear = {\\n    \\'alpha\\': ContinuousParameter(0.01, 10, scaling_type=\"Linear\"),\\n    \\'lambda\\': ContinuousParameter(0.01, 10, scaling_type=\"Linear\")\\n}\\ntuner_linear = HyperparameterTuner(\\n    xgb,\\n    objective_metric_name,\\n    hyperparameter_ranges_linear,\\n    \\n    max_jobs=4,\\n    max_parallel_jobs=2, \\n    strategy=\\'Random\\'\\n)\\n\\n# custom job name to avoid a duplicate name\\njob_name = tuner_log.latest_tuning_job.job_name + \\'linear\\'\\ntuner_linear.fit({\\'train\\': s3_input_train, \\'validation\\': s3_input_test}, include_cls_metadata=False, job_name=job_name,logs=True)\\n'"
      ]
     },
     "execution_count": 20,
     "metadata": {},
     "output_type": "execute_result"
    }
   ],
   "source": [
    "# linear scaling\n",
    "'''\n",
    "hyperparameter_ranges_linear = {\n",
    "    'alpha': ContinuousParameter(0.01, 10, scaling_type=\"Linear\"),\n",
    "    'lambda': ContinuousParameter(0.01, 10, scaling_type=\"Linear\")\n",
    "}\n",
    "tuner_linear = HyperparameterTuner(\n",
    "    xgb,\n",
    "    objective_metric_name,\n",
    "    hyperparameter_ranges_linear,\n",
    "    \n",
    "    max_jobs=4,\n",
    "    max_parallel_jobs=2, \n",
    "    strategy='Random'\n",
    ")\n",
    "\n",
    "# custom job name to avoid a duplicate name\n",
    "job_name = tuner_log.latest_tuning_job.job_name + 'linear'\n",
    "tuner_linear.fit({'train': s3_input_train, 'validation': s3_input_test}, include_cls_metadata=False, job_name=job_name,logs=True)\n",
    "'''"
   ]
  },
  {
   "cell_type": "code",
   "execution_count": 21,
   "metadata": {},
   "outputs": [
    {
     "data": {
      "text/plain": [
       "\"\\nboto3.client('sagemaker').describe_hyper_parameter_tuning_job(\\n    HyperParameterTuningJobName=tuner_linear.latest_tuning_job.job_name)['HyperParameterTuningJobStatus']\\n\""
      ]
     },
     "execution_count": 21,
     "metadata": {},
     "output_type": "execute_result"
    }
   ],
   "source": [
    "# Let's just run a quick check of the hyperparameter tuning jobs status to make sure it started successfully.\n",
    "'''\n",
    "boto3.client('sagemaker').describe_hyper_parameter_tuning_job(\n",
    "    HyperParameterTuningJobName=tuner_linear.latest_tuning_job.job_name)['HyperParameterTuningJobStatus']\n",
    "'''"
   ]
  },
  {
   "cell_type": "code",
   "execution_count": 24,
   "metadata": {},
   "outputs": [],
   "source": [
    "# Analyze tuning job results - after tuning job is completed\n",
    "# Once the tuning jobs have completed, we can compare the distribution of the hyperparameter\n",
    "\n",
    "import seaborn as sns\n",
    "import pandas as pd\n",
    "import matplotlib.pyplot as plt\n",
    "\n",
    "# check jobs have finished\n",
    "status_auto = boto3.client('sagemaker').describe_hyper_parameter_tuning_job(\n",
    "    HyperParameterTuningJobName=tuner_auto.latest_tuning_job.job_name)['HyperParameterTuningJobStatus']\n",
    "# status_linear = boto3.client('sagemaker').describe_hyper_parameter_tuning_job(\n",
    "  #  HyperParameterTuningJobName=tuner_linear.latest_tuning_job.job_name)['HyperParameterTuningJobStatus']\n",
    "\n",
    "assert status_auto == 'Completed', \"First must be completed, was {}\".format(status_log)\n",
    "# assert status_linear == 'Completed', \"Second must be completed, was {}\".format(status_linear)\n",
    "\n",
    "df_auto = sagemaker.HyperparameterTuningJobAnalytics(tuner_auto.latest_tuning_job.job_name).dataframe()\n",
    "#df_linear = sagemaker.HyperparameterTuningJobAnalytics(tuner_linear.latest_tuning_job.job_name).dataframe()\n",
    "df_auto['scaling'] = 'auto'\n",
    "#df_linear['scaling'] = 'linear'\n",
    "# df = pd.concat([df_log, df_linear], ignore_index=True)"
   ]
  },
  {
   "cell_type": "code",
   "execution_count": 25,
   "metadata": {},
   "outputs": [
    {
     "data": {
      "image/png": "[encoded data removed]",
      "text/plain": [
       "<Figure size 216x216 with 1 Axes>"
      ]
     },
     "metadata": {},
     "output_type": "display_data"
    }
   ],
   "source": [
    "# it will show me on what  value of alpha or lmbda, I trained the my training jobs\n",
    "\n",
    "g = sns.FacetGrid(df_auto, col=\"scaling\", palette='viridis')\n",
    "g = g.map(plt.scatter, \"alpha\", \"lambda\", alpha=0.5)"
   ]
  },
  {
   "cell_type": "code",
   "execution_count": 26,
   "metadata": {},
   "outputs": [
    {
     "data": {
      "text/html": [
       "<div>\n",
       "<style scoped>\n",
       "    .dataframe tbody tr th:only-of-type {\n",
       "        vertical-align: middle;\n",
       "    }\n",
       "\n",
       "    .dataframe tbody tr th {\n",
       "        vertical-align: top;\n",
       "    }\n",
       "\n",
       "    .dataframe thead th {\n",
       "        text-align: right;\n",
       "    }\n",
       "</style>\n",
       "<table border=\"1\" class=\"dataframe\">\n",
       "  <thead>\n",
       "    <tr style=\"text-align: right;\">\n",
       "      <th></th>\n",
       "      <th>FinalObjectiveValue</th>\n",
       "      <th>TrainingElapsedTimeSeconds</th>\n",
       "      <th>TrainingEndTime</th>\n",
       "      <th>TrainingJobName</th>\n",
       "      <th>TrainingJobStatus</th>\n",
       "      <th>TrainingStartTime</th>\n",
       "      <th>alpha</th>\n",
       "      <th>lambda</th>\n",
       "    </tr>\n",
       "  </thead>\n",
       "  <tbody>\n",
       "    <tr>\n",
       "      <th>1</th>\n",
       "      <td>0.872899</td>\n",
       "      <td>48.0</td>\n",
       "      <td>2020-05-27 18:31:30+00:00</td>\n",
       "      <td>xgboost-200527-1824-003-3b11d3cf</td>\n",
       "      <td>Completed</td>\n",
       "      <td>2020-05-27 18:30:42+00:00</td>\n",
       "      <td>1.644504</td>\n",
       "      <td>0.087318</td>\n",
       "    </tr>\n",
       "    <tr>\n",
       "      <th>0</th>\n",
       "      <td>0.872374</td>\n",
       "      <td>54.0</td>\n",
       "      <td>2020-05-27 18:31:48+00:00</td>\n",
       "      <td>xgboost-200527-1824-004-fee029b4</td>\n",
       "      <td>Completed</td>\n",
       "      <td>2020-05-27 18:30:54+00:00</td>\n",
       "      <td>0.012074</td>\n",
       "      <td>6.018871</td>\n",
       "    </tr>\n",
       "    <tr>\n",
       "      <th>2</th>\n",
       "      <td>0.869748</td>\n",
       "      <td>66.0</td>\n",
       "      <td>2020-05-27 18:28:10+00:00</td>\n",
       "      <td>xgboost-200527-1824-002-f19b07a7</td>\n",
       "      <td>Completed</td>\n",
       "      <td>2020-05-27 18:27:04+00:00</td>\n",
       "      <td>0.378071</td>\n",
       "      <td>1.118859</td>\n",
       "    </tr>\n",
       "    <tr>\n",
       "      <th>3</th>\n",
       "      <td>0.860819</td>\n",
       "      <td>48.0</td>\n",
       "      <td>2020-05-27 18:28:08+00:00</td>\n",
       "      <td>xgboost-200527-1824-001-9478b454</td>\n",
       "      <td>Completed</td>\n",
       "      <td>2020-05-27 18:27:20+00:00</td>\n",
       "      <td>0.203701</td>\n",
       "      <td>1.020165</td>\n",
       "    </tr>\n",
       "  </tbody>\n",
       "</table>\n",
       "</div>"
      ],
      "text/plain": [
       "   FinalObjectiveValue  TrainingElapsedTimeSeconds           TrainingEndTime  \\\n",
       "1             0.872899                        48.0 2020-05-27 18:31:30+00:00   \n",
       "0             0.872374                        54.0 2020-05-27 18:31:48+00:00   \n",
       "2             0.869748                        66.0 2020-05-27 18:28:10+00:00   \n",
       "3             0.860819                        48.0 2020-05-27 18:28:08+00:00   \n",
       "\n",
       "                    TrainingJobName TrainingJobStatus  \\\n",
       "1  xgboost-200527-1824-003-3b11d3cf         Completed   \n",
       "0  xgboost-200527-1824-004-fee029b4         Completed   \n",
       "2  xgboost-200527-1824-002-f19b07a7         Completed   \n",
       "3  xgboost-200527-1824-001-9478b454         Completed   \n",
       "\n",
       "          TrainingStartTime     alpha    lambda  \n",
       "1 2020-05-27 18:30:42+00:00  1.644504  0.087318  \n",
       "0 2020-05-27 18:30:54+00:00  0.012074  6.018871  \n",
       "2 2020-05-27 18:27:04+00:00  0.378071  1.118859  \n",
       "3 2020-05-27 18:27:20+00:00  0.203701  1.020165  "
      ]
     },
     "execution_count": 26,
     "metadata": {},
     "output_type": "execute_result"
    }
   ],
   "source": [
    "# all details regarding hypertuning job log scale\n",
    "bayes_metrics = sagemaker.HyperparameterTuningJobAnalytics(tuner_auto._current_job_name).dataframe()\n",
    "bayes_metrics.sort_values(['FinalObjectiveValue'], ascending=False)"
   ]
  },
  {
   "cell_type": "code",
   "execution_count": null,
   "metadata": {},
   "outputs": [],
   "source": [
    "# all details regarding hypertuning job linear scale\n",
    "\n",
    "#bayes_metrics = sagemaker.HyperparameterTuningJobAnalytics(tuner_linear._current_job_name).dataframe()\n",
    "# bayes_metrics.sort_values(['FinalObjectiveValue'], ascending=False)"
   ]
  },
  {
   "cell_type": "code",
   "execution_count": null,
   "metadata": {},
   "outputs": [],
   "source": [
    "\n",
    "## xgb_predictor = tuner_auto.deploy(initial_instance_count=1,instance_type='ml.t2.medium')"
   ]
  },
  {
   "cell_type": "code",
   "execution_count": null,
   "metadata": {},
   "outputs": [],
   "source": []
  },
  {
   "cell_type": "code",
   "execution_count": null,
   "metadata": {},
   "outputs": [],
   "source": []
  },
  {
   "cell_type": "code",
   "execution_count": null,
   "metadata": {},
   "outputs": [],
   "source": [
    "from sklearn.linear_model import LogisticRegression\n",
    "from sklearn.tree import DecisionTreeClassifier\n",
    "from sklearn.svm import SVC\n",
    "from sklearn.ensemble import RandomForestClassifier\n",
    "from sklearn.naive_bayes import GaussianNB\n",
    "import time as t\n",
    "\n",
    "\n",
    "      \n",
    "# print(t.time()-start)\n",
    "\n",
    "# Decision Tree\n",
    "'''\n",
    "start=t.time()\n",
    "decision_c=DecisionTreeClassifier()\n",
    "decision_c.fit(X_train,y_train)\n",
    "print(decision_c.score(X_test,y_test))\n",
    "print(t.time()-start)\n",
    "\n",
    "# SVM\n",
    "start=t.time()\n",
    "svm_c=SVC()\n",
    "svm_c.fit(X_train,y_train)\n",
    "print(svm_c.score(X_test,y_test))\n",
    "print(t.time()-start)\n",
    "\n",
    "# Random Forest\n",
    "start=t.time()\n",
    "rfc=RandomForestClassifier()\n",
    "rfc.fit(X_train,y_train)\n",
    "print(rfc.score(X_test,y_test))\n",
    "print(t.time()-start)\n",
    "\n",
    "# naive bayes classier\n",
    "start=t.time()\n",
    "naive_bc=GaussianNB()\n",
    "naive_bc.fit(X_train,y_train)\n",
    "print(naive_bc.score(X_test,y_test))\n",
    "print(t.time()-start)\n",
    "'''"
   ]
  },
  {
   "cell_type": "code",
   "execution_count": null,
   "metadata": {},
   "outputs": [],
   "source": [
    "# logistic regression\n",
    "log_r=RandomForestClassifier(n_estimators=100)\n",
    "log_r.fit(train_data.drop(['Survived'],axis=1),train_data['Survived'])\n",
    "print(log_r.score(test_data.drop(['Survived'],axis=1),test_data['Survived']))"
   ]
  },
  {
   "cell_type": "code",
   "execution_count": null,
   "metadata": {},
   "outputs": [],
   "source": []
  }
 ],
 "metadata": {
  "kernelspec": {
   "display_name": "Python 3",
   "language": "python",
   "name": "python3"
  },
  "language_info": {
   "codemirror_mode": {
    "name": "ipython",
    "version": 3
   },
   "file_extension": ".py",
   "mimetype": "text/x-python",
   "name": "python",
   "nbconvert_exporter": "python",
   "pygments_lexer": "ipython3",
   "version": "3.6.9"
  }
 },
 "nbformat": 4,
 "nbformat_minor": 4
}
